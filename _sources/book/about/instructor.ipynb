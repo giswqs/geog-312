{
 "cells": [
  {
   "cell_type": "markdown",
   "id": "fad41ec7",
   "metadata": {},
   "source": [
    "# Instructor\n",
    "\n",
    "<div style=\"display: flex; align-items: center; justify-content: flex-start;\">\n",
    "\n",
    "<img src=\"https://wetlands.io/file/images/Qiusheng_Wu.webp\" alt=\"Description of Image\" style=\"max-width: 200px; margin-right: 20px;\">\n",
    "\n",
    "<div style=\"max-width: 800px;\">\n",
    "\n",
    "Dr. Qiusheng Wu is an Associate Professor and the Director of Graduate Studies in the Department of Geography & Sustainability at the University of Tennessee, Knoxville. He also serves as an Amazon Visiting Academic. Dr. Wu specializes in geospatial data science and open-source software development, with a research focus on utilizing big geospatial data and cloud computing to study environmental changes, particularly in surface water and wetland inundation dynamics. He is the creator of several widely used open-source Python packages, including geemap, leafmap, and segment-geospatial, which are designed for advanced geospatial analysis and visualization. Explore his open-source contributions on GitHub at <https://github.com/opengeos>.\n",
    "\n",
    "</div>\n",
    "\n",
    "</div>"
   ]
  }
 ],
 "metadata": {
  "jupytext": {
   "text_representation": {
    "extension": ".md",
    "format_name": "myst",
    "format_version": 0.13,
    "jupytext_version": "1.16.2"
   }
  },
  "kernelspec": {
   "display_name": "Python 3",
   "language": "python",
   "name": "python3"
  },
  "source_map": [
   12
  ]
 },
 "nbformat": 4,
 "nbformat_minor": 5
}