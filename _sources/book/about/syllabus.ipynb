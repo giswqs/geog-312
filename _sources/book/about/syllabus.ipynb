{
 "cells": [
  {
   "cell_type": "markdown",
   "id": "0070ea0e",
   "metadata": {},
   "source": [
    "# Syllabus\n",
    "\n",
    "<iframe src=\"https://docs.google.com/document/d/e/2PACX-1vSXfMTSbdCi_HcqsmYZGzdpDiViclDFgdc8Zt0xMtd3OzM1KqATj8CM2N6RpIe5UFA3lUgc_lFdLsQ7/pub?embedded=true\" width=\"100%\" height=800></iframe>"
   ]
  }
 ],
 "metadata": {
  "jupytext": {
   "text_representation": {
    "extension": ".md",
    "format_name": "myst",
    "format_version": 0.13,
    "jupytext_version": "1.16.2"
   }
  },
  "kernelspec": {
   "display_name": "Python 3",
   "language": "python",
   "name": "python3"
  },
  "source_map": [
   12
  ]
 },
 "nbformat": 4,
 "nbformat_minor": 5
}