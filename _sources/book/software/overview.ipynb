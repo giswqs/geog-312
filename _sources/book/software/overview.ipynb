{
 "cells": [
  {
   "cell_type": "markdown",
   "id": "d3c2e4a8",
   "metadata": {},
   "source": [
    "# Overview\n",
    "\n",
    "## Software Tools\n",
    "\n",
    "- [Miniconda](https://docs.conda.io/en/latest/miniconda.html) or [Anaconda](https://www.anaconda.com/)\n",
    "- [Visual Studio Code](https://code.visualstudio.com/)\n",
    "- [Git](https://git-scm.com/downloads)\n",
    "- [QGIS](https://www.qgis.org/)\n",
    "\n",
    "## Cloud Computing Platforms\n",
    "\n",
    "- [Google Earth Engine](https://earthengine.google.com/)\n",
    "- [Google Colab](https://research.google.com/colaboratory)\n",
    "- [Amazon SageMaker Studio Lab](https://studiolab.sagemaker.aws)\n",
    "- [Microsoft Planetary Computer](https://planetarycomputer.microsoft.com)\n",
    "\n",
    "## Install Python Packages\n",
    "\n",
    "There are different ways to install Python packages. The most common methods are using `pip` or `conda`. Here are some examples:\n",
    "\n",
    "To install packages using `pip`:\n",
    "\n",
    "```bash\n",
    "pip install leafmap\n",
    "```\n",
    "\n",
    "To install packages using `conda`:\n",
    "\n",
    "```bash\n",
    "conda install leafmap -c conda-forge\n",
    "```\n",
    "\n",
    "To install packages from a GitHub repository:\n",
    "\n",
    "```bash\n",
    "pip install git+https://github.com/opengeos/leafmap.git\n",
    "```\n",
    "\n",
    "To install packages from a `requirements.txt` file:\n",
    "\n",
    "```bash\n",
    "pip install -r requirements.txt\n",
    "```"
   ]
  }
 ],
 "metadata": {
  "jupytext": {
   "text_representation": {
    "extension": ".md",
    "format_name": "myst",
    "format_version": 0.13,
    "jupytext_version": "1.16.2"
   }
  },
  "kernelspec": {
   "display_name": "Python 3",
   "language": "python",
   "name": "python3"
  },
  "source_map": [
   12
  ]
 },
 "nbformat": 4,
 "nbformat_minor": 5
}