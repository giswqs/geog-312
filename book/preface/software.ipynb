{
 "cells": [
  {
   "cell_type": "markdown",
   "id": "0",
   "metadata": {},
   "source": [
    "# Software\n",
    "\n",
    "## Software Tools\n",
    "\n",
    "- [Miniconda](https://docs.conda.io/en/latest/miniconda.html) or [Anaconda](https://www.anaconda.com/)\n",
    "- [Visual Studio Code](https://code.visualstudio.com/)\n",
    "- [Git](https://git-scm.com/downloads)\n",
    "- [QGIS](https://www.qgis.org/)\n",
    "\n",
    "## Cloud Computing Platforms\n",
    "\n",
    "- [Google Earth Engine](https://earthengine.google.com/)\n",
    "- [Google Colab](https://research.google.com/colaboratory)\n",
    "- [Amazon SageMaker Studio Lab](https://studiolab.sagemaker.aws)\n",
    "- [Microsoft Planetary Computer](https://planetarycomputer.microsoft.com)"
   ]
  },
  {
   "cell_type": "code",
   "execution_count": null,
   "id": "1",
   "metadata": {},
   "outputs": [],
   "source": []
  }
 ],
 "metadata": {
  "kernelspec": {
   "display_name": "Python 3",
   "language": "python",
   "name": "python3"
  },
  "language_info": {
   "codemirror_mode": {
    "name": "ipython",
    "version": 3
   },
   "file_extension": ".py",
   "mimetype": "text/x-python",
   "name": "python",
   "nbconvert_exporter": "python",
   "pygments_lexer": "ipython3",
   "version": "3.11.8"
  }
 },
 "nbformat": 4,
 "nbformat_minor": 5
}
