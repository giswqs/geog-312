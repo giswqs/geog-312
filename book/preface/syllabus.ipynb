{
 "cells": [
  {
   "cell_type": "markdown",
   "id": "0",
   "metadata": {},
   "source": [
    "# Syllabus\n",
    "\n",
    "The course syllabus is available at <https://sites.google.com/utk.edu/geog-312/syllabus>. You are welcome to check out the syllabus and let me know if you have any questions.\n",
    "\n",
    "<iframe src=\"https://docs.google.com/document/d/e/2PACX-1vSXfMTSbdCi_HcqsmYZGzdpDiViclDFgdc8Zt0xMtd3OzM1KqATj8CM2N6RpIe5UFA3lUgc_lFdLsQ7/pub?embedded=true\" width=\"100%\" height=800></iframe>"
   ]
  }
 ],
 "metadata": {
  "kernelspec": {
   "display_name": "Python 3",
   "language": "python",
   "name": "python3"
  },
  "language_info": {
   "codemirror_mode": {
    "name": "ipython",
    "version": 3
   },
   "file_extension": ".py",
   "mimetype": "text/x-python",
   "name": "python",
   "nbconvert_exporter": "python",
   "pygments_lexer": "ipython3",
   "version": "3.11.8"
  }
 },
 "nbformat": 4,
 "nbformat_minor": 5
}
