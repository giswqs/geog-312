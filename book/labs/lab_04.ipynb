{
 "cells": [
  {
   "cell_type": "markdown",
   "metadata": {},
   "source": [
    "# Lab 4\n",
    "\n",
    "[![Open In Colab](https://colab.research.google.com/assets/colab-badge.svg)](https://colab.research.google.com/github/giswqs/geog-312/blob/main/book/labs/lab_04.ipynb)\n",
    "\n",
    "This lab will help you solidify your understanding of working with `NumPy`, `Pandas`, and `GeoPandas` for geospatial data analysis. Through these exercises, you will perform data manipulation, spatial analysis, and visualizations by combining these powerful libraries."
   ]
  },
  {
   "cell_type": "markdown",
   "metadata": {},
   "source": [
    "## Exercise 1: NumPy Array Operations and Geospatial Coordinates\n",
    "\n",
    "In this exercise, you will work with NumPy arrays representing geospatial coordinates (latitude and longitude) and perform basic array operations.\n",
    "\n",
    "1. Create a 2D NumPy array containing the latitude and longitude of the following cities: Tokyo (35.6895, 139.6917), New York (40.7128, -74.0060), London (51.5074, -0.1278), and Paris (48.8566, 2.3522).\n",
    "2. Convert the latitude and longitude values from degrees to radians using np.radians().\n",
    "3. Calculate the element-wise difference between Tokyo and the other cities' latitude and longitude in radians."
   ]
  },
  {
   "cell_type": "code",
   "execution_count": null,
   "metadata": {},
   "outputs": [],
   "source": []
  },
  {
   "cell_type": "markdown",
   "metadata": {},
   "source": [
    "## Exercise 2: Pandas DataFrame Operations with Geospatial Data\n",
    "\n",
    "In this exercise, you'll use Pandas to load and manipulate a dataset containing city population data, and then calculate and visualize statistics.\n",
    "\n",
    "1. Load the world cities dataset from this URL using Pandas: https://github.com/opengeos/datasets/releases/download/world/world_cities.csv\n",
    "2. Display the first 5 rows and check for missing values.\n",
    "3. Filter the dataset to only include cities with a population greater than 1 million.\n",
    "4. Group the cities by their country and calculate the total population for each country.\n",
    "5. Sort the cities by population in descending order and display the top 10 cities."
   ]
  },
  {
   "cell_type": "code",
   "execution_count": null,
   "metadata": {},
   "outputs": [],
   "source": []
  },
  {
   "cell_type": "markdown",
   "metadata": {},
   "source": [
    "## Exercise 3: Creating and Manipulating GeoDataFrames with GeoPandas\n",
    "\n",
    "This exercise focuses on creating and manipulating GeoDataFrames, performing spatial operations, and visualizing the data.\n",
    "\n",
    "1. Load the New York City building dataset from the GeoJSON file using GeoPandas: https://github.com/opengeos/datasets/releases/download/places/nyc_buildings.geojson\n",
    "2. Create a plot of the building footprints and color them based on the building height (use the `height_MS` column).\n",
    "3. Create an interactive map of the building footprints and color them based on the building height (use the `height_MS` column).\n",
    "4. Calculate the average building height (use the `height_MS` column).\n",
    "5. Select buildings with a height greater than the average height.\n",
    "6. Save the GeoDataFrame to a new GeoJSON file."
   ]
  },
  {
   "cell_type": "code",
   "execution_count": null,
   "metadata": {},
   "outputs": [],
   "source": []
  },
  {
   "cell_type": "markdown",
   "metadata": {},
   "source": [
    "## Exercise 4: Combining NumPy, Pandas, and GeoPandas\n",
    "\n",
    "This exercise requires you to combine the power of NumPy, Pandas, and GeoPandas to analyze and visualize spatial data.\n",
    "\n",
    "1. Use Pandas to load the world cities dataset from this URL: https://github.com/opengeos/datasets/releases/download/world/world_cities.csv\n",
    "2. Filter the dataset to include only cities with latitude values between -40 and 60 (i.e., cities located in the Northern Hemisphere or near the equator).\n",
    "3. Create a GeoDataFrame from the filtered dataset by converting the latitude and longitude into geometries.\n",
    "4. Reproject the GeoDataFrame to the Mercator projection (EPSG:3857).\n",
    "5. Calculate the distance (in meters) between each city and the city of Paris.\n",
    "6. Plot the cities on a world map, coloring the points by their distance from Paris."
   ]
  },
  {
   "cell_type": "code",
   "execution_count": null,
   "metadata": {},
   "outputs": [],
   "source": []
  }
 ],
 "metadata": {
  "kernelspec": {
   "display_name": "Python 3",
   "language": "python",
   "name": "python3"
  },
  "language_info": {
   "codemirror_mode": {
    "name": "ipython",
    "version": 3
   },
   "file_extension": ".py",
   "mimetype": "text/x-python",
   "name": "python",
   "nbconvert_exporter": "python",
   "pygments_lexer": "ipython3",
   "version": "3.11.8"
  }
 },
 "nbformat": 4,
 "nbformat_minor": 4
}
