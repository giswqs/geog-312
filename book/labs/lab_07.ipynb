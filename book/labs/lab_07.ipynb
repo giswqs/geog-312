{
 "cells": [
  {
   "cell_type": "markdown",
   "metadata": {},
   "source": [
    "# Lab 7\n",
    "\n",
    "[![Open In Colab](https://colab.research.google.com/assets/colab-badge.svg)](https://colab.research.google.com/github/giswqs/geog-312/blob/main/book/labs/lab_07.ipynb)\n",
    "\n",
    "## Overview\n",
    "\n",
    "In this lab, you will delve deeper into Leafmap, a powerful Python package for interactive geospatial mapping and analysis. You will explore how to work with various types of raster and vector data, customize basemaps and map layers, and visualize data using Cloud Optimized GeoTIFFs (COGs), PMTiles, GeoParquet, and other formats. You will also learn how to enhance your maps with advanced features like legends, colorbars, marker clusters, and split maps for comparison.\n",
    "\n",
    "## Objective\n",
    "\n",
    "* Create and customize interactive maps using Leafmap.\n",
    "* Add and configure basemaps, XYZ tile layers, and WMS layers.\n",
    "* Visualize various raster formats such as GeoTIFF, Cloud Optimized GeoTIFF (COG), and multi-band imagery.\n",
    "* Explore vector data visualization, including marker clusters and choropleth maps.\n",
    "* Implement advanced mapping features like legends, colorbars, and split map comparisons."
   ]
  },
  {
   "cell_type": "markdown",
   "metadata": {},
   "source": [
    "## Exercise 1: Creating an Interactive Map\n",
    "\n",
    "1. Create an interactive map with search functionality that allows users to search for places and zoom to them. Disable the draw control on the map."
   ]
  },
  {
   "cell_type": "code",
   "execution_count": null,
   "metadata": {},
   "outputs": [],
   "source": []
  },
  {
   "cell_type": "markdown",
   "metadata": {},
   "source": [
    "![image](https://github.com/user-attachments/assets/b930fb63-3bd1-4d7e-9bf8-87e6d398e5c3)"
   ]
  },
  {
   "cell_type": "markdown",
   "metadata": {},
   "source": [
    "## Exercise 2: Adding XYZ and WMS Tile Layers\n",
    "\n",
    "1. Add a custom XYZ tile layer ([USGS Topographic basemap](https://apps.nationalmap.gov/services)) using the following URL:\n",
    "   - URL: `https://basemap.nationalmap.gov/arcgis/rest/services/USGSTopo/MapServer/tile/{z}/{y}/{x}`\n",
    "2. Add two WMS layers to visualize NAIP imagery and NDVI using a USGS WMS service.\n",
    "   - URL: `https://imagery.nationalmap.gov/arcgis/services/USGSNAIPImagery/ImageServer/WMSServer?`\n",
    "   - Layer names: `USGSNAIPImagery:FalseColorComposite`, `USGSNAIPImagery:NDVI_Color`"
   ]
  },
  {
   "cell_type": "code",
   "execution_count": null,
   "metadata": {},
   "outputs": [],
   "source": []
  },
  {
   "cell_type": "markdown",
   "metadata": {},
   "source": [
    "![image](https://github.com/user-attachments/assets/28dd8511-a0ac-4b44-ab02-9ed791817043)"
   ]
  },
  {
   "cell_type": "code",
   "execution_count": null,
   "metadata": {},
   "outputs": [],
   "source": []
  },
  {
   "cell_type": "markdown",
   "metadata": {},
   "source": [
    "![image](https://github.com/user-attachments/assets/719c1e07-f955-42d6-985c-b5842c9eac4c)"
   ]
  },
  {
   "cell_type": "markdown",
   "metadata": {},
   "source": [
    "## Exercise 3: Adding Map Legends\n",
    "\n",
    "1. Add the [ESA World Cover](https://esa-worldcover.org/en) WMS tile layer to the map.\n",
    "    - URL: `https://services.terrascope.be/wms/v2?`\n",
    "    - Layer name: `WORLDCOVER_2021_MAP`\n",
    "2. Add a legend to the map using the leafmap built-in `ESA_WorldCover` legend."
   ]
  },
  {
   "cell_type": "code",
   "execution_count": null,
   "metadata": {},
   "outputs": [],
   "source": []
  },
  {
   "cell_type": "markdown",
   "metadata": {},
   "source": [
    "![image](https://github.com/user-attachments/assets/be5a9b07-4f6c-4245-9737-31db2df14f7f)"
   ]
  },
  {
   "cell_type": "markdown",
   "metadata": {},
   "source": [
    "## Exercise 4: Creating Marker Clusters\n",
    "\n",
    "1. Create a marker cluster visualization from a GeoJSON file of building centroids:\n",
    "    - URL: https://github.com/opengeos/datasets/releases/download/places/wa_building_centroids.geojson\n",
    "    - Hint: Read the GeoJSON file using GeoPandas and add \"latitude\" and \"longitude\" columns to the GeoDataFrame.\n",
    "2. Create circle markers for each building centroid using the `Map.add_circle_markers_from_xy()` method with the following styling:\n",
    "    * Radius: 5\n",
    "    * Outline color: \"red\"\n",
    "    * Fill color: \"yellow\"\n",
    "    * Fill opacity: 0.8"
   ]
  },
  {
   "cell_type": "code",
   "execution_count": null,
   "metadata": {},
   "outputs": [],
   "source": []
  },
  {
   "cell_type": "markdown",
   "metadata": {},
   "source": [
    "![image](https://github.com/user-attachments/assets/d60cbfc7-b8c9-4cab-8852-bc34e82fd665)"
   ]
  },
  {
   "cell_type": "code",
   "execution_count": null,
   "metadata": {},
   "outputs": [],
   "source": []
  },
  {
   "cell_type": "markdown",
   "metadata": {},
   "source": [
    "![image](https://github.com/user-attachments/assets/637e00ae-89af-495e-84b4-e668e16cce88)"
   ]
  },
  {
   "cell_type": "markdown",
   "metadata": {},
   "source": [
    "## Exercise 5: Visualizing Vector Data\n",
    "\n",
    "1. Visualize the building polygons GeoJSON file and style it with:\n",
    "    * Outline color: \"red\"\n",
    "    * No fill color\n",
    "    * URL: https://github.com/opengeos/datasets/releases/download/places/wa_overture_buildings.geojson\n",
    "  \n",
    "2. Visualize the road polylines GeoJSON file and style it with:\n",
    "    * Line color: \"red\"\n",
    "    * Line width: 2\n",
    "    * URL: https://github.com/opengeos/datasets/releases/download/places/las_vegas_roads.geojson\n",
    "\n",
    "3. Create a choropleth map of county areas in the US:\n",
    "    * URL: https://github.com/opengeos/datasets/releases/download/us/us_counties.geojson\n",
    "    * Column: `CENSUSAREA`\n"
   ]
  },
  {
   "cell_type": "code",
   "execution_count": null,
   "metadata": {},
   "outputs": [],
   "source": []
  },
  {
   "cell_type": "markdown",
   "metadata": {},
   "source": [
    "![image](https://github.com/user-attachments/assets/069eb704-c409-44ee-af9e-7582d1ab23a5)"
   ]
  },
  {
   "cell_type": "code",
   "execution_count": null,
   "metadata": {},
   "outputs": [],
   "source": []
  },
  {
   "cell_type": "markdown",
   "metadata": {},
   "source": [
    "![image](https://github.com/user-attachments/assets/f28d19a6-4f60-484c-b2f7-c1ecce7ecb26)"
   ]
  },
  {
   "cell_type": "code",
   "execution_count": null,
   "metadata": {},
   "outputs": [],
   "source": []
  },
  {
   "cell_type": "markdown",
   "metadata": {},
   "source": [
    "![image](https://github.com/user-attachments/assets/3aa9f54f-64d7-4788-89f1-f3ab88c1aa2e)"
   ]
  },
  {
   "cell_type": "markdown",
   "metadata": {},
   "source": [
    "## Exercise 6: Visualizing GeoParquet Data\n",
    "\n",
    "1. Visualize GeoParquet data of US states:\n",
    "\n",
    "    - URL: https://github.com/opengeos/datasets/releases/download/us/us_states.parquet\n",
    "    - Style: Outline color of \"red\" with no fill."
   ]
  },
  {
   "cell_type": "code",
   "execution_count": null,
   "metadata": {},
   "outputs": [],
   "source": []
  },
  {
   "cell_type": "markdown",
   "metadata": {},
   "source": [
    "![image](https://github.com/user-attachments/assets/b6d9ec09-035b-4df7-8ab7-a7b4588f1e71)"
   ]
  },
  {
   "cell_type": "markdown",
   "metadata": {},
   "source": [
    "## Exercise 7: Visualizing PMTiles\n",
    "\n",
    "1. Visualize the Overture Maps building dataset using PMTiles:\n",
    "    * URL: https://overturemaps-tiles-us-west-2-beta.s3.amazonaws.com/2024-09-18/buildings.pmtiles\n",
    "    * Style: Blue fill with 0.4 opacity, red outline."
   ]
  },
  {
   "cell_type": "code",
   "execution_count": null,
   "metadata": {},
   "outputs": [],
   "source": []
  },
  {
   "cell_type": "markdown",
   "metadata": {},
   "source": [
    "![image](https://github.com/user-attachments/assets/4ee08461-c962-4c37-8979-7105f588842a)"
   ]
  },
  {
   "cell_type": "markdown",
   "metadata": {},
   "source": [
    "## Exercise 8: Visualizing Cloud Optimized GeoTIFFs (COGs)\n",
    "\n",
    "1. Visualize Digital Elevation Model (DEM) data using the following COG file:\n",
    "    - URL: https://github.com/opengeos/datasets/releases/download/raster/dem.tif\n",
    "    - Apply a terrain colormap to show elevation values."
   ]
  },
  {
   "cell_type": "code",
   "execution_count": null,
   "metadata": {},
   "outputs": [],
   "source": []
  },
  {
   "cell_type": "markdown",
   "metadata": {},
   "source": [
    "![image](https://github.com/user-attachments/assets/21e1f7dd-466e-4880-94a5-0365bf1495dc)"
   ]
  },
  {
   "cell_type": "markdown",
   "metadata": {},
   "source": [
    "## Exercise 9: Visualizing Local Raster Data\n",
    "\n",
    "1. Visualize the following raster datasets using the Map.add_raster() method:\n",
    "\n",
    "    * Aerial Imagery: https://github.com/opengeos/datasets/releases/download/places/wa_building_image.tif\n",
    "    * Building Footprints: https://github.com/opengeos/datasets/releases/download/places/wa_building_masks.tif (use the \"tab20\" colormap and opacity of 0.7)"
   ]
  },
  {
   "cell_type": "code",
   "execution_count": null,
   "metadata": {},
   "outputs": [],
   "source": []
  },
  {
   "cell_type": "markdown",
   "metadata": {},
   "source": [
    "![image](https://github.com/user-attachments/assets/faf7c345-6a3f-4ca0-8eca-7417e6568867)"
   ]
  },
  {
   "cell_type": "markdown",
   "metadata": {},
   "source": [
    "## Exercise 10: Creating a Split Map\n",
    "\n",
    "1. Create a split map to compare imagery of Libya before and after the 2023 flood event:\n",
    "\n",
    "    * Pre-event imagery: https://github.com/opengeos/datasets/releases/download/raster/Libya-2023-07-01.tif\n",
    "    * Post-event imagery: https://github.com/opengeos/datasets/releases/download/raster/Libya-2023-09-13.tif"
   ]
  },
  {
   "cell_type": "code",
   "execution_count": null,
   "metadata": {},
   "outputs": [],
   "source": []
  },
  {
   "cell_type": "markdown",
   "metadata": {},
   "source": [
    "![image](https://github.com/user-attachments/assets/8cab4f1c-2dba-4652-a644-3ce6be4bbbd2)"
   ]
  }
 ],
 "metadata": {
  "kernelspec": {
   "display_name": "geo",
   "language": "python",
   "name": "python3"
  },
  "language_info": {
   "codemirror_mode": {
    "name": "ipython",
    "version": 3
   },
   "file_extension": ".py",
   "mimetype": "text/x-python",
   "name": "python",
   "nbconvert_exporter": "python",
   "pygments_lexer": "ipython3",
   "version": "3.12.2"
  }
 },
 "nbformat": 4,
 "nbformat_minor": 2
}
