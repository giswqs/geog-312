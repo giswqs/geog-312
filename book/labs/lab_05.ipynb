{
 "cells": [
  {
   "cell_type": "markdown",
   "id": "0",
   "metadata": {},
   "source": [
    "# Lab 5\n",
    "\n",
    "[![Open In Colab](https://colab.research.google.com/assets/colab-badge.svg)](https://colab.research.google.com/github/giswqs/geog-312/blob/main/book/labs/lab_05.ipynb)\n",
    "\n",
    "## Objective:\n",
    "\n",
    "This lab introduces you to essential GIS raster operations using Python's rasterio and matplotlib libraries. By the end of this lab, you will have learned to:\n",
    "\n",
    "- Read and explore raster data files.\n",
    "- Visualize and manipulate single-band and multi-band rasters.\n",
    "- Perform basic raster operations such as clipping, band math, and reprojection.\n",
    "- Work with Digital Elevation Models (DEMs) and multispectral satellite imagery.\n",
    "\n",
    "## Required Libraries:\n",
    "Make sure you have the following libraries installed:"
   ]
  },
  {
   "cell_type": "code",
   "execution_count": null,
   "id": "1",
   "metadata": {},
   "outputs": [],
   "source": [
    "# %pip install rasterio matplotlib numpy"
   ]
  },
  {
   "cell_type": "markdown",
   "id": "2",
   "metadata": {},
   "source": [
    "**Sample datasets**\n",
    "\n",
    "- Singlg-band image (DEM): https://github.com/opengeos/datasets/releases/download/raster/dem_90m.tif\n",
    "- Multispectral image (Landsat): https://github.com/opengeos/datasets/releases/download/raster/cog.tif\n",
    "\n",
    "**Exercise 1: Reading and Exploring Raster Data**\n",
    "\n",
    "1. Open the single-band DEM image using `rasterio`.\n",
    "2. Retrieve and print the raster metadata, including the CRS, resolution, bounds, number of bands, and data types.\n",
    "3. Display the raster’s width, height, and pixel data types to understand the grid dimensions and data structure."
   ]
  },
  {
   "cell_type": "code",
   "execution_count": null,
   "id": "3",
   "metadata": {},
   "outputs": [],
   "source": []
  },
  {
   "cell_type": "markdown",
   "id": "4",
   "metadata": {},
   "source": [
    "**Exercise 2: Visualizing and Manipulating Raster Bands**\n",
    "\n",
    "1. Visualize the single-band DEM using a custom colormap (e.g., cmap='terrain').\n",
    "2. Open the multispectral image and visualize the first band using a suitable colormap.\n",
    "3. Combine multiple bands from the multispectral image (e.g., Red, Green, and Blue) and stack them to create an RGB composite image."
   ]
  },
  {
   "cell_type": "code",
   "execution_count": null,
   "id": "5",
   "metadata": {},
   "outputs": [],
   "source": []
  },
  {
   "cell_type": "markdown",
   "id": "6",
   "metadata": {},
   "source": [
    "**Exercise 3: Raster Clipping with Array Indexing**\n",
    "\n",
    "1. Open the multispectral image and clip a geographic subset using array indexing (specifying row and column ranges).\n",
    "2. Visualize the clipped portion of the image using matplotlib to ensure the subset is correct.\n",
    "3. Save the clipped raster subset to a new file named `clipped_multispectral.tif`."
   ]
  },
  {
   "cell_type": "code",
   "execution_count": null,
   "id": "7",
   "metadata": {},
   "outputs": [],
   "source": []
  },
  {
   "cell_type": "markdown",
   "id": "8",
   "metadata": {},
   "source": [
    "**Exercise 4: Calculating NDWI (Band Math)**\n",
    "\n",
    "1. Open the multispectral image and extract the Green and Near-Infrared (NIR) bands.\n",
    "2. Compute the Normalized Difference Water Index ([NDWI](https://en.wikipedia.org/wiki/Normalized_difference_water_index)) using the formula:\n",
    "\n",
    "    NDWI= (Green - NIR) / (Green + NIR)\n",
    "\n",
    "3. Visualize the NDWI result using a water-friendly colormap (e.g., cmap='Blues') to highlight water bodies.\n",
    "4. Save the resulting NDWI image as a new raster file named ndwi.tif."
   ]
  },
  {
   "cell_type": "code",
   "execution_count": null,
   "id": "9",
   "metadata": {},
   "outputs": [],
   "source": []
  },
  {
   "cell_type": "markdown",
   "id": "10",
   "metadata": {},
   "source": [
    "**Exercise 5: Reprojecting Raster Data**\n",
    "\n",
    "1. Reproject the single-band DEM raster from its original CRS to EPSG:4326 (WGS 84) using the `rasterio.warp.reproject` function.\n",
    "2. Save the reprojected raster to a new GeoTIFF file named `reprojected_dem.tif`.\n",
    "3. Visualize both the original and reprojected DEM datasets to compare how the reprojection affects the spatial coverage and resolution."
   ]
  },
  {
   "cell_type": "code",
   "execution_count": null,
   "id": "11",
   "metadata": {},
   "outputs": [],
   "source": []
  }
 ],
 "metadata": {
  "kernelspec": {
   "display_name": "Python 3 (ipykernel)",
   "language": "python",
   "name": "python3"
  },
  "language_info": {
   "codemirror_mode": {
    "name": "ipython",
    "version": 3
   },
   "file_extension": ".py",
   "mimetype": "text/x-python",
   "name": "python",
   "nbconvert_exporter": "python",
   "pygments_lexer": "ipython3",
   "version": "3.11.8"
  }
 },
 "nbformat": 4,
 "nbformat_minor": 5
}
