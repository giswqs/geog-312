{
 "cells": [
  {
   "cell_type": "markdown",
   "id": "0",
   "metadata": {},
   "source": [
    "# Files and Exception Handling\n",
    "\n",
    "[![Open In Colab](https://colab.research.google.com/assets/colab-badge.svg)](https://colab.research.google.com/github/giswqs/geog-312/blob/main/book/python/07_files.ipynb)\n",
    "\n",
    "This notebook introduces how to work with files and handle exceptions in Python, with a focus on geospatial data. Working with files is a common task in geospatial programming, whether you are reading data from a file, writing results to a file, or processing large datasets. Exception handling is crucial for writing robust code that can handle errors gracefully."
   ]
  },
  {
   "cell_type": "markdown",
   "id": "1",
   "metadata": {},
   "source": [
    "## Working with Files\n",
    "\n",
    "In geospatial programming, you often need to read from or write to files. Python provides built-in functions to handle these tasks. Let's start by reading from a text file containing coordinates and writing the results to a new file."
   ]
  },
  {
   "cell_type": "code",
   "execution_count": null,
   "id": "2",
   "metadata": {},
   "outputs": [],
   "source": [
    "# Example of reading coordinates from a file and writing to another file\n",
    "input_file = \"coordinates.txt\"\n",
    "output_file = \"output_coordinates.txt\"\n",
    "\n",
    "try:\n",
    "    with open(input_file, \"r\") as infile:\n",
    "        coordinates = infile.readlines()\n",
    "\n",
    "    with open(output_file, \"w\") as outfile:\n",
    "        for line in coordinates:\n",
    "            lat, lon = line.strip().split(\",\")\n",
    "            outfile.write(f\"Latitude: {lat}, Longitude: {lon}\\n\")\n",
    "\n",
    "    print(f\"Coordinates have been written to {output_file}\")\n",
    "except FileNotFoundError:\n",
    "    print(f\"Error: The file {input_file} was not found.\")"
   ]
  },
  {
   "cell_type": "markdown",
   "id": "3",
   "metadata": {},
   "source": [
    "## Exception Handling\n",
    "\n",
    "Exception handling allows you to handle errors that occur during the execution of your program. This is especially important in geospatial programming, where you may encounter issues such as missing files, corrupt data, or invalid input.\n",
    "\n",
    "Let's explore how to handle different types of exceptions using `try`, `except`, and `finally`."
   ]
  },
  {
   "cell_type": "code",
   "execution_count": null,
   "id": "4",
   "metadata": {},
   "outputs": [],
   "source": [
    "# Example of exception handling when parsing coordinates\n",
    "def parse_coordinates(line):\n",
    "    try:\n",
    "        lat, lon = line.strip().split(\",\")\n",
    "        lat = float(lat)\n",
    "        lon = float(lon)\n",
    "        return lat, lon\n",
    "    except ValueError as e:\n",
    "        print(f\"Error: {e}. Could not parse line: {line.strip()}\")\n",
    "        return None\n",
    "    except Exception as e:\n",
    "        print(f\"An unexpected error occurred: {e}\")\n",
    "        return None\n",
    "\n",
    "\n",
    "# Example usage\n",
    "line = \"invalid data\"\n",
    "coordinates = parse_coordinates(line)\n",
    "if coordinates:\n",
    "    print(f\"Parsed coordinates: {coordinates}\")"
   ]
  },
  {
   "cell_type": "markdown",
   "id": "5",
   "metadata": {},
   "source": [
    "## Combining File Handling and Exception Handling\n",
    "\n",
    "You can combine file handling and exception handling to create robust geospatial applications. This allows you to ensure that files are properly handled even if errors occur during the process."
   ]
  },
  {
   "cell_type": "code",
   "execution_count": null,
   "id": "6",
   "metadata": {},
   "outputs": [],
   "source": [
    "# Example of robust file handling with exceptions\n",
    "def process_geospatial_file(input_file):\n",
    "    try:\n",
    "        with open(input_file, \"r\") as infile:\n",
    "            for line in infile:\n",
    "                coordinates = parse_coordinates(line)\n",
    "                if coordinates:\n",
    "                    print(f\"Processed coordinates: {coordinates}\")\n",
    "    except FileNotFoundError:\n",
    "        print(f\"Error: The file {input_file} was not found.\")\n",
    "    except Exception as e:\n",
    "        print(f\"An unexpected error occurred while processing the file: {e}\")\n",
    "    finally:\n",
    "        print(f\"Finished processing {input_file}\")\n",
    "\n",
    "\n",
    "# Example usage\n",
    "process_geospatial_file(\"coordinates.txt\")"
   ]
  },
  {
   "cell_type": "markdown",
   "id": "7",
   "metadata": {},
   "source": [
    "## Exercises\n",
    "\n",
    "1. Create a function that reads a file containing a list of city names and their coordinates. The function should handle exceptions if the file is missing or if a line in the file is not properly formatted.\n",
    "2. Write a function that writes a list of coordinates to a file. Include exception handling to ensure that the file is properly closed even if an error occurs during writing.\n",
    "3. Create a robust geospatial data processing function that reads data from a file, processes it, and writes the results to another file. Ensure that all potential errors are handled appropriately."
   ]
  },
  {
   "cell_type": "code",
   "execution_count": null,
   "id": "8",
   "metadata": {},
   "outputs": [],
   "source": [
    "# Type your code here"
   ]
  },
  {
   "cell_type": "markdown",
   "id": "9",
   "metadata": {},
   "source": [
    "## Conclusion\n",
    "\n",
    "Working with files and handling exceptions are critical skills in geospatial programming. By mastering these techniques, you can create more reliable and efficient geospatial applications that handle real-world data gracefully."
   ]
  }
 ],
 "metadata": {
  "kernelspec": {
   "display_name": "Python 3",
   "language": "python",
   "name": "python3"
  },
  "language_info": {
   "codemirror_mode": {
    "name": "ipython",
    "version": 3
   },
   "file_extension": ".py",
   "mimetype": "text/x-python",
   "name": "python",
   "nbconvert_exporter": "python",
   "pygments_lexer": "ipython3",
   "version": "3.11.8"
  }
 },
 "nbformat": 4,
 "nbformat_minor": 5
}
