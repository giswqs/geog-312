{
 "cells": [
  {
   "cell_type": "markdown",
   "id": "0",
   "metadata": {},
   "source": [
    "# String Operations\n",
    "\n",
    "[![Open In Colab](https://colab.research.google.com/assets/colab-badge.svg)](https://colab.research.google.com/github/giswqs/geog-312/blob/main/book/python/04_string_operations.ipynb)\n",
    "\n",
    "In this notebook, we will explore various string operations in Python and see how they can be applied in geospatial contexts. Understanding how to manipulate and analyze strings is essential when working with geographic data, such as handling names of places, formatting coordinates, and parsing data from text files."
   ]
  },
  {
   "cell_type": "markdown",
   "id": "1",
   "metadata": {},
   "source": [
    "## Creating and Manipulating Strings\n",
    "\n",
    "Strings in Python are sequences of characters. You can create a string by enclosing characters in single or double quotes."
   ]
  },
  {
   "cell_type": "code",
   "execution_count": null,
   "id": "2",
   "metadata": {},
   "outputs": [],
   "source": [
    "location_name = \"Mount Everest\"  # A string representing the name of a location"
   ]
  },
  {
   "cell_type": "markdown",
   "id": "3",
   "metadata": {},
   "source": [
    "You can concatenate (join) strings using the `+` operator:"
   ]
  },
  {
   "cell_type": "code",
   "execution_count": null,
   "id": "4",
   "metadata": {},
   "outputs": [],
   "source": [
    "location_name_full = location_name + \", Nepal\"\n",
    "print(location_name_full)"
   ]
  },
  {
   "cell_type": "markdown",
   "id": "5",
   "metadata": {},
   "source": [
    "You can also repeat strings using the `*` operator:"
   ]
  },
  {
   "cell_type": "code",
   "execution_count": null,
   "id": "6",
   "metadata": {},
   "outputs": [],
   "source": [
    "separator = \"-\" * 10\n",
    "print(separator)"
   ]
  },
  {
   "cell_type": "markdown",
   "id": "7",
   "metadata": {},
   "source": [
    "## String Methods for Geospatial Data\n",
    "\n",
    "Python provides various built-in methods to manipulate strings. Some commonly used methods include:\n",
    "- `lower()`, `upper()`: Convert strings to lowercase or uppercase.\n",
    "- `strip()`: Remove leading and trailing whitespace.\n",
    "- `replace()`: Replace a substring with another substring.\n",
    "- `split()`: Split a string into a list of substrings based on a delimiter."
   ]
  },
  {
   "cell_type": "code",
   "execution_count": null,
   "id": "8",
   "metadata": {},
   "outputs": [],
   "source": [
    "location_name_upper = location_name.upper()\n",
    "print(location_name_upper)  # Convert to uppercase"
   ]
  },
  {
   "cell_type": "code",
   "execution_count": null,
   "id": "9",
   "metadata": {},
   "outputs": [],
   "source": [
    "location_name_clean = location_name.strip()\n",
    "print(location_name_clean)  # Remove leading/trailing whitespace"
   ]
  },
  {
   "cell_type": "code",
   "execution_count": null,
   "id": "10",
   "metadata": {},
   "outputs": [],
   "source": [
    "location_name_replaced = location_name.replace(\"Everest\", \"K2\")\n",
    "print(location_name_replaced)  # Replace 'Everest' with 'K2'"
   ]
  },
  {
   "cell_type": "code",
   "execution_count": null,
   "id": "11",
   "metadata": {},
   "outputs": [],
   "source": [
    "location_parts = location_name_full.split(\", \")\n",
    "print(location_parts)  # Split the string into a list"
   ]
  },
  {
   "cell_type": "markdown",
   "id": "12",
   "metadata": {},
   "source": [
    "## Formatting Strings\n",
    "\n",
    "String formatting is essential when preparing data for output or when you need to include variable values in strings. You can use the `format()` method or f-strings (in Python 3.6 and above) for string formatting."
   ]
  },
  {
   "cell_type": "code",
   "execution_count": null,
   "id": "13",
   "metadata": {},
   "outputs": [],
   "source": [
    "latitude = 27.9881\n",
    "longitude = 86.9250\n",
    "formatted_coordinates = \"Coordinates: ({}, {})\".format(latitude, longitude)\n",
    "print(formatted_coordinates)"
   ]
  },
  {
   "cell_type": "code",
   "execution_count": null,
   "id": "14",
   "metadata": {},
   "outputs": [],
   "source": [
    "formatted_coordinates_fstring = f\"Coordinates: ({latitude}, {longitude})\"\n",
    "print(formatted_coordinates_fstring)"
   ]
  },
  {
   "cell_type": "markdown",
   "id": "15",
   "metadata": {},
   "source": [
    "## Parsing and Extracting Information from Strings\n",
    "\n",
    "Often, you will need to extract specific information from strings, especially when dealing with geographic data. For example, you might need to extract coordinates from a formatted string."
   ]
  },
  {
   "cell_type": "code",
   "execution_count": null,
   "id": "16",
   "metadata": {},
   "outputs": [],
   "source": [
    "coordinate_string = \"27.9881N, 86.9250E\"\n",
    "lat_str, lon_str = coordinate_string.split(\", \")\n",
    "latitude = float(lat_str[:-1])  # Convert string to float and remove the 'N'\n",
    "longitude = float(lon_str[:-1])  # Convert string to float and remove the 'E'\n",
    "print(f\"Parsed coordinates: ({latitude}, {longitude})\")"
   ]
  },
  {
   "cell_type": "markdown",
   "id": "17",
   "metadata": {},
   "source": [
    "## Exercises\n",
    "\n",
    "1. Create a string representing the name of a city. Convert the string to lowercase and then to uppercase.\n",
    "2. Take a string with the format 'latitude, longitude' (e.g., '40.7128N, 74.0060W') and extract the numeric values of latitude and longitude.\n",
    "3. Create a formatted string that includes the name of a location and its coordinates. Use both the `format()` method and f-strings to achieve this.\n",
    "4. Replace a substring in the name of a place (e.g., change 'San Francisco' to 'San Diego') and print the result."
   ]
  },
  {
   "cell_type": "code",
   "execution_count": null,
   "id": "18",
   "metadata": {},
   "outputs": [],
   "source": [
    "# Type your code here"
   ]
  },
  {
   "cell_type": "markdown",
   "id": "19",
   "metadata": {},
   "source": [
    "## Conclusion\n",
    "\n",
    "String operations are crucial in geospatial programming, especially when dealing with textual geographic data. Mastering these operations will enable you to handle and manipulate geographic information effectively in your projects."
   ]
  }
 ],
 "metadata": {
  "kernelspec": {
   "display_name": "Python 3",
   "language": "python",
   "name": "python3"
  },
  "language_info": {
   "codemirror_mode": {
    "name": "ipython",
    "version": 3
   },
   "file_extension": ".py",
   "mimetype": "text/x-python",
   "name": "python",
   "nbconvert_exporter": "python",
   "pygments_lexer": "ipython3",
   "version": "3.11.8"
  }
 },
 "nbformat": 4,
 "nbformat_minor": 5
}
