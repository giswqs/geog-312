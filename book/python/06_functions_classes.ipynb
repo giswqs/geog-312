{
 "cells": [
  {
   "cell_type": "markdown",
   "id": "0",
   "metadata": {},
   "source": [
    "# Functions and Classes\n",
    "\n",
    "[![Open In Colab](https://colab.research.google.com/assets/colab-badge.svg)](https://colab.research.google.com/github/giswqs/geog-312/blob/main/book/python/06_functions_classes.ipynb)\n",
    "\n",
    "## Overview\n",
    "\n",
    "This lecture introduces the concepts of functions and classes in Python, focusing on their application in geospatial programming. Functions allow you to encapsulate code into reusable blocks, making your scripts more modular and easier to maintain. Classes provide a way to create complex data structures by bundling data and functionality together. By understanding and applying these concepts, you will be able to build more sophisticated and efficient geospatial analysis tools.\n",
    "\n",
    "## Learning Objectives\n",
    "\n",
    "By the end of this lecture, you should be able to:\n",
    "\n",
    "- Define and use functions to perform specific tasks and promote code reuse in geospatial applications.\n",
    "- Understand and implement classes to represent complex geospatial data structures, such as geographic features.\n",
    "- Combine functions and classes to create modular and scalable geospatial tools.\n",
    "- Apply object-oriented programming principles to organize and manage geospatial data and operations effectively.\n",
    "- Develop the skills to extend existing classes and create new ones tailored to specific geospatial tasks."
   ]
  },
  {
   "cell_type": "markdown",
   "id": "1",
   "metadata": {},
   "source": [
    "## Functions\n",
    "\n",
    "Functions are blocks of code that perform a specific task and can be reused multiple times. They allow you to structure your code more efficiently and reduce redundancy.\n",
    "\n",
    "Let's start by defining a simple function to calculate the distance between two points using the Haversine formula."
   ]
  },
  {
   "cell_type": "code",
   "execution_count": null,
   "id": "2",
   "metadata": {},
   "outputs": [],
   "source": [
    "from math import radians, sin, cos, sqrt, atan2"
   ]
  },
  {
   "cell_type": "code",
   "execution_count": null,
   "id": "3",
   "metadata": {},
   "outputs": [],
   "source": [
    "def haversine(lat1, lon1, lat2, lon2):\n",
    "    R = 6371.0  # Earth radius in kilometers\n",
    "    dlat = radians(lat2 - lat1)\n",
    "    dlon = radians(lon2 - lon1)\n",
    "    a = (\n",
    "        sin(dlat / 2) ** 2\n",
    "        + cos(radians(lat1)) * cos(radians(lat2)) * sin(dlon / 2) ** 2\n",
    "    )\n",
    "    c = 2 * atan2(sqrt(a), sqrt(1 - a))\n",
    "    distance = R * c\n",
    "    return distance\n",
    "\n",
    "\n",
    "# Example usage\n",
    "distance = haversine(35.6895, 139.6917, 34.0522, -118.2437)\n",
    "print(f\"Distance: {distance:.2f} km\")"
   ]
  },
  {
   "cell_type": "markdown",
   "id": "4",
   "metadata": {},
   "source": [
    "Now, let's create a function that takes a list of coordinate pairs and returns a list of distances between consecutive points."
   ]
  },
  {
   "cell_type": "code",
   "execution_count": null,
   "id": "5",
   "metadata": {},
   "outputs": [],
   "source": [
    "def batch_haversine(coord_list):\n",
    "    distances = []\n",
    "    for i in range(len(coord_list) - 1):\n",
    "        lat1, lon1 = coord_list[i]\n",
    "        lat2, lon2 = coord_list[i + 1]\n",
    "        distance = haversine(lat1, lon1, lat2, lon2)\n",
    "        distances.append(distance)\n",
    "    return distances\n",
    "\n",
    "\n",
    "# Example usage\n",
    "coordinates = [(35.6895, 139.6917), (34.0522, -118.2437), (40.7128, -74.0060)]\n",
    "distances = batch_haversine(coordinates)\n",
    "print(f\"Distances: {distances}\")"
   ]
  },
  {
   "cell_type": "markdown",
   "id": "6",
   "metadata": {},
   "source": [
    "## Classes\n",
    "\n",
    "Classes are blueprints for creating objects. An object is an instance of a class, and it can have attributes (data) and methods (functions). Classes are particularly useful in geospatial programming for representing complex data structures, such as geographic features.\n",
    "\n",
    "Let's define a simple `Point` class to represent a geographic point."
   ]
  },
  {
   "cell_type": "code",
   "execution_count": null,
   "id": "7",
   "metadata": {},
   "outputs": [],
   "source": [
    "class Point:\n",
    "    def __init__(self, latitude, longitude, name=None):\n",
    "        self.latitude = latitude\n",
    "        self.longitude = longitude\n",
    "        self.name = name\n",
    "\n",
    "    def distance_to(self, other_point):\n",
    "        return haversine(\n",
    "            self.latitude, self.longitude, other_point.latitude, other_point.longitude\n",
    "        )\n",
    "\n",
    "    def __str__(self):\n",
    "        return f\"{self.name or 'Point'} ({self.latitude}, {self.longitude})\""
   ]
  },
  {
   "cell_type": "code",
   "execution_count": null,
   "id": "8",
   "metadata": {},
   "outputs": [],
   "source": [
    "point1 = Point(35.6895, 139.6917, \"Tokyo\")\n",
    "point2 = Point(34.0522, -118.2437, \"Los Angeles\")\n",
    "print(point1)\n",
    "print(\n",
    "    f\"Distance from {point1.name} to {point2.name}: {point1.distance_to(point2):.2f} km\"\n",
    ")"
   ]
  },
  {
   "cell_type": "markdown",
   "id": "9",
   "metadata": {},
   "source": [
    "We can extend the `Point` class to include more methods, such as calculating the midpoint between two points and determining the bearing (direction) from one point to another."
   ]
  },
  {
   "cell_type": "code",
   "execution_count": null,
   "id": "10",
   "metadata": {},
   "outputs": [],
   "source": [
    "from math import atan2, degrees"
   ]
  },
  {
   "cell_type": "code",
   "execution_count": null,
   "id": "11",
   "metadata": {},
   "outputs": [],
   "source": [
    "class Point:\n",
    "    def __init__(self, latitude, longitude, name=None):\n",
    "        self.latitude = latitude\n",
    "        self.longitude = longitude\n",
    "        self.name = name\n",
    "\n",
    "    def distance_to(self, other_point):\n",
    "        return haversine(\n",
    "            self.latitude, self.longitude, other_point.latitude, other_point.longitude\n",
    "        )\n",
    "\n",
    "    def midpoint(self, other_point):\n",
    "        mid_lat = (self.latitude + other_point.latitude) / 2\n",
    "        mid_lon = (self.longitude + other_point.longitude) / 2\n",
    "        return Point(mid_lat, mid_lon, name=\"Midpoint\")\n",
    "\n",
    "    def bearing_to(self, other_point):\n",
    "        lat1, lon1 = radians(self.latitude), radians(self.longitude)\n",
    "        lat2, lon2 = radians(other_point.latitude), radians(other_point.longitude)\n",
    "        dlon = lon2 - lon1\n",
    "        x = sin(dlon) * cos(lat2)\n",
    "        y = cos(lat1) * sin(lat2) - sin(lat1) * cos(lat2) * cos(dlon)\n",
    "        initial_bearing = atan2(x, y)\n",
    "        bearing = (degrees(initial_bearing) + 360) % 360\n",
    "        return bearing\n",
    "\n",
    "    def __str__(self):\n",
    "        return f\"{self.name or 'Point'} ({self.latitude}, {self.longitude})\""
   ]
  },
  {
   "cell_type": "code",
   "execution_count": null,
   "id": "12",
   "metadata": {},
   "outputs": [],
   "source": [
    "point1 = Point(35.6895, 139.6917, \"Tokyo\")\n",
    "point2 = Point(34.0522, -118.2437, \"Los Angeles\")\n",
    "mid_point = point1.midpoint(point2)\n",
    "print(mid_point)\n",
    "bearing = point1.bearing_to(point2)\n",
    "print(f\"Bearing from {point1.name} to {point2.name}: {bearing:.2f}°\")"
   ]
  },
  {
   "cell_type": "markdown",
   "id": "13",
   "metadata": {},
   "source": [
    "## Combining Functions and Classes\n",
    "\n",
    "You can use functions within classes to create more powerful and flexible geospatial tools. For instance, by incorporating distance calculations and midpoints, we can make the `Point` class much more versatile.\n",
    "\n",
    "Let's create a method in the `Point` class that calculates the total distance when traveling through a series of points."
   ]
  },
  {
   "cell_type": "code",
   "execution_count": null,
   "id": "14",
   "metadata": {},
   "outputs": [],
   "source": [
    "class Route:\n",
    "    def __init__(self, points):\n",
    "        self.points = points\n",
    "\n",
    "    def total_distance(self):\n",
    "        total_dist = 0\n",
    "        for i in range(len(self.points) - 1):\n",
    "            total_dist += self.points[i].distance_to(self.points[i + 1])\n",
    "        return total_dist\n",
    "\n",
    "    def __str__(self):\n",
    "        return f\"Route with {len(self.points)} points\""
   ]
  },
  {
   "cell_type": "code",
   "execution_count": null,
   "id": "15",
   "metadata": {},
   "outputs": [],
   "source": [
    "route = Route([point1, point2, mid_point])\n",
    "print(route)\n",
    "print(f\"Total distance: {route.total_distance():.2f} km\")"
   ]
  },
  {
   "cell_type": "markdown",
   "id": "16",
   "metadata": {},
   "source": [
    "## Exercises\n",
    "\n",
    "1. Create a function that takes a list of `Point` objects and returns the total distance if you were to travel from the first point to the last, visiting each point in sequence.\n",
    "2. Extend the `Point` class to include a method that returns the bearing (direction) from the current point to another point.\n",
    "3. Create a `Polygon` class that can hold a list of `Point` objects representing the vertices of the polygon. Add a method to calculate the perimeter of the polygon.\n",
    "4. Write a function that takes a `Route` object and returns a list of bearings between each consecutive pair of points along the route.\n",
    "5. Extend the `Polygon` class to include a method that checks if a given `Point` is inside the polygon using the ray-casting algorithm."
   ]
  },
  {
   "cell_type": "code",
   "execution_count": null,
   "id": "17",
   "metadata": {},
   "outputs": [],
   "source": []
  },
  {
   "cell_type": "markdown",
   "id": "18",
   "metadata": {},
   "source": [
    "## Summary\n",
    "\n",
    "Functions and classes are powerful tools in Python that help you organize and reuse your code, especially in the context of geospatial programming. By mastering these concepts, you'll be able to write more efficient and maintainable code for your geospatial projects."
   ]
  }
 ],
 "metadata": {
  "kernelspec": {
   "display_name": "Python 3",
   "language": "python",
   "name": "python3"
  },
  "language_info": {
   "codemirror_mode": {
    "name": "ipython",
    "version": 3
   },
   "file_extension": ".py",
   "mimetype": "text/x-python",
   "name": "python",
   "nbconvert_exporter": "python",
   "pygments_lexer": "ipython3",
   "version": "3.11.8"
  }
 },
 "nbformat": 4,
 "nbformat_minor": 5
}
