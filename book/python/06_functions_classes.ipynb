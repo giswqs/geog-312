{
 "cells": [
  {
   "cell_type": "markdown",
   "id": "0",
   "metadata": {},
   "source": [
    "# Functions and Classes\n",
    "\n",
    "[![Open In Colab](https://colab.research.google.com/assets/colab-badge.svg)](https://colab.research.google.com/github/giswqs/geog-312/blob/main/book/python/06_functions_classes.ipynb)\n",
    "\n",
    "## Overview\n",
    "\n",
    "This lecture introduces the concepts of functions and classes in Python, focusing on their application in geospatial programming. Functions allow you to encapsulate code into reusable blocks, making your scripts more modular and easier to maintain. Classes provide a way to create complex data structures by bundling data and functionality together. By understanding and applying these concepts, you will be able to build more sophisticated and efficient geospatial analysis tools.\n",
    "\n",
    "## Learning Objectives\n",
    "\n",
    "By the end of this lecture, you should be able to:\n",
    "\n",
    "- Define and use functions to perform specific tasks and promote code reuse in geospatial applications.\n",
    "- Understand and implement classes to represent complex geospatial data structures, such as geographic features.\n",
    "- Combine functions and classes to create modular and scalable geospatial tools.\n",
    "- Apply object-oriented programming principles to organize and manage geospatial data and operations effectively.\n",
    "- Develop the skills to extend existing classes and create new ones tailored to specific geospatial tasks."
   ]
  },
  {
   "cell_type": "markdown",
   "id": "1",
   "metadata": {},
   "source": [
    "## Functions\n",
    "\n",
    "Functions are blocks of code that perform a specific task and can be reused multiple times. They allow you to structure your code more efficiently and reduce redundancy.\n",
    "\n",
    "Let's start by defining a simple function to calculate the distance between two points using the Haversine formula."
   ]
  },
  {
   "cell_type": "code",
   "execution_count": null,
   "id": "2",
   "metadata": {},
   "outputs": [],
   "source": [
    "from math import radians, sin, cos, sqrt, atan2\n",
    "\n",
    "\n",
    "def haversine(lat1, lon1, lat2, lon2):\n",
    "    R = 6371.0  # Earth radius in kilometers\n",
    "    dlat = radians(lat2 - lat1)\n",
    "    dlon = radians(lon2 - lon1)\n",
    "    a = (\n",
    "        sin(dlat / 2) ** 2\n",
    "        + cos(radians(lat1)) * cos(radians(lat2)) * sin(dlon / 2) ** 2\n",
    "    )\n",
    "    c = 2 * atan2(sqrt(a), sqrt(1 - a))\n",
    "    distance = R * c\n",
    "    return distance\n",
    "\n",
    "\n",
    "# Example usage\n",
    "distance = haversine(35.6895, 139.6917, 34.0522, -118.2437)\n",
    "print(f\"Distance: {distance:.2f} km\")"
   ]
  },
  {
   "cell_type": "markdown",
   "id": "3",
   "metadata": {},
   "source": [
    "## Classes\n",
    "\n",
    "Classes are blueprints for creating objects. An object is an instance of a class, and it can have attributes (data) and methods (functions). Classes are particularly useful in geospatial programming for representing complex data structures, such as geographic features.\n",
    "\n",
    "Let's define a simple `Point` class to represent a geographic point."
   ]
  },
  {
   "cell_type": "code",
   "execution_count": null,
   "id": "4",
   "metadata": {},
   "outputs": [],
   "source": [
    "class Point:\n",
    "    def __init__(self, latitude, longitude, name=None):\n",
    "        self.latitude = latitude\n",
    "        self.longitude = longitude\n",
    "        self.name = name\n",
    "\n",
    "    def distance_to(self, other_point):\n",
    "        return haversine(\n",
    "            self.latitude, self.longitude, other_point.latitude, other_point.longitude\n",
    "        )\n",
    "\n",
    "    def __str__(self):\n",
    "        return f\"{self.name or 'Point'} ({self.latitude}, {self.longitude})\"\n",
    "\n",
    "\n",
    "# Example usage\n",
    "point1 = Point(35.6895, 139.6917, \"Tokyo\")\n",
    "point2 = Point(34.0522, -118.2437, \"Los Angeles\")\n",
    "print(point1)\n",
    "print(\n",
    "    f\"Distance from {point1.name} to {point2.name}: {point1.distance_to(point2):.2f} km\"\n",
    ")"
   ]
  },
  {
   "cell_type": "markdown",
   "id": "5",
   "metadata": {},
   "source": [
    "## Combining Functions and Classes\n",
    "\n",
    "You can use functions within classes to create more powerful and flexible geospatial tools. For example, we can extend the `Point` class to include methods for calculating the midpoint between two points."
   ]
  },
  {
   "cell_type": "code",
   "execution_count": null,
   "id": "6",
   "metadata": {},
   "outputs": [],
   "source": [
    "class Point:\n",
    "    def __init__(self, latitude, longitude, name=None):\n",
    "        self.latitude = latitude\n",
    "        self.longitude = longitude\n",
    "        self.name = name\n",
    "\n",
    "    def distance_to(self, other_point):\n",
    "        return haversine(\n",
    "            self.latitude, self.longitude, other_point.latitude, other_point.longitude\n",
    "        )\n",
    "\n",
    "    def midpoint(self, other_point):\n",
    "        mid_lat = (self.latitude + other_point.latitude) / 2\n",
    "        mid_lon = (self.longitude + other_point.longitude) / 2\n",
    "        return Point(mid_lat, mid_lon, name=\"Midpoint\")\n",
    "\n",
    "    def __str__(self):\n",
    "        return f\"{self.name or 'Point'} ({self.latitude}, {self.longitude})\"\n",
    "\n",
    "\n",
    "# Example usage\n",
    "mid_point = point1.midpoint(point2)\n",
    "print(mid_point)"
   ]
  },
  {
   "cell_type": "markdown",
   "id": "7",
   "metadata": {},
   "source": [
    "## Exercises\n",
    "\n",
    "1. Create a function that takes a list of `Point` objects and returns the total distance if you were to travel from the first point to the last, visiting each point in sequence.\n",
    "2. Extend the `Point` class to include a method that returns the bearing (direction) from the current point to another point.\n",
    "3. Create a `Polygon` class that can hold a list of `Point` objects representing the vertices of the polygon. Add a method to calculate the perimeter of the polygon."
   ]
  },
  {
   "cell_type": "code",
   "execution_count": null,
   "id": "8",
   "metadata": {},
   "outputs": [],
   "source": [
    "# Type your code here"
   ]
  },
  {
   "cell_type": "markdown",
   "id": "9",
   "metadata": {},
   "source": [
    "## Conclusion\n",
    "\n",
    "Functions and classes are powerful tools in Python that help you organize and reuse your code, especially in the context of geospatial programming. By mastering these concepts, you'll be able to write more efficient and maintainable code for your geospatial projects."
   ]
  }
 ],
 "metadata": {
  "kernelspec": {
   "display_name": "Python 3",
   "language": "python",
   "name": "python3"
  }
 },
 "nbformat": 4,
 "nbformat_minor": 5
}
