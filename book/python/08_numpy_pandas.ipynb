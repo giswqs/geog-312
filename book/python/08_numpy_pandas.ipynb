{
 "cells": [
  {
   "cell_type": "markdown",
   "metadata": {},
   "source": [
    "# Intro to NumPy and Pandas\n",
    "\n",
    "[![Open In Colab](https://colab.research.google.com/assets/colab-badge.svg)](https://colab.research.google.com/github/giswqs/geog-312/blob/main/book/python/08_numpy_pandas.ipynb)"
   ]
  },
  {
   "cell_type": "markdown",
   "metadata": {},
   "source": [
    "## Overview\n",
    "\n",
    "This lecture introduces [NumPy](https://numpy.org) and [Pandas](https://pandas.pydata.org), two fundamental libraries for data manipulation and analysis in Python, with applications in geospatial programming. `NumPy` is essential for numerical operations and handling arrays, while `Pandas` provides powerful tools for data analysis, particularly when working with tabular data. Understanding these libraries will enable you to perform complex data operations efficiently and effectively in geospatial contexts.\n",
    "\n",
    "## Learning Objectives\n",
    "\n",
    "By the end of this lecture, you should be able to:\n",
    "\n",
    "- Understand the basics of `NumPy` arrays and how to perform operations on them.\n",
    "- Utilize `Pandas` DataFrames to organize, analyze, and manipulate tabular data.\n",
    "- Apply `NumPy` and `Pandas` in geospatial programming to process and analyze geospatial datasets.\n",
    "- Combine `NumPy` and `Pandas` to streamline data processing workflows.\n",
    "- Develop the ability to perform complex data operations, such as filtering, aggregating, and transforming geospatial data.\n",
    "\n",
    "## Introduction to NumPy\n",
    "\n",
    "`NumPy` (Numerical Python) is a library used for scientific computing. It provides support for large, multi-dimensional arrays and matrices, along with a collection of mathematical functions to operate on these arrays.\n",
    "\n",
    "### Creating NumPy Arrays\n",
    "\n",
    "Let's start by creating some basic `NumPy` arrays."
   ]
  },
  {
   "cell_type": "code",
   "execution_count": null,
   "metadata": {},
   "outputs": [],
   "source": [
    "import numpy as np"
   ]
  },
  {
   "cell_type": "code",
   "execution_count": null,
   "metadata": {},
   "outputs": [],
   "source": [
    "# Creating a 1D array\n",
    "arr_1d = np.array([1, 2, 3, 4, 5])\n",
    "print(f\"1D Array: {arr_1d}\")"
   ]
  },
  {
   "cell_type": "code",
   "execution_count": null,
   "metadata": {},
   "outputs": [],
   "source": [
    "# Creating a 2D array\n",
    "arr_2d = np.array([[1, 2, 3], [4, 5, 6]])\n",
    "print(f\"2D Array:\\n{arr_2d}\")"
   ]
  },
  {
   "cell_type": "code",
   "execution_count": null,
   "metadata": {},
   "outputs": [],
   "source": [
    "# Creating an array of zeros\n",
    "zeros = np.zeros((3, 3))\n",
    "print(f\"Array of zeros:\\n{zeros}\")"
   ]
  },
  {
   "cell_type": "code",
   "execution_count": null,
   "metadata": {},
   "outputs": [],
   "source": [
    "# Creating an array of ones\n",
    "ones = np.ones((2, 4))\n",
    "print(f\"Array of ones:\\n{ones}\")"
   ]
  },
  {
   "cell_type": "code",
   "execution_count": null,
   "metadata": {},
   "outputs": [],
   "source": [
    "# Creating an array with a range of values\n",
    "range_arr = np.arange(0, 10, 2)\n",
    "print(f\"Range Array: {range_arr}\")"
   ]
  },
  {
   "cell_type": "markdown",
   "metadata": {},
   "source": [
    "### Basic Array Operations\n",
    "\n",
    "`NumPy` allows you to perform element-wise operations on arrays."
   ]
  },
  {
   "cell_type": "code",
   "execution_count": null,
   "metadata": {},
   "outputs": [],
   "source": [
    "# Array addition\n",
    "arr_sum = arr_1d + 10\n",
    "print(f\"Array after addition: {arr_sum}\")"
   ]
  },
  {
   "cell_type": "code",
   "execution_count": null,
   "metadata": {},
   "outputs": [],
   "source": [
    "# Array multiplication\n",
    "arr_product = arr_1d * 2\n",
    "print(f\"Array after multiplication: {arr_product}\")"
   ]
  },
  {
   "cell_type": "code",
   "execution_count": null,
   "metadata": {},
   "outputs": [],
   "source": [
    "# Element-wise multiplication of two arrays\n",
    "arr_2d_product = arr_2d * np.array([1, 2, 3])\n",
    "print(f\"Element-wise multiplication of 2D array:\\n{arr_2d_product}\")"
   ]
  },
  {
   "cell_type": "markdown",
   "metadata": {},
   "source": [
    "### Working with Geospatial Coordinates\n",
    "\n",
    "You can use `NumPy` to perform calculations on arrays of geospatial coordinates, such as converting from degrees to radians."
   ]
  },
  {
   "cell_type": "code",
   "execution_count": null,
   "metadata": {},
   "outputs": [],
   "source": [
    "# Array of latitudes and longitudes\n",
    "coords = np.array([[35.6895, 139.6917], [34.0522, -118.2437], [51.5074, -0.1278]])\n",
    "\n",
    "# Convert degrees to radians\n",
    "coords_radians = np.radians(coords)\n",
    "print(f\"Coordinates in radians:\\n{coords_radians}\")"
   ]
  },
  {
   "cell_type": "markdown",
   "metadata": {},
   "source": [
    "## Introduction to Pandas\n",
    "\n",
    "`Pandas` is a powerful data manipulation library that provides data structures like Series and DataFrames to work with structured data. It is especially useful for handling tabular data.\n",
    "\n",
    "### Creating Pandas Series and DataFrames\n",
    "\n",
    "Let's create a `Pandas` Series and DataFrame."
   ]
  },
  {
   "cell_type": "code",
   "execution_count": null,
   "metadata": {},
   "outputs": [],
   "source": [
    "import pandas as pd"
   ]
  },
  {
   "cell_type": "code",
   "execution_count": null,
   "metadata": {},
   "outputs": [],
   "source": [
    "# Creating a Series\n",
    "city_series = pd.Series([\"Tokyo\", \"Los Angeles\", \"London\"], name=\"City\")\n",
    "print(f\"Pandas Series:\\n{city_series}\\n\")"
   ]
  },
  {
   "cell_type": "code",
   "execution_count": null,
   "metadata": {},
   "outputs": [],
   "source": [
    "# Creating a DataFrame\n",
    "data = {\n",
    "    \"City\": [\"Tokyo\", \"Los Angeles\", \"London\"],\n",
    "    \"Latitude\": [35.6895, 34.0522, 51.5074],\n",
    "    \"Longitude\": [139.6917, -118.2437, -0.1278],\n",
    "}\n",
    "df = pd.DataFrame(data)\n",
    "print(f\"Pandas DataFrame:\\n{df}\")"
   ]
  },
  {
   "cell_type": "code",
   "execution_count": null,
   "metadata": {},
   "outputs": [],
   "source": [
    "df"
   ]
  },
  {
   "cell_type": "markdown",
   "metadata": {},
   "source": [
    "### Basic DataFrame Operations\n",
    "\n",
    "You can perform various operations on `Pandas` DataFrames, such as filtering, selecting specific columns, and applying functions."
   ]
  },
  {
   "cell_type": "code",
   "execution_count": null,
   "metadata": {},
   "outputs": [],
   "source": [
    "# Selecting a specific column\n",
    "latitudes = df[\"Latitude\"]\n",
    "print(f\"Latitudes:\\n{latitudes}\\n\")"
   ]
  },
  {
   "cell_type": "code",
   "execution_count": null,
   "metadata": {},
   "outputs": [],
   "source": [
    "# Filtering rows based on a condition\n",
    "df_filtered = df[df[\"Longitude\"] < 0]\n",
    "df_filtered"
   ]
  },
  {
   "cell_type": "code",
   "execution_count": null,
   "metadata": {},
   "outputs": [],
   "source": [
    "# Adding a new column with a calculation\n",
    "df[\"Lat_Radians\"] = np.radians(df[\"Latitude\"])\n",
    "df"
   ]
  },
  {
   "cell_type": "markdown",
   "metadata": {},
   "source": [
    "### Analyzing Geospatial Data\n",
    "\n",
    "In this example, we analyze a dataset of cities, calculating the distance between each pair using the Haversine formula."
   ]
  },
  {
   "cell_type": "code",
   "execution_count": null,
   "metadata": {},
   "outputs": [],
   "source": [
    "# Define the Haversine formula using NumPy\n",
    "def haversine_np(lat1, lon1, lat2, lon2):\n",
    "    R = 6371.0  # Earth radius in kilometers\n",
    "    dlat = np.radians(lat2 - lat1)\n",
    "    dlon = np.radians(lon2 - lon1)\n",
    "    a = (\n",
    "        np.sin(dlat / 2) ** 2\n",
    "        + np.cos(np.radians(lat1)) * np.cos(np.radians(lat2)) * np.sin(dlon / 2) ** 2\n",
    "    )\n",
    "    c = 2 * np.arctan2(np.sqrt(a), np.sqrt(1 - a))\n",
    "    distance = R * c\n",
    "    return distance\n",
    "\n",
    "\n",
    "# Create a new DataFrame with city pairs\n",
    "city_pairs = pd.DataFrame(\n",
    "    {\n",
    "        \"City1\": [\"Tokyo\", \"Tokyo\", \"Los Angeles\"],\n",
    "        \"City2\": [\"Los Angeles\", \"London\", \"London\"],\n",
    "        \"Lat1\": [35.6895, 35.6895, 34.0522],\n",
    "        \"Lon1\": [139.6917, 139.6917, -118.2437],\n",
    "        \"Lat2\": [34.0522, 51.5074, 51.5074],\n",
    "        \"Lon2\": [-118.2437, -0.1278, -0.1278],\n",
    "    }\n",
    ")\n",
    "\n",
    "# Calculate distances between city pairs\n",
    "city_pairs[\"Distance_km\"] = haversine_np(\n",
    "    city_pairs[\"Lat1\"], city_pairs[\"Lon1\"], city_pairs[\"Lat2\"], city_pairs[\"Lon2\"]\n",
    ")\n",
    "city_pairs"
   ]
  },
  {
   "cell_type": "markdown",
   "metadata": {},
   "source": [
    "## Combining NumPy and Pandas\n",
    "\n",
    "You can combine `NumPy` and `Pandas` to perform complex data manipulations. For instance, you might want to apply `NumPy` functions to a `Pandas` DataFrame or use `Pandas` to organize and visualize the results of `NumPy` operations.\n",
    "\n",
    "Let's say you have a dataset of cities, and you want to calculate the average distance from each city to all other cities."
   ]
  },
  {
   "cell_type": "code",
   "execution_count": null,
   "metadata": {},
   "outputs": [],
   "source": [
    "# Define a function to calculate distances from a city to all other cities\n",
    "def calculate_average_distance(df):\n",
    "    lat1 = df[\"Latitude\"].values\n",
    "    lon1 = df[\"Longitude\"].values\n",
    "    lat2, lon2 = np.meshgrid(lat1, lon1)\n",
    "    distances = haversine_np(lat1, lon1, lat2, lon2)\n",
    "    avg_distances = np.mean(distances, axis=1)\n",
    "    return avg_distances\n",
    "\n",
    "\n",
    "# Apply the function to calculate average distances\n",
    "df[\"Avg_Distance_km\"] = calculate_average_distance(df)\n",
    "df"
   ]
  },
  {
   "cell_type": "markdown",
   "metadata": {},
   "source": [
    "Pandas can read and write data in various formats, such as CSV, Excel, and SQL databases. This makes it easy to load and save data from different sources. For example, you can read a CSV file into a Pandas DataFrame and then perform operations on the data.\n",
    "\n",
    "Let's read a CSV file from an HTTP URL into a Pandas DataFrame and display the first few rows of the data."
   ]
  },
  {
   "cell_type": "code",
   "execution_count": null,
   "metadata": {},
   "outputs": [],
   "source": [
    "url = \"https://github.com/opengeos/datasets/releases/download/world/world_cities.csv\"\n",
    "df = pd.read_csv(url)\n",
    "df.head()"
   ]
  },
  {
   "cell_type": "markdown",
   "metadata": {},
   "source": [
    "The DataFrame contains information about world cities, including their names, countries, populations, and geographical coordinates. We can calculate the total population of all cities in the dataset using NumPy and Pandas as follows."
   ]
  },
  {
   "cell_type": "code",
   "execution_count": null,
   "metadata": {},
   "outputs": [],
   "source": [
    "np.sum(df[\"population\"])"
   ]
  },
  {
   "cell_type": "markdown",
   "metadata": {},
   "source": [
    "## Exercises\n",
    "\n",
    "1. **Array Operations**: Create a `NumPy` array representing the elevations of various locations. Normalize the elevations (e.g., subtract the mean and divide by the standard deviation) and calculate the mean and standard deviation of the normalized array.\n",
    "2. **Data Analysis with Pandas**: Create a `Pandas` DataFrame from a CSV file containing geospatial data (e.g., cities and their coordinates). Filter the DataFrame to include only cities in the Northern Hemisphere and calculate the average latitude of these cities.\n",
    "3. **Combining NumPy and Pandas**: Using a dataset of geographic coordinates, create a `Pandas` DataFrame. Use `NumPy` to calculate the pairwise distances between all points and store the results in a new DataFrame."
   ]
  },
  {
   "cell_type": "code",
   "execution_count": null,
   "metadata": {},
   "outputs": [],
   "source": []
  },
  {
   "cell_type": "markdown",
   "metadata": {},
   "source": [
    "## Summary\n",
    "\n",
    "`NumPy` and `Pandas` are essential tools in geospatial programming, allowing you to efficiently manipulate and analyze numerical and tabular data. By mastering these libraries, you will be able to perform complex data operations, manage large datasets, and streamline your geospatial workflows."
   ]
  }
 ],
 "metadata": {
  "kernelspec": {
   "display_name": "Python 3",
   "language": "python",
   "name": "python3"
  },
  "language_info": {
   "codemirror_mode": {
    "name": "ipython",
    "version": 3
   },
   "file_extension": ".py",
   "mimetype": "text/x-python",
   "name": "python",
   "nbconvert_exporter": "python",
   "pygments_lexer": "ipython3",
   "version": "3.11.8"
  }
 },
 "nbformat": 4,
 "nbformat_minor": 4
}
