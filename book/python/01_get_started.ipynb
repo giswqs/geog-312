{
 "cells": [
  {
   "cell_type": "markdown",
   "id": "0",
   "metadata": {},
   "source": [
    "# Get Started\n",
    "\n",
    "[![Open In Colab](https://colab.research.google.com/assets/colab-badge.svg)](https://colab.research.google.com/github/giswqs/geog-312/blob/main/book/python/01_get_started.ipynb)\n",
    "\n",
    "There are multiple ways to run Jupyter notebooks. You can either run them locally on your machine or use an online service like Google Colab or Binder."
   ]
  },
  {
   "cell_type": "code",
   "execution_count": null,
   "id": "1",
   "metadata": {},
   "outputs": [],
   "source": [
    "print(\"Hello, Python!\")"
   ]
  },
  {
   "cell_type": "markdown",
   "id": "2",
   "metadata": {},
   "source": [
    "## Using Google Colab\n",
    "\n",
    "Google Colab is a free online service that allows you to run Jupyter notebooks in the cloud. You can access it by visiting [colab.research.google.com](https://colab.research.google.com/).\n",
    "\n",
    "To run a Jupyter notebook from this course in Google Colab, hover the mouse over the rocket icon in the top right corner of the notebook and click on the \"Colab\" link to open the notebook in Google Colab.\n",
    "\n",
    "![image](https://github.com/user-attachments/assets/65e9c75a-5e45-4021-b8c2-a383467a80b7)\n",
    "\n",
    "## Using Binder\n",
    "\n",
    "Binder is another free online service that allows you to run Jupyter notebooks in the cloud. You can access it by visiting [mybinder.org](https://mybinder.org/).\n",
    "\n",
    "To run a Jupyter notebook from this course in Binder, hover the mouse over the rocket icon in the top right corner of the notebook and click on the \"Binder\" link to open the notebook in Binder.\n",
    "\n",
    "![image](https://github.com/user-attachments/assets/65c5ea68-4bf4-45c0-94cc-7e59ec8498e9)\n",
    "\n",
    "## Running Locally\n",
    "\n",
    "To run Jupyter notebooks locally on your machine, you need to have JupyterLab installed. You can install it using the following command:\n",
    "\n",
    "```bash\n",
    "pip install jupyterlab\n",
    "```\n",
    "\n",
    "Once you have JupyterLab installed, you can run it by executing the following command in your terminal:\n",
    "\n",
    "```bash\n",
    "jupyter lab\n",
    "```\n",
    "\n",
    "This will open JupyterLab in your default web browser, where you can navigate to the notebook you want to run.\n",
    "\n",
    "![image](https://github.com/user-attachments/assets/51863486-0881-470d-a960-990c762cd6bb)"
   ]
  }
 ],
 "metadata": {
  "kernelspec": {
   "display_name": "Python 3",
   "language": "python",
   "name": "python3"
  },
  "language_info": {
   "codemirror_mode": {
    "name": "ipython",
    "version": 3
   },
   "file_extension": ".py",
   "mimetype": "text/x-python",
   "name": "python",
   "nbconvert_exporter": "python",
   "pygments_lexer": "ipython3",
   "version": "3.11.8"
  }
 },
 "nbformat": 4,
 "nbformat_minor": 5
}
