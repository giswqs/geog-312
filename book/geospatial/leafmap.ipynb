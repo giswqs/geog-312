{
 "cells": [
  {
   "cell_type": "markdown",
   "id": "0",
   "metadata": {},
   "source": [
    "# Leafmap\n",
    "\n",
    "[![Open In Colab](https://colab.research.google.com/assets/colab-badge.svg)](https://colab.research.google.com/github/giswqs/geog-312/blob/main/book/geospatial/leafmap.ipynb)\n",
    "\n",
    "\n",
    "## Overview\n",
    "\n",
    "This lecture offers a comprehensive introduction to [Leafmap](https://leafmap.org), a powerful, open-source Python package for creating, managing, and analyzing interactive geospatial maps. Leafmap simplifies working with geospatial data by providing a high-level, Pythonic interface that integrates seamlessly with Jupyter environments, such as Google Colab, Jupyter Notebook, and JupyterLab.\n",
    "\n",
    "Built on top of several well-established libraries like [folium](https://python-visualization.github.io/folium), [ipyleaflet](https://ipyleaflet.readthedocs.io), [maplibre](https://eodagmbh.github.io/py-maplibregl), [bokeh](https://docs.bokeh.org/en/latest/docs/user_guide/topics/geo.html), [pydeck](https://deckgl.readthedocs.io), [kepler.gl](https://docs.kepler.gl/docs/keplergl-jupyter), and [plotly](https://plotly.com/python/maps), Leafmap extends their functionalities with a unified API. This extension streamlines the process of visualizing and analyzing geospatial data interactively, minimizing the amount of coding required.\n",
    "\n",
    "In this lecture, we will explore Leafmap’s key features, including how to create interactive maps, add and customize basemaps, visualize both vector and raster data, and edit vector layers. Each section provides practical examples and guidance essential for using Leafmap effectively in GIS programming tasks.\n",
    "\n",
    "## Learning Objectives\n",
    "\n",
    "By the end of this lecture, you will be able to:\n",
    "- Create and customize interactive maps using Leafmap.\n",
    "- Add and configure different basemap layers.\n",
    "- Visualize and style vector and raster geospatial data.\n",
    "- Edit vector data directly on interactive maps.\n",
    "- Search for open geospatial datasets and incorporate them into your maps."
   ]
  },
  {
   "cell_type": "markdown",
   "id": "1",
   "metadata": {},
   "source": [
    "## Install leafmap\n",
    "\n",
    "To install Leafmap, uncomment the following line and run the cell."
   ]
  },
  {
   "cell_type": "code",
   "execution_count": null,
   "id": "2",
   "metadata": {},
   "outputs": [],
   "source": [
    "# %pip install -U leafmap"
   ]
  },
  {
   "cell_type": "markdown",
   "id": "3",
   "metadata": {},
   "source": [
    "## Import libraries\n",
    "\n",
    "To get started, import the necessary libraries."
   ]
  },
  {
   "cell_type": "code",
   "execution_count": null,
   "id": "4",
   "metadata": {},
   "outputs": [],
   "source": [
    "import leafmap"
   ]
  },
  {
   "cell_type": "markdown",
   "id": "5",
   "metadata": {},
   "source": [
    "Leafmap supports multiple plotting backends, including `folium`, `ipyleaflet`, `maplibre`, `bokeh`, `pydeck`, `keplergl`, and `plotly`. The default plotting backend is `ipyleaflet`, offering the most extensive features.\n",
    "\n",
    "To switch the plotting backend, uncomment one of the following lines and run the cell:"
   ]
  },
  {
   "cell_type": "code",
   "execution_count": null,
   "id": "6",
   "metadata": {},
   "outputs": [],
   "source": [
    "# import leafmap.foliumap as leafmap\n",
    "# import leafmap.bokehmap as leafmap\n",
    "# import leafmap.maplibregl as leafmap\n",
    "# import leafmap.deck as leafmap\n",
    "# import leafmap.kepler as leafmap\n",
    "# import leafmap.plotlymap as leafmap"
   ]
  },
  {
   "cell_type": "markdown",
   "id": "7",
   "metadata": {},
   "source": [
    "## Creating interactive maps\n",
    "\n",
    "Leafmap provides a high-level, Pythonic interface for creating interactive maps. You can create a basic interactive map by calling the `Map` function. The default basemap is `OpenStreetMap`."
   ]
  },
  {
   "cell_type": "code",
   "execution_count": null,
   "id": "8",
   "metadata": {},
   "outputs": [],
   "source": [
    "m = leafmap.Map()\n",
    "m"
   ]
  },
  {
   "cell_type": "markdown",
   "id": "9",
   "metadata": {},
   "source": [
    "### Customizing the Map\n",
    "\n",
    "You can customize the map's center, zoom level, and height. The `center` takes a tuple of latitude and longitude, `zoom` is an integer, and `height` specifies the map height in pixels. The example below centers the map on the U.S. with a zoom level of 4 and a height of 600 pixels:"
   ]
  },
  {
   "cell_type": "code",
   "execution_count": null,
   "id": "10",
   "metadata": {},
   "outputs": [],
   "source": [
    "m = leafmap.Map(center=(40, -100), zoom=4, height=\"600px\")\n",
    "m"
   ]
  },
  {
   "cell_type": "markdown",
   "id": "11",
   "metadata": {},
   "source": [
    "### Adding or Removing Controls\n",
    "\n",
    "By default, the map includes controls such as zoom, fullscreen, scale, attribution, and toolbar. You can toggle these controls using parameters like `zoom_control`, `fullscreen_control`, `scale_control`, `attribution_control`, and `toolbar_control` parameters to `True` or `False`. The example below disables all controls:"
   ]
  },
  {
   "cell_type": "code",
   "execution_count": null,
   "id": "12",
   "metadata": {},
   "outputs": [],
   "source": [
    "m = leafmap.Map(\n",
    "    zoom_control=False,\n",
    "    draw_control=False,\n",
    "    scale_control=False,\n",
    "    fullscreen_control=False,\n",
    "    attribution_control=False,\n",
    "    toolbar_control=False,\n",
    ")\n",
    "m"
   ]
  },
  {
   "cell_type": "markdown",
   "id": "13",
   "metadata": {},
   "source": [
    "To add a search control to the map, use the `m.add_search_control()` method. The search control allows users to search for places and zoom to them. The example below adds a search control to the map:"
   ]
  },
  {
   "cell_type": "code",
   "execution_count": null,
   "id": "14",
   "metadata": {},
   "outputs": [],
   "source": [
    "url = \"https://nominatim.openstreetmap.org/search?format=json&q={s}\"\n",
    "m.add_search_control(url, zoom=10, position=\"topleft\")"
   ]
  },
  {
   "cell_type": "markdown",
   "id": "15",
   "metadata": {},
   "source": [
    "### Working with Layers\n",
    "\n",
    "You can access the layers on the map using the `layers` attribute:"
   ]
  },
  {
   "cell_type": "code",
   "execution_count": null,
   "id": "16",
   "metadata": {},
   "outputs": [],
   "source": [
    "m.layers"
   ]
  },
  {
   "cell_type": "markdown",
   "id": "17",
   "metadata": {},
   "source": [
    "To add or remove layers, use the `add` and `remove` methods. For example, to remove the last layer:"
   ]
  },
  {
   "cell_type": "code",
   "execution_count": null,
   "id": "18",
   "metadata": {},
   "outputs": [],
   "source": [
    "m.remove(m.layers[-1])"
   ]
  },
  {
   "cell_type": "markdown",
   "id": "19",
   "metadata": {},
   "source": [
    "### Clearing Controls and Layers\n",
    "\n",
    "You can clear all controls and layers from the map with `clear_controls` and `clear_layers` methods. First, create a map:"
   ]
  },
  {
   "cell_type": "code",
   "execution_count": null,
   "id": "20",
   "metadata": {},
   "outputs": [],
   "source": [
    "m = leafmap.Map()\n",
    "m"
   ]
  },
  {
   "cell_type": "markdown",
   "id": "21",
   "metadata": {},
   "source": [
    "Then, remove all controls:"
   ]
  },
  {
   "cell_type": "code",
   "execution_count": null,
   "id": "22",
   "metadata": {},
   "outputs": [],
   "source": [
    "m.clear_controls()"
   ]
  },
  {
   "cell_type": "markdown",
   "id": "23",
   "metadata": {},
   "source": [
    "And clear all layers:"
   ]
  },
  {
   "cell_type": "code",
   "execution_count": null,
   "id": "24",
   "metadata": {},
   "outputs": [],
   "source": [
    "m.clear_layers()"
   ]
  },
  {
   "cell_type": "markdown",
   "id": "25",
   "metadata": {},
   "source": [
    "## Changing Basemaps\n",
    "\n",
    "You can easily change the basemap of a map. For example, the following code adds the `OpenTopoMap` basemap:"
   ]
  },
  {
   "cell_type": "code",
   "execution_count": null,
   "id": "26",
   "metadata": {},
   "outputs": [],
   "source": [
    "m = leafmap.Map()\n",
    "m.add_basemap(\"OpenTopoMap\")\n",
    "m"
   ]
  },
  {
   "cell_type": "markdown",
   "id": "27",
   "metadata": {},
   "source": [
    "To change basemap interactively, add the `basemap` control to the map with the `add_basemap_gui()` method:"
   ]
  },
  {
   "cell_type": "code",
   "execution_count": null,
   "id": "28",
   "metadata": {},
   "outputs": [],
   "source": [
    "m = leafmap.Map()\n",
    "m.add_basemap_gui()\n",
    "m"
   ]
  },
  {
   "cell_type": "markdown",
   "id": "29",
   "metadata": {},
   "source": [
    "### Adding an XYZ Tile Layer\n",
    "\n",
    "To add custom XYZ tile layers, you can use the `add_tile_layer()` method. The example below adds a Google Satellite layer using an XYZ URL template:"
   ]
  },
  {
   "cell_type": "code",
   "execution_count": null,
   "id": "30",
   "metadata": {},
   "outputs": [],
   "source": [
    "m = leafmap.Map()\n",
    "m.add_tile_layer(\n",
    "    url=\"https://mt1.google.com/vt/lyrs=y&x={x}&y={y}&z={z}\",\n",
    "    name=\"Google Satellite\",\n",
    "    attribution=\"Google\",\n",
    ")\n",
    "m"
   ]
  },
  {
   "cell_type": "markdown",
   "id": "31",
   "metadata": {},
   "source": [
    "### Adding a WMS Tile Layer\n",
    "\n",
    "Web Map Service (WMS) layers can be added using the `add_wms_layer()` method. The following code adds a WMS layer of NAIP Imagery from the USGS, centered on the U.S. with a zoom level of 4:"
   ]
  },
  {
   "cell_type": "code",
   "execution_count": null,
   "id": "32",
   "metadata": {},
   "outputs": [],
   "source": [
    "m = leafmap.Map(center=[40, -100], zoom=4)\n",
    "url = \"https://imagery.nationalmap.gov/arcgis/services/USGSNAIPImagery/ImageServer/WMSServer?\"\n",
    "m.add_wms_layer(\n",
    "    url=url,\n",
    "    layers=\"USGSNAIPImagery:FalseColorComposite\",\n",
    "    name=\"NAIP\",\n",
    "    attribution=\"USGS\",\n",
    "    format=\"image/png\",\n",
    "    shown=True,\n",
    ")\n",
    "m"
   ]
  },
  {
   "cell_type": "markdown",
   "id": "33",
   "metadata": {},
   "source": [
    "### Adding a Legend to a Map\n",
    "\n",
    "To provide better context for the data layers, you can add a legend to your map. In this example, we add a WMS layer displaying the 2021 NLCD land cover data and a corresponding legend to explain the land cover types:"
   ]
  },
  {
   "cell_type": "code",
   "execution_count": null,
   "id": "34",
   "metadata": {},
   "outputs": [],
   "source": [
    "m = leafmap.Map(center=[40, -100], zoom=4)\n",
    "m.add_basemap(\"Esri.WorldImagery\")\n",
    "url = \"https://www.mrlc.gov/geoserver/mrlc_display/NLCD_2021_Land_Cover_L48/wms?\"\n",
    "m.add_wms_layer(\n",
    "    url=url,\n",
    "    layers=\"NLCD_2021_Land_Cover_L48\",\n",
    "    name=\"NLCD 2021\",\n",
    "    attribution=\"MRLC\",\n",
    "    format=\"image/png\",\n",
    "    shown=True,\n",
    ")\n",
    "m.add_legend(title=\"NLCD Land Cover Type\", builtin_legend=\"NLCD\")\n",
    "m"
   ]
  },
  {
   "cell_type": "markdown",
   "id": "35",
   "metadata": {},
   "source": [
    "### Adding a Colorbar to Visualize Data\n",
    "\n",
    "If you need to visualize continuous data like elevation, you can add a colorbar to the map. The example below shows how to add a colorbar with a terrain colormap for elevation, ranging from 0 to 4000 meters:"
   ]
  },
  {
   "cell_type": "code",
   "execution_count": null,
   "id": "36",
   "metadata": {},
   "outputs": [],
   "source": [
    "m = leafmap.Map()\n",
    "m.add_basemap(\"OpenTopoMap\")\n",
    "m.add_colormap(\n",
    "    \"terrain\",\n",
    "    label=\"Elevation\",\n",
    "    orientation=\"horizontal\",\n",
    "    vmin=0,\n",
    "    vmax=4000,\n",
    ")\n",
    "m"
   ]
  },
  {
   "cell_type": "markdown",
   "id": "37",
   "metadata": {},
   "source": [
    "Each of these sections demonstrates different features of the Leafmap library, allowing you to customize maps by adding basemaps, XYZ tiles, WMS layers, legends, and colorbars to enhance map visualization."
   ]
  },
  {
   "cell_type": "markdown",
   "id": "38",
   "metadata": {},
   "source": [
    "## Visualizing Vector Data\n",
    "\n",
    "Leafmap makes it easy to visualize various vector data formats such as GeoJSON, Shapefile, GeoPackage, and others supported by [GeoPandas](https://geopandas.org). The following examples demonstrate different ways to add vector data to your map.\n",
    "\n",
    "\n",
    "### Adding a Marker\n",
    "\n",
    "You can add individual markers to the map at specific locations. In this example, a draggable marker is placed at the given latitude and longitude."
   ]
  },
  {
   "cell_type": "code",
   "execution_count": null,
   "id": "39",
   "metadata": {},
   "outputs": [],
   "source": [
    "m = leafmap.Map()\n",
    "location = [40, -100]\n",
    "m.add_marker(location, draggable=True)\n",
    "m"
   ]
  },
  {
   "cell_type": "markdown",
   "id": "40",
   "metadata": {},
   "source": [
    "### Adding Multiple Markers\n",
    "\n",
    "To add multiple markers at once, use the `add_markers()` method. This example places markers at three different locations:"
   ]
  },
  {
   "cell_type": "code",
   "execution_count": null,
   "id": "41",
   "metadata": {},
   "outputs": [],
   "source": [
    "m = leafmap.Map()\n",
    "m.add_markers(markers=[[40, -100], [45, -110], [50, -120]])\n",
    "m"
   ]
  },
  {
   "cell_type": "markdown",
   "id": "42",
   "metadata": {},
   "source": [
    "### Adding Marker Clusters\n",
    "\n",
    "For a large number of points, you can group them into clusters. This method reduces map clutter by aggregating nearby points. The example below uses a CSV file of world cities to create marker clusters:"
   ]
  },
  {
   "cell_type": "code",
   "execution_count": null,
   "id": "43",
   "metadata": {},
   "outputs": [],
   "source": [
    "m = leafmap.Map()\n",
    "url = \"https://github.com/opengeos/datasets/releases/download/world/world_cities.csv\"\n",
    "m.add_marker_cluster(url, x=\"longitude\", y=\"latitude\", layer_name=\"World cities\")\n",
    "m"
   ]
  },
  {
   "cell_type": "markdown",
   "id": "44",
   "metadata": {},
   "source": [
    "### Customizing Markers\n",
    "\n",
    "Markers can be customized with colors, icons, and labels. The following example customizes points from a CSV file of U.S. cities, using different icons and adding a legend:"
   ]
  },
  {
   "cell_type": "code",
   "execution_count": null,
   "id": "45",
   "metadata": {},
   "outputs": [],
   "source": [
    "m = leafmap.Map(center=[40, -100], zoom=4)\n",
    "cities = \"https://github.com/opengeos/datasets/releases/download/us/cities.csv\"\n",
    "regions = \"https://github.com/opengeos/datasets/releases/download/us/us_regions.geojson\"\n",
    "m.add_geojson(regions, layer_name=\"US Regions\")\n",
    "m.add_points_from_xy(\n",
    "    cities,\n",
    "    x=\"longitude\",\n",
    "    y=\"latitude\",\n",
    "    color_column=\"region\",\n",
    "    icon_names=[\"gear\", \"map\", \"leaf\", \"globe\"],\n",
    "    spin=True,\n",
    "    add_legend=True,\n",
    ")\n",
    "m"
   ]
  },
  {
   "cell_type": "markdown",
   "id": "46",
   "metadata": {},
   "source": [
    "### Visualizing Polylines\n",
    "\n",
    "Polyline visualization is useful for displaying linear features such as roads or pipelines. In this example, a GeoJSON file containing submarine cable lines is added to the map:"
   ]
  },
  {
   "cell_type": "code",
   "execution_count": null,
   "id": "47",
   "metadata": {},
   "outputs": [],
   "source": [
    "m = leafmap.Map(center=[20, 0], zoom=2)\n",
    "data = \"https://github.com/opengeos/datasets/releases/download/vector/cables.geojson\"\n",
    "m.add_vector(data, layer_name=\"Cable lines\", info_mode=\"on_hover\")\n",
    "m"
   ]
  },
  {
   "cell_type": "markdown",
   "id": "48",
   "metadata": {},
   "source": [
    "#### Customizing Polyline Styles\n",
    "\n",
    "You can further customize polylines with a style callback function. This example dynamically changes the color and weight of each polyline based on its properties:"
   ]
  },
  {
   "cell_type": "code",
   "execution_count": null,
   "id": "49",
   "metadata": {},
   "outputs": [],
   "source": [
    "m = leafmap.Map(center=[20, 0], zoom=2)\n",
    "m.add_basemap(\"CartoDB.DarkMatter\")\n",
    "data = \"https://github.com/opengeos/datasets/releases/download/vector/cables.geojson\"\n",
    "callback = lambda feat: {\"color\": feat[\"properties\"][\"color\"], \"weight\": 1}\n",
    "m.add_vector(data, layer_name=\"Cable lines\", style_callback=callback)\n",
    "m"
   ]
  },
  {
   "cell_type": "markdown",
   "id": "50",
   "metadata": {},
   "source": [
    "### Visualizing Polygons\n",
    "\n",
    "To visualize polygon features, you can use the `add_vector()` method. In this example, a GeoJSON file of New York City buildings is added and the map automatically zooms to the layer's extent:"
   ]
  },
  {
   "cell_type": "code",
   "execution_count": null,
   "id": "51",
   "metadata": {},
   "outputs": [],
   "source": [
    "m = leafmap.Map()\n",
    "url = \"https://github.com/opengeos/datasets/releases/download/places/nyc_buildings.geojson\"\n",
    "m.add_vector(url, layer_name=\"NYC Buildings\", zoom_to_layer=True)\n",
    "m"
   ]
  },
  {
   "cell_type": "markdown",
   "id": "52",
   "metadata": {},
   "source": [
    "### Visualizing GeoPandas GeoDataFrames\n",
    "\n",
    "You can directly visualize GeoPandas GeoDataFrames on the map. In this example, a GeoDataFrame containing building footprints from Las Vegas is displayed with custom styling:"
   ]
  },
  {
   "cell_type": "code",
   "execution_count": null,
   "id": "53",
   "metadata": {},
   "outputs": [],
   "source": [
    "import geopandas as gpd"
   ]
  },
  {
   "cell_type": "code",
   "execution_count": null,
   "id": "54",
   "metadata": {},
   "outputs": [],
   "source": [
    "url = \"https://github.com/opengeos/datasets/releases/download/places/las_vegas_buildings.geojson\"\n",
    "gdf = gpd.read_file(url)\n",
    "gdf.head()"
   ]
  },
  {
   "cell_type": "markdown",
   "id": "55",
   "metadata": {},
   "source": [
    "You can use the GeoDataFrame.explore() method to visualize the data interactively, which utilizes the folium library. The example below displays the building footprints interactively:"
   ]
  },
  {
   "cell_type": "code",
   "execution_count": null,
   "id": "56",
   "metadata": {},
   "outputs": [],
   "source": [
    "gdf.explore()"
   ]
  },
  {
   "cell_type": "markdown",
   "id": "57",
   "metadata": {},
   "source": [
    "To display the GeoDataFrame using Leaflet, use the `add_gdf()` method. The following code adds the building footprints to the map:"
   ]
  },
  {
   "cell_type": "code",
   "execution_count": null,
   "id": "58",
   "metadata": {},
   "outputs": [],
   "source": [
    "m = leafmap.Map()\n",
    "m.add_basemap(\"HYBRID\")\n",
    "style = {\"color\": \"red\", \"fillColor\": \"red\", \"fillOpacity\": 0.1, \"weight\": 2}\n",
    "m.add_gdf(gdf, style=style, layer_name=\"Las Vegas Buildings\", zoom_to_layer=True)\n",
    "m"
   ]
  },
  {
   "cell_type": "markdown",
   "id": "59",
   "metadata": {},
   "source": [
    "## Creating Choropleth Maps\n",
    "\n",
    "Choropleth maps are useful for visualizing data distributions. The add_data() method allows you to create choropleth maps from various vector formats. Below is an example that visualizes population data using the \"Quantiles\" classification scheme:"
   ]
  },
  {
   "cell_type": "code",
   "execution_count": null,
   "id": "60",
   "metadata": {},
   "outputs": [],
   "source": [
    "m = leafmap.Map()\n",
    "data = \"https://raw.githubusercontent.com/opengeos/leafmap/master/docs/data/countries.geojson\"\n",
    "m.add_data(\n",
    "    data, column=\"POP_EST\", scheme=\"Quantiles\", cmap=\"Blues\", legend_title=\"Population\"\n",
    ")\n",
    "m"
   ]
  },
  {
   "cell_type": "markdown",
   "id": "61",
   "metadata": {},
   "source": [
    "You can also use different classification schemes like \"EqualInterval\" for different data visualizations:"
   ]
  },
  {
   "cell_type": "code",
   "execution_count": null,
   "id": "62",
   "metadata": {},
   "outputs": [],
   "source": [
    "m = leafmap.Map()\n",
    "m.add_data(\n",
    "    data,\n",
    "    column=\"POP_EST\",\n",
    "    scheme=\"EqualInterval\",\n",
    "    cmap=\"Blues\",\n",
    "    legend_title=\"Population\",\n",
    ")\n",
    "m"
   ]
  },
  {
   "cell_type": "markdown",
   "id": "63",
   "metadata": {},
   "source": [
    "## Visualizing GeoParquet Data\n",
    "\n",
    "[GeoParquet](https://geoparquet.org) is a columnar format for geospatial data that allows efficient storage and retrieval. The following example demonstrates how to download, read, and visualize GeoParquet files using GeoPandas and Leafmap.\n",
    "\n",
    "### Loading and Visualizing Point Data\n",
    "\n",
    "First, import the necessary libraries:"
   ]
  },
  {
   "cell_type": "code",
   "execution_count": null,
   "id": "64",
   "metadata": {},
   "outputs": [],
   "source": [
    "import geopandas as gpd"
   ]
  },
  {
   "cell_type": "markdown",
   "id": "65",
   "metadata": {},
   "source": [
    "Download and load a GeoParquet file containing city data:"
   ]
  },
  {
   "cell_type": "code",
   "execution_count": null,
   "id": "66",
   "metadata": {},
   "outputs": [],
   "source": [
    "url = \"https://open.gishub.org/data/duckdb/cities.parquet\"\n",
    "filename = \"cities.parquet\"\n",
    "leafmap.download_file(url, filename, quiet=True)"
   ]
  },
  {
   "cell_type": "markdown",
   "id": "67",
   "metadata": {},
   "source": [
    "Read the GeoParquet file into a GeoDataFrame and preview the first few rows:"
   ]
  },
  {
   "cell_type": "code",
   "execution_count": null,
   "id": "68",
   "metadata": {},
   "outputs": [],
   "source": [
    "gdf = gpd.read_parquet(filename)\n",
    "gdf.head()"
   ]
  },
  {
   "cell_type": "markdown",
   "id": "69",
   "metadata": {},
   "source": [
    "You can use `GeoDataFrame.explore()` to visualize the data interactively:"
   ]
  },
  {
   "cell_type": "code",
   "execution_count": null,
   "id": "70",
   "metadata": {},
   "outputs": [],
   "source": [
    "gdf.explore()"
   ]
  },
  {
   "cell_type": "markdown",
   "id": "71",
   "metadata": {},
   "source": [
    "Alternatively, you can add the data to a Leafmap interactive map and plot the points by specifying their latitude and longitude:"
   ]
  },
  {
   "cell_type": "code",
   "execution_count": null,
   "id": "72",
   "metadata": {},
   "outputs": [],
   "source": [
    "m = leafmap.Map()\n",
    "m.add_points_from_xy(gdf, x=\"longitude\", y=\"latitude\")\n",
    "m"
   ]
  },
  {
   "cell_type": "markdown",
   "id": "73",
   "metadata": {},
   "source": [
    "### Visualizing Polygon Data\n",
    "\n",
    "For polygon data, such as wetlands, you can follow a similar process. Start by downloading the GeoParquet file containing wetland polygons:"
   ]
  },
  {
   "cell_type": "code",
   "execution_count": null,
   "id": "74",
   "metadata": {},
   "outputs": [],
   "source": [
    "url = \"https://data.source.coop/giswqs/nwi/wetlands/DC_Wetlands.parquet\"\n",
    "filename = \"DC_Wetlands.parquet\"\n",
    "leafmap.download_file(url, filename, quiet=True)"
   ]
  },
  {
   "cell_type": "markdown",
   "id": "75",
   "metadata": {},
   "source": [
    "Load the data into a GeoDataFrame and check its coordinate reference system (CRS):"
   ]
  },
  {
   "cell_type": "code",
   "execution_count": null,
   "id": "76",
   "metadata": {},
   "outputs": [],
   "source": [
    "gdf = gpd.read_parquet(filename)\n",
    "gdf.head()"
   ]
  },
  {
   "cell_type": "code",
   "execution_count": null,
   "id": "77",
   "metadata": {},
   "outputs": [],
   "source": [
    "gdf.crs"
   ]
  },
  {
   "cell_type": "markdown",
   "id": "78",
   "metadata": {},
   "source": [
    "You can visualize the polygon data directly using `explore()` with folium:"
   ]
  },
  {
   "cell_type": "code",
   "execution_count": null,
   "id": "79",
   "metadata": {},
   "outputs": [],
   "source": [
    "gdf.explore()"
   ]
  },
  {
   "cell_type": "markdown",
   "id": "80",
   "metadata": {},
   "source": [
    "For visualization with Leafmap, use the following code to add the polygons to the map with the \"Satellite\" basemap:"
   ]
  },
  {
   "cell_type": "code",
   "execution_count": null,
   "id": "81",
   "metadata": {},
   "outputs": [],
   "source": [
    "m = leafmap.Map()\n",
    "m.add_basemap(\"Satellite\")\n",
    "m.add_nwi(gdf, col_name=\"WETLAND_TYPE\", zoom_to_layer=True)\n",
    "m"
   ]
  },
  {
   "cell_type": "markdown",
   "id": "82",
   "metadata": {},
   "source": [
    "## Visualizing PMTiles\n",
    "\n",
    "[PMTiles](https://github.com/protomaps/PMTiles) is a single-file archive format for tiled data that enables efficient, serverless map applications. PMTiles archives can be hosted on platforms like S3 and allow low-cost, scalable map hosting without the need for custom servers.\n",
    "\n",
    "### Retrieving Metadata from PMTiles\n",
    "\n",
    "To visualize PMTiles data, first retrieve metadata such as available layers and bounds. Here’s an example using a PMTiles archive of Florence, Italy:"
   ]
  },
  {
   "cell_type": "code",
   "execution_count": null,
   "id": "83",
   "metadata": {},
   "outputs": [],
   "source": [
    "url = \"https://open.gishub.org/data/pmtiles/protomaps_firenze.pmtiles\"\n",
    "metadata = leafmap.pmtiles_metadata(url)\n",
    "print(f\"layer names: {metadata['layer_names']}\")\n",
    "print(f\"bounds: {metadata['bounds']}\")"
   ]
  },
  {
   "cell_type": "markdown",
   "id": "84",
   "metadata": {},
   "source": [
    "### Visualizing PMTiles Data\n",
    "\n",
    "You can add PMTiles layers to a Leafmap map by specifying the tile source and defining a custom style. The style specifies how different vector layers, such as buildings and roads, should be rendered:"
   ]
  },
  {
   "cell_type": "code",
   "execution_count": null,
   "id": "85",
   "metadata": {},
   "outputs": [],
   "source": [
    "m = leafmap.Map()\n",
    "\n",
    "style = {\n",
    "    \"version\": 8,\n",
    "    \"sources\": {\n",
    "        \"example_source\": {\n",
    "            \"type\": \"vector\",\n",
    "            \"url\": \"pmtiles://\" + url,\n",
    "            \"attribution\": \"PMTiles\",\n",
    "        }\n",
    "    },\n",
    "    \"layers\": [\n",
    "        {\n",
    "            \"id\": \"buildings\",\n",
    "            \"source\": \"example_source\",\n",
    "            \"source-layer\": \"landuse\",\n",
    "            \"type\": \"fill\",\n",
    "            \"paint\": {\"fill-color\": \"steelblue\"},\n",
    "        },\n",
    "        {\n",
    "            \"id\": \"roads\",\n",
    "            \"source\": \"example_source\",\n",
    "            \"source-layer\": \"roads\",\n",
    "            \"type\": \"line\",\n",
    "            \"paint\": {\"line-color\": \"black\"},\n",
    "        },\n",
    "    ],\n",
    "}\n",
    "\n",
    "# style = leafmap.pmtiles_style(url)  # Use default style\n",
    "\n",
    "m.add_pmtiles(\n",
    "    url, name=\"PMTiles\", style=style, overlay=True, show=True, zoom_to_layer=True\n",
    ")\n",
    "m"
   ]
  },
  {
   "cell_type": "markdown",
   "id": "86",
   "metadata": {},
   "source": [
    "### Visualizing Open Buildings Data with PMTiles\n",
    "\n",
    "You can also visualize large datasets like the [Google-Microsoft Open Buildings data](https://beta.source.coop/repositories/vida/google-microsoft-open-buildings/description) hosted on Source Cooperative. First, check the PMTiles metadata for the building footprints layer:"
   ]
  },
  {
   "cell_type": "code",
   "execution_count": null,
   "id": "87",
   "metadata": {},
   "outputs": [],
   "source": [
    "url = \"https://data.source.coop/vida/google-microsoft-open-buildings/pmtiles/go_ms_building_footprints.pmtiles\"\n",
    "metadata = leafmap.pmtiles_metadata(url)\n",
    "print(f\"layer names: {metadata['layer_names']}\")\n",
    "print(f\"bounds: {metadata['bounds']}\")"
   ]
  },
  {
   "cell_type": "markdown",
   "id": "88",
   "metadata": {},
   "source": [
    "Now, visualize the building footprints using a custom style for the fill color and opacity:"
   ]
  },
  {
   "cell_type": "code",
   "execution_count": null,
   "id": "89",
   "metadata": {},
   "outputs": [],
   "source": [
    "m = leafmap.Map(center=[20, 0], zoom=2)\n",
    "m.add_basemap(\"CartoDB.DarkMatter\")\n",
    "m.add_basemap(\"Esri.WorldImagery\", show=False)\n",
    "\n",
    "style = {\n",
    "    \"version\": 8,\n",
    "    \"sources\": {\n",
    "        \"example_source\": {\n",
    "            \"type\": \"vector\",\n",
    "            \"url\": \"pmtiles://\" + url,\n",
    "            \"attribution\": \"PMTiles\",\n",
    "        }\n",
    "    },\n",
    "    \"layers\": [\n",
    "        {\n",
    "            \"id\": \"buildings\",\n",
    "            \"source\": \"example_source\",\n",
    "            \"source-layer\": \"building_footprints\",\n",
    "            \"type\": \"fill\",\n",
    "            \"paint\": {\"fill-color\": \"#3388ff\", \"fill-opacity\": 0.5},\n",
    "        },\n",
    "    ],\n",
    "}\n",
    "\n",
    "m.add_pmtiles(\n",
    "    url, name=\"Buildings\", style=style, overlay=True, show=True, zoom_to_layer=False\n",
    ")\n",
    "\n",
    "m"
   ]
  },
  {
   "cell_type": "markdown",
   "id": "90",
   "metadata": {},
   "source": [
    "### Visualizing Overture Maps Data\n",
    "\n",
    "[Overture](https://overturemaps.org) Maps Foundation provides open-source, high-quality basemaps for web mapping applications. You can visualize Overture Maps data using PMTiles archives. The following example demonstrates how to visualize the building footprints layer from the Overture Maps. For more information, visit the [Overture Maps website](https://docs.overturemaps.org)."
   ]
  },
  {
   "cell_type": "code",
   "execution_count": null,
   "id": "91",
   "metadata": {},
   "outputs": [],
   "source": [
    "release = \"2024-09-18\"\n",
    "theme = \"buildings\"\n",
    "url = f\"https://overturemaps-tiles-us-west-2-beta.s3.amazonaws.com/{release}/{theme}.pmtiles\""
   ]
  },
  {
   "cell_type": "code",
   "execution_count": null,
   "id": "92",
   "metadata": {},
   "outputs": [],
   "source": [
    "style = {\n",
    "    \"version\": 8,\n",
    "    \"sources\": {\n",
    "        \"example_source\": {\n",
    "            \"type\": \"vector\",\n",
    "            \"url\": \"pmtiles://\" + url,\n",
    "            \"attribution\": \"PMTiles\",\n",
    "        }\n",
    "    },\n",
    "    \"layers\": [\n",
    "        {\n",
    "            \"id\": \"Building\",\n",
    "            \"source\": \"example_source\",\n",
    "            \"source-layer\": \"building\",\n",
    "            \"type\": \"fill\",\n",
    "            \"paint\": {\n",
    "                \"fill-color\": \"#ffff00\",\n",
    "                \"fill-opacity\": 0.4,\n",
    "                \"fill-outline-color\": \"#ff0000\",\n",
    "            },\n",
    "        },\n",
    "    ],\n",
    "}"
   ]
  },
  {
   "cell_type": "code",
   "execution_count": null,
   "id": "93",
   "metadata": {},
   "outputs": [],
   "source": [
    "m = leafmap.Map(center=[47.65350739, -117.59664999], zoom=16)\n",
    "m.add_basemap(\"Satellite\")\n",
    "m.add_pmtiles(url, style=style, layer_name=\"Buildings\", zoom_to_layer=False)\n",
    "m"
   ]
  },
  {
   "cell_type": "markdown",
   "id": "94",
   "metadata": {},
   "source": [
    "## Visualizing Raster Data\n",
    "\n",
    "Leafmap supports various raster data formats, including GeoTIFF, Cloud Optimized GeoTIFF (COG), SpatioTemporal Asset Catalog (STAC), and others. This section demonstrates how to visualize raster data using Leafmap.\n",
    "\n",
    "### Visualizing Cloud Optimized GeoTIFFs (COGs)\n",
    "\n",
    "A Cloud Optimized GeoTIFF ([COG](https://cogeo.org/)) is a regular GeoTIFF file, aimed at being hosted on a HTTP file server, with an internal organization that enables more efficient workflows on the cloud. It does this by leveraging the ability of clients issuing ​HTTP GET range requests to ask for just the parts of a file they need.\n",
    "\n",
    "#### Adding a Cloud Optimized GeoTIFF (COG)\n",
    "\n",
    "You can load remote COGs directly from a URL. In this example, we load pre-event imagery of the 2020 California fire:"
   ]
  },
  {
   "cell_type": "code",
   "execution_count": null,
   "id": "95",
   "metadata": {},
   "outputs": [],
   "source": [
    "m = leafmap.Map(center=[39.494897, -108.507278], zoom=10)\n",
    "url = \"https://opendata.digitalglobe.com/events/california-fire-2020/pre-event/2018-02-16/pine-gulch-fire20/1030010076004E00.tif\"\n",
    "m.add_cog_layer(url, name=\"Fire (pre-event)\")\n",
    "m"
   ]
  },
  {
   "cell_type": "markdown",
   "id": "96",
   "metadata": {},
   "source": [
    "Under the hood, the `add_cog_layer()` method uses the [TiTiler](https://developmentseed.org/titiler) demo endpoint (https://titiler.xyz) to serve COGs as map tiles. The method also supports custom styling and visualization parameters. Please refer to the [TiTiler documentation](https://developmentseed.org/titiler/endpoints/cog/#api) for more information.\n",
    "\n",
    "Please note that the `add_cog_layer()` method requires an internet connection to fetch the COG tiles from the TiTiler endpoint. If you need to work offline, you can download the COG and load it as a local GeoTIFF file using the `add_raster()` method covered in the next section."
   ]
  },
  {
   "cell_type": "markdown",
   "id": "97",
   "metadata": {},
   "source": [
    "To show the image metadata, use the `cog_info()` method:"
   ]
  },
  {
   "cell_type": "code",
   "execution_count": null,
   "id": "98",
   "metadata": {},
   "outputs": [],
   "source": [
    "leafmap.cog_info(url)"
   ]
  },
  {
   "cell_type": "markdown",
   "id": "99",
   "metadata": {},
   "source": [
    "To check the available bands, use the `cog_bands()` method:"
   ]
  },
  {
   "cell_type": "code",
   "execution_count": null,
   "id": "100",
   "metadata": {},
   "outputs": [],
   "source": [
    "leafmap.cog_bands(url)"
   ]
  },
  {
   "cell_type": "markdown",
   "id": "101",
   "metadata": {},
   "source": [
    "To get the band statistics, use the `cog_stats()` method:"
   ]
  },
  {
   "cell_type": "code",
   "execution_count": null,
   "id": "102",
   "metadata": {},
   "outputs": [],
   "source": [
    "stats = leafmap.cog_stats(url)\n",
    "# stats"
   ]
  },
  {
   "cell_type": "markdown",
   "id": "103",
   "metadata": {},
   "source": [
    "#### Adding Multiple COGs\n",
    "\n",
    "You can visualize and compare multiple COGs by adding them to the same map. Below, we add post-event imagery to the map:"
   ]
  },
  {
   "cell_type": "code",
   "execution_count": null,
   "id": "104",
   "metadata": {},
   "outputs": [],
   "source": [
    "url2 = \"https://opendata.digitalglobe.com/events/california-fire-2020/post-event/2020-08-14/pine-gulch-fire20/10300100AAC8DD00.tif\"\n",
    "m.add_cog_layer(url2, name=\"Fire (post-event)\")\n",
    "m"
   ]
  },
  {
   "cell_type": "markdown",
   "id": "105",
   "metadata": {},
   "source": [
    "#### Creating a Split Map for Comparison\n",
    "\n",
    "Leafmap also provides a convenient way to compare two COGs side by side using a split map. In this example, we create a map comparing pre-event and post-event fire imagery:"
   ]
  },
  {
   "cell_type": "code",
   "execution_count": null,
   "id": "106",
   "metadata": {},
   "outputs": [],
   "source": [
    "m = leafmap.Map(center=[39.494897, -108.507278], zoom=10)\n",
    "m.split_map(\n",
    "    left_layer=url, right_layer=url2, left_label=\"Pre-event\", right_label=\"Post-event\"\n",
    ")\n",
    "m"
   ]
  },
  {
   "cell_type": "markdown",
   "id": "107",
   "metadata": {},
   "source": [
    "Here is another example comparing two COGs using a split map:"
   ]
  },
  {
   "cell_type": "code",
   "execution_count": null,
   "id": "108",
   "metadata": {},
   "outputs": [],
   "source": [
    "m = leafmap.Map(center=[47.653149, -117.59825], zoom=16)\n",
    "m.add_basemap(\"Satellite\")\n",
    "image1 = \"https://github.com/opengeos/datasets/releases/download/places/wa_building_image.tif\"\n",
    "image2 = \"https://github.com/opengeos/datasets/releases/download/places/wa_building_masks.tif\"\n",
    "m.split_map(\n",
    "    image2,\n",
    "    image1,\n",
    "    left_label=\"Building Masks\",\n",
    "    right_label=\"Aerial Imagery\",\n",
    "    left_args={\"colormap_name\": \"tab20\", \"nodata\": 0, \"opacity\": 0.7},\n",
    ")\n",
    "m"
   ]
  },
  {
   "cell_type": "markdown",
   "id": "109",
   "metadata": {},
   "source": [
    "#### Using a Custom Colormap\n",
    "\n",
    "You can apply a custom colormap to raster data for better visualization. The example below shows how to visualize the [US National Land Cover Database (NLCD)](https://www.mrlc.gov/data/nlcd-2021-land-cover-conus) data with a custom colormap:"
   ]
  },
  {
   "cell_type": "code",
   "execution_count": null,
   "id": "110",
   "metadata": {},
   "outputs": [],
   "source": [
    "url = \"https://github.com/opengeos/datasets/releases/download/raster/nlcd_2021_land_cover_30m.tif\"\n",
    "colormap = {\n",
    "    \"11\": \"#466b9f\",\n",
    "    \"12\": \"#d1def8\",\n",
    "    \"21\": \"#dec5c5\",\n",
    "    \"22\": \"#d99282\",\n",
    "    \"23\": \"#eb0000\",\n",
    "    \"24\": \"#ab0000\",\n",
    "    \"31\": \"#b3ac9f\",\n",
    "    \"41\": \"#68ab5f\",\n",
    "    \"42\": \"#1c5f2c\",\n",
    "    \"43\": \"#b5c58f\",\n",
    "    \"51\": \"#af963c\",\n",
    "    \"52\": \"#ccb879\",\n",
    "    \"71\": \"#dfdfc2\",\n",
    "    \"72\": \"#d1d182\",\n",
    "    \"73\": \"#a3cc51\",\n",
    "    \"74\": \"#82ba9e\",\n",
    "    \"81\": \"#dcd939\",\n",
    "    \"82\": \"#ab6c28\",\n",
    "    \"90\": \"#b8d9eb\",\n",
    "    \"95\": \"#6c9fb8\",\n",
    "}\n",
    "m = leafmap.Map(center=[40, -100], zoom=4, height=\"650px\")\n",
    "m.add_basemap(\"Satellite\")\n",
    "m.add_cog_layer(url, colormap=colormap, name=\"NLCD Land Cover\", nodata=0)\n",
    "m.add_legend(title=\"NLCD Land Cover Type\", builtin_legend=\"NLCD\")\n",
    "m.add_layer_manager()\n",
    "m"
   ]
  },
  {
   "cell_type": "markdown",
   "id": "111",
   "metadata": {},
   "source": [
    "### Visualizing Local Raster Datasets\n",
    "\n",
    "Leafmap supports visualizing local GeoTIFF datasets as well. In this example, we download a sample Digital Elevation Model (DEM) dataset and visualize it.\n",
    "\n",
    "#### Downloading and Visualizing a Local Raster\n",
    "\n",
    "Start by downloading a sample DEM GeoTIFF file:"
   ]
  },
  {
   "cell_type": "code",
   "execution_count": null,
   "id": "112",
   "metadata": {},
   "outputs": [],
   "source": [
    "dem_url = \"https://github.com/opengeos/datasets/releases/download/raster/dem_90m.tif\"\n",
    "filename = \"dem_90m.tif\"\n",
    "leafmap.download_file(dem_url, filename, quiet=True)"
   ]
  },
  {
   "cell_type": "markdown",
   "id": "113",
   "metadata": {},
   "source": [
    "Next, visualize the raster using the `add_raster()` method with a \"terrain\" colormap to highlight elevation differences:"
   ]
  },
  {
   "cell_type": "code",
   "execution_count": null,
   "id": "114",
   "metadata": {},
   "outputs": [],
   "source": [
    "m = leafmap.Map()\n",
    "m.add_raster(filename, colormap=\"terrain\", layer_name=\"DEM\")\n",
    "m"
   ]
  },
  {
   "cell_type": "markdown",
   "id": "115",
   "metadata": {},
   "source": [
    "You can also check the minimum and maximum values of the raster:"
   ]
  },
  {
   "cell_type": "code",
   "execution_count": null,
   "id": "116",
   "metadata": {},
   "outputs": [],
   "source": [
    "leafmap.image_min_max(filename)"
   ]
  },
  {
   "cell_type": "markdown",
   "id": "117",
   "metadata": {},
   "source": [
    "Optionally, add a colormap legend to indicate the range of elevation values:"
   ]
  },
  {
   "cell_type": "code",
   "execution_count": null,
   "id": "118",
   "metadata": {},
   "outputs": [],
   "source": [
    "m.add_colormap(cmap=\"terrain\", vmin=15, vmax=4338, label=\"Elevation (m)\")"
   ]
  },
  {
   "cell_type": "markdown",
   "id": "119",
   "metadata": {},
   "source": [
    "Keep in mind that the `add_raster()` method works for both local and remote GeoTIFF files. You can use it to visualize COGs available online or local GeoTIFF files stored on your computer. The example below demonstrates how to visualize the same COG from the previous section as a remote file:"
   ]
  },
  {
   "cell_type": "code",
   "execution_count": null,
   "id": "120",
   "metadata": {},
   "outputs": [],
   "source": [
    "m = leafmap.Map()\n",
    "m.add_raster(dem_url, colormap=\"terrain\", layer_name=\"DEM\")\n",
    "m"
   ]
  },
  {
   "cell_type": "markdown",
   "id": "121",
   "metadata": {},
   "source": [
    "You can also use a custom colormap to visualize the COG by providing a list of colors as the `colormap` parameter:"
   ]
  },
  {
   "cell_type": "code",
   "execution_count": null,
   "id": "122",
   "metadata": {},
   "outputs": [],
   "source": [
    "m = leafmap.Map()\n",
    "m.add_raster(dem_url, colormap=[\"blue\", \"green\", \"white\"], layer_name=\"DEM\")\n",
    "m"
   ]
  },
  {
   "cell_type": "markdown",
   "id": "123",
   "metadata": {},
   "source": [
    "#### Visualizing a Multi-Band Raster\n",
    "\n",
    "Multi-band rasters, such as satellite images, can also be visualized. The following example loads a multi-band Landsat image and displays it as an RGB composite:"
   ]
  },
  {
   "cell_type": "code",
   "execution_count": null,
   "id": "124",
   "metadata": {},
   "outputs": [],
   "source": [
    "landsat_url = \"https://github.com/opengeos/datasets/releases/download/raster/cog.tif\"\n",
    "filename = \"cog.tif\"\n",
    "leafmap.download_file(landsat_url, filename, quiet=True)"
   ]
  },
  {
   "cell_type": "code",
   "execution_count": null,
   "id": "125",
   "metadata": {},
   "outputs": [],
   "source": [
    "m = leafmap.Map()\n",
    "m.add_raster(filename, indexes=[4, 3, 2], layer_name=\"RGB\")\n",
    "m"
   ]
  },
  {
   "cell_type": "markdown",
   "id": "126",
   "metadata": {},
   "source": [
    "#### Inspecting Pixel Values\n",
    "\n",
    "To inspect pixel values interactively, use the `m.add(\"inspector\")` method to add an inspector control to the map. The inspector control displays pixel values when you click on the map:"
   ]
  },
  {
   "cell_type": "code",
   "execution_count": null,
   "id": "127",
   "metadata": {},
   "outputs": [],
   "source": [
    "m = leafmap.Map(center=[53.407089, 6.875480], zoom=13)\n",
    "m.add_raster(filename, indexes=[4, 3, 2], layer_name=\"RGB\")\n",
    "m.add(\"inspector\")\n",
    "m"
   ]
  },
  {
   "cell_type": "markdown",
   "id": "128",
   "metadata": {},
   "source": [
    "### Visualizing SpatioTemporal Asset Catalog (STAC) Data\n",
    "\n",
    "\n",
    "The [STAC specification](https://stacspec.org) provides a standardized way to describe geospatial information, enabling easier discovery and use. In this section, we will visualize STAC data using Leafmap.\n",
    "\n",
    "#### Exploring STAC Bands\n",
    "To begin, retrieve the available bands for a STAC item. This example uses the [SPOT Orthoimages of Canada](https://stacindex.org/catalogs/spot-orthoimages-canada-2005):"
   ]
  },
  {
   "cell_type": "code",
   "execution_count": null,
   "id": "129",
   "metadata": {},
   "outputs": [],
   "source": [
    "url = \"https://canada-spot-ortho.s3.amazonaws.com/canada_spot_orthoimages/canada_spot5_orthoimages/S5_2007/S5_11055_6057_20070622/S5_11055_6057_20070622.json\"\n",
    "leafmap.stac_bands(url)"
   ]
  },
  {
   "cell_type": "markdown",
   "id": "130",
   "metadata": {},
   "source": [
    "#### Adding STAC Layers to the Map\n",
    "\n",
    "Once you have explored the available bands, you can add them to your map. In this example, we visualize both the panchromatic band and false-color composite of the SPOT Orthoimage:"
   ]
  },
  {
   "cell_type": "code",
   "execution_count": null,
   "id": "131",
   "metadata": {},
   "outputs": [],
   "source": [
    "m = leafmap.Map(center=[60.95410, -110.90184], zoom=10)\n",
    "m.add_stac_layer(url, bands=[\"pan\"], name=\"Panchromatic\")\n",
    "m.add_stac_layer(url, bands=[\"B3\", \"B2\", \"B1\"], name=\"False color\")\n",
    "m"
   ]
  },
  {
   "cell_type": "markdown",
   "id": "132",
   "metadata": {},
   "source": [
    "#### Using a Custom STAC Catalog\n",
    "\n",
    "You can integrate custom STAC API endpoints into your map. Simply provide a dictionary of STAC endpoints, where the keys are names and the values are the API URLs. This example demonstrates how to add custom STAC catalogs:"
   ]
  },
  {
   "cell_type": "code",
   "execution_count": null,
   "id": "133",
   "metadata": {},
   "outputs": [],
   "source": [
    "catalogs = {\n",
    "    \"Element84 Earth Search\": \"https://earth-search.aws.element84.com/v1\",\n",
    "    \"Microsoft Planetary Computer\": \"https://planetarycomputer.microsoft.com/api/stac/v1\",\n",
    "}"
   ]
  },
  {
   "cell_type": "markdown",
   "id": "134",
   "metadata": {},
   "source": [
    "After setting up the catalog source, you can search and display items from the selected STAC collections using a GUI:"
   ]
  },
  {
   "cell_type": "code",
   "execution_count": null,
   "id": "135",
   "metadata": {},
   "outputs": [],
   "source": [
    "m = leafmap.Map(center=[40, -100], zoom=4)\n",
    "m.set_catalog_source(catalogs)\n",
    "m.add_stac_gui()\n",
    "m"
   ]
  },
  {
   "cell_type": "markdown",
   "id": "136",
   "metadata": {},
   "source": [
    "Once the catalog panel is open, you can search for items from the custom STAC API endpoints. Simply draw a bounding box on the map or zoom to a location of interest. Click on the **Collections** button to retrieve the collections from the custom STAC API endpoints. Next, select a collection from the dropdown menu. Then, click on the **Items** button to retrieve the items from the selected collection. Finally, click on the **Display** button to add the selected item to the map."
   ]
  },
  {
   "cell_type": "markdown",
   "id": "137",
   "metadata": {},
   "source": [
    "![](https://i.imgur.com/M8IbRsM.png)"
   ]
  },
  {
   "cell_type": "code",
   "execution_count": null,
   "id": "138",
   "metadata": {},
   "outputs": [],
   "source": [
    "# m.stac_gdf  # The GeoDataFrame of the STAC search results"
   ]
  },
  {
   "cell_type": "code",
   "execution_count": null,
   "id": "139",
   "metadata": {},
   "outputs": [],
   "source": [
    "# m.stac_dict  # The STAC search results as a dictionary"
   ]
  },
  {
   "cell_type": "code",
   "execution_count": null,
   "id": "140",
   "metadata": {},
   "outputs": [],
   "source": [
    "# m.stac_item  # The selected STAC item of the search result"
   ]
  },
  {
   "cell_type": "markdown",
   "id": "141",
   "metadata": {},
   "source": [
    "### AWS S3 Integration\n",
    "\n",
    "Leafmap allows you to visualize raster datasets stored in AWS S3. In this example, we work with datasets from [Maxar Open Data Program on AWS](https://registry.opendata.aws/maxar-open-data/).\n",
    "\n",
    "#### Accessing Datasets in an S3 Bucket\n",
    "\n",
    "To list and access datasets stored in S3, you need to set up AWS credentials as environment variables. Uncomment the following lines and provide your credentials:"
   ]
  },
  {
   "cell_type": "code",
   "execution_count": null,
   "id": "142",
   "metadata": {},
   "outputs": [],
   "source": [
    "import os"
   ]
  },
  {
   "cell_type": "code",
   "execution_count": null,
   "id": "143",
   "metadata": {},
   "outputs": [],
   "source": [
    "# os.environ[\"AWS_ACCESS_KEY_ID\"] = \"YOUR AWS ACCESS ID HERE\"\n",
    "# os.environ[\"AWS_SECRET_ACCESS_KEY\"] = \"YOUR AWS ACCESS KEY HERE\""
   ]
  },
  {
   "cell_type": "markdown",
   "id": "144",
   "metadata": {},
   "source": [
    "Once the credentials are set, list the datasets in the bucket:"
   ]
  },
  {
   "cell_type": "code",
   "execution_count": null,
   "id": "145",
   "metadata": {},
   "outputs": [],
   "source": [
    "BUCKET = \"maxar-opendata\"\n",
    "FOLDER = \"events/Kahramanmaras-turkey-earthquake-23/\"\n",
    "items = leafmap.s3_list_objects(BUCKET, FOLDER, ext=\".tif\")\n",
    "items[:10]"
   ]
  },
  {
   "cell_type": "markdown",
   "id": "146",
   "metadata": {},
   "source": [
    "#### Visualizing a Raster Dataset from S3\n",
    "\n",
    "Finally, visualize a raster dataset from the S3 bucket by adding it to the map:"
   ]
  },
  {
   "cell_type": "code",
   "execution_count": null,
   "id": "147",
   "metadata": {},
   "outputs": [],
   "source": [
    "m = leafmap.Map(center=[37.045802, 35.333319], zoom=14)\n",
    "m.add_cog_layer(items[2], name=\"Maxar\")\n",
    "m"
   ]
  },
  {
   "cell_type": "markdown",
   "id": "148",
   "metadata": {},
   "source": [
    "![](https://i.imgur.com/NkTZ6Lj.png)"
   ]
  },
  {
   "cell_type": "markdown",
   "id": "149",
   "metadata": {},
   "source": [
    "Some S3 buckets may require additional permissions to access the data. For example, for requester pays buckets, you need to set the environment variable `AWS_REQUEST_PAYER` to `requester`:"
   ]
  },
  {
   "cell_type": "code",
   "execution_count": null,
   "id": "150",
   "metadata": {},
   "outputs": [],
   "source": [
    "os.environ[\"AWS_REQUEST_PAYER\"] = \"requester\""
   ]
  },
  {
   "cell_type": "markdown",
   "id": "151",
   "metadata": {},
   "source": [
    "The example below shows how to visualize a [NAIP imagery](https://registry.opendata.aws/naip/) from a requester pays bucket:"
   ]
  },
  {
   "cell_type": "code",
   "execution_count": null,
   "id": "152",
   "metadata": {},
   "outputs": [],
   "source": [
    "m = leafmap.Map(center=[34.979166, -84.920496], zoom=14)\n",
    "m.add_basemap(\"Satellite\")\n",
    "src = \"s3://naip-analytic/tn/2021/60cm/rgbir_cog/34084/m_3408401_ne_16_060_20210404.tif\"\n",
    "m.add_raster(src, layer_name=\"NAIP\")\n",
    "m"
   ]
  },
  {
   "cell_type": "markdown",
   "id": "153",
   "metadata": {},
   "source": [
    "## Exercises\n",
    "\n",
    "### Exercise 1: Creating an Interactive Map\n",
    "\n",
    "1. Create an interactive map with search functionality that allows users to search for places and zoom to them. Disable the draw control on the map."
   ]
  },
  {
   "cell_type": "code",
   "execution_count": null,
   "id": "154",
   "metadata": {},
   "outputs": [],
   "source": []
  },
  {
   "cell_type": "markdown",
   "id": "155",
   "metadata": {},
   "source": [
    "![image](https://github.com/user-attachments/assets/b930fb63-3bd1-4d7e-9bf8-87e6d398e5c3)"
   ]
  },
  {
   "cell_type": "markdown",
   "id": "156",
   "metadata": {},
   "source": [
    "### Exercise 2: Adding XYZ and WMS Tile Layers\n",
    "\n",
    "1. Add a custom XYZ tile layer ([USGS Topographic basemap](https://apps.nationalmap.gov/services)) using the following URL:\n",
    "   - URL: `https://basemap.nationalmap.gov/arcgis/rest/services/USGSTopo/MapServer/tile/{z}/{y}/{x}`\n",
    "2. Add two WMS layers to visualize NAIP imagery and NDVI using a USGS WMS service.\n",
    "   - URL: `https://imagery.nationalmap.gov/arcgis/services/USGSNAIPImagery/ImageServer/WMSServer?`\n",
    "   - Layer names: `USGSNAIPImagery:FalseColorComposite`, `USGSNAIPImagery:NDVI_Color`"
   ]
  },
  {
   "cell_type": "code",
   "execution_count": null,
   "id": "157",
   "metadata": {},
   "outputs": [],
   "source": []
  },
  {
   "cell_type": "markdown",
   "id": "158",
   "metadata": {},
   "source": [
    "![image](https://github.com/user-attachments/assets/28dd8511-a0ac-4b44-ab02-9ed791817043)"
   ]
  },
  {
   "cell_type": "code",
   "execution_count": null,
   "id": "159",
   "metadata": {},
   "outputs": [],
   "source": []
  },
  {
   "cell_type": "markdown",
   "id": "160",
   "metadata": {},
   "source": [
    "![image](https://github.com/user-attachments/assets/719c1e07-f955-42d6-985c-b5842c9eac4c)"
   ]
  },
  {
   "cell_type": "markdown",
   "id": "161",
   "metadata": {},
   "source": [
    "### Exercise 3: Adding Map Legends\n",
    "\n",
    "1. Add the [ESA World Cover](https://esa-worldcover.org/en) WMS tile layer to the map.\n",
    "    - URL: `https://services.terrascope.be/wms/v2?`\n",
    "    - Layer name: `WORLDCOVER_2021_MAP`\n",
    "2. Add a legend to the map using the leafmap built-in `ESA_WorldCover` legend."
   ]
  },
  {
   "cell_type": "code",
   "execution_count": null,
   "id": "162",
   "metadata": {},
   "outputs": [],
   "source": []
  },
  {
   "cell_type": "markdown",
   "id": "163",
   "metadata": {},
   "source": [
    "![image](https://github.com/user-attachments/assets/be5a9b07-4f6c-4245-9737-31db2df14f7f)"
   ]
  },
  {
   "cell_type": "markdown",
   "id": "164",
   "metadata": {},
   "source": [
    "### Exercise 4: Creating Marker Clusters\n",
    "\n",
    "1. Create a marker cluster visualization from a GeoJSON file of building centroids:\n",
    "    - URL: https://github.com/opengeos/datasets/releases/download/places/wa_building_centroids.geojson\n",
    "    - Hint: Read the GeoJSON file using GeoPandas and add \"latitude\" and \"longitude\" columns to the GeoDataFrame.\n",
    "2. Create circle markers for each building centroid using the `Map.add_circle_markers_from_xy()` method with the following styling:\n",
    "    * Radius: 5\n",
    "    * Outline color: \"red\"\n",
    "    * Fill color: \"yellow\"\n",
    "    * Fill opacity: 0.8"
   ]
  },
  {
   "cell_type": "code",
   "execution_count": null,
   "id": "165",
   "metadata": {},
   "outputs": [],
   "source": []
  },
  {
   "cell_type": "markdown",
   "id": "166",
   "metadata": {},
   "source": [
    "![image](https://github.com/user-attachments/assets/d60cbfc7-b8c9-4cab-8852-bc34e82fd665)"
   ]
  },
  {
   "cell_type": "code",
   "execution_count": null,
   "id": "167",
   "metadata": {},
   "outputs": [],
   "source": []
  },
  {
   "cell_type": "markdown",
   "id": "168",
   "metadata": {},
   "source": [
    "![image](https://github.com/user-attachments/assets/637e00ae-89af-495e-84b4-e668e16cce88)"
   ]
  },
  {
   "cell_type": "markdown",
   "id": "169",
   "metadata": {},
   "source": [
    "### Exercise 5: Visualizing Vector Data\n",
    "\n",
    "1. Visualize the building polygons GeoJSON file and style it with:\n",
    "    * Outline color: \"red\"\n",
    "    * No fill color\n",
    "    * URL: https://github.com/opengeos/datasets/releases/download/places/wa_overture_buildings.geojson\n",
    "\n",
    "2. Visualize the road polylines GeoJSON file and style it with:\n",
    "    * Line color: \"red\"\n",
    "    * Line width: 2\n",
    "    * URL: https://github.com/opengeos/datasets/releases/download/places/las_vegas_roads.geojson\n",
    "\n",
    "3. Create a choropleth map of county areas in the US:\n",
    "    * URL: https://github.com/opengeos/datasets/releases/download/us/us_counties.geojson\n",
    "    * Column: `CENSUSAREA`"
   ]
  },
  {
   "cell_type": "code",
   "execution_count": null,
   "id": "170",
   "metadata": {},
   "outputs": [],
   "source": []
  },
  {
   "cell_type": "markdown",
   "id": "171",
   "metadata": {},
   "source": [
    "![image](https://github.com/user-attachments/assets/069eb704-c409-44ee-af9e-7582d1ab23a5)"
   ]
  },
  {
   "cell_type": "code",
   "execution_count": null,
   "id": "172",
   "metadata": {},
   "outputs": [],
   "source": []
  },
  {
   "cell_type": "markdown",
   "id": "173",
   "metadata": {},
   "source": [
    "![image](https://github.com/user-attachments/assets/f28d19a6-4f60-484c-b2f7-c1ecce7ecb26)"
   ]
  },
  {
   "cell_type": "code",
   "execution_count": null,
   "id": "174",
   "metadata": {},
   "outputs": [],
   "source": []
  },
  {
   "cell_type": "markdown",
   "id": "175",
   "metadata": {},
   "source": [
    "![image](https://github.com/user-attachments/assets/3aa9f54f-64d7-4788-89f1-f3ab88c1aa2e)"
   ]
  },
  {
   "cell_type": "markdown",
   "id": "176",
   "metadata": {},
   "source": [
    "### Exercise 6: Visualizing GeoParquet Data\n",
    "\n",
    "1. Visualize GeoParquet data of US states:\n",
    "\n",
    "    - URL: https://github.com/opengeos/datasets/releases/download/us/us_states.parquet\n",
    "    - Style: Outline color of \"red\" with no fill."
   ]
  },
  {
   "cell_type": "code",
   "execution_count": null,
   "id": "177",
   "metadata": {},
   "outputs": [],
   "source": []
  },
  {
   "cell_type": "markdown",
   "id": "178",
   "metadata": {},
   "source": [
    "![image](https://github.com/user-attachments/assets/b6d9ec09-035b-4df7-8ab7-a7b4588f1e71)"
   ]
  },
  {
   "cell_type": "markdown",
   "id": "179",
   "metadata": {},
   "source": [
    "### Exercise 7: Visualizing PMTiles\n",
    "\n",
    "1. Visualize the Overture Maps building dataset using PMTiles:\n",
    "    * URL: https://overturemaps-tiles-us-west-2-beta.s3.amazonaws.com/2024-09-18/buildings.pmtiles\n",
    "    * Style: Blue fill with 0.4 opacity, red outline."
   ]
  },
  {
   "cell_type": "code",
   "execution_count": null,
   "id": "180",
   "metadata": {},
   "outputs": [],
   "source": []
  },
  {
   "cell_type": "markdown",
   "id": "181",
   "metadata": {},
   "source": [
    "![image](https://github.com/user-attachments/assets/4ee08461-c962-4c37-8979-7105f588842a)"
   ]
  },
  {
   "cell_type": "markdown",
   "id": "182",
   "metadata": {},
   "source": [
    "### Exercise 8: Visualizing Cloud Optimized GeoTIFFs (COGs)\n",
    "\n",
    "1. Visualize Digital Elevation Model (DEM) data using the following COG file:\n",
    "    - URL: https://github.com/opengeos/datasets/releases/download/raster/dem.tif\n",
    "    - Apply a terrain colormap to show elevation values."
   ]
  },
  {
   "cell_type": "code",
   "execution_count": null,
   "id": "183",
   "metadata": {},
   "outputs": [],
   "source": []
  },
  {
   "cell_type": "markdown",
   "id": "184",
   "metadata": {},
   "source": [
    "![image](https://github.com/user-attachments/assets/21e1f7dd-466e-4880-94a5-0365bf1495dc)"
   ]
  },
  {
   "cell_type": "markdown",
   "id": "185",
   "metadata": {},
   "source": [
    "### Exercise 9: Visualizing Local Raster Data\n",
    "\n",
    "1. Visualize the following raster datasets using the Map.add_raster() method:\n",
    "\n",
    "    * Aerial Imagery: https://github.com/opengeos/datasets/releases/download/places/wa_building_image.tif\n",
    "    * Building Footprints: https://github.com/opengeos/datasets/releases/download/places/wa_building_masks.tif (use the \"tab20\" colormap and opacity of 0.7)"
   ]
  },
  {
   "cell_type": "code",
   "execution_count": null,
   "id": "186",
   "metadata": {},
   "outputs": [],
   "source": []
  },
  {
   "cell_type": "markdown",
   "id": "187",
   "metadata": {},
   "source": [
    "![image](https://github.com/user-attachments/assets/faf7c345-6a3f-4ca0-8eca-7417e6568867)"
   ]
  },
  {
   "cell_type": "markdown",
   "id": "188",
   "metadata": {},
   "source": [
    "### Exercise 10: Creating a Split Map\n",
    "\n",
    "1. Create a split map to compare imagery of Libya before and after the 2023 flood event:\n",
    "\n",
    "    * Pre-event imagery: https://github.com/opengeos/datasets/releases/download/raster/Libya-2023-07-01.tif\n",
    "    * Post-event imagery: https://github.com/opengeos/datasets/releases/download/raster/Libya-2023-09-13.tif"
   ]
  },
  {
   "cell_type": "code",
   "execution_count": null,
   "id": "189",
   "metadata": {},
   "outputs": [],
   "source": []
  },
  {
   "cell_type": "markdown",
   "id": "190",
   "metadata": {},
   "source": [
    "![image](https://github.com/user-attachments/assets/8cab4f1c-2dba-4652-a644-3ce6be4bbbd2)\n",
    "\n",
    "## Summary\n",
    "\n",
    "This chapter has introduced **Leafmap**, a versatile Python library for creating, managing, and analyzing interactive geospatial maps. It covers essential tools for GIS programming, allowing for streamlined workflows in handling spatial data. Leafmap’s integration with Jupyter environments enables users to visualize and analyze geospatial data with minimal code.\n",
    "\n",
    "Key takeaways from this chapter include:\n",
    "\n",
    "1. **Setting Up Leafmap**: Instructions for installing and importing Leafmap, alongside switching between supported plotting backends.\n",
    "2. **Interactive Map Customization**: Techniques to create and customize maps, add various basemaps, and control map elements like zoom, scale, and toolbar settings.\n",
    "3. **Data Layer Management**: Methods for adding/removing layers, customizing basemaps, and incorporating layers like WMS and XYZ tiles for expanded data visualization.\n",
    "4. **Vector and Raster Data Visualization**: Examples on adding vector data (points, lines, polygons) from formats like GeoJSON and GeoParquet and visualizing raster formats like GeoTIFF, COG, and STAC.\n",
    "5. **Advanced Data Interactions**: How to use specialized formats and datasets, such as PMTiles, Open Buildings data, and STAC API catalogs, and AWS S3 data integration for remote geospatial data.\n",
    "\n",
    "This chapter provides the foundational knowledge to effectively use Leafmap in GIS projects, making it an invaluable tool for visualizing and analyzing diverse geospatial datasets within Python."
   ]
  }
 ],
 "metadata": {
  "kernelspec": {
   "display_name": "Python 3 (ipykernel)",
   "language": "python",
   "name": "python3"
  },
  "language_info": {
   "codemirror_mode": {
    "name": "ipython",
    "version": 3
   },
   "file_extension": ".py",
   "mimetype": "text/x-python",
   "name": "python",
   "nbconvert_exporter": "python",
   "pygments_lexer": "ipython3",
   "version": "3.11.9"
  }
 },
 "nbformat": 4,
 "nbformat_minor": 5
}
