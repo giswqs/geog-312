{
 "cells": [
  {
   "cell_type": "markdown",
   "id": "0",
   "metadata": {},
   "source": [
    "# Rioxarray\n",
    "\n",
    "## Overview\n",
    "\n",
    "[`rioxarray`](https://corteva.github.io/rioxarray/) is an extension of the powerful Python library Xarray that focuses on geospatial raster data. It provides easy access to georeferencing information and geospatial transforms using Xarray’s labeled, multi-dimensional data structures, which makes it an ideal tool for working with geospatial data like satellite imagery or climate data.\n",
    "\n",
    "The key feature of `rioxarray` is its seamless integration of rasterio’s geospatial data handling capabilities (such as CRS and affine transforms) with Xarray’s efficient multi-dimensional array handling. This allows you to manipulate, analyze, and visualize raster data with ease.\n",
    "\n",
    "## Learning Objectives\n",
    "\n",
    "By the end of this lecture, you should be able to:\n",
    "- Understand how `rioxarray` extends Xarray for geospatial data handling.\n",
    "- Load and inspect georeferenced raster datasets using `rioxarray`.\n",
    "- Perform basic geospatial operations, such as clipping, reprojection, and masking, using `rioxarray`.\n",
    "- Use `rioxarray` to manage CRS and spatial dimensions in raster datasets.\n",
    "- Export and visualize geospatial raster datasets.\n",
    "\n",
    "## Installing rioxarray\n",
    "\n",
    "To use `rioxarray`, you'll need to install it along with `rasterio` and its dependencies. You can install it via pip by uncommenting the following line:"
   ]
  },
  {
   "cell_type": "code",
   "execution_count": null,
   "id": "1",
   "metadata": {},
   "outputs": [],
   "source": [
    "# %pip install rioxarray rasterio"
   ]
  },
  {
   "cell_type": "markdown",
   "id": "2",
   "metadata": {},
   "source": [
    "## Importing rioxarray\n",
    "\n",
    "You can start by importing `rioxarray` and other necessary libraries:"
   ]
  },
  {
   "cell_type": "code",
   "execution_count": null,
   "id": "3",
   "metadata": {},
   "outputs": [],
   "source": [
    "import rioxarray\n",
    "import xarray as xr\n",
    "import matplotlib.pyplot as plt\n",
    "\n",
    "xr.set_options(keep_attrs=True, display_expand_data=False)"
   ]
  },
  {
   "cell_type": "markdown",
   "id": "4",
   "metadata": {},
   "source": [
    "## Loading Georeferenced Raster Data\n",
    "\n",
    "One of the core functionalities of `rioxarray` is the ability to load georeferenced raster data, including its CRS and geospatial transformations. You can load a raster file (e.g., a GeoTIFF file) directly using `rioxarray`:"
   ]
  },
  {
   "cell_type": "code",
   "execution_count": null,
   "id": "5",
   "metadata": {},
   "outputs": [],
   "source": [
    "# Load a raster dataset using rioxarray\n",
    "url = \"https://github.com/opengeos/datasets/releases/download/raster/LC09_039035_20240708_90m.tif\"\n",
    "data = rioxarray.open_rasterio(url)\n",
    "data"
   ]
  },
  {
   "cell_type": "markdown",
   "id": "6",
   "metadata": {},
   "source": [
    "Here, `rioxarray.open_rasterio` loads the raster data into an Xarray `DataArray` and automatically attaches the geospatial metadata, including CRS, affine transformations, and spatial coordinates.\n",
    "\n",
    "### Inspecting the Dataset\n",
    "\n",
    "You can easily inspect the loaded dataset, including its dimensions, coordinates, and attributes:"
   ]
  },
  {
   "cell_type": "code",
   "execution_count": null,
   "id": "7",
   "metadata": {},
   "outputs": [],
   "source": [
    "# View the structure of the DataArray\n",
    "print(data.dims)  # Dimensions (e.g., band, y, x)"
   ]
  },
  {
   "cell_type": "code",
   "execution_count": null,
   "id": "8",
   "metadata": {},
   "outputs": [],
   "source": [
    "print(data.coords)  # Coordinates (e.g., y, x in geographic or projected CRS)"
   ]
  },
  {
   "cell_type": "code",
   "execution_count": null,
   "id": "9",
   "metadata": {},
   "outputs": [],
   "source": [
    "print(data.attrs)  # Metadata (including CRS)"
   ]
  },
  {
   "cell_type": "markdown",
   "id": "10",
   "metadata": {},
   "source": [
    "### Checking CRS and Transform Information\n",
    "\n",
    "`rioxarray` integrates CRS and affine transform metadata into the Xarray object:"
   ]
  },
  {
   "cell_type": "code",
   "execution_count": null,
   "id": "11",
   "metadata": {},
   "outputs": [],
   "source": [
    "# Check the CRS of the dataset\n",
    "print(data.rio.crs)"
   ]
  },
  {
   "cell_type": "code",
   "execution_count": null,
   "id": "12",
   "metadata": {},
   "outputs": [],
   "source": [
    "# Check the affine transformation (mapping pixel coordinates to geographic coordinates)\n",
    "print(data.rio.transform())"
   ]
  },
  {
   "cell_type": "markdown",
   "id": "13",
   "metadata": {},
   "source": [
    "## Basic Geospatial Operations\n",
    "\n",
    "### Reprojecting a Dataset\n",
    "\n",
    "You can reproject raster data to a different CRS using `rioxarray`. For example, to reproject the dataset to EPSG:4326 (WGS84), use the `rio.reproject` method:"
   ]
  },
  {
   "cell_type": "code",
   "execution_count": null,
   "id": "14",
   "metadata": {},
   "outputs": [],
   "source": [
    "# Reproject the dataset to WGS84 (EPSG:4326)\n",
    "data_reprojected = data.rio.reproject(\"EPSG:4326\")\n",
    "print(data_reprojected.rio.crs)"
   ]
  },
  {
   "cell_type": "markdown",
   "id": "15",
   "metadata": {},
   "source": [
    "### Clipping a Raster\n",
    "\n",
    "You can clip a raster to a specific geographic region by defining a bounding box or using a shapefile. Here’s an example of clipping a raster with a bounding box:"
   ]
  },
  {
   "cell_type": "code",
   "execution_count": null,
   "id": "16",
   "metadata": {},
   "outputs": [],
   "source": [
    "# Define a bounding box (in the same CRS as the dataset)\n",
    "bbox = [-115.391, 35.982, -114.988, 36.425]\n",
    "\n",
    "# Clip the raster to the bounding box\n",
    "clipped_data = data_reprojected.rio.clip_box(*bbox)"
   ]
  },
  {
   "cell_type": "code",
   "execution_count": null,
   "id": "17",
   "metadata": {},
   "outputs": [],
   "source": [
    "clipped_data.shape"
   ]
  },
  {
   "cell_type": "markdown",
   "id": "18",
   "metadata": {},
   "source": [
    "Alternatively, you can clip the raster using a shapefile containing polygon geometries:"
   ]
  },
  {
   "cell_type": "code",
   "execution_count": null,
   "id": "19",
   "metadata": {},
   "outputs": [],
   "source": [
    "import geopandas as gpd\n",
    "\n",
    "# Load a geojson with regions of interest\n",
    "geojson_path = \"https://github.com/opengeos/datasets/releases/download/places/las_vegas_bounds_utm.geojson\"\n",
    "bounds = gpd.read_file(geojson_path)\n",
    "\n",
    "# Clip the raster to the shape\n",
    "clipped_data2 = data.rio.clip(bounds.geometry, bounds.crs)"
   ]
  },
  {
   "cell_type": "code",
   "execution_count": null,
   "id": "20",
   "metadata": {},
   "outputs": [],
   "source": [
    "clipped_data2.shape"
   ]
  },
  {
   "cell_type": "markdown",
   "id": "21",
   "metadata": {},
   "source": [
    "## Working with Spatial Dimensions\n",
    "\n",
    "`rioxarray` supports operations on spatial dimensions (latitude/longitude or x/y coordinates) like resampling, reducing, or slicing.\n",
    "\n",
    "### Resampling\n",
    "\n",
    "To resample the raster dataset to a different resolution (e.g., 1 km), use the `rio.resample` method:"
   ]
  },
  {
   "cell_type": "code",
   "execution_count": null,
   "id": "22",
   "metadata": {},
   "outputs": [],
   "source": [
    "# Resample to 1km resolution (using an average resampling method)\n",
    "resampled_data = data.rio.reproject(data.rio.crs, resolution=(1000, 1000))"
   ]
  },
  {
   "cell_type": "code",
   "execution_count": null,
   "id": "23",
   "metadata": {},
   "outputs": [],
   "source": [
    "resampled_data.shape"
   ]
  },
  {
   "cell_type": "markdown",
   "id": "24",
   "metadata": {},
   "source": [
    "### Extracting Spatial Subsets\n",
    "\n",
    "You can extract spatial subsets of the dataset by selecting specific coordinate ranges:"
   ]
  },
  {
   "cell_type": "code",
   "execution_count": null,
   "id": "25",
   "metadata": {},
   "outputs": [],
   "source": [
    "# Select a subset of the data within a lat/lon range\n",
    "min_x, max_x = -115.391, -114.988\n",
    "min_y, max_y = 35.982, 36.425\n",
    "subset = data_reprojected.sel(\n",
    "    x=slice(min_x, max_x), y=slice(max_y, min_y)\n",
    ")  # Slice y in reverse order\n",
    "subset.shape"
   ]
  },
  {
   "cell_type": "markdown",
   "id": "26",
   "metadata": {},
   "source": [
    "## Visualization of Georeferenced Data\n",
    "\n",
    "`rioxarray` integrates smoothly with Matplotlib and other visualization libraries, allowing for easy plotting of raster data:"
   ]
  },
  {
   "cell_type": "code",
   "execution_count": null,
   "id": "27",
   "metadata": {},
   "outputs": [],
   "source": [
    "# Plot the raster data\n",
    "plt.figure(figsize=(8, 8))\n",
    "data_reprojected.sel(band=[4, 3, 2]).plot.imshow(vmin=0, vmax=0.3)\n",
    "plt.title(\"Landsat Image covering Las Vegas\")\n",
    "plt.xlabel(\"Longitude\")\n",
    "plt.ylabel(\"Latitude\")\n",
    "plt.show()"
   ]
  },
  {
   "cell_type": "markdown",
   "id": "28",
   "metadata": {},
   "source": [
    "You can also visualize clipped or masked data in the same way:"
   ]
  },
  {
   "cell_type": "code",
   "execution_count": null,
   "id": "29",
   "metadata": {},
   "outputs": [],
   "source": [
    "# Plot the raster data\n",
    "plt.figure(figsize=(8, 8))\n",
    "clipped_data.sel(band=[4, 3, 2]).plot.imshow(vmin=0, vmax=0.3)\n",
    "plt.title(\"Landsat Image covering Las Vegas\")\n",
    "plt.xlabel(\"Longitude\")\n",
    "plt.ylabel(\"Latitude\")\n",
    "plt.show()"
   ]
  },
  {
   "cell_type": "markdown",
   "id": "30",
   "metadata": {},
   "source": [
    "For more advanced plots, such as overlaying a shapefile on the raster data, you can combine `rioxarray` with `geopandas` and `matplotlib`:"
   ]
  },
  {
   "cell_type": "code",
   "execution_count": null,
   "id": "31",
   "metadata": {},
   "outputs": [],
   "source": [
    "# Plot raster with GeoJSON overlay\n",
    "fig, ax = plt.subplots(figsize=(8, 8))\n",
    "data.sel(band=4).plot.imshow(ax=ax, vmin=0, vmax=0.4, cmap=\"gray\")\n",
    "bounds.boundary.plot(ax=ax, color=\"red\")\n",
    "plt.title(\"Raster with Vector Overlay\")\n",
    "plt.show()"
   ]
  },
  {
   "cell_type": "markdown",
   "id": "32",
   "metadata": {},
   "source": [
    "## Saving Data\n",
    "\n",
    "Just like loading data, you can export `rioxarray` datasets to disk. For example, you can save the modified or processed raster data as a GeoTIFF file:"
   ]
  },
  {
   "cell_type": "code",
   "execution_count": null,
   "id": "33",
   "metadata": {},
   "outputs": [],
   "source": [
    "# Save the DataArray as a GeoTIFF file\n",
    "data.rio.to_raster(\"output_raster.tif\")"
   ]
  },
  {
   "cell_type": "markdown",
   "id": "34",
   "metadata": {},
   "source": [
    "## Exercises\n",
    "\n",
    "### Exercise 1: Load and Inspect a Raster Dataset\n",
    "\n",
    "1. Use `rioxarray` to load a GeoTIFF raster file (`raster_file.tif`).\n",
    "2. Inspect the dataset by printing its dimensions, coordinates, and attributes.\n",
    "3. Check and print the CRS and affine transformation of the dataset."
   ]
  },
  {
   "cell_type": "code",
   "execution_count": null,
   "id": "35",
   "metadata": {},
   "outputs": [],
   "source": []
  },
  {
   "cell_type": "markdown",
   "id": "36",
   "metadata": {},
   "source": [
    "### Exercise 2: Reproject the Raster to a New CRS\n",
    "\n",
    "1. Reproject the loaded raster dataset from its original CRS to EPSG:4326 (WGS84).\n",
    "2. Print the new CRS and check the dimensions and coordinates of the reprojected data.\n",
    "3. Plot the original and reprojected datasets for comparison."
   ]
  },
  {
   "cell_type": "code",
   "execution_count": null,
   "id": "37",
   "metadata": {},
   "outputs": [],
   "source": []
  },
  {
   "cell_type": "markdown",
   "id": "38",
   "metadata": {},
   "source": [
    "### Exercise 3: Clip the Raster Using a Bounding Box\n",
    "\n",
    "1. Define a bounding box with specific coordinates in the raster’s CRS (e.g., `xmin`, `ymin`, `xmax`, `ymax`).\n",
    "2. Clip the raster dataset using this bounding box.\n",
    "3. Plot the clipped data to visualize the result."
   ]
  },
  {
   "cell_type": "code",
   "execution_count": null,
   "id": "39",
   "metadata": {},
   "outputs": [],
   "source": []
  },
  {
   "cell_type": "markdown",
   "id": "40",
   "metadata": {},
   "source": [
    "### Exercise 4: Mask the Raster Using a Shapefile\n",
    "\n",
    "1. Load a shapefile (e.g., a region of interest) using `geopandas`.\n",
    "2. Use the shapefile to mask the raster dataset, keeping only the data within the shapefile boundaries.\n",
    "3. Plot the masked raster data."
   ]
  },
  {
   "cell_type": "code",
   "execution_count": null,
   "id": "41",
   "metadata": {},
   "outputs": [],
   "source": []
  },
  {
   "cell_type": "markdown",
   "id": "42",
   "metadata": {},
   "source": [
    "### Exercise 5: Resample the Raster to a Different Resolution\n",
    "\n",
    "1. Resample the raster dataset to a 1km resolution, using an average resampling method.\n",
    "2. Check the new dimensions and coordinates after resampling.\n",
    "3. Save the resampled raster dataset as a new GeoTIFF file."
   ]
  },
  {
   "cell_type": "code",
   "execution_count": null,
   "id": "43",
   "metadata": {},
   "outputs": [],
   "source": []
  },
  {
   "cell_type": "markdown",
   "id": "44",
   "metadata": {},
   "source": [
    "## Summary\n",
    "\n",
    "In this lecture, we have explored the basic functionality of `rioxarray`, a powerful extension of Xarray designed for geospatial raster data. Key points include:\n",
    "\n",
    "- Loading and inspecting geospatial raster data with CRS and transform metadata.\n",
    "- Performing essential geospatial operations, such as reprojection, clipping, and masking.\n",
    "- Visualizing and exporting raster data.\n",
    "- Working with spatial dimensions (x, y) using slicing, resampling, and other operations.\n",
    "\n",
    "By integrating Xarray’s multi-dimensional data handling capabilities with rasterio’s geospatial features, `rioxarray` makes it easier to manage and analyze geospatial raster datasets. It is a versatile tool for anyone working with geospatial data in scientific computing, environmental analysis, or remote sensing."
   ]
  }
 ],
 "metadata": {
  "kernelspec": {
   "display_name": "Python 3 (ipykernel)",
   "language": "python",
   "name": "python3"
  },
  "language_info": {
   "codemirror_mode": {
    "name": "ipython",
    "version": 3
   },
   "file_extension": ".py",
   "mimetype": "text/x-python",
   "name": "python",
   "nbconvert_exporter": "python",
   "pygments_lexer": "ipython3",
   "version": "3.11.8"
  }
 },
 "nbformat": 4,
 "nbformat_minor": 5
}
