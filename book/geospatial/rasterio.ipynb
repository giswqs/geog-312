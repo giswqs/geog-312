{
 "cells": [
  {
   "cell_type": "markdown",
   "id": "0",
   "metadata": {},
   "source": [
    "# Rasterio\n",
    "\n",
    "[![Open In Colab](https://colab.research.google.com/assets/colab-badge.svg)](https://colab.research.google.com/github/giswqs/geog-312/blob/main/book/geospatial/rasterio.ipynb)\n",
    "\n",
    "## Overview\n",
    "\n",
    "[Rasterio](https://rasterio.readthedocs.io/) is a Python library that allows you to read, write, and analyze geospatial raster data. Built on top of [GDAL](https://gdal.org) (Geospatial Data Abstraction Library), it provides an efficient interface to work with raster datasets, such as satellite images, digital elevation models (DEMs), and other gridded data. Rasterio simplifies common geospatial tasks and helps to bridge the gap between raw geospatial data and analysis, especially when combined with other Python libraries like `numpy`, `pandas`, and `matplotlib`.\n",
    "\n",
    "Raster data is essentially a grid of pixels (cells), where each pixel contains a value representing some geographic information such as elevation, temperature, or reflectance. Rasterio provides an easy way to handle these data types while preserving their georeferenced characteristics.\n",
    "\n",
    "## Learning Objectives\n",
    "\n",
    "By the end of this lecture, you should be able to:\n",
    "\n",
    "- Read, write, and manipulate raster datasets using the Rasterio library.\n",
    "- Extract metadata and perform operations on raster bands.\n",
    "- Visualize raster datasets and overlay them with vector data.\n",
    "- Perform geospatial operations such as clipping, reprojecting, and raster algebra.\n",
    "- Apply Rasterio to practical geospatial analysis tasks, such as calculating indices and manipulating raster data for specific use cases."
   ]
  },
  {
   "cell_type": "markdown",
   "id": "1",
   "metadata": {},
   "source": [
    "## Installation\n",
    "\n",
    "Before working with Rasterio, you need to install the library. You can do this by running the following command in your Python environment. Uncomment the line below if you're working in a Jupyter notebook or other interactive Python environment."
   ]
  },
  {
   "cell_type": "code",
   "execution_count": null,
   "id": "2",
   "metadata": {},
   "outputs": [],
   "source": [
    "# %pip install rasterio fiona"
   ]
  },
  {
   "cell_type": "markdown",
   "id": "3",
   "metadata": {},
   "source": [
    "## Importing libraries\n",
    "\n",
    "To get started, you'll need to import rasterio along with a few other useful Python libraries. These libraries will allow us to perform different types of geospatial operations, manipulate arrays, and visualize raster data."
   ]
  },
  {
   "cell_type": "code",
   "execution_count": null,
   "id": "4",
   "metadata": {},
   "outputs": [],
   "source": [
    "import rasterio\n",
    "import rasterio.plot\n",
    "import geopandas as gpd\n",
    "import numpy as np\n",
    "import matplotlib.pyplot as plt"
   ]
  },
  {
   "cell_type": "markdown",
   "id": "5",
   "metadata": {},
   "source": [
    "* `rasterio`: The main library for reading and writing raster data.\n",
    "* `rasterio.plot`: A submodule of Rasterio for plotting raster data.\n",
    "* `geopandas`: A popular library for handling vector geospatial data.\n",
    "* `numpy`: A powerful library for array manipulations, which is very useful for raster data.\n",
    "* `matplotlib`: A standard plotting library in Python for creating visualizations."
   ]
  },
  {
   "cell_type": "markdown",
   "id": "6",
   "metadata": {},
   "source": [
    "## Reading Raster Data\n",
    "\n",
    "To read raster data, you can use the `rasterio.open()` function. This function creates a connection to the file without loading the entire dataset into memory. This is particularly useful for large datasets like satellite imagery or high-resolution DEMs, as they might be too big to fit into memory at once.\n",
    "\n",
    "In this example, we are opening a DEM (digital elevation model) raster file from a URL:"
   ]
  },
  {
   "cell_type": "code",
   "execution_count": null,
   "id": "7",
   "metadata": {},
   "outputs": [],
   "source": [
    "raster_path = (\n",
    "    \"https://github.com/opengeos/datasets/releases/download/raster/dem_90m.tif\"\n",
    ")\n",
    "src = rasterio.open(raster_path)\n",
    "print(src)"
   ]
  },
  {
   "cell_type": "markdown",
   "id": "8",
   "metadata": {},
   "source": [
    "Here, `rasterio.open()` returns a `DatasetReader` object that allows us to interact with the raster data file. This object provides access to various attributes and methods to read the raster's metadata and pixel values."
   ]
  },
  {
   "cell_type": "markdown",
   "id": "9",
   "metadata": {},
   "source": [
    "## Getting Basic Raster Information\n",
    "\n",
    "Once the raster file is opened, you can retrieve metadata about the raster, including its coordinate reference system (CRS), resolution, bounds, number of bands, and data type. Here's how you can access some of the essential properties:\n",
    "\n",
    "### Accessing Metadata and File Information\n",
    "\n",
    "1. **File Name:** The name attribute gives you the file path or URL of the opened raster."
   ]
  },
  {
   "cell_type": "code",
   "execution_count": null,
   "id": "10",
   "metadata": {},
   "outputs": [],
   "source": [
    "src.name"
   ]
  },
  {
   "cell_type": "markdown",
   "id": "11",
   "metadata": {},
   "source": [
    "2. **File Mode:** The `mode` attribute shows how the file was opened. For example, a raster can be opened in read-only (`'r'`) or write (`'w'`) mode."
   ]
  },
  {
   "cell_type": "code",
   "execution_count": null,
   "id": "12",
   "metadata": {},
   "outputs": [],
   "source": [
    "src.mode"
   ]
  },
  {
   "cell_type": "markdown",
   "id": "13",
   "metadata": {},
   "source": [
    "3. **Raster Metadata:** The `meta` attribute provides key information about the raster, such as its width, height, CRS, number of bands, and data type."
   ]
  },
  {
   "cell_type": "code",
   "execution_count": null,
   "id": "14",
   "metadata": {},
   "outputs": [],
   "source": [
    "src.meta"
   ]
  },
  {
   "cell_type": "markdown",
   "id": "15",
   "metadata": {},
   "source": [
    "### Coordinate Reference System (CRS)\n",
    "\n",
    "The CRS describes how the 2D pixel values relate to real-world geographic coordinates (latitude and longitude or projected coordinates). Knowing the CRS is essential for interpreting the data in a meaningful way. To retrieve the CRS:"
   ]
  },
  {
   "cell_type": "code",
   "execution_count": null,
   "id": "16",
   "metadata": {},
   "outputs": [],
   "source": [
    "src.crs"
   ]
  },
  {
   "cell_type": "markdown",
   "id": "17",
   "metadata": {},
   "source": [
    "### Spatial Resolution\n",
    "\n",
    "The resolution of a raster refers to the size of one pixel in real-world units (e.g., meters). You can access the resolution using the `res` attribute:"
   ]
  },
  {
   "cell_type": "code",
   "execution_count": null,
   "id": "18",
   "metadata": {},
   "outputs": [],
   "source": [
    "src.res"
   ]
  },
  {
   "cell_type": "markdown",
   "id": "19",
   "metadata": {},
   "source": [
    "### Dimensions: Width and Height\n",
    "\n",
    "The width and height provide the number of pixels along the x-axis and y-axis, respectively. These numbers indicate the grid's size in pixels."
   ]
  },
  {
   "cell_type": "code",
   "execution_count": null,
   "id": "20",
   "metadata": {},
   "outputs": [],
   "source": [
    "src.width"
   ]
  },
  {
   "cell_type": "code",
   "execution_count": null,
   "id": "21",
   "metadata": {},
   "outputs": [],
   "source": [
    "src.height"
   ]
  },
  {
   "cell_type": "markdown",
   "id": "22",
   "metadata": {},
   "source": [
    "### Bounds\n",
    "\n",
    "The `bounds` attribute provides the geographical extent of the raster dataset, represented by the coordinates of the edges of the raster (left, bottom, right, top)."
   ]
  },
  {
   "cell_type": "code",
   "execution_count": null,
   "id": "23",
   "metadata": {},
   "outputs": [],
   "source": [
    "src.bounds"
   ]
  },
  {
   "cell_type": "markdown",
   "id": "24",
   "metadata": {},
   "source": [
    "### Data Types\n",
    "\n",
    "The `dtypes` attribute gives you the data type of each pixel value (e.g., `uint8`, `int16`, `float32`). This is important when performing mathematical operations on the raster data."
   ]
  },
  {
   "cell_type": "code",
   "execution_count": null,
   "id": "25",
   "metadata": {},
   "outputs": [],
   "source": [
    "src.dtypes"
   ]
  },
  {
   "cell_type": "markdown",
   "id": "26",
   "metadata": {},
   "source": [
    "### Affine Transform\n",
    "\n",
    "The [affine transformation](https://en.wikipedia.org/wiki/Affine_transformation) matrix maps pixel coordinates to geographic coordinates. This transform is essential for understanding how the pixel locations relate to real-world coordinates."
   ]
  },
  {
   "cell_type": "code",
   "execution_count": null,
   "id": "27",
   "metadata": {},
   "outputs": [],
   "source": [
    "src.transform"
   ]
  },
  {
   "cell_type": "markdown",
   "id": "28",
   "metadata": {},
   "source": [
    "The transformation matrix consists of six parameters that control the scaling, translation, and rotation of the raster. Most rasters will have no rotation (`b`, `d` are 0), but the transformation will include the pixel size (`a`, `e`) and the geographic coordinates of the top-left pixel (`c`, `f`).\n",
    "\n",
    "- `a`: width of a pixel in the x-direction\n",
    "- `b`: row rotation (typically zero)\n",
    "- `c`: x-coordinate of the upper-left corner of the upper-left pixel\n",
    "- `d`: column rotation (typically zero)\n",
    "- `e`: height of a pixel in the y-direction (typically negative)\n",
    "- `f`: y-coordinate of the of the upper-left corner of the upper-left pixel\n",
    "\n",
    "`a` and `e` are the pixel width and height, respectively, and `c` and `f` are the coordinates of the upper-left corner of the raster. The other coefficients are used for rotation and shearing."
   ]
  },
  {
   "cell_type": "markdown",
   "id": "29",
   "metadata": {},
   "source": [
    "## Plotting Raster Data\n",
    "\n",
    "Rasterio can easily integrate with `matplotlib` for raster visualization. The `rasterio.plot.show()` function is the simplest way to display a raster image, and by default, it shows the first band of the raster.\n",
    "\n",
    "### Basic Raster Plot\n",
    "\n",
    "Here, we plot the raster using the `rasterio.plot.show()` method:"
   ]
  },
  {
   "cell_type": "code",
   "execution_count": null,
   "id": "30",
   "metadata": {},
   "outputs": [],
   "source": [
    "rasterio.plot.show(src)"
   ]
  },
  {
   "cell_type": "markdown",
   "id": "31",
   "metadata": {},
   "source": [
    "This function automatically handles the raster's georeferencing, ensuring that the raster is displayed in its correct geographic position."
   ]
  },
  {
   "cell_type": "markdown",
   "id": "32",
   "metadata": {},
   "source": [
    "### Plotting a Specific Band\n",
    "\n",
    "Rasterio supports multi-band rasters (e.g., satellite imagery). To display a specific band, you can pass the band number as a tuple along with the dataset object. Here, we plot the first band:"
   ]
  },
  {
   "cell_type": "code",
   "execution_count": null,
   "id": "33",
   "metadata": {},
   "outputs": [],
   "source": [
    "rasterio.plot.show((src, 1))"
   ]
  },
  {
   "cell_type": "markdown",
   "id": "34",
   "metadata": {},
   "source": [
    "In geospatial data, bands refer to different layers of data (e.g., red, green, blue, infrared for satellite images). The band index in `rasterio` is 1-based, so band 1 refers to the first band in the dataset."
   ]
  },
  {
   "cell_type": "markdown",
   "id": "35",
   "metadata": {},
   "source": [
    "### Customizing Plots\n",
    "\n",
    "You can further enhance your plots with color maps and titles. Here’s an example that customizes the colormap to terrain and adds a title to the plot:"
   ]
  },
  {
   "cell_type": "code",
   "execution_count": null,
   "id": "36",
   "metadata": {},
   "outputs": [],
   "source": [
    "fig, ax = plt.subplots(figsize=(8, 8))\n",
    "rasterio.plot.show(src, cmap=\"terrain\", ax=ax, title=\"Digital Elevation Model (DEM)\")\n",
    "plt.show()"
   ]
  },
  {
   "cell_type": "markdown",
   "id": "37",
   "metadata": {},
   "source": [
    "### Plotting a Vector Layer on Top of a Raster Image\n",
    "\n",
    "In geospatial analysis, it is common to overlay vector data on top of raster images to provide additional context. Vector data often represents boundaries, roads, or other features, while raster data represents continuous fields like elevation or temperature. For instance, we might want to plot a vector boundary over a Digital Elevation Model (DEM) raster. In this example, we load a GeoJSON file containing vector data, ensure it has the same CRS as the raster, and plot it on top of the DEM.\n",
    "\n",
    "First, let's load the vector data and reproject it to match the CRS of the raster:"
   ]
  },
  {
   "cell_type": "code",
   "execution_count": null,
   "id": "38",
   "metadata": {},
   "outputs": [],
   "source": [
    "dem_bounds = (\n",
    "    \"https://github.com/opengeos/datasets/releases/download/places/dem_bounds.geojson\"\n",
    ")\n",
    "gdf = gpd.read_file(dem_bounds)\n",
    "gdf = gdf.to_crs(src.crs)"
   ]
  },
  {
   "cell_type": "markdown",
   "id": "39",
   "metadata": {},
   "source": [
    "The vector data is read using `geopandas.read_file()`, and then we ensure the vector data’s CRS matches the CRS of the raster using `gdf.to_crs(src.crs)`. This step is critical to ensure proper alignment between the raster and vector layers.\n",
    "\n",
    "Next, we can plot the DEM raster and overlay the vector data:"
   ]
  },
  {
   "cell_type": "code",
   "execution_count": null,
   "id": "40",
   "metadata": {},
   "outputs": [],
   "source": [
    "fig, ax = plt.subplots(figsize=(8, 8))\n",
    "rasterio.plot.show(src, cmap=\"terrain\", ax=ax, title=\"Digital Elevation Model (DEM)\")\n",
    "gdf.plot(ax=ax, edgecolor=\"red\", facecolor=\"none\", lw=2)"
   ]
  },
  {
   "cell_type": "markdown",
   "id": "41",
   "metadata": {},
   "source": [
    "In this block, we use `rasterio.plot.show()` to plot the raster data, using the `\"terrain\"` colormap to visualize the elevation changes. We then overlay the vector boundary on top using `gdf.plot()`. The `edgecolor='red'` sets the boundary color to red, and `facecolor='none'` ensures the interior of the boundary remains transparent, making it easier to view the raster underneath."
   ]
  },
  {
   "cell_type": "markdown",
   "id": "42",
   "metadata": {},
   "source": [
    "### Custom Colormap and Colorbar\n",
    "\n",
    "When visualizing raster data, colormaps help map pixel values to colors, while colorbars provide a scale reference for interpreting the pixel values. In this example, we will plot the first band of the DEM with a custom colormap (`'terrain'`) and add a colorbar to better interpret the elevation values.\n",
    "\n",
    "Let's read the first band and plot it with a colormap:"
   ]
  },
  {
   "cell_type": "code",
   "execution_count": null,
   "id": "43",
   "metadata": {},
   "outputs": [],
   "source": [
    "elev_band = src.read(1)\n",
    "plt.figure(figsize=(8, 8))\n",
    "plt.imshow(elev_band, cmap=\"terrain\")\n",
    "plt.colorbar(label=\"Elevation (meters)\", shrink=0.5)\n",
    "plt.title(\"DEM with Terrain Colormap\")\n",
    "plt.show()"
   ]
  },
  {
   "cell_type": "markdown",
   "id": "44",
   "metadata": {},
   "source": [
    "Here, we read the first band of the raster using `src.read(1)`, which corresponds to the elevation data of the DEM. The `plt.imshow()` function displays the raster using the `'terrain'` colormap. We also add a colorbar using `plt.colorbar()` to provide a reference for interpreting the elevation values, and the `shrink=0.5` option scales the colorbar to fit the figure.\n",
    "\n",
    "The plot shows the DEM with a color map that highlights different elevations using the `'terrain'` color scheme. The colorbar provides a clear scale to understand how the pixel values (representing elevation in meters) are distributed. The plot also has a title to provide additional context."
   ]
  },
  {
   "cell_type": "markdown",
   "id": "45",
   "metadata": {},
   "source": [
    "## Accessing and Manipulating Raster Bands\n",
    "\n",
    "Raster datasets often consist of multiple bands, each capturing a different part of the electromagnetic spectrum. For instance, satellite images may include separate bands for red, green, blue, and near-infrared (NIR) wavelengths.\n",
    "\n",
    "### Reading Multiple Bands\n",
    "\n",
    "To start, let's open a multi-band raster dataset using the `rasterio` library."
   ]
  },
  {
   "cell_type": "code",
   "execution_count": null,
   "id": "46",
   "metadata": {},
   "outputs": [],
   "source": [
    "raster_path = \"https://github.com/opengeos/datasets/releases/download/raster/LC09_039035_20240708_90m.tif\"\n",
    "src = rasterio.open(raster_path)\n",
    "print(src)"
   ]
  },
  {
   "cell_type": "markdown",
   "id": "47",
   "metadata": {},
   "source": [
    "Once the file is opened, we can inspect its metadata to learn about the dataset:"
   ]
  },
  {
   "cell_type": "code",
   "execution_count": null,
   "id": "48",
   "metadata": {},
   "outputs": [],
   "source": [
    "src.meta"
   ]
  },
  {
   "cell_type": "markdown",
   "id": "49",
   "metadata": {},
   "source": [
    "This dataset contains multiple bands, each corresponding to a specific wavelength range, as described in the table below:"
   ]
  },
  {
   "cell_type": "markdown",
   "id": "50",
   "metadata": {},
   "source": [
    "| Name   | Wavelength       | Description                                        |\n",
    "|--------|------------------|----------------------------------------------------|\n",
    "| SR_B1  | 0.435-0.451 μm   | Band 1 (ultra blue, coastal aerosol) surface reflectance |\n",
    "| SR_B2  | 0.452-0.512 μm   | Band 2 (blue) surface reflectance                   |\n",
    "| SR_B3  | 0.533-0.590 μm   | Band 3 (green) surface reflectance                  |\n",
    "| SR_B4  | 0.636-0.673 μm   | Band 4 (red) surface reflectance                    |\n",
    "| SR_B5  | 0.851-0.879 μm   | Band 5 (near infrared) surface reflectance          |\n",
    "| SR_B6  | 1.566-1.651 μm   | Band 6 (shortwave infrared 1) surface reflectance   |\n",
    "| SR_B7  | 2.107-2.294 μm   | Band 7 (shortwave infrared 2) surface reflectance   |\n",
    "\n",
    "For convenience, let's define a list of human-readable band names:"
   ]
  },
  {
   "cell_type": "code",
   "execution_count": null,
   "id": "51",
   "metadata": {},
   "outputs": [],
   "source": [
    "band_names = [\"Coastal Aerosol\", \"Blue\", \"Green\", \"Red\", \"NIR\", \"SWIR1\", \"SWIR2\"]"
   ]
  },
  {
   "cell_type": "markdown",
   "id": "52",
   "metadata": {},
   "source": [
    "We can visualize an individual band (for example, Band 5 - NIR) using `rasterio`'s plotting functionality:"
   ]
  },
  {
   "cell_type": "code",
   "execution_count": null,
   "id": "53",
   "metadata": {},
   "outputs": [],
   "source": [
    "rasterio.plot.show((src, 5), cmap=\"Greys_r\")"
   ]
  },
  {
   "cell_type": "markdown",
   "id": "54",
   "metadata": {},
   "source": [
    "### Visualizing Multiple Bands\n",
    "\n",
    "To visualize all the bands together, we can create a multi-panel plot, displaying each band with its respective name:"
   ]
  },
  {
   "cell_type": "code",
   "execution_count": null,
   "id": "55",
   "metadata": {},
   "outputs": [],
   "source": [
    "fig, axes = plt.subplots(nrows=3, ncols=2, figsize=(8, 10))\n",
    "axes = axes.flatten()  # Flatten the 2D array of axes to 1D for easy iteration\n",
    "\n",
    "for band in range(1, src.count):\n",
    "    data = src.read(band)\n",
    "    ax = axes[band - 1]\n",
    "    im = ax.imshow(data, cmap=\"gray\", vmin=0, vmax=0.5)\n",
    "    ax.set_title(f\"Band {band_names[band - 1]}\")\n",
    "    fig.colorbar(im, ax=ax, label=\"Reflectance\", shrink=0.5)\n",
    "\n",
    "plt.tight_layout()\n",
    "plt.show()"
   ]
  },
  {
   "cell_type": "markdown",
   "id": "56",
   "metadata": {},
   "source": [
    "### Stacking and Plotting Bands\n",
    "\n",
    "We can combine several bands into a single image by stacking them into an array. For example, we'll stack the NIR, Red, and Green bands:"
   ]
  },
  {
   "cell_type": "code",
   "execution_count": null,
   "id": "57",
   "metadata": {},
   "outputs": [],
   "source": [
    "nir_band = src.read(5)\n",
    "red_band = src.read(4)\n",
    "green_band = src.read(3)\n",
    "\n",
    "# Stack the bands into a single array\n",
    "rgb = np.dstack((nir_band, red_band, green_band)).clip(0, 1)\n",
    "\n",
    "# Plot the stacked array\n",
    "plt.figure(figsize=(8, 8))\n",
    "plt.imshow(rgb)\n",
    "plt.title(\"Bands NIR, Red, and Green combined\")\n",
    "plt.show()"
   ]
  },
  {
   "cell_type": "markdown",
   "id": "58",
   "metadata": {},
   "source": [
    "### Basic Band Math (NDVI Calculation)\n",
    "\n",
    "Band math enables us to perform computations across different bands. A common application is calculating the Normalized Difference Vegetation Index (NDVI), which is an indicator of vegetation health.\n",
    "\n",
    "NDVI is calculated as:\n",
    "\n",
    "NDVI = (NIR - Red) / (NIR + Red)\n",
    "\n",
    "We can compute and plot the NDVI as follows:"
   ]
  },
  {
   "cell_type": "code",
   "execution_count": null,
   "id": "59",
   "metadata": {},
   "outputs": [],
   "source": [
    "# NDVI Calculation: NDVI = (NIR - Red) / (NIR + Red)\n",
    "ndvi = (nir_band - red_band) / (nir_band + red_band)\n",
    "ndvi = ndvi.clip(-1, 1)\n",
    "\n",
    "plt.figure(figsize=(8, 8))\n",
    "plt.imshow(ndvi, cmap=\"RdYlGn\", vmin=-1, vmax=1)\n",
    "plt.colorbar(label=\"NDVI\", shrink=0.5)\n",
    "plt.title(\"NDVI\")\n",
    "plt.xlabel(\"Column #\")\n",
    "plt.ylabel(\"Row #\")\n",
    "plt.show()"
   ]
  },
  {
   "cell_type": "markdown",
   "id": "60",
   "metadata": {},
   "source": [
    "## Writing Raster Data\n",
    "\n",
    "After processing the raster data (e.g., computing NDVI), you may want to save the results to a new file. Using `rasterio`, we can write the data back to a GeoTIFF file.\n",
    "\n",
    "First, we review and update the profile (metadata) for the output file:"
   ]
  },
  {
   "cell_type": "code",
   "execution_count": null,
   "id": "61",
   "metadata": {},
   "outputs": [],
   "source": [
    "with rasterio.open(raster_path) as src:\n",
    "    profile = src.profile\n",
    "print(profile)"
   ]
  },
  {
   "cell_type": "markdown",
   "id": "62",
   "metadata": {},
   "source": [
    "Then, we adjust the profile to fit the modified dataset (e.g., NDVI):"
   ]
  },
  {
   "cell_type": "code",
   "execution_count": null,
   "id": "63",
   "metadata": {},
   "outputs": [],
   "source": [
    "profile.update(dtype=rasterio.float32, count=1, compress=\"lzw\")\n",
    "print(profile)"
   ]
  },
  {
   "cell_type": "markdown",
   "id": "64",
   "metadata": {},
   "source": [
    "Finally, we write the NDVI data to a new file:"
   ]
  },
  {
   "cell_type": "code",
   "execution_count": null,
   "id": "65",
   "metadata": {},
   "outputs": [],
   "source": [
    "output_raster_path = \"ndvi.tif\"\n",
    "\n",
    "with rasterio.open(output_raster_path, \"w\", **profile) as dst:\n",
    "    dst.write(ndvi, 1)\n",
    "print(f\"Raster data has been written to {output_raster_path}\")"
   ]
  },
  {
   "cell_type": "markdown",
   "id": "66",
   "metadata": {},
   "source": [
    "## Clipping Raster Data\n",
    "\n",
    "To extract a subset of the raster data, we can either slice the array or use geographic bounds.\n",
    "\n",
    "First, let's open the sample raster dataset:"
   ]
  },
  {
   "cell_type": "code",
   "execution_count": null,
   "id": "67",
   "metadata": {},
   "outputs": [],
   "source": [
    "src = rasterio.open(raster_path)\n",
    "data = src.read()"
   ]
  },
  {
   "cell_type": "code",
   "execution_count": null,
   "id": "68",
   "metadata": {},
   "outputs": [],
   "source": [
    "data.shape"
   ]
  },
  {
   "cell_type": "markdown",
   "id": "69",
   "metadata": {},
   "source": [
    "Then, let's clip a portion of the raster data using array indices:"
   ]
  },
  {
   "cell_type": "code",
   "execution_count": null,
   "id": "70",
   "metadata": {},
   "outputs": [],
   "source": [
    "subset = data[:, 900:1400, 700:1200].clip(0, 1)\n",
    "rgb_subset = np.dstack((subset[4], subset[3], subset[2]))\n",
    "rgb_subset.shape"
   ]
  },
  {
   "cell_type": "code",
   "execution_count": null,
   "id": "71",
   "metadata": {},
   "outputs": [],
   "source": [
    "# Plot the stacked array\n",
    "plt.figure(figsize=(8, 8))\n",
    "plt.imshow(rgb_subset)\n",
    "plt.title(\"Las Vegas, NV\")\n",
    "plt.show()"
   ]
  },
  {
   "cell_type": "markdown",
   "id": "72",
   "metadata": {},
   "source": [
    "Alternatively, we can use a specific geographic window to clip the data:"
   ]
  },
  {
   "cell_type": "code",
   "execution_count": null,
   "id": "73",
   "metadata": {},
   "outputs": [],
   "source": [
    "from rasterio.windows import Window\n",
    "from rasterio.transform import from_bounds\n",
    "\n",
    "# Assuming subset and src are already defined\n",
    "# Define the window of the subset (replace with actual window coordinates)\n",
    "window = Window(col_off=700, row_off=900, width=500, height=500)\n",
    "\n",
    "# Calculate the bounds of the window\n",
    "window_bounds = rasterio.windows.bounds(window, src.transform)\n",
    "\n",
    "# Calculate the new transform based on the window bounds\n",
    "new_transform = from_bounds(*window_bounds, window.width, window.height)"
   ]
  },
  {
   "cell_type": "markdown",
   "id": "74",
   "metadata": {},
   "source": [
    "After defining the window, we write the clipped data to a new file:"
   ]
  },
  {
   "cell_type": "code",
   "execution_count": null,
   "id": "75",
   "metadata": {},
   "outputs": [],
   "source": [
    "with rasterio.open(\n",
    "    \"las_vegas.tif\",\n",
    "    \"w\",\n",
    "    driver=\"GTiff\",\n",
    "    height=subset.shape[1],\n",
    "    width=subset.shape[2],\n",
    "    count=subset.shape[0],\n",
    "    dtype=subset.dtype,\n",
    "    crs=src.crs,\n",
    "    transform=new_transform,\n",
    "    compress=\"lzw\",\n",
    ") as dst:\n",
    "    dst.write(subset)"
   ]
  },
  {
   "cell_type": "markdown",
   "id": "76",
   "metadata": {},
   "source": [
    "### Clipping with Vector Data\n",
    "\n",
    "To clip the raster using vector data (e.g., a GeoJSON bounding box), we can use `rasterio.mask`. First, load the vector data:"
   ]
  },
  {
   "cell_type": "code",
   "execution_count": null,
   "id": "77",
   "metadata": {},
   "outputs": [],
   "source": [
    "import fiona\n",
    "import rasterio.mask"
   ]
  },
  {
   "cell_type": "code",
   "execution_count": null,
   "id": "78",
   "metadata": {},
   "outputs": [],
   "source": [
    "geojson_path = \"https://github.com/opengeos/datasets/releases/download/places/las_vegas_bounds_utm.geojson\"\n",
    "bounds = gpd.read_file(geojson_path)"
   ]
  },
  {
   "cell_type": "markdown",
   "id": "79",
   "metadata": {},
   "source": [
    "Visualize the raster and vector data together:"
   ]
  },
  {
   "cell_type": "code",
   "execution_count": null,
   "id": "80",
   "metadata": {},
   "outputs": [],
   "source": [
    "fig, ax = plt.subplots()\n",
    "rasterio.plot.show(src, ax=ax)\n",
    "bounds.plot(ax=ax, edgecolor=\"red\", facecolor=\"none\")"
   ]
  },
  {
   "cell_type": "markdown",
   "id": "81",
   "metadata": {},
   "source": [
    "Next, apply the mask to extract only the area within the vector bounds:"
   ]
  },
  {
   "cell_type": "code",
   "execution_count": null,
   "id": "82",
   "metadata": {},
   "outputs": [],
   "source": [
    "with fiona.open(geojson_path, \"r\") as f:\n",
    "    shapes = [feature[\"geometry\"] for feature in f]"
   ]
  },
  {
   "cell_type": "code",
   "execution_count": null,
   "id": "83",
   "metadata": {},
   "outputs": [],
   "source": [
    "out_image, out_transform = rasterio.mask.mask(src, shapes, crop=True)"
   ]
  },
  {
   "cell_type": "markdown",
   "id": "84",
   "metadata": {},
   "source": [
    "Finally, write the clipped raster to a new file:"
   ]
  },
  {
   "cell_type": "code",
   "execution_count": null,
   "id": "85",
   "metadata": {},
   "outputs": [],
   "source": [
    "out_meta = src.meta\n",
    "out_meta.update(\n",
    "    {\n",
    "        \"driver\": \"GTiff\",\n",
    "        \"height\": out_image.shape[1],\n",
    "        \"width\": out_image.shape[2],\n",
    "        \"transform\": out_transform,\n",
    "    }\n",
    ")\n",
    "\n",
    "with rasterio.open(\"las_vegas_clip.tif\", \"w\", **out_meta) as dst:\n",
    "    dst.write(out_image)"
   ]
  },
  {
   "cell_type": "markdown",
   "id": "86",
   "metadata": {},
   "source": [
    "## Reprojecting Raster Data\n",
    "\n",
    "To reproject a raster from one coordinate reference system (CRS) to another, we use the `rasterio.warp` module. In this example, we reproject a raster to the WGS 84 (EPSG:3857) CRS and save the reprojected raster to a new file."
   ]
  },
  {
   "cell_type": "code",
   "execution_count": null,
   "id": "87",
   "metadata": {},
   "outputs": [],
   "source": [
    "from rasterio.warp import calculate_default_transform, reproject, Resampling\n",
    "\n",
    "raster_path = \"las_vegas.tif\"\n",
    "dst_crs = \"EPSG:3857\"  # WGS 84\n",
    "output_reprojected_path = \"reprojected_raster.tif\"\n",
    "\n",
    "with rasterio.open(raster_path) as src:\n",
    "    transform, width, height = calculate_default_transform(\n",
    "        src.crs, dst_crs, src.width, src.height, *src.bounds\n",
    "    )\n",
    "\n",
    "    profile = src.profile\n",
    "    profile.update(crs=dst_crs, transform=transform, width=width, height=height)\n",
    "\n",
    "    with rasterio.open(output_reprojected_path, \"w\", **profile) as dst:\n",
    "        for i in range(1, src.count + 1):\n",
    "            reproject(\n",
    "                source=rasterio.band(src, i),\n",
    "                destination=rasterio.band(dst, i),\n",
    "                src_transform=src.transform,\n",
    "                src_crs=src.crs,\n",
    "                dst_transform=transform,\n",
    "                dst_crs=dst_crs,\n",
    "                resampling=Resampling.nearest,\n",
    "            )\n",
    "print(f\"Reprojected raster saved at {output_reprojected_path}\")"
   ]
  },
  {
   "cell_type": "markdown",
   "id": "88",
   "metadata": {},
   "source": [
    "## Creating Raster Data from Scratch\n",
    "\n",
    "In some cases, you might want to create raster data from scratch. In this example, we generate synthetic data representing a surface using NumPy and visualize it using both 2D and 3D plots."
   ]
  },
  {
   "cell_type": "code",
   "execution_count": null,
   "id": "89",
   "metadata": {},
   "outputs": [],
   "source": [
    "x = np.linspace(-4.0, 4.0, 240)\n",
    "y = np.linspace(-3.0, 3.0, 180)\n",
    "X, Y = np.meshgrid(x, y)\n",
    "Z1 = np.exp(-2 * np.log(2) * ((X - 0.5) ** 2 + (Y - 0.5) ** 2) / 1**2)\n",
    "Z2 = np.exp(-3 * np.log(2) * ((X + 0.5) ** 2 + (Y + 0.5) ** 2) / 2.5**2)\n",
    "Z = 10.0 * (Z2 - Z1)"
   ]
  },
  {
   "cell_type": "markdown",
   "id": "90",
   "metadata": {},
   "source": [
    "### 2D Contour Plot\n",
    "\n",
    "We can visualize the data in a 2D contour plot."
   ]
  },
  {
   "cell_type": "code",
   "execution_count": null,
   "id": "91",
   "metadata": {},
   "outputs": [],
   "source": [
    "fig = plt.figure(figsize=(5, 5))\n",
    "ax = fig.add_subplot(111)\n",
    "ax.contourf(X, Y, Z, cmap=\"RdYlBu\")\n",
    "plt.show()"
   ]
  },
  {
   "cell_type": "markdown",
   "id": "92",
   "metadata": {},
   "source": [
    "### 3D Surface Plot with Matplotlib\n",
    "\n",
    "For a more interactive view, we can generate a 3D surface plot using Matplotlib."
   ]
  },
  {
   "cell_type": "code",
   "execution_count": null,
   "id": "93",
   "metadata": {},
   "outputs": [],
   "source": [
    "# Create a 3D plot\n",
    "fig = plt.figure(figsize=(10, 7))\n",
    "ax = fig.add_subplot(111, projection=\"3d\")\n",
    "\n",
    "# Plot the surface\n",
    "ax.plot_surface(X, Y, Z, cmap=\"viridis\")\n",
    "\n",
    "# Add labels\n",
    "ax.set_xlabel(\"X axis\")\n",
    "ax.set_ylabel(\"Y axis\")\n",
    "ax.set_zlabel(\"Z axis\")\n",
    "ax.set_title(\"3D Surface Plot\")\n",
    "\n",
    "# Show the plot\n",
    "plt.show()"
   ]
  },
  {
   "cell_type": "markdown",
   "id": "94",
   "metadata": {},
   "source": [
    "### 3D Surface Plot with Plotly\n",
    "\n",
    "Alternatively, we can create a 3D surface plot with Plotly for better interactivity."
   ]
  },
  {
   "cell_type": "code",
   "execution_count": null,
   "id": "95",
   "metadata": {},
   "outputs": [],
   "source": [
    "import plotly.graph_objects as go\n",
    "\n",
    "# Create a 3D surface plot\n",
    "fig = go.Figure(data=[go.Surface(z=Z, x=X, y=Y, colorscale=\"Viridis\")])\n",
    "\n",
    "# Add labels and title\n",
    "fig.update_layout(\n",
    "    title=\"3D Surface Plot\",\n",
    "    scene=dict(xaxis_title=\"X axis\", yaxis_title=\"Y axis\", zaxis_title=\"Z axis\"),\n",
    "    autosize=False,\n",
    "    width=800,\n",
    "    height=800,\n",
    "    margin=dict(l=65, r=50, b=65, t=90),\n",
    ")\n",
    "\n",
    "# Show the plot\n",
    "fig.show()"
   ]
  },
  {
   "cell_type": "markdown",
   "id": "96",
   "metadata": {},
   "source": [
    "### Writing Synthetic Raster Data to a File\n",
    "\n",
    "To save the synthetic raster data to a GeoTIFF file, we first need to define a transform using the `Affine` module, which sets the spatial resolution and origin."
   ]
  },
  {
   "cell_type": "code",
   "execution_count": null,
   "id": "97",
   "metadata": {},
   "outputs": [],
   "source": [
    "from rasterio.transform import Affine\n",
    "\n",
    "res = (x[-1] - x[0]) / 240.0\n",
    "transform = Affine.translation(x[0] - res / 2, y[0] - res / 2) * Affine.scale(res, res)\n",
    "transform"
   ]
  },
  {
   "cell_type": "markdown",
   "id": "98",
   "metadata": {},
   "source": [
    "Finally, we can save the data as a raster using `rasterio.open`."
   ]
  },
  {
   "cell_type": "code",
   "execution_count": null,
   "id": "99",
   "metadata": {},
   "outputs": [],
   "source": [
    "with rasterio.open(\n",
    "    \"new_raster.tif\",\n",
    "    \"w\",\n",
    "    driver=\"GTiff\",\n",
    "    height=Z.shape[0],\n",
    "    width=Z.shape[1],\n",
    "    count=1,\n",
    "    dtype=Z.dtype,\n",
    "    crs=\"+proj=latlong\",\n",
    "    transform=transform,\n",
    ") as dst:\n",
    "    dst.write(Z, 1)"
   ]
  },
  {
   "cell_type": "markdown",
   "id": "100",
   "metadata": {},
   "source": [
    "## Exercises\n",
    "\n",
    "**Sample datasets**\n",
    "\n",
    "- Singlg-band image (DEM): https://github.com/opengeos/datasets/releases/download/raster/dem_90m.tif\n",
    "- Multispectral image (Landsat): https://github.com/opengeos/datasets/releases/download/raster/cog.tif\n",
    "\n",
    "**Exercise 1: Reading and Exploring Raster Data**\n",
    "\n",
    "1. Open the single-band DEM image using `rasterio`.\n",
    "2. Retrieve and print the raster metadata, including the CRS, resolution, bounds, number of bands, and data types.\n",
    "3. Display the raster’s width, height, and pixel data types to understand the grid dimensions and data structure."
   ]
  },
  {
   "cell_type": "code",
   "execution_count": null,
   "id": "101",
   "metadata": {},
   "outputs": [],
   "source": []
  },
  {
   "cell_type": "markdown",
   "id": "102",
   "metadata": {},
   "source": [
    "**Exercise 2: Visualizing and Manipulating Raster Bands**\n",
    "\n",
    "1. Visualize the single-band DEM using a custom colormap (e.g., cmap='terrain').\n",
    "2. Open the multispectral image and visualize the first band using a suitable colormap.\n",
    "3. Combine multiple bands from the multispectral image (e.g., Red, Green, and Blue) and stack them to create an RGB composite image."
   ]
  },
  {
   "cell_type": "code",
   "execution_count": null,
   "id": "103",
   "metadata": {},
   "outputs": [],
   "source": []
  },
  {
   "cell_type": "markdown",
   "id": "104",
   "metadata": {},
   "source": [
    "**Exercise 3: Raster Clipping with Array Indexing**\n",
    "\n",
    "1. Open the multispectral image and clip a geographic subset using array indexing (specifying row and column ranges).\n",
    "2. Visualize the clipped portion of the image using matplotlib to ensure the subset is correct.\n",
    "3. Save the clipped raster subset to a new file named `clipped_multispectral.tif`."
   ]
  },
  {
   "cell_type": "code",
   "execution_count": null,
   "id": "105",
   "metadata": {},
   "outputs": [],
   "source": []
  },
  {
   "cell_type": "markdown",
   "id": "106",
   "metadata": {},
   "source": [
    "**Exercise 4: Calculating NDWI (Band Math)**\n",
    "\n",
    "1. Open the multispectral image and extract the Green and Near-Infrared (NIR) bands.\n",
    "2. Compute the Normalized Difference Water Index ([NDWI](https://en.wikipedia.org/wiki/Normalized_difference_water_index)) using the formula:\n",
    "\n",
    "    NDWI= (Green - NIR) / (Green + NIR)\n",
    "\n",
    "3. Visualize the NDWI result using a water-friendly colormap (e.g., cmap='Blues') to highlight water bodies.\n",
    "4. Save the resulting NDWI image as a new raster file named ndwi.tif."
   ]
  },
  {
   "cell_type": "code",
   "execution_count": null,
   "id": "107",
   "metadata": {},
   "outputs": [],
   "source": []
  },
  {
   "cell_type": "markdown",
   "id": "108",
   "metadata": {},
   "source": [
    "**Exercise 5: Reprojecting Raster Data**\n",
    "\n",
    "1. Reproject the single-band DEM raster from its original CRS to EPSG:4326 (WGS 84) using the `rasterio.warp.reproject` function.\n",
    "2. Save the reprojected raster to a new GeoTIFF file named `reprojected_dem.tif`.\n",
    "3. Visualize both the original and reprojected DEM datasets to compare how the reprojection affects the spatial coverage and resolution."
   ]
  },
  {
   "cell_type": "code",
   "execution_count": null,
   "id": "109",
   "metadata": {},
   "outputs": [],
   "source": []
  },
  {
   "cell_type": "markdown",
   "id": "110",
   "metadata": {},
   "source": [
    "## Summary\n",
    "\n",
    "Rasterio is a powerful and flexible tool for handling geospatial raster data in Python. Whether you are visualizing satellite imagery, performing raster math, or saving new datasets, it offers a convenient interface for working with raster data. The examples and exercises provided should help you gain hands-on experience with Rasterio, enabling you to work more confidently with geospatial data in various applications."
   ]
  }
 ],
 "metadata": {
  "kernelspec": {
   "display_name": "Python 3 (ipykernel)",
   "language": "python",
   "name": "python3"
  },
  "language_info": {
   "codemirror_mode": {
    "name": "ipython",
    "version": 3
   },
   "file_extension": ".py",
   "mimetype": "text/x-python",
   "name": "python",
   "nbconvert_exporter": "python",
   "pygments_lexer": "ipython3",
   "version": "3.11.8"
  }
 },
 "nbformat": 4,
 "nbformat_minor": 5
}
