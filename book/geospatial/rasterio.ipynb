{
 "cells": [
  {
   "cell_type": "markdown",
   "id": "0",
   "metadata": {},
   "source": [
    "# Rasterio\n",
    "\n",
    "[![Open In Colab](https://colab.research.google.com/assets/colab-badge.svg)](https://colab.research.google.com/github/giswqs/geog-312/blob/main/book/geospatial/rasterio.ipynb)\n",
    "\n",
    "## Introduction \n",
    "\n",
    "[Rasterio](https://rasterio.readthedocs.io/) is a Python library that allows you to read, write, and analyze geospatial raster data. It is built on top of GDAL (Geospatial Data Abstraction Library) and provides a simple, Pythonic interface to work with raster datasets, such as satellite images and digital elevation models (DEMs)."
   ]
  },
  {
   "cell_type": "markdown",
   "id": "1",
   "metadata": {},
   "source": [
    "## Installing and Importing Rasterio\n",
    "\n",
    "Before using Rasterio, you need to install it. You can install Rasterio using pip:\n",
    "\n",
    "`!pip install rasterio`\n",
    "\n",
    "Once installed, you can import it like this:"
   ]
  },
  {
   "cell_type": "code",
   "execution_count": null,
   "id": "2",
   "metadata": {},
   "outputs": [],
   "source": [
    "import rasterio\n",
    "from rasterio.plot import show\n",
    "import matplotlib.pyplot as plt"
   ]
  },
  {
   "cell_type": "markdown",
   "id": "3",
   "metadata": {},
   "source": [
    "## Reading Raster Data\n",
    "\n",
    "Rasterio allows you to read raster data in various formats, including GeoTIFF. Let's start by reading a raster file and displaying some basic information about the dataset."
   ]
  },
  {
   "cell_type": "code",
   "execution_count": null,
   "id": "4",
   "metadata": {},
   "outputs": [],
   "source": [
    "# Reading a raster file\n",
    "raster_path = \"https://github.com/opengeos/datasets/releases/download/raster/srtm90.tif\"\n",
    "try:\n",
    "    with rasterio.open(raster_path) as src:\n",
    "        print(f\"Raster CRS: {src.crs}\")\n",
    "        print(f\"Raster dimensions: {src.width} x {src.height}\")\n",
    "        print(f\"Raster bounds: {src.bounds}\")\n",
    "        print(f\"Raster count: {src.count}\")  # Number of bands\n",
    "except Exception as e:\n",
    "    print(f\"An error occurred: {e}\")"
   ]
  },
  {
   "cell_type": "markdown",
   "id": "5",
   "metadata": {},
   "source": [
    "## Plotting Raster Data\n",
    "\n",
    "Rasterio integrates well with Matplotlib, allowing you to easily plot raster data. Let's plot the raster data we just read."
   ]
  },
  {
   "cell_type": "code",
   "execution_count": null,
   "id": "6",
   "metadata": {},
   "outputs": [],
   "source": [
    "# Plotting the raster data\n",
    "try:\n",
    "    with rasterio.open(raster_path) as src:\n",
    "        fig, ax = plt.subplots(figsize=(10, 10))\n",
    "        show(src, ax=ax, title=\"Raster Data\")\n",
    "        plt.show()\n",
    "except Exception as e:\n",
    "    print(f\"An error occurred: {e}\")"
   ]
  },
  {
   "cell_type": "markdown",
   "id": "7",
   "metadata": {},
   "source": [
    "## Accessing Raster Bands\n",
    "\n",
    "Raster data often consists of multiple bands, each representing different information (e.g., different spectral bands in satellite imagery). You can access and manipulate these bands individually using Rasterio."
   ]
  },
  {
   "cell_type": "code",
   "execution_count": null,
   "id": "8",
   "metadata": {},
   "outputs": [],
   "source": [
    "# Accessing and plotting a single band\n",
    "try:\n",
    "    with rasterio.open(raster_path) as src:\n",
    "        band1 = src.read(1)  # Reading the first band\n",
    "        plt.figure(figsize=(10, 10))\n",
    "        plt.title(\"Band 1\")\n",
    "        plt.imshow(band1, cmap=\"gray\")\n",
    "        plt.colorbar(label=\"Pixel values\")\n",
    "        plt.show()\n",
    "except Exception as e:\n",
    "    print(f\"An error occurred: {e}\")"
   ]
  },
  {
   "cell_type": "markdown",
   "id": "9",
   "metadata": {},
   "source": [
    "## Writing Raster Data\n",
    "\n",
    "After processing or modifying raster data, you may want to save the results to a new file. Rasterio allows you to write raster data to various formats."
   ]
  },
  {
   "cell_type": "code",
   "execution_count": null,
   "id": "10",
   "metadata": {},
   "outputs": [],
   "source": [
    "# Writing the modified raster data to a new file\n",
    "output_raster_path = \"output_raster_file.tif\"\n",
    "try:\n",
    "    with rasterio.open(raster_path) as src:\n",
    "        meta = src.meta\n",
    "        with rasterio.open(output_raster_path, \"w\", **meta) as dst:\n",
    "            dst.write(band1, 1)  # Writing the first band\n",
    "    print(f\"Raster data has been written to {output_raster_path}\")\n",
    "except Exception as e:\n",
    "    print(f\"An error occurred while writing to {output_raster_path}: {e}\")"
   ]
  },
  {
   "cell_type": "markdown",
   "id": "11",
   "metadata": {},
   "source": [
    "## Exercises\n",
    "\n",
    "1. Load a raster file of your choice, display the metadata, and plot all the bands separately.\n",
    "2. Modify one of the bands (e.g., apply a mathematical operation) and save the modified raster to a new file.\n",
    "3. Write a function that calculates the histogram of pixel values for a given raster band and plots it.\n",
    "4. Explore how to reproject a raster file to a different coordinate reference system (CRS) using Rasterio."
   ]
  },
  {
   "cell_type": "code",
   "execution_count": null,
   "id": "12",
   "metadata": {},
   "outputs": [],
   "source": [
    "# Type your code here."
   ]
  },
  {
   "cell_type": "markdown",
   "id": "13",
   "metadata": {},
   "source": [
    "## Conclusion\n",
    "\n",
    "Rasterio is a powerful library for working with geospatial raster data in Python. It provides a simple yet flexible interface for reading, writing, and analyzing raster data. By completing these exercises, you'll gain practical experience in handling raster data for geospatial applications."
   ]
  }
 ],
 "metadata": {
  "kernelspec": {
   "display_name": "Python 3",
   "language": "python",
   "name": "python3"
  },
  "language_info": {
   "codemirror_mode": {
    "name": "ipython",
    "version": 3
   },
   "file_extension": ".py",
   "mimetype": "text/x-python",
   "name": "python",
   "nbconvert_exporter": "python",
   "pygments_lexer": "ipython3",
   "version": "3.11.8"
  }
 },
 "nbformat": 4,
 "nbformat_minor": 5
}
