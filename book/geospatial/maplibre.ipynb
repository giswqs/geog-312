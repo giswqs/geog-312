{
 "cells": [
  {
   "cell_type": "markdown",
   "id": "0",
   "metadata": {},
   "source": [
    "# MapLibre\n",
    "\n",
    "[![Open In Colab](https://colab.research.google.com/assets/colab-badge.svg)](https://colab.research.google.com/github/giswqs/geog-312/blob/main/book/geospatial/maplibre.ipynb)\n",
    "\n",
    "## Overview\n",
    "\n",
    "This lecture introduces the [MapLibre](https://github.com/eodaGmbH/py-maplibregl) Python package, a flexible open-source mapping Python package that allows users to create interactive and customizable 3D and 2D maps in Python. By leveraging the MapLibre library, GIS developers can visualize geospatial data with a variety of customization options and mapping styles. The notebook demonstrates essential concepts like creating interactive maps, customizing basemaps, adding various data layers, and implementing map controls for enhanced functionality. Additionally, advanced features, such as 3D building visualization and layer control, provide students with practical tools for real-world geospatial data analysis and visualization.\n",
    "\n",
    "## Learning Outcomes\n",
    "\n",
    "By the end of this lecture, students will be able to:\n",
    "\n",
    "1. Set up and install MapLibre for geospatial visualization in Python.\n",
    "2. Create basic interactive maps and apply different basemap styles.\n",
    "3. Customize map features, including markers, lines, polygons, and map controls.\n",
    "4. Utilize advanced features such as 3D buildings and choropleth maps.\n",
    "5. Integrate and manage multiple data layers, including GeoJSON, raster, and vector layers.\n",
    "6. Export map visualizations as standalone HTML files for sharing and deployment.\n",
    "\n",
    "## Useful Resources\n",
    "\n",
    "- Notebooks: https://leafmap.org/maplibre/overview\n",
    "- Videos: https://bit.ly/maplibre\n",
    "- Demos: https://maps.gishub.org\n",
    "\n",
    "## Installation\n",
    "\n",
    "Uncomment the following line to install the required Python packages."
   ]
  },
  {
   "cell_type": "code",
   "execution_count": null,
   "id": "1",
   "metadata": {},
   "outputs": [],
   "source": [
    "# %pip install -U \"leafmap[maplibre]\""
   ]
  },
  {
   "cell_type": "markdown",
   "id": "2",
   "metadata": {},
   "source": [
    "Import the maplibre mapping backend."
   ]
  },
  {
   "cell_type": "code",
   "execution_count": null,
   "id": "3",
   "metadata": {},
   "outputs": [],
   "source": [
    "import leafmap.maplibregl as leafmap"
   ]
  },
  {
   "cell_type": "markdown",
   "id": "4",
   "metadata": {},
   "source": [
    "## Create Interactive Maps\n",
    "\n",
    "Let's create a simple interactive map using Leafmap."
   ]
  },
  {
   "cell_type": "code",
   "execution_count": null,
   "id": "5",
   "metadata": {},
   "outputs": [],
   "source": [
    "m = leafmap.Map()\n",
    "m"
   ]
  },
  {
   "cell_type": "markdown",
   "id": "6",
   "metadata": {},
   "source": [
    "You can customize the map by specifying map center [lon, lat], zoom level, pitch, and bearing."
   ]
  },
  {
   "cell_type": "code",
   "execution_count": null,
   "id": "7",
   "metadata": {},
   "outputs": [],
   "source": [
    "m = leafmap.Map(center=[-100, 40], zoom=3, pitch=0, bearing=0)\n",
    "m"
   ]
  },
  {
   "cell_type": "markdown",
   "id": "8",
   "metadata": {},
   "source": [
    "To customize the basemap, you can specify the `style` parameter. It can be an URL or a string, such as `dark-matter`, `positron`, `voyager`, `liberty`, `demotiles`."
   ]
  },
  {
   "cell_type": "code",
   "execution_count": null,
   "id": "9",
   "metadata": {},
   "outputs": [],
   "source": [
    "m = leafmap.Map(style=\"positron\")\n",
    "m"
   ]
  },
  {
   "cell_type": "markdown",
   "id": "10",
   "metadata": {},
   "source": [
    "To create a map with a background color, use `style=\"background-<COLOR>\"`, such as `background-lightgray` and `background-green`."
   ]
  },
  {
   "cell_type": "code",
   "execution_count": null,
   "id": "11",
   "metadata": {},
   "outputs": [],
   "source": [
    "m = leafmap.Map(style=\"background-lightgray\")\n",
    "m"
   ]
  },
  {
   "cell_type": "code",
   "execution_count": null,
   "id": "12",
   "metadata": {},
   "outputs": [],
   "source": [
    "m = leafmap.Map(style=\"liberty\")\n",
    "m"
   ]
  },
  {
   "cell_type": "markdown",
   "id": "13",
   "metadata": {},
   "source": [
    "Alternatively, you can provide a URL to a vector style."
   ]
  },
  {
   "cell_type": "code",
   "execution_count": null,
   "id": "14",
   "metadata": {},
   "outputs": [],
   "source": [
    "style = \"https://demotiles.maplibre.org/style.json\"\n",
    "m = leafmap.Map(style=style)\n",
    "m"
   ]
  },
  {
   "cell_type": "markdown",
   "id": "15",
   "metadata": {},
   "source": [
    "## Add map controls\n",
    "\n",
    "The control to add to the map. Can be one of the following: `scale`, `fullscreen`, `geolocate`, `navigation`.\n",
    "\n",
    "### Geolocate control"
   ]
  },
  {
   "cell_type": "code",
   "execution_count": null,
   "id": "16",
   "metadata": {},
   "outputs": [],
   "source": [
    "m = leafmap.Map()\n",
    "m.add_control(\"geolocate\", position=\"top-left\")\n",
    "m"
   ]
  },
  {
   "cell_type": "markdown",
   "id": "17",
   "metadata": {},
   "source": [
    "### Fullscreen control"
   ]
  },
  {
   "cell_type": "code",
   "execution_count": null,
   "id": "18",
   "metadata": {},
   "outputs": [],
   "source": [
    "m = leafmap.Map(center=[11.255, 43.77], zoom=13, style=\"streets\", controls={})\n",
    "m.add_control(\"fullscreen\", position=\"top-right\")\n",
    "m"
   ]
  },
  {
   "cell_type": "markdown",
   "id": "19",
   "metadata": {},
   "source": [
    "### Navigation control"
   ]
  },
  {
   "cell_type": "code",
   "execution_count": null,
   "id": "20",
   "metadata": {},
   "outputs": [],
   "source": [
    "m = leafmap.Map(center=[11.255, 43.77], zoom=13, style=\"streets\", controls={})\n",
    "m.add_control(\"navigation\", position=\"top-left\")\n",
    "m"
   ]
  },
  {
   "cell_type": "markdown",
   "id": "21",
   "metadata": {},
   "source": [
    "### Draw control \n",
    "\n",
    "Add the default draw control."
   ]
  },
  {
   "cell_type": "code",
   "execution_count": null,
   "id": "22",
   "metadata": {},
   "outputs": [],
   "source": [
    "m = leafmap.Map(center=[-100, 40], zoom=3, style=\"positron\")\n",
    "m.add_draw_control(position=\"top-left\")\n",
    "m"
   ]
  },
  {
   "cell_type": "markdown",
   "id": "23",
   "metadata": {},
   "source": [
    "Only activate a give set of control."
   ]
  },
  {
   "cell_type": "code",
   "execution_count": null,
   "id": "24",
   "metadata": {},
   "outputs": [],
   "source": [
    "from maplibre.plugins import MapboxDrawControls, MapboxDrawOptions"
   ]
  },
  {
   "cell_type": "code",
   "execution_count": null,
   "id": "25",
   "metadata": {},
   "outputs": [],
   "source": [
    "m = leafmap.Map(center=[-100, 40], zoom=3, style=\"positron\")\n",
    "draw_options = MapboxDrawOptions(\n",
    "    display_controls_default=False,\n",
    "    controls=MapboxDrawControls(polygon=True, line_string=True, point=True, trash=True),\n",
    ")\n",
    "m.add_draw_control(draw_options)\n",
    "m"
   ]
  },
  {
   "cell_type": "markdown",
   "id": "26",
   "metadata": {},
   "source": [
    "Load a GeoJSON FeatureCollection to the draw control."
   ]
  },
  {
   "cell_type": "code",
   "execution_count": null,
   "id": "27",
   "metadata": {},
   "outputs": [],
   "source": [
    "m = leafmap.Map(center=[-100, 40], zoom=3, style=\"positron\")\n",
    "geojson = {\n",
    "    \"type\": \"FeatureCollection\",\n",
    "    \"features\": [\n",
    "        {\n",
    "            \"id\": \"abc\",\n",
    "            \"type\": \"Feature\",\n",
    "            \"properties\": {},\n",
    "            \"geometry\": {\n",
    "                \"coordinates\": [\n",
    "                    [\n",
    "                        [-119.08, 45.95],\n",
    "                        [-119.79, 42.08],\n",
    "                        [-107.28, 41.43],\n",
    "                        [-108.15, 46.44],\n",
    "                        [-119.08, 45.95],\n",
    "                    ]\n",
    "                ],\n",
    "                \"type\": \"Polygon\",\n",
    "            },\n",
    "        },\n",
    "        {\n",
    "            \"id\": \"xyz\",\n",
    "            \"type\": \"Feature\",\n",
    "            \"properties\": {},\n",
    "            \"geometry\": {\n",
    "                \"coordinates\": [\n",
    "                    [\n",
    "                        [-103.87, 38.08],\n",
    "                        [-108.54, 36.44],\n",
    "                        [-106.25, 33.00],\n",
    "                        [-99.91, 31.79],\n",
    "                        [-96.82, 35.48],\n",
    "                        [-98.80, 37.77],\n",
    "                        [-103.87, 38.08],\n",
    "                    ]\n",
    "                ],\n",
    "                \"type\": \"Polygon\",\n",
    "            },\n",
    "        },\n",
    "    ],\n",
    "}\n",
    "m.add_draw_control(position=\"top-left\", geojson=geojson)\n",
    "m"
   ]
  },
  {
   "cell_type": "markdown",
   "id": "28",
   "metadata": {},
   "source": [
    "Retrieve the draw features."
   ]
  },
  {
   "cell_type": "code",
   "execution_count": null,
   "id": "29",
   "metadata": {},
   "outputs": [],
   "source": [
    "m.draw_features_selected"
   ]
  },
  {
   "cell_type": "code",
   "execution_count": null,
   "id": "30",
   "metadata": {},
   "outputs": [],
   "source": [
    "m.draw_feature_collection_all"
   ]
  },
  {
   "cell_type": "markdown",
   "id": "31",
   "metadata": {},
   "source": [
    "## Add layers\n",
    "\n",
    "### Add basemaps\n",
    "\n",
    "You can add basemaps to the map using the `add_basemap` method."
   ]
  },
  {
   "cell_type": "code",
   "execution_count": null,
   "id": "32",
   "metadata": {},
   "outputs": [],
   "source": [
    "m = leafmap.Map()\n",
    "m.add_basemap(\"OpenTopoMap\")\n",
    "m.add_layer_control()\n",
    "m"
   ]
  },
  {
   "cell_type": "code",
   "execution_count": null,
   "id": "33",
   "metadata": {},
   "outputs": [],
   "source": [
    "m.add_basemap(\"Esri.WorldImagery\")"
   ]
  },
  {
   "cell_type": "code",
   "execution_count": null,
   "id": "34",
   "metadata": {},
   "outputs": [],
   "source": [
    "m = leafmap.Map()\n",
    "m"
   ]
  },
  {
   "cell_type": "markdown",
   "id": "35",
   "metadata": {},
   "source": [
    "To add basemaps interactively, use the `add_basemap` method without specifying the `basemap` parameter."
   ]
  },
  {
   "cell_type": "code",
   "execution_count": null,
   "id": "36",
   "metadata": {},
   "outputs": [],
   "source": [
    "m.add_basemap()"
   ]
  },
  {
   "cell_type": "markdown",
   "id": "37",
   "metadata": {},
   "source": [
    "### Add XYZ tile layer\n",
    "\n",
    "You can add XYZ tile layers to the map using the `add_tile_layer` method."
   ]
  },
  {
   "cell_type": "code",
   "execution_count": null,
   "id": "38",
   "metadata": {},
   "outputs": [],
   "source": [
    "m = leafmap.Map()\n",
    "url = \"https://basemap.nationalmap.gov/arcgis/rest/services/USGSTopo/MapServer/tile/{z}/{y}/{x}\"\n",
    "m.add_tile_layer(url, name=\"USGS TOpo\", attribution=\"USGS\", opacity=1.0, visible=True)\n",
    "m"
   ]
  },
  {
   "cell_type": "markdown",
   "id": "39",
   "metadata": {},
   "source": [
    "### Add WMS layer\n",
    "\n",
    "You can add WMS layers to the map using the `add_wms_layer` method."
   ]
  },
  {
   "cell_type": "code",
   "execution_count": null,
   "id": "40",
   "metadata": {},
   "outputs": [],
   "source": [
    "m = leafmap.Map(center=[-74.5447, 40.6892], zoom=8, style=\"liberty\")\n",
    "url = \"https://img.nj.gov/imagerywms/Natural2015\"\n",
    "layers = \"Natural2015\"\n",
    "m.add_wms_layer(url, layers=layers, before_id=\"aeroway_fill\")\n",
    "m.add_layer_control()\n",
    "m"
   ]
  },
  {
   "cell_type": "code",
   "execution_count": null,
   "id": "41",
   "metadata": {},
   "outputs": [],
   "source": [
    "m = leafmap.Map(center=[-100.307965, 46.98692], zoom=13, pitch=45, style=\"liberty\")\n",
    "m.add_basemap(\"Esri.WorldImagery\")\n",
    "url = \"https://fwspublicservices.wim.usgs.gov/wetlandsmapservice/services/Wetlands/MapServer/WMSServer\"\n",
    "m.add_wms_layer(url, layers=\"1\", name=\"NWI\", opacity=0.6)\n",
    "m.add_layer_control()\n",
    "m.add_legend(builtin_legend=\"NWI\", title=\"Wetland Type\")\n",
    "m"
   ]
  },
  {
   "cell_type": "markdown",
   "id": "42",
   "metadata": {},
   "source": [
    "### Add raster tile"
   ]
  },
  {
   "cell_type": "code",
   "execution_count": null,
   "id": "43",
   "metadata": {},
   "outputs": [],
   "source": [
    "style = {\n",
    "    \"version\": 8,\n",
    "    \"sources\": {\n",
    "        \"raster-tiles\": {\n",
    "            \"type\": \"raster\",\n",
    "            \"tiles\": [\n",
    "                \"https://tiles.stadiamaps.com/tiles/stamen_watercolor/{z}/{x}/{y}.jpg\"\n",
    "            ],\n",
    "            \"tileSize\": 256,\n",
    "            \"attribution\": \"Map tiles by Stamen Design; Hosting by Stadia Maps. Data © OpenStreetMap contributors\",\n",
    "        }\n",
    "    },\n",
    "    \"layers\": [\n",
    "        {\n",
    "            \"id\": \"simple-tiles\",\n",
    "            \"type\": \"raster\",\n",
    "            \"source\": \"raster-tiles\",\n",
    "            \"minzoom\": 0,\n",
    "            \"maxzoom\": 22,\n",
    "        }\n",
    "    ],\n",
    "}"
   ]
  },
  {
   "cell_type": "code",
   "execution_count": null,
   "id": "44",
   "metadata": {},
   "outputs": [],
   "source": [
    "m = leafmap.Map(center=[-74.5, 40], zoom=2, style=style)\n",
    "m"
   ]
  },
  {
   "cell_type": "markdown",
   "id": "45",
   "metadata": {},
   "source": [
    "## MapTiler\n",
    "To run this notebook, you need to set up a MapTiler API key. You can get a free API key by signing up at [https://cloud.maptiler.com/](https://cloud.maptiler.com/)."
   ]
  },
  {
   "cell_type": "code",
   "execution_count": null,
   "id": "46",
   "metadata": {},
   "outputs": [],
   "source": [
    "# import os\n",
    "# os.environ[\"MAPTILER_KEY\"] = \"YOUR_API_KEY\""
   ]
  },
  {
   "cell_type": "markdown",
   "id": "47",
   "metadata": {},
   "source": [
    "You can use any named style from MapTiler by setting the style parameter to the name of the style.\n",
    "\n",
    "![](https://i.imgur.com/dp2HxR2.png)"
   ]
  },
  {
   "cell_type": "code",
   "execution_count": null,
   "id": "48",
   "metadata": {},
   "outputs": [],
   "source": [
    "m = leafmap.Map(style=\"streets\")\n",
    "m"
   ]
  },
  {
   "cell_type": "code",
   "execution_count": null,
   "id": "49",
   "metadata": {},
   "outputs": [],
   "source": [
    "m = leafmap.Map(style=\"satellite\")\n",
    "m"
   ]
  },
  {
   "cell_type": "code",
   "execution_count": null,
   "id": "50",
   "metadata": {},
   "outputs": [],
   "source": [
    "m = leafmap.Map(style=\"hybrid\")\n",
    "m"
   ]
  },
  {
   "cell_type": "code",
   "execution_count": null,
   "id": "51",
   "metadata": {},
   "outputs": [],
   "source": [
    "m = leafmap.Map(style=\"topo\")\n",
    "m"
   ]
  },
  {
   "cell_type": "markdown",
   "id": "52",
   "metadata": {},
   "source": [
    "### Add a vector tile source"
   ]
  },
  {
   "cell_type": "code",
   "execution_count": null,
   "id": "53",
   "metadata": {},
   "outputs": [],
   "source": [
    "MAPTILER_KEY = leafmap.get_api_key(\"MAPTILER_KEY\")"
   ]
  },
  {
   "cell_type": "code",
   "execution_count": null,
   "id": "54",
   "metadata": {},
   "outputs": [],
   "source": [
    "m = leafmap.Map(center=[-122.447303, 37.753574], zoom=13, style=\"streets\")\n",
    "source = {\n",
    "    \"type\": \"vector\",\n",
    "    \"url\": f\"https://api.maptiler.com/tiles/contours/tiles.json?key={MAPTILER_KEY}\",\n",
    "}\n",
    "layer = {\n",
    "    \"id\": \"terrain-data\",\n",
    "    \"type\": \"line\",\n",
    "    \"source\": \"contours\",\n",
    "    \"source-layer\": \"contour\",\n",
    "    \"layout\": {\"line-join\": \"round\", \"line-cap\": \"round\"},\n",
    "    \"paint\": {\"line-color\": \"#ff69b4\", \"line-width\": 1},\n",
    "}\n",
    "m.add_source(\"contours\", source)\n",
    "m.add_layer(layer)\n",
    "m"
   ]
  },
  {
   "cell_type": "markdown",
   "id": "55",
   "metadata": {},
   "source": [
    "## 3D mapping\n",
    "\n",
    "### 3D terrain\n",
    "\n",
    "MapTiler provides a variety of basemaps and styles that can be used to create 3D maps. You can use any styles from the MapTiler basemap gallery and prefix the style name with `3d-`. For example, `3d-hybrid`, `3d-satellite`, or `3d-topo`. To use the hillshade only, you can use the `3d-hillshade` style."
   ]
  },
  {
   "cell_type": "code",
   "execution_count": null,
   "id": "56",
   "metadata": {},
   "outputs": [],
   "source": [
    "m = leafmap.Map(\n",
    "    center=[-122.1874314, 46.2022386], zoom=13, pitch=60, bearing=220, style=\"3d-hybrid\"\n",
    ")\n",
    "m.add_layer_control(bg_layers=True)\n",
    "m"
   ]
  },
  {
   "cell_type": "code",
   "execution_count": null,
   "id": "57",
   "metadata": {},
   "outputs": [],
   "source": [
    "m = leafmap.Map(\n",
    "    center=[-122.1874314, 46.2022386],\n",
    "    zoom=13,\n",
    "    pitch=60,\n",
    "    bearing=220,\n",
    "    style=\"3d-satellite\",\n",
    ")\n",
    "m.add_layer_control(bg_layers=True)\n",
    "m"
   ]
  },
  {
   "cell_type": "code",
   "execution_count": null,
   "id": "58",
   "metadata": {},
   "outputs": [],
   "source": [
    "m = leafmap.Map(\n",
    "    center=[-122.1874314, 46.2022386],\n",
    "    zoom=13,\n",
    "    pitch=60,\n",
    "    bearing=220,\n",
    "    style=\"3d-topo\",\n",
    "    exaggeration=1.5,\n",
    "    hillshade=False,\n",
    ")\n",
    "m.add_layer_control(bg_layers=True)\n",
    "m"
   ]
  },
  {
   "cell_type": "code",
   "execution_count": null,
   "id": "59",
   "metadata": {},
   "outputs": [],
   "source": [
    "m = leafmap.Map(\n",
    "    center=[-122.1874314, 46.2022386],\n",
    "    zoom=13,\n",
    "    pitch=60,\n",
    "    bearing=220,\n",
    "    style=\"3d-terrain\",\n",
    ")\n",
    "m.add_layer_control(bg_layers=True)\n",
    "m"
   ]
  },
  {
   "cell_type": "code",
   "execution_count": null,
   "id": "60",
   "metadata": {},
   "outputs": [],
   "source": [
    "m = leafmap.Map(style=\"3d-ocean\", exaggeration=1.5, hillshade=True)\n",
    "m.add_layer_control(bg_layers=True)\n",
    "m"
   ]
  },
  {
   "cell_type": "markdown",
   "id": "61",
   "metadata": {},
   "source": [
    "### 3D buildings\n",
    "\n",
    "You can add 3D buildings to the map using the `add_3d_buildings` method."
   ]
  },
  {
   "cell_type": "code",
   "execution_count": null,
   "id": "62",
   "metadata": {},
   "outputs": [],
   "source": [
    "m = leafmap.Map(\n",
    "    center=[-74.01201, 40.70473], zoom=16, pitch=60, bearing=35, style=\"basic-v2\"\n",
    ")\n",
    "MAPTILER_KEY = leafmap.get_api_key(\"MAPTILER_KEY\")\n",
    "m.add_basemap(\"Esri.WorldImagery\", visible=False)\n",
    "source = {\n",
    "    \"url\": f\"https://api.maptiler.com/tiles/v3/tiles.json?key={MAPTILER_KEY}\",\n",
    "    \"type\": \"vector\",\n",
    "}\n",
    "\n",
    "layer = {\n",
    "    \"id\": \"3d-buildings\",\n",
    "    \"source\": \"openmaptiles\",\n",
    "    \"source-layer\": \"building\",\n",
    "    \"type\": \"fill-extrusion\",\n",
    "    \"min-zoom\": 15,\n",
    "    \"paint\": {\n",
    "        \"fill-extrusion-color\": [\n",
    "            \"interpolate\",\n",
    "            [\"linear\"],\n",
    "            [\"get\", \"render_height\"],\n",
    "            0,\n",
    "            \"lightgray\",\n",
    "            200,\n",
    "            \"royalblue\",\n",
    "            400,\n",
    "            \"lightblue\",\n",
    "        ],\n",
    "        \"fill-extrusion-height\": [\n",
    "            \"interpolate\",\n",
    "            [\"linear\"],\n",
    "            [\"zoom\"],\n",
    "            15,\n",
    "            0,\n",
    "            16,\n",
    "            [\"get\", \"render_height\"],\n",
    "        ],\n",
    "        \"fill-extrusion-base\": [\n",
    "            \"case\",\n",
    "            [\">=\", [\"get\", \"zoom\"], 16],\n",
    "            [\"get\", \"render_min_height\"],\n",
    "            0,\n",
    "        ],\n",
    "    },\n",
    "}\n",
    "m.add_source(\"openmaptiles\", source)\n",
    "m.add_layer(layer)\n",
    "m.add_layer_control()\n",
    "m"
   ]
  },
  {
   "cell_type": "code",
   "execution_count": null,
   "id": "63",
   "metadata": {},
   "outputs": [],
   "source": [
    "m = leafmap.Map(\n",
    "    center=[-74.01201, 40.70473], zoom=16, pitch=60, bearing=35, style=\"basic-v2\"\n",
    ")\n",
    "m.add_basemap(\"Esri.WorldImagery\", visible=False)\n",
    "m.add_3d_buildings(min_zoom=15)\n",
    "m.add_layer_control()\n",
    "m"
   ]
  },
  {
   "cell_type": "markdown",
   "id": "64",
   "metadata": {},
   "source": [
    "### 3D indoor mapping\n",
    "\n",
    "Let's visualize indoor mapping data using the `add_geojson` method."
   ]
  },
  {
   "cell_type": "code",
   "execution_count": null,
   "id": "65",
   "metadata": {},
   "outputs": [],
   "source": [
    "data = \"https://maplibre.org/maplibre-gl-js/docs/assets/indoor-3d-map.geojson\"\n",
    "gdf = leafmap.geojson_to_gdf(data)\n",
    "gdf.explore()"
   ]
  },
  {
   "cell_type": "code",
   "execution_count": null,
   "id": "66",
   "metadata": {},
   "outputs": [],
   "source": [
    "gdf.head()"
   ]
  },
  {
   "cell_type": "code",
   "execution_count": null,
   "id": "67",
   "metadata": {},
   "outputs": [],
   "source": [
    "m = leafmap.Map(\n",
    "    center=(-87.61694, 41.86625), zoom=17, pitch=40, bearing=20, style=\"positron\"\n",
    ")\n",
    "m.add_basemap(\"OpenStreetMap.Mapnik\")\n",
    "m.add_geojson(\n",
    "    data,\n",
    "    layer_type=\"fill-extrusion\",\n",
    "    name=\"floorplan\",\n",
    "    paint={\n",
    "        \"fill-extrusion-color\": [\"get\", \"color\"],\n",
    "        \"fill-extrusion-height\": [\"get\", \"height\"],\n",
    "        \"fill-extrusion-base\": [\"get\", \"base_height\"],\n",
    "        \"fill-extrusion-opacity\": 0.5,\n",
    "    },\n",
    ")\n",
    "m.add_layer_control()\n",
    "m"
   ]
  },
  {
   "cell_type": "markdown",
   "id": "68",
   "metadata": {},
   "source": [
    "### 3D choropleth map"
   ]
  },
  {
   "cell_type": "code",
   "execution_count": null,
   "id": "69",
   "metadata": {},
   "outputs": [],
   "source": [
    "m = leafmap.Map(center=[19.43, 49.49], zoom=3, pitch=60, style=\"basic\")\n",
    "source = {\n",
    "    \"type\": \"geojson\",\n",
    "    \"data\": \"https://docs.maptiler.com/sdk-js/assets/Mean_age_of_women_at_first_marriage_in_2019.geojson\",\n",
    "}\n",
    "m.add_source(\"countries\", source)\n",
    "layer = {\n",
    "    \"id\": \"eu-countries\",\n",
    "    \"source\": \"countries\",\n",
    "    \"type\": \"fill-extrusion\",\n",
    "    \"paint\": {\n",
    "        \"fill-extrusion-color\": [\n",
    "            \"interpolate\",\n",
    "            [\"linear\"],\n",
    "            [\"get\", \"age\"],\n",
    "            23.0,\n",
    "            \"#fff5eb\",\n",
    "            24.0,\n",
    "            \"#fee6ce\",\n",
    "            25.0,\n",
    "            \"#fdd0a2\",\n",
    "            26.0,\n",
    "            \"#fdae6b\",\n",
    "            27.0,\n",
    "            \"#fd8d3c\",\n",
    "            28.0,\n",
    "            \"#f16913\",\n",
    "            29.0,\n",
    "            \"#d94801\",\n",
    "            30.0,\n",
    "            \"#8c2d04\",\n",
    "        ],\n",
    "        \"fill-extrusion-opacity\": 1,\n",
    "        \"fill-extrusion-height\": [\"*\", [\"get\", \"age\"], 5000],\n",
    "    },\n",
    "}\n",
    "first_symbol_layer_id = m.find_first_symbol_layer()[\"id\"]\n",
    "m.add_layer(layer, first_symbol_layer_id)\n",
    "m.add_layer_control()\n",
    "m"
   ]
  },
  {
   "cell_type": "code",
   "execution_count": null,
   "id": "70",
   "metadata": {},
   "outputs": [],
   "source": [
    "m = leafmap.Map(center=[-100, 40], zoom=3, pitch=60, style=\"basic\")\n",
    "source = {\n",
    "    \"type\": \"geojson\",\n",
    "    \"data\": \"https://open.gishub.org/data/us/us_counties.geojson\",\n",
    "}\n",
    "m.add_source(\"counties\", source)\n",
    "layer = {\n",
    "    \"id\": \"us-counties\",\n",
    "    \"source\": \"counties\",\n",
    "    \"type\": \"fill-extrusion\",\n",
    "    \"paint\": {\n",
    "        \"fill-extrusion-color\": [\n",
    "            \"interpolate\",\n",
    "            [\"linear\"],\n",
    "            [\"get\", \"CENSUSAREA\"],\n",
    "            400,\n",
    "            \"#fff5eb\",\n",
    "            600,\n",
    "            \"#fee6ce\",\n",
    "            800,\n",
    "            \"#fdd0a2\",\n",
    "            1000,\n",
    "            \"#fdae6b\",\n",
    "        ],\n",
    "        \"fill-extrusion-opacity\": 1,\n",
    "        \"fill-extrusion-height\": [\"*\", [\"get\", \"CENSUSAREA\"], 50],\n",
    "    },\n",
    "}\n",
    "first_symbol_layer_id = m.find_first_symbol_layer()[\"id\"]\n",
    "m.add_layer(layer, first_symbol_layer_id)\n",
    "m.add_layer_control()\n",
    "m"
   ]
  },
  {
   "cell_type": "markdown",
   "id": "71",
   "metadata": {},
   "source": [
    "## Visualize vector data\n",
    "\n",
    "Leafmap provides a variety of methods to visualize vector data on the map.\n",
    "\n",
    "### Point data"
   ]
  },
  {
   "cell_type": "code",
   "execution_count": null,
   "id": "72",
   "metadata": {},
   "outputs": [],
   "source": [
    "m = leafmap.Map(center=[12.550343, 55.665957], zoom=8, style=\"positron\")\n",
    "m.add_marker(lng_lat=[12.550343, 55.665957])\n",
    "m"
   ]
  },
  {
   "cell_type": "code",
   "execution_count": null,
   "id": "73",
   "metadata": {},
   "outputs": [],
   "source": [
    "m = leafmap.Map(center=[12.550343, 55.665957], zoom=8, style=\"positron\")\n",
    "m.add_marker(lng_lat=[12.550343, 55.665957], options={\"draggable\": True})\n",
    "m"
   ]
  },
  {
   "cell_type": "code",
   "execution_count": null,
   "id": "74",
   "metadata": {},
   "outputs": [],
   "source": [
    "url = (\n",
    "    \"https://github.com/opengeos/datasets/releases/download/world/world_cities.geojson\"\n",
    ")\n",
    "geojson = leafmap.read_geojson(url)"
   ]
  },
  {
   "cell_type": "code",
   "execution_count": null,
   "id": "75",
   "metadata": {},
   "outputs": [],
   "source": [
    "m = leafmap.Map(style=\"streets\")\n",
    "m.add_geojson(geojson, name=\"cities\")\n",
    "m.add_popup(\"cities\")\n",
    "m"
   ]
  },
  {
   "cell_type": "code",
   "execution_count": null,
   "id": "76",
   "metadata": {},
   "outputs": [],
   "source": [
    "m = leafmap.Map(style=\"streets\")\n",
    "source = {\"type\": \"geojson\", \"data\": geojson}\n",
    "\n",
    "layer = {\n",
    "    \"id\": \"cities\",\n",
    "    \"type\": \"symbol\",\n",
    "    \"source\": \"point\",\n",
    "    \"layout\": {\n",
    "        \"icon-image\": \"marker_15\",\n",
    "        \"icon-size\": 1,\n",
    "    },\n",
    "}\n",
    "m.add_source(\"point\", source)\n",
    "m.add_layer(layer)\n",
    "m.add_popup(\"cities\")\n",
    "m"
   ]
  },
  {
   "cell_type": "markdown",
   "id": "77",
   "metadata": {},
   "source": [
    "### Customize marker icon image"
   ]
  },
  {
   "cell_type": "code",
   "execution_count": null,
   "id": "78",
   "metadata": {},
   "outputs": [],
   "source": [
    "m = leafmap.Map(center=[0, 0], zoom=1, style=\"positron\")\n",
    "image = \"https://maplibre.org/maplibre-gl-js/docs/assets/osgeo-logo.png\"\n",
    "m.add_image(\"custom-marker\", image)\n",
    "\n",
    "url = \"https://github.com/opengeos/datasets/releases/download/places/osgeo_conferences.geojson\"\n",
    "geojson = leafmap.read_geojson(url)\n",
    "\n",
    "source = {\"type\": \"geojson\", \"data\": geojson}\n",
    "\n",
    "m.add_source(\"conferences\", source)\n",
    "layer = {\n",
    "    \"id\": \"conferences\",\n",
    "    \"type\": \"symbol\",\n",
    "    \"source\": \"conferences\",\n",
    "    \"layout\": {\n",
    "        \"icon-image\": \"custom-marker\",\n",
    "        \"text-field\": [\"get\", \"year\"],\n",
    "        \"text-font\": [\"Open Sans Semibold\", \"Arial Unicode MS Bold\"],\n",
    "        \"text-offset\": [0, 1.25],\n",
    "        \"text-anchor\": \"top\",\n",
    "    },\n",
    "}\n",
    "\n",
    "m.add_layer(layer)\n",
    "m"
   ]
  },
  {
   "cell_type": "markdown",
   "id": "79",
   "metadata": {},
   "source": [
    "### Line data"
   ]
  },
  {
   "cell_type": "code",
   "execution_count": null,
   "id": "80",
   "metadata": {},
   "outputs": [],
   "source": [
    "m = leafmap.Map(center=[-122.486052, 37.830348], zoom=15, style=\"streets\")\n",
    "\n",
    "source = {\n",
    "    \"type\": \"geojson\",\n",
    "    \"data\": {\n",
    "        \"type\": \"Feature\",\n",
    "        \"properties\": {},\n",
    "        \"geometry\": {\n",
    "            \"type\": \"LineString\",\n",
    "            \"coordinates\": [\n",
    "                [-122.48369693756104, 37.83381888486939],\n",
    "                [-122.48348236083984, 37.83317489144141],\n",
    "                [-122.48339653015138, 37.83270036637107],\n",
    "                [-122.48356819152832, 37.832056363179625],\n",
    "                [-122.48404026031496, 37.83114119107971],\n",
    "                [-122.48404026031496, 37.83049717427869],\n",
    "                [-122.48348236083984, 37.829920943955045],\n",
    "                [-122.48356819152832, 37.82954808664175],\n",
    "                [-122.48507022857666, 37.82944639795659],\n",
    "                [-122.48610019683838, 37.82880236636284],\n",
    "                [-122.48695850372314, 37.82931081282506],\n",
    "                [-122.48700141906738, 37.83080223556934],\n",
    "                [-122.48751640319824, 37.83168351665737],\n",
    "                [-122.48803138732912, 37.832158048267786],\n",
    "                [-122.48888969421387, 37.83297152392784],\n",
    "                [-122.48987674713133, 37.83263257682617],\n",
    "                [-122.49043464660643, 37.832937629287755],\n",
    "                [-122.49125003814696, 37.832429207817725],\n",
    "                [-122.49163627624512, 37.832564787218985],\n",
    "                [-122.49223709106445, 37.83337825839438],\n",
    "                [-122.49378204345702, 37.83368330777276],\n",
    "            ],\n",
    "        },\n",
    "    },\n",
    "}\n",
    "\n",
    "layer = {\n",
    "    \"id\": \"route\",\n",
    "    \"type\": \"line\",\n",
    "    \"source\": \"route\",\n",
    "    \"layout\": {\"line-join\": \"round\", \"line-cap\": \"round\"},\n",
    "    \"paint\": {\"line-color\": \"#888\", \"line-width\": 8},\n",
    "}\n",
    "m.add_source(\"route\", source)\n",
    "m.add_layer(layer)\n",
    "m"
   ]
  },
  {
   "cell_type": "markdown",
   "id": "81",
   "metadata": {},
   "source": [
    "### Polygon data"
   ]
  },
  {
   "cell_type": "code",
   "execution_count": null,
   "id": "82",
   "metadata": {},
   "outputs": [],
   "source": [
    "m = leafmap.Map(center=[-68.137343, 45.137451], zoom=5, style=\"streets\")\n",
    "geojson = {\n",
    "    \"type\": \"Feature\",\n",
    "    \"geometry\": {\n",
    "        \"type\": \"Polygon\",\n",
    "        \"coordinates\": [\n",
    "            [\n",
    "                [-67.13734351262877, 45.137451890638886],\n",
    "                [-66.96466, 44.8097],\n",
    "                [-68.03252, 44.3252],\n",
    "                [-69.06, 43.98],\n",
    "                [-70.11617, 43.68405],\n",
    "                [-70.64573401557249, 43.090083319667144],\n",
    "                [-70.75102474636725, 43.08003225358635],\n",
    "                [-70.79761105007827, 43.21973948828747],\n",
    "                [-70.98176001655037, 43.36789581966826],\n",
    "                [-70.94416541205806, 43.46633942318431],\n",
    "                [-71.08482, 45.3052400000002],\n",
    "                [-70.6600225491012, 45.46022288673396],\n",
    "                [-70.30495378282376, 45.914794623389355],\n",
    "                [-70.00014034695016, 46.69317088478567],\n",
    "                [-69.23708614772835, 47.44777598732787],\n",
    "                [-68.90478084987546, 47.184794623394396],\n",
    "                [-68.23430497910454, 47.35462921812177],\n",
    "                [-67.79035274928509, 47.066248887716995],\n",
    "                [-67.79141211614706, 45.702585354182816],\n",
    "                [-67.13734351262877, 45.137451890638886],\n",
    "            ]\n",
    "        ],\n",
    "    },\n",
    "}\n",
    "source = {\"type\": \"geojson\", \"data\": geojson}\n",
    "m.add_source(\"maine\", source)\n",
    "layer = {\n",
    "    \"id\": \"maine\",\n",
    "    \"type\": \"fill\",\n",
    "    \"source\": \"maine\",\n",
    "    \"layout\": {},\n",
    "    \"paint\": {\"fill-color\": \"#088\", \"fill-opacity\": 0.8},\n",
    "}\n",
    "m.add_layer(layer)\n",
    "m"
   ]
  },
  {
   "cell_type": "code",
   "execution_count": null,
   "id": "83",
   "metadata": {},
   "outputs": [],
   "source": [
    "m = leafmap.Map(center=[-68.137343, 45.137451], zoom=5, style=\"streets\")\n",
    "paint = {\"fill-color\": \"#088\", \"fill-opacity\": 0.8}\n",
    "m.add_geojson(geojson, layer_type=\"fill\", paint=paint)\n",
    "m"
   ]
  },
  {
   "cell_type": "code",
   "execution_count": null,
   "id": "84",
   "metadata": {},
   "outputs": [],
   "source": [
    "m = leafmap.Map(style=\"hybrid\")\n",
    "geojson = \"https://github.com/opengeos/datasets/releases/download/places/wa_overture_buildings.geojson\"\n",
    "paint = {\"fill-color\": \"#ffff00\", \"fill-opacity\": 0.5, \"fill-outline-color\": \"#ff0000\"}\n",
    "m.add_geojson(geojson, layer_type=\"fill\", paint=paint, name=\"Fill\")\n",
    "m"
   ]
  },
  {
   "cell_type": "code",
   "execution_count": null,
   "id": "85",
   "metadata": {},
   "outputs": [],
   "source": [
    "m = leafmap.Map(style=\"hybrid\")\n",
    "geojson = \"https://github.com/opengeos/datasets/releases/download/places/wa_overture_buildings.geojson\"\n",
    "paint_line = {\"line-color\": \"#ff0000\", \"line-width\": 3}\n",
    "m.add_geojson(geojson, layer_type=\"line\", paint=paint_line, name=\"Outline\")\n",
    "paint_fill = {\"fill-color\": \"#ffff00\", \"fill-opacity\": 0.5}\n",
    "m.add_geojson(geojson, layer_type=\"fill\", paint=paint_fill, name=\"Fill\")\n",
    "m.add_layer_control()\n",
    "m"
   ]
  },
  {
   "cell_type": "markdown",
   "id": "86",
   "metadata": {},
   "source": [
    "### Multiple geometries"
   ]
  },
  {
   "cell_type": "code",
   "execution_count": null,
   "id": "87",
   "metadata": {},
   "outputs": [],
   "source": [
    "m = leafmap.Map(\n",
    "    center=[-123.13, 49.254], zoom=11, style=\"dark-matter\", pitch=45, bearing=0\n",
    ")\n",
    "url = \"https://raw.githubusercontent.com/visgl/deck.gl-data/master/examples/geojson/vancouver-blocks.json\"\n",
    "paint_line = {\n",
    "    \"line-color\": \"white\",\n",
    "    \"line-width\": 2,\n",
    "}\n",
    "paint_fill = {\n",
    "    \"fill-extrusion-color\": {\n",
    "        \"property\": \"valuePerSqm\",\n",
    "        \"stops\": [\n",
    "            [0, \"grey\"],\n",
    "            [1000, \"yellow\"],\n",
    "            [5000, \"orange\"],\n",
    "            [10000, \"darkred\"],\n",
    "            [50000, \"lightblue\"],\n",
    "        ],\n",
    "    },\n",
    "    \"fill-extrusion-height\": [\"*\", 10, [\"sqrt\", [\"get\", \"valuePerSqm\"]]],\n",
    "    \"fill-extrusion-opacity\": 0.9,\n",
    "}\n",
    "m.add_geojson(url, layer_type=\"line\", paint=paint_line, name=\"blocks-line\")\n",
    "m.add_geojson(url, layer_type=\"fill-extrusion\", paint=paint_fill, name=\"blocks-fill\")\n",
    "m"
   ]
  },
  {
   "cell_type": "code",
   "execution_count": null,
   "id": "88",
   "metadata": {},
   "outputs": [],
   "source": [
    "m.layer_interact()"
   ]
  },
  {
   "cell_type": "markdown",
   "id": "89",
   "metadata": {},
   "source": [
    "### Marker cluster\n",
    "\n",
    "Create a marker cluster layer."
   ]
  },
  {
   "cell_type": "code",
   "execution_count": null,
   "id": "90",
   "metadata": {},
   "outputs": [],
   "source": [
    "m = leafmap.Map(center=[-103.59179, 40.66995], zoom=3, style=\"streets\")\n",
    "data = \"https://docs.mapbox.com/mapbox-gl-js/assets/earthquakes.geojson\"\n",
    "source_args = {\n",
    "    \"cluster\": True,\n",
    "    \"cluster_radius\": 50,\n",
    "    \"cluster_min_points\": 2,\n",
    "    \"cluster_max_zoom\": 14,\n",
    "    \"cluster_properties\": {\n",
    "        \"maxMag\": [\"max\", [\"get\", \"mag\"]],\n",
    "        \"minMag\": [\"min\", [\"get\", \"mag\"]],\n",
    "    },\n",
    "}\n",
    "\n",
    "m.add_geojson(\n",
    "    data,\n",
    "    layer_type=\"circle\",\n",
    "    name=\"earthquake-circles\",\n",
    "    filter=[\"!\", [\"has\", \"point_count\"]],\n",
    "    paint={\"circle-color\": \"darkblue\"},\n",
    "    source_args=source_args,\n",
    ")\n",
    "\n",
    "m.add_geojson(\n",
    "    data,\n",
    "    layer_type=\"circle\",\n",
    "    name=\"earthquake-clusters\",\n",
    "    filter=[\"has\", \"point_count\"],\n",
    "    paint={\n",
    "        \"circle-color\": [\n",
    "            \"step\",\n",
    "            [\"get\", \"point_count\"],\n",
    "            \"#51bbd6\",\n",
    "            100,\n",
    "            \"#f1f075\",\n",
    "            750,\n",
    "            \"#f28cb1\",\n",
    "        ],\n",
    "        \"circle-radius\": [\"step\", [\"get\", \"point_count\"], 20, 100, 30, 750, 40],\n",
    "    },\n",
    "    source_args=source_args,\n",
    ")\n",
    "\n",
    "m.add_geojson(\n",
    "    data,\n",
    "    layer_type=\"symbol\",\n",
    "    name=\"earthquake-labels\",\n",
    "    filter=[\"has\", \"point_count\"],\n",
    "    layout={\n",
    "        \"text-field\": [\"get\", \"point_count_abbreviated\"],\n",
    "        \"text-size\": 12,\n",
    "    },\n",
    "    source_args=source_args,\n",
    ")\n",
    "m"
   ]
  },
  {
   "cell_type": "markdown",
   "id": "91",
   "metadata": {},
   "source": [
    "### Local vector data\n",
    "\n",
    "You can load local vector data interactively using the `open_geojson` method."
   ]
  },
  {
   "cell_type": "code",
   "execution_count": null,
   "id": "92",
   "metadata": {},
   "outputs": [],
   "source": [
    "url = \"https://github.com/opengeos/datasets/releases/download/us/us_states.geojson\"\n",
    "filepath = \"data/us_states.geojson\"\n",
    "leafmap.download_file(url, filepath, quiet=True)"
   ]
  },
  {
   "cell_type": "code",
   "execution_count": null,
   "id": "93",
   "metadata": {},
   "outputs": [],
   "source": [
    "m = leafmap.Map(center=[-100, 40], zoom=3)\n",
    "m"
   ]
  },
  {
   "cell_type": "code",
   "execution_count": null,
   "id": "94",
   "metadata": {},
   "outputs": [],
   "source": [
    "m.open_geojson()"
   ]
  },
  {
   "cell_type": "markdown",
   "id": "95",
   "metadata": {},
   "source": [
    "### GeoPandas"
   ]
  },
  {
   "cell_type": "code",
   "execution_count": null,
   "id": "96",
   "metadata": {},
   "outputs": [],
   "source": [
    "m = leafmap.Map(center=[-100, 40], zoom=3, style=\"streets\")\n",
    "url = \"https://github.com/opengeos/datasets/releases/download/us/us_states.geojson\"\n",
    "gdf = leafmap.geojson_to_gdf(url)\n",
    "paint = {\n",
    "    \"fill-color\": \"#3388ff\",\n",
    "    \"fill-opacity\": 0.8,\n",
    "    \"fill-outline-color\": \"#ffffff\",\n",
    "}\n",
    "m.add_gdf(gdf, layer_type=\"fill\", name=\"States\", paint=paint)\n",
    "m"
   ]
  },
  {
   "cell_type": "markdown",
   "id": "97",
   "metadata": {},
   "source": [
    "### Change building color"
   ]
  },
  {
   "cell_type": "code",
   "execution_count": null,
   "id": "98",
   "metadata": {},
   "outputs": [],
   "source": [
    "m = leafmap.Map(center=[-90.73414, 14.55524], zoom=13, style=\"basic\")\n",
    "m.set_paint_property(\n",
    "    \"building\",\n",
    "    \"fill-color\",\n",
    "    [\"interpolate\", [\"exponential\", 0.5], [\"zoom\"], 15, \"#e2714b\", 22, \"#eee695\"],\n",
    ")\n",
    "m.set_paint_property(\n",
    "    \"building\",\n",
    "    \"fill-opacity\",\n",
    "    [\"interpolate\", [\"exponential\", 0.5], [\"zoom\"], 15, 0, 22, 1],\n",
    ")\n",
    "m.add_layer_control(bg_layers=True)\n",
    "m"
   ]
  },
  {
   "cell_type": "code",
   "execution_count": null,
   "id": "99",
   "metadata": {},
   "outputs": [],
   "source": [
    "m.add_call(\"zoomTo\", 19, {\"duration\": 9000})"
   ]
  },
  {
   "cell_type": "markdown",
   "id": "100",
   "metadata": {},
   "source": [
    "### Add a new layer below labels"
   ]
  },
  {
   "cell_type": "code",
   "execution_count": null,
   "id": "101",
   "metadata": {},
   "outputs": [],
   "source": [
    "m = leafmap.Map(center=[-88.137343, 35.137451], zoom=4, style=\"streets\")\n",
    "source = {\n",
    "    \"type\": \"geojson\",\n",
    "    \"data\": \"https://d2ad6b4ur7yvpq.cloudfront.net/naturalearth-3.3.0/ne_50m_urban_areas.geojson\",\n",
    "}\n",
    "m.add_source(\"urban-areas\", source)\n",
    "first_symbol_layer = m.find_first_symbol_layer()\n",
    "layer = {\n",
    "    \"id\": \"urban-areas-fill\",\n",
    "    \"type\": \"fill\",\n",
    "    \"source\": \"urban-areas\",\n",
    "    \"layout\": {},\n",
    "    \"paint\": {\"fill-color\": \"#f08\", \"fill-opacity\": 0.4},\n",
    "}\n",
    "m.add_layer(layer, before_id=first_symbol_layer[\"id\"])\n",
    "m"
   ]
  },
  {
   "cell_type": "markdown",
   "id": "102",
   "metadata": {},
   "source": [
    "### Heat map"
   ]
  },
  {
   "cell_type": "code",
   "execution_count": null,
   "id": "103",
   "metadata": {},
   "outputs": [],
   "source": [
    "m = leafmap.Map(center=[-120, 50], zoom=2, style=\"basic\")\n",
    "source = {\n",
    "    \"type\": \"geojson\",\n",
    "    \"data\": \"https://maplibre.org/maplibre-gl-js/docs/assets/earthquakes.geojson\",\n",
    "}\n",
    "m.add_source(\"earthquakes\", source)\n",
    "layer = {\n",
    "    \"id\": \"earthquakes-heat\",\n",
    "    \"type\": \"heatmap\",\n",
    "    \"source\": \"earthquakes\",\n",
    "    \"maxzoom\": 9,\n",
    "    \"paint\": {\n",
    "        # Increase the heatmap weight based on frequency and property magnitude\n",
    "        \"heatmap-weight\": [\"interpolate\", [\"linear\"], [\"get\", \"mag\"], 0, 0, 6, 1],\n",
    "        # Increase the heatmap color weight weight by zoom level\n",
    "        # heatmap-intensity is a multiplier on top of heatmap-weight\n",
    "        \"heatmap-intensity\": [\"interpolate\", [\"linear\"], [\"zoom\"], 0, 1, 9, 3],\n",
    "        # Color ramp for heatmap.  Domain is 0 (low) to 1 (high).\n",
    "        # Begin color ramp at 0-stop with a 0-transparency color\n",
    "        # to create a blur-like effect.\n",
    "        \"heatmap-color\": [\n",
    "            \"interpolate\",\n",
    "            [\"linear\"],\n",
    "            [\"heatmap-density\"],\n",
    "            0,\n",
    "            \"rgba(33,102,172,0)\",\n",
    "            0.2,\n",
    "            \"rgb(103,169,207)\",\n",
    "            0.4,\n",
    "            \"rgb(209,229,240)\",\n",
    "            0.6,\n",
    "            \"rgb(253,219,199)\",\n",
    "            0.8,\n",
    "            \"rgb(239,138,98)\",\n",
    "            1,\n",
    "            \"rgb(178,24,43)\",\n",
    "        ],\n",
    "        # Adjust the heatmap radius by zoom level\n",
    "        \"heatmap-radius\": [\"interpolate\", [\"linear\"], [\"zoom\"], 0, 2, 9, 20],\n",
    "        # Transition from heatmap to circle layer by zoom level\n",
    "        \"heatmap-opacity\": [\"interpolate\", [\"linear\"], [\"zoom\"], 7, 1, 9, 0],\n",
    "    },\n",
    "}\n",
    "m.add_layer(layer, before_id=\"waterway\")\n",
    "layer2 = {\n",
    "    \"id\": \"earthquakes-point\",\n",
    "    \"type\": \"circle\",\n",
    "    \"source\": \"earthquakes\",\n",
    "    \"minzoom\": 7,\n",
    "    \"paint\": {\n",
    "        # Size circle radius by earthquake magnitude and zoom level\n",
    "        \"circle-radius\": [\n",
    "            \"interpolate\",\n",
    "            [\"linear\"],\n",
    "            [\"zoom\"],\n",
    "            7,\n",
    "            [\"interpolate\", [\"linear\"], [\"get\", \"mag\"], 1, 1, 6, 4],\n",
    "            16,\n",
    "            [\"interpolate\", [\"linear\"], [\"get\", \"mag\"], 1, 5, 6, 50],\n",
    "        ],\n",
    "        # Color circle by earthquake magnitude\n",
    "        \"circle-color\": [\n",
    "            \"interpolate\",\n",
    "            [\"linear\"],\n",
    "            [\"get\", \"mag\"],\n",
    "            1,\n",
    "            \"rgba(33,102,172,0)\",\n",
    "            2,\n",
    "            \"rgb(103,169,207)\",\n",
    "            3,\n",
    "            \"rgb(209,229,240)\",\n",
    "            4,\n",
    "            \"rgb(253,219,199)\",\n",
    "            5,\n",
    "            \"rgb(239,138,98)\",\n",
    "            6,\n",
    "            \"rgb(178,24,43)\",\n",
    "        ],\n",
    "        \"circle-stroke-color\": \"white\",\n",
    "        \"circle-stroke-width\": 1,\n",
    "        # Transition from heatmap to circle layer by zoom level\n",
    "        \"circle-opacity\": [\"interpolate\", [\"linear\"], [\"zoom\"], 7, 0, 8, 1],\n",
    "    },\n",
    "}\n",
    "m.add_layer(layer2, before_id=\"waterway\")\n",
    "m"
   ]
  },
  {
   "cell_type": "markdown",
   "id": "104",
   "metadata": {},
   "source": [
    "### Visualize population density"
   ]
  },
  {
   "cell_type": "code",
   "execution_count": null,
   "id": "105",
   "metadata": {},
   "outputs": [],
   "source": [
    "m = leafmap.Map(center=[30.0222, -1.9596], zoom=7, style=\"streets\")\n",
    "source = {\n",
    "    \"type\": \"geojson\",\n",
    "    \"data\": \"https://maplibre.org/maplibre-gl-js/docs/assets/rwanda-provinces.geojson\",\n",
    "}\n",
    "m.add_source(\"rwanda-provinces\", source)\n",
    "layer = {\n",
    "    \"id\": \"rwanda-provinces\",\n",
    "    \"type\": \"fill\",\n",
    "    \"source\": \"rwanda-provinces\",\n",
    "    \"layout\": {},\n",
    "    \"paint\": {\n",
    "        \"fill-color\": [\n",
    "            \"let\",\n",
    "            \"density\",\n",
    "            [\"/\", [\"get\", \"population\"], [\"get\", \"sq-km\"]],\n",
    "            [\n",
    "                \"interpolate\",\n",
    "                [\"linear\"],\n",
    "                [\"zoom\"],\n",
    "                8,\n",
    "                [\n",
    "                    \"interpolate\",\n",
    "                    [\"linear\"],\n",
    "                    [\"var\", \"density\"],\n",
    "                    274,\n",
    "                    [\"to-color\", \"#edf8e9\"],\n",
    "                    1551,\n",
    "                    [\"to-color\", \"#006d2c\"],\n",
    "                ],\n",
    "                10,\n",
    "                [\n",
    "                    \"interpolate\",\n",
    "                    [\"linear\"],\n",
    "                    [\"var\", \"density\"],\n",
    "                    274,\n",
    "                    [\"to-color\", \"#eff3ff\"],\n",
    "                    1551,\n",
    "                    [\"to-color\", \"#08519c\"],\n",
    "                ],\n",
    "            ],\n",
    "        ],\n",
    "        \"fill-opacity\": 0.7,\n",
    "    },\n",
    "}\n",
    "m.add_layer(layer)\n",
    "m"
   ]
  },
  {
   "cell_type": "markdown",
   "id": "106",
   "metadata": {},
   "source": [
    "## Visualize raster data\n",
    "\n",
    "### Local raster data\n",
    "\n",
    "You can load local raster data using the `add_raster` method."
   ]
  },
  {
   "cell_type": "code",
   "execution_count": null,
   "id": "107",
   "metadata": {},
   "outputs": [],
   "source": [
    "url = \"https://github.com/opengeos/datasets/releases/download/raster/landsat.tif\"\n",
    "filepath = \"landsat.tif\"\n",
    "leafmap.download_file(url, filepath, quiet=True)"
   ]
  },
  {
   "cell_type": "code",
   "execution_count": null,
   "id": "108",
   "metadata": {},
   "outputs": [],
   "source": [
    "m = leafmap.Map(style=\"streets\")\n",
    "m.add_raster(filepath, indexes=[3, 2, 1], vmin=0, vmax=100, name=\"Landsat-321\")\n",
    "m.add_raster(filepath, indexes=[4, 3, 2], vmin=0, vmax=100, name=\"Landsat-432\")\n",
    "m.add_layer_control()\n",
    "m"
   ]
  },
  {
   "cell_type": "code",
   "execution_count": null,
   "id": "109",
   "metadata": {},
   "outputs": [],
   "source": [
    "m.layer_interact()"
   ]
  },
  {
   "cell_type": "code",
   "execution_count": null,
   "id": "110",
   "metadata": {},
   "outputs": [],
   "source": [
    "url = \"https://github.com/opengeos/datasets/releases/download/raster/srtm90.tif\"\n",
    "filepath = \"srtm90.tif\"\n",
    "leafmap.download_file(url, filepath, quiet=True)"
   ]
  },
  {
   "cell_type": "code",
   "execution_count": null,
   "id": "111",
   "metadata": {},
   "outputs": [],
   "source": [
    "m = leafmap.Map(style=\"satellite\")\n",
    "m.add_raster(filepath, colormap=\"terrain\", name=\"DEM\")\n",
    "m"
   ]
  },
  {
   "cell_type": "code",
   "execution_count": null,
   "id": "112",
   "metadata": {},
   "outputs": [],
   "source": [
    "m.layer_interact()"
   ]
  },
  {
   "cell_type": "markdown",
   "id": "113",
   "metadata": {},
   "source": [
    "### Cloud Optimized GeoTIFF (COG)\n",
    "\n",
    "You can load Cloud Optimized GeoTIFF (COG) data using the `add_cog_layer` method."
   ]
  },
  {
   "cell_type": "code",
   "execution_count": null,
   "id": "114",
   "metadata": {},
   "outputs": [],
   "source": [
    "m = leafmap.Map(style=\"satellite\")\n",
    "before = (\n",
    "    \"https://github.com/opengeos/datasets/releases/download/raster/Libya-2023-07-01.tif\"\n",
    ")\n",
    "after = (\n",
    "    \"https://github.com/opengeos/datasets/releases/download/raster/Libya-2023-09-13.tif\"\n",
    ")\n",
    "m.add_cog_layer(before, name=\"Before\", attribution=\"Maxar\")\n",
    "m.add_cog_layer(after, name=\"After\", attribution=\"Maxar\", fit_bounds=True)\n",
    "m.add_layer_control()\n",
    "m"
   ]
  },
  {
   "cell_type": "code",
   "execution_count": null,
   "id": "115",
   "metadata": {},
   "outputs": [],
   "source": [
    "m.layer_interact()"
   ]
  },
  {
   "cell_type": "markdown",
   "id": "116",
   "metadata": {},
   "source": [
    "### STAC layer\n",
    "\n",
    "You can load SpatioTemporal Asset Catalog (STAC) data using the `add_stac_layer` method."
   ]
  },
  {
   "cell_type": "code",
   "execution_count": null,
   "id": "117",
   "metadata": {},
   "outputs": [],
   "source": [
    "m = leafmap.Map(style=\"streets\")\n",
    "url = \"https://canada-spot-ortho.s3.amazonaws.com/canada_spot_orthoimages/canada_spot5_orthoimages/S5_2007/S5_11055_6057_20070622/S5_11055_6057_20070622.json\"\n",
    "m.add_stac_layer(url, bands=[\"pan\"], name=\"Panchromatic\", vmin=0, vmax=150)\n",
    "m.add_stac_layer(url, bands=[\"B4\", \"B3\", \"B2\"], name=\"RGB\", vmin=0, vmax=150)\n",
    "m.add_layer_control()\n",
    "m"
   ]
  },
  {
   "cell_type": "code",
   "execution_count": null,
   "id": "118",
   "metadata": {},
   "outputs": [],
   "source": [
    "m.layer_interact()"
   ]
  },
  {
   "cell_type": "code",
   "execution_count": null,
   "id": "119",
   "metadata": {},
   "outputs": [],
   "source": [
    "collection = \"landsat-8-c2-l2\"\n",
    "item = \"LC08_L2SP_047027_20201204_02_T1\""
   ]
  },
  {
   "cell_type": "code",
   "execution_count": null,
   "id": "120",
   "metadata": {},
   "outputs": [],
   "source": [
    "leafmap.stac_assets(collection=collection, item=item, titiler_endpoint=\"pc\")"
   ]
  },
  {
   "cell_type": "code",
   "execution_count": null,
   "id": "121",
   "metadata": {},
   "outputs": [],
   "source": [
    "m = leafmap.Map(style=\"satellite\")\n",
    "m.add_stac_layer(\n",
    "    collection=collection,\n",
    "    item=item,\n",
    "    assets=[\"SR_B5\", \"SR_B4\", \"SR_B3\"],\n",
    "    name=\"Color infrared\",\n",
    ")\n",
    "m"
   ]
  },
  {
   "cell_type": "markdown",
   "id": "122",
   "metadata": {},
   "source": [
    "## Interact with the map"
   ]
  },
  {
   "cell_type": "markdown",
   "id": "123",
   "metadata": {},
   "source": [
    "### Display a non-interactive map"
   ]
  },
  {
   "cell_type": "code",
   "execution_count": null,
   "id": "124",
   "metadata": {},
   "outputs": [],
   "source": [
    "m = leafmap.Map(\n",
    "    center=[-122.65, 45.52], zoom=9, interactive=False, style=\"liberty\", controls={}\n",
    ")\n",
    "m"
   ]
  },
  {
   "cell_type": "markdown",
   "id": "125",
   "metadata": {},
   "source": [
    "### Disable scroll zoom"
   ]
  },
  {
   "cell_type": "code",
   "execution_count": null,
   "id": "126",
   "metadata": {},
   "outputs": [],
   "source": [
    "m = leafmap.Map(center=[-122.65, 45.52], zoom=9, scroll_zoom=False, style=\"liberty\")\n",
    "m"
   ]
  },
  {
   "cell_type": "markdown",
   "id": "127",
   "metadata": {},
   "source": [
    "### Fit bounds"
   ]
  },
  {
   "cell_type": "code",
   "execution_count": null,
   "id": "128",
   "metadata": {},
   "outputs": [],
   "source": [
    "m = leafmap.Map(center=[-74.5, 40], zoom=9, style=\"liberty\")\n",
    "m"
   ]
  },
  {
   "cell_type": "markdown",
   "id": "129",
   "metadata": {},
   "source": [
    "Fit to Kenya."
   ]
  },
  {
   "cell_type": "code",
   "execution_count": null,
   "id": "130",
   "metadata": {},
   "outputs": [],
   "source": [
    "bounds = [[32.958984, -5.353521], [43.50585, 5.615985]]\n",
    "m.fit_bounds(bounds)"
   ]
  },
  {
   "cell_type": "code",
   "execution_count": null,
   "id": "131",
   "metadata": {},
   "outputs": [],
   "source": [
    "m = leafmap.Map(center=[-77.0214, 38.897], zoom=12, style=\"liberty\")\n",
    "\n",
    "geojson = {\n",
    "    \"type\": \"FeatureCollection\",\n",
    "    \"features\": [\n",
    "        {\n",
    "            \"type\": \"Feature\",\n",
    "            \"geometry\": {\n",
    "                \"type\": \"LineString\",\n",
    "                \"properties\": {},\n",
    "                \"coordinates\": [\n",
    "                    [-77.0366048812866, 38.89873175227713],\n",
    "                    [-77.03364372253417, 38.89876515143842],\n",
    "                    [-77.03364372253417, 38.89549195896866],\n",
    "                    [-77.02982425689697, 38.89549195896866],\n",
    "                    [-77.02400922775269, 38.89387200688839],\n",
    "                    [-77.01519012451172, 38.891416957534204],\n",
    "                    [-77.01521158218382, 38.892068305429156],\n",
    "                    [-77.00813055038452, 38.892051604275686],\n",
    "                    [-77.00832366943358, 38.89143365883688],\n",
    "                    [-77.00818419456482, 38.89082405874451],\n",
    "                    [-77.00815200805664, 38.88989712255097],\n",
    "                ],\n",
    "            },\n",
    "        }\n",
    "    ],\n",
    "}\n",
    "\n",
    "m.add_source(\"LineString\", {\"type\": \"geojson\", \"data\": geojson})\n",
    "layer = {\n",
    "    \"id\": \"LineString\",\n",
    "    \"type\": \"line\",\n",
    "    \"source\": \"LineString\",\n",
    "    \"layout\": {\"line-join\": \"round\", \"line-cap\": \"round\"},\n",
    "    \"paint\": {\"line-color\": \"#BF93E4\", \"line-width\": 5},\n",
    "}\n",
    "m.add_layer(layer)\n",
    "m"
   ]
  },
  {
   "cell_type": "code",
   "execution_count": null,
   "id": "132",
   "metadata": {},
   "outputs": [],
   "source": [
    "bounds = leafmap.geojson_bounds(geojson)\n",
    "bounds"
   ]
  },
  {
   "cell_type": "code",
   "execution_count": null,
   "id": "133",
   "metadata": {},
   "outputs": [],
   "source": [
    "m.fit_bounds(bounds)"
   ]
  },
  {
   "cell_type": "markdown",
   "id": "134",
   "metadata": {},
   "source": [
    "### Restrict map panning to an area"
   ]
  },
  {
   "cell_type": "code",
   "execution_count": null,
   "id": "135",
   "metadata": {},
   "outputs": [],
   "source": [
    "bounds = [\n",
    "    [-74.04728500751165, 40.68392799015035],\n",
    "    [-73.91058699000139, 40.87764500765852],\n",
    "]"
   ]
  },
  {
   "cell_type": "code",
   "execution_count": null,
   "id": "136",
   "metadata": {},
   "outputs": [],
   "source": [
    "m = leafmap.Map(center=[-73.9978, 40.7209], zoom=13, max_bounds=bounds, style=\"liberty\")\n",
    "m"
   ]
  },
  {
   "cell_type": "markdown",
   "id": "137",
   "metadata": {},
   "source": [
    "### Fly to"
   ]
  },
  {
   "cell_type": "code",
   "execution_count": null,
   "id": "138",
   "metadata": {},
   "outputs": [],
   "source": [
    "m = leafmap.Map(center=[-2.242467, 53.478122], zoom=9, style=\"liberty\")\n",
    "m"
   ]
  },
  {
   "cell_type": "code",
   "execution_count": null,
   "id": "139",
   "metadata": {},
   "outputs": [],
   "source": [
    "m.fly_to(lon=-73.983609, lat=40.754368, zoom=12)"
   ]
  },
  {
   "cell_type": "code",
   "execution_count": null,
   "id": "140",
   "metadata": {},
   "outputs": [],
   "source": [
    "m = leafmap.Map(center=[-74.5, 40], zoom=9, style=\"liberty\")\n",
    "m"
   ]
  },
  {
   "cell_type": "code",
   "execution_count": null,
   "id": "141",
   "metadata": {},
   "outputs": [],
   "source": [
    "options = {\n",
    "    \"lon\": 74.5,\n",
    "    \"lat\": 40,\n",
    "    \"zoom\": 9,\n",
    "    \"bearing\": 0,\n",
    "    \"speed\": 0.2,\n",
    "    \"curve\": 1,\n",
    "    \"essential\": True,\n",
    "}\n",
    "\n",
    "m.fly_to(**options)"
   ]
  },
  {
   "cell_type": "markdown",
   "id": "142",
   "metadata": {},
   "source": [
    "### Jump to a series of locations"
   ]
  },
  {
   "cell_type": "code",
   "execution_count": null,
   "id": "143",
   "metadata": {},
   "outputs": [],
   "source": [
    "import time"
   ]
  },
  {
   "cell_type": "code",
   "execution_count": null,
   "id": "144",
   "metadata": {},
   "outputs": [],
   "source": [
    "m = leafmap.Map(center=[100.507, 13.745], zoom=9, style=\"streets\")\n",
    "\n",
    "cities = {\n",
    "    \"type\": \"FeatureCollection\",\n",
    "    \"features\": [\n",
    "        {\n",
    "            \"type\": \"Feature\",\n",
    "            \"properties\": {},\n",
    "            \"geometry\": {\"type\": \"Point\", \"coordinates\": [100.507, 13.745]},\n",
    "        },\n",
    "        {\n",
    "            \"type\": \"Feature\",\n",
    "            \"properties\": {},\n",
    "            \"geometry\": {\"type\": \"Point\", \"coordinates\": [98.993, 18.793]},\n",
    "        },\n",
    "        {\n",
    "            \"type\": \"Feature\",\n",
    "            \"properties\": {},\n",
    "            \"geometry\": {\"type\": \"Point\", \"coordinates\": [99.838, 19.924]},\n",
    "        },\n",
    "        {\n",
    "            \"type\": \"Feature\",\n",
    "            \"properties\": {},\n",
    "            \"geometry\": {\"type\": \"Point\", \"coordinates\": [102.812, 17.408]},\n",
    "        },\n",
    "        {\n",
    "            \"type\": \"Feature\",\n",
    "            \"properties\": {},\n",
    "            \"geometry\": {\"type\": \"Point\", \"coordinates\": [100.458, 7.001]},\n",
    "        },\n",
    "        {\n",
    "            \"type\": \"Feature\",\n",
    "            \"properties\": {},\n",
    "            \"geometry\": {\"type\": \"Point\", \"coordinates\": [100.905, 12.935]},\n",
    "        },\n",
    "    ],\n",
    "}\n",
    "m"
   ]
  },
  {
   "cell_type": "code",
   "execution_count": null,
   "id": "145",
   "metadata": {},
   "outputs": [],
   "source": [
    "for index, city in enumerate(cities[\"features\"]):\n",
    "    time.sleep(2)\n",
    "    coords = city[\"geometry\"][\"coordinates\"]\n",
    "    m.jump_to({\"center\": coords})"
   ]
  },
  {
   "cell_type": "markdown",
   "id": "146",
   "metadata": {},
   "source": [
    "### Get coordinates of the mouse pointer"
   ]
  },
  {
   "cell_type": "code",
   "execution_count": null,
   "id": "147",
   "metadata": {},
   "outputs": [],
   "source": [
    "import ipywidgets as widgets"
   ]
  },
  {
   "cell_type": "code",
   "execution_count": null,
   "id": "148",
   "metadata": {},
   "outputs": [],
   "source": [
    "m = leafmap.Map(center=[-74.5, 40], zoom=9, style=\"streets\")\n",
    "m"
   ]
  },
  {
   "cell_type": "code",
   "execution_count": null,
   "id": "149",
   "metadata": {},
   "outputs": [],
   "source": [
    "m.clicked"
   ]
  },
  {
   "cell_type": "code",
   "execution_count": null,
   "id": "150",
   "metadata": {},
   "outputs": [],
   "source": [
    "output = widgets.Output()\n",
    "\n",
    "\n",
    "def log_lng_lat(lng_lat):\n",
    "    with output:\n",
    "        output.clear_output()\n",
    "        print(lng_lat.new)\n",
    "\n",
    "\n",
    "m.observe(log_lng_lat, names=\"clicked\")\n",
    "output"
   ]
  },
  {
   "cell_type": "markdown",
   "id": "151",
   "metadata": {},
   "source": [
    "## Customize layer styles"
   ]
  },
  {
   "cell_type": "markdown",
   "id": "152",
   "metadata": {},
   "source": [
    "### Change layer color"
   ]
  },
  {
   "cell_type": "code",
   "execution_count": null,
   "id": "153",
   "metadata": {},
   "outputs": [],
   "source": [
    "m = leafmap.Map(center=[12.338, 45.4385], zoom=17, style=\"streets\")\n",
    "m"
   ]
  },
  {
   "cell_type": "code",
   "execution_count": null,
   "id": "154",
   "metadata": {},
   "outputs": [],
   "source": [
    "m.style_layer_interact(id=\"water\")"
   ]
  },
  {
   "cell_type": "markdown",
   "id": "155",
   "metadata": {},
   "source": [
    "### Change case of labels"
   ]
  },
  {
   "cell_type": "code",
   "execution_count": null,
   "id": "156",
   "metadata": {},
   "outputs": [],
   "source": [
    "m = leafmap.Map(center=[-116.231, 43.604], zoom=11, style=\"streets\")\n",
    "geojson = {\n",
    "    \"type\": \"geojson\",\n",
    "    \"data\": \"https://maplibre.org/maplibre-gl-js/docs/assets/boise.geojson\",\n",
    "}\n",
    "m.add_source(\"off-leash-areas\", geojson)\n",
    "layer = {\n",
    "    \"id\": \"off-leash-areas\",\n",
    "    \"type\": \"symbol\",\n",
    "    \"source\": \"off-leash-areas\",\n",
    "    \"layout\": {\n",
    "        \"icon-image\": \"dog-park-11\",\n",
    "        \"text-field\": [\n",
    "            \"format\",\n",
    "            [\"upcase\", [\"get\", \"FacilityName\"]],\n",
    "            {\"font-scale\": 0.8},\n",
    "            \"\\n\",\n",
    "            {},\n",
    "            [\"downcase\", [\"get\", \"Comments\"]],\n",
    "            {\"font-scale\": 0.6},\n",
    "        ],\n",
    "        \"text-font\": [\"Open Sans Semibold\", \"Arial Unicode MS Bold\"],\n",
    "        \"text-offset\": [0, 0.6],\n",
    "        \"text-anchor\": \"top\",\n",
    "    },\n",
    "}\n",
    "m.add_layer(layer)\n",
    "m"
   ]
  },
  {
   "cell_type": "markdown",
   "id": "157",
   "metadata": {},
   "source": [
    "### Variable label placement"
   ]
  },
  {
   "cell_type": "code",
   "execution_count": null,
   "id": "158",
   "metadata": {},
   "outputs": [],
   "source": [
    "m = leafmap.Map(center=[-77.04, 38.907], zoom=11, style=\"streets\")\n",
    "\n",
    "places = {\n",
    "    \"type\": \"FeatureCollection\",\n",
    "    \"features\": [\n",
    "        {\n",
    "            \"type\": \"Feature\",\n",
    "            \"properties\": {\"description\": \"Ford's Theater\", \"icon\": \"theatre\"},\n",
    "            \"geometry\": {\"type\": \"Point\", \"coordinates\": [-77.038659, 38.931567]},\n",
    "        },\n",
    "        {\n",
    "            \"type\": \"Feature\",\n",
    "            \"properties\": {\"description\": \"The Gaslight\", \"icon\": \"theatre\"},\n",
    "            \"geometry\": {\"type\": \"Point\", \"coordinates\": [-77.003168, 38.894651]},\n",
    "        },\n",
    "        {\n",
    "            \"type\": \"Feature\",\n",
    "            \"properties\": {\"description\": \"Horrible Harry's\", \"icon\": \"bar\"},\n",
    "            \"geometry\": {\"type\": \"Point\", \"coordinates\": [-77.090372, 38.881189]},\n",
    "        },\n",
    "        {\n",
    "            \"type\": \"Feature\",\n",
    "            \"properties\": {\"description\": \"Bike Party\", \"icon\": \"bicycle\"},\n",
    "            \"geometry\": {\"type\": \"Point\", \"coordinates\": [-77.052477, 38.943951]},\n",
    "        },\n",
    "        {\n",
    "            \"type\": \"Feature\",\n",
    "            \"properties\": {\"description\": \"Rockabilly Rockstars\", \"icon\": \"music\"},\n",
    "            \"geometry\": {\"type\": \"Point\", \"coordinates\": [-77.031706, 38.914581]},\n",
    "        },\n",
    "        {\n",
    "            \"type\": \"Feature\",\n",
    "            \"properties\": {\"description\": \"District Drum Tribe\", \"icon\": \"music\"},\n",
    "            \"geometry\": {\"type\": \"Point\", \"coordinates\": [-77.020945, 38.878241]},\n",
    "        },\n",
    "        {\n",
    "            \"type\": \"Feature\",\n",
    "            \"properties\": {\"description\": \"Motown Memories\", \"icon\": \"music\"},\n",
    "            \"geometry\": {\"type\": \"Point\", \"coordinates\": [-77.007481, 38.876516]},\n",
    "        },\n",
    "    ],\n",
    "}\n",
    "source = {\"type\": \"geojson\", \"data\": places}\n",
    "m.add_source(\"places\", source)\n",
    "\n",
    "layer = {\n",
    "    \"id\": \"poi-labels\",\n",
    "    \"type\": \"symbol\",\n",
    "    \"source\": \"places\",\n",
    "    \"layout\": {\n",
    "        \"text-field\": [\"get\", \"description\"],\n",
    "        \"text-variable-anchor\": [\"top\", \"bottom\", \"left\", \"right\"],\n",
    "        \"text-radial-offset\": 0.5,\n",
    "        \"text-justify\": \"auto\",\n",
    "        \"icon-image\": [\"concat\", [\"get\", \"icon\"], \"_15\"],\n",
    "    },\n",
    "}\n",
    "m.add_layer(layer)\n",
    "m"
   ]
  },
  {
   "cell_type": "code",
   "execution_count": null,
   "id": "159",
   "metadata": {},
   "outputs": [],
   "source": [
    "m.rotate_to(bearing=180, options={\"duration\": 10000})"
   ]
  },
  {
   "cell_type": "markdown",
   "id": "160",
   "metadata": {},
   "source": [
    "## Add custom components\n",
    "\n",
    "You can add custom components to the map, including images, videos, text, color bar, and legend.\n",
    "\n",
    "### Add image"
   ]
  },
  {
   "cell_type": "code",
   "execution_count": null,
   "id": "161",
   "metadata": {},
   "outputs": [],
   "source": [
    "m = leafmap.Map(center=[0.349419, -1.80921], zoom=3, style=\"streets\")\n",
    "image = \"https://upload.wikimedia.org/wikipedia/commons/7/7c/201408_cat.png\"\n",
    "source = {\n",
    "    \"type\": \"geojson\",\n",
    "    \"data\": {\n",
    "        \"type\": \"FeatureCollection\",\n",
    "        \"features\": [\n",
    "            {\"type\": \"Feature\", \"geometry\": {\"type\": \"Point\", \"coordinates\": [0, 0]}}\n",
    "        ],\n",
    "    },\n",
    "}\n",
    "\n",
    "layer = {\n",
    "    \"id\": \"points\",\n",
    "    \"type\": \"symbol\",\n",
    "    \"source\": \"point\",\n",
    "    \"layout\": {\n",
    "        \"icon-image\": \"cat\",\n",
    "        \"icon-size\": 0.25,\n",
    "        \"text-field\": \"I love kitty!\",\n",
    "        \"text-font\": [\"Open Sans Regular\"],\n",
    "        \"text-offset\": [0, 3],\n",
    "        \"text-anchor\": \"top\",\n",
    "    },\n",
    "}\n",
    "m.add_image(\"cat\", image)\n",
    "m.add_source(\"point\", source)\n",
    "m.add_layer(layer)\n",
    "m"
   ]
  },
  {
   "cell_type": "code",
   "execution_count": null,
   "id": "162",
   "metadata": {},
   "outputs": [],
   "source": [
    "m = leafmap.Map(center=[-100, 40], zoom=3, style=\"positron\")\n",
    "image = \"https://i.imgur.com/LmTETPX.png\"\n",
    "m.add_image(image=image, position=\"bottom-right\")\n",
    "m"
   ]
  },
  {
   "cell_type": "code",
   "execution_count": null,
   "id": "163",
   "metadata": {},
   "outputs": [],
   "source": [
    "m = leafmap.Map(center=[-100, 40], zoom=3, style=\"positron\")\n",
    "content = '<img src=\"https://i.imgur.com/LmTETPX.png\">'\n",
    "m.add_html(content, bg_color=\"transparent\", position=\"bottom-right\")\n",
    "m"
   ]
  },
  {
   "cell_type": "code",
   "execution_count": null,
   "id": "164",
   "metadata": {},
   "outputs": [],
   "source": [
    "import numpy as np\n",
    "\n",
    "\n",
    "# Generate the icon data\n",
    "width = 64  # The image will be 64 pixels square\n",
    "height = 64\n",
    "bytes_per_pixel = 4  # Each pixel is represented by 4 bytes: red, green, blue, and alpha\n",
    "data = np.zeros((width, width, bytes_per_pixel), dtype=np.uint8)\n",
    "\n",
    "for x in range(width):\n",
    "    for y in range(width):\n",
    "        data[y, x, 0] = int((y / width) * 255)  # red\n",
    "        data[y, x, 1] = int((x / width) * 255)  # green\n",
    "        data[y, x, 2] = 128  # blue\n",
    "        data[y, x, 3] = 255  # alpha\n",
    "\n",
    "# Flatten the data array\n",
    "flat_data = data.flatten()\n",
    "\n",
    "# Create the image dictionary\n",
    "image_dict = {\n",
    "    \"width\": width,\n",
    "    \"height\": height,\n",
    "    \"data\": flat_data.tolist(),\n",
    "}\n",
    "\n",
    "m = leafmap.Map(center=[0, 0], zoom=1, style=\"liberty\")\n",
    "m.add_image(\"gradient\", image_dict)\n",
    "source = {\n",
    "    \"type\": \"geojson\",\n",
    "    \"data\": {\n",
    "        \"type\": \"FeatureCollection\",\n",
    "        \"features\": [\n",
    "            {\"type\": \"Feature\", \"geometry\": {\"type\": \"Point\", \"coordinates\": [0, 0]}}\n",
    "        ],\n",
    "    },\n",
    "}\n",
    "\n",
    "layer = {\n",
    "    \"id\": \"points\",\n",
    "    \"type\": \"symbol\",\n",
    "    \"source\": \"point\",\n",
    "    \"layout\": {\"icon-image\": \"gradient\"},\n",
    "}\n",
    "\n",
    "m.add_source(\"point\", source)\n",
    "m.add_layer(layer)\n",
    "m"
   ]
  },
  {
   "cell_type": "markdown",
   "id": "165",
   "metadata": {},
   "source": [
    "### Add text"
   ]
  },
  {
   "cell_type": "code",
   "execution_count": null,
   "id": "166",
   "metadata": {},
   "outputs": [],
   "source": [
    "m = leafmap.Map(center=[-100, 40], zoom=3, style=\"liberty\")\n",
    "text = \"Hello World\"\n",
    "m.add_text(text, fontsize=20, position=\"bottom-right\")\n",
    "text2 = \"Awesome Text!\"\n",
    "m.add_text(text2, fontsize=25, bg_color=\"rgba(255, 255, 255, 0.8)\", position=\"top-left\")\n",
    "m"
   ]
  },
  {
   "cell_type": "markdown",
   "id": "167",
   "metadata": {},
   "source": [
    "### Add GIF"
   ]
  },
  {
   "cell_type": "code",
   "execution_count": null,
   "id": "168",
   "metadata": {},
   "outputs": [],
   "source": [
    "m = leafmap.Map(center=[-100, 40], zoom=3, style=\"positron\")\n",
    "image = \"https://i.imgur.com/KeiAsTv.gif\"\n",
    "m.add_image(image=image, width=250, height=250, position=\"bottom-right\")\n",
    "text = \"I love sloth!🦥\"\n",
    "m.add_text(text, fontsize=35, padding=\"20px\")\n",
    "image2 = \"https://i.imgur.com/kZC2tpr.gif\"\n",
    "m.add_image(image=image2, bg_color=\"transparent\", position=\"bottom-left\")\n",
    "m"
   ]
  },
  {
   "cell_type": "markdown",
   "id": "169",
   "metadata": {},
   "source": [
    "### Add HTML"
   ]
  },
  {
   "cell_type": "code",
   "execution_count": null,
   "id": "170",
   "metadata": {},
   "outputs": [],
   "source": [
    "m = leafmap.Map(center=[-100, 40], zoom=3, style=\"positron\")\n",
    "html = \"\"\"\n",
    "<html>\n",
    "<style>\n",
    "body {\n",
    "  font-size: 20px;\n",
    "}\n",
    "</style>\n",
    "<body>\n",
    "\n",
    "<span style='font-size:100px;'>&#128640;</span>\n",
    "<p>I will display &#128641;</p>\n",
    "<p>I will display &#128642;</p>\n",
    "\n",
    "</body>\n",
    "</html>\n",
    "\"\"\"\n",
    "m.add_html(html, bg_color=\"transparent\")\n",
    "m"
   ]
  },
  {
   "cell_type": "markdown",
   "id": "171",
   "metadata": {},
   "source": [
    "### Add colorbar"
   ]
  },
  {
   "cell_type": "code",
   "execution_count": null,
   "id": "172",
   "metadata": {},
   "outputs": [],
   "source": [
    "m = leafmap.Map(style=\"topo\")\n",
    "dem = \"https://github.com/opengeos/datasets/releases/download/raster/dem.tif\"\n",
    "m.add_cog_layer(\n",
    "    dem,\n",
    "    name=\"DEM\",\n",
    "    colormap_name=\"terrain\",\n",
    "    rescale=\"0, 1500\",\n",
    "    fit_bounds=True,\n",
    "    nodata=np.nan,\n",
    ")\n",
    "m.add_colorbar(\n",
    "    cmap=\"terrain\", vmin=0, vmax=1500, label=\"Elevation (m)\", position=\"bottom-right\"\n",
    ")\n",
    "m.add_layer_control()\n",
    "m"
   ]
  },
  {
   "cell_type": "code",
   "execution_count": null,
   "id": "173",
   "metadata": {},
   "outputs": [],
   "source": [
    "m = leafmap.Map(style=\"topo\")\n",
    "m.add_cog_layer(\n",
    "    dem,\n",
    "    name=\"DEM\",\n",
    "    colormap_name=\"terrain\",\n",
    "    rescale=\"0, 1500\",\n",
    "    nodata=np.nan,\n",
    "    fit_bounds=True,\n",
    ")\n",
    "m.add_colorbar(\n",
    "    cmap=\"terrain\",\n",
    "    vmin=0,\n",
    "    vmax=1500,\n",
    "    label=\"Elevation (m)\",\n",
    "    position=\"bottom-right\",\n",
    "    transparent=True,\n",
    ")\n",
    "m"
   ]
  },
  {
   "cell_type": "code",
   "execution_count": null,
   "id": "174",
   "metadata": {},
   "outputs": [],
   "source": [
    "m = leafmap.Map(style=\"topo\")\n",
    "m.add_cog_layer(\n",
    "    dem,\n",
    "    name=\"DEM\",\n",
    "    colormap_name=\"terrain\",\n",
    "    rescale=\"0, 1500\",\n",
    "    nodata=np.nan,\n",
    "    fit_bounds=True,\n",
    ")\n",
    "m.add_colorbar(\n",
    "    cmap=\"terrain\",\n",
    "    vmin=0,\n",
    "    vmax=1500,\n",
    "    label=\"Elevation (m)\",\n",
    "    position=\"bottom-right\",\n",
    "    width=0.2,\n",
    "    height=3,\n",
    "    orientation=\"vertical\",\n",
    ")\n",
    "m"
   ]
  },
  {
   "cell_type": "markdown",
   "id": "175",
   "metadata": {},
   "source": [
    "### Add legend"
   ]
  },
  {
   "cell_type": "code",
   "execution_count": null,
   "id": "176",
   "metadata": {},
   "outputs": [],
   "source": [
    "m = leafmap.Map(center=[-100, 40], zoom=3, style=\"positron\")\n",
    "m.add_basemap(\"Esri.WorldImagery\")\n",
    "url = \"https://www.mrlc.gov/geoserver/mrlc_display/NLCD_2021_Land_Cover_L48/wms\"\n",
    "layers = \"NLCD_2021_Land_Cover_L48\"\n",
    "m.add_wms_layer(url, layers=layers, name=\"NLCD 2021\")\n",
    "m.add_legend(\n",
    "    title=\"NLCD Land Cover Type\",\n",
    "    builtin_legend=\"NLCD\",\n",
    "    bg_color=\"rgba(255, 255, 255, 0.5)\",\n",
    "    position=\"bottom-left\",\n",
    ")\n",
    "m"
   ]
  },
  {
   "cell_type": "code",
   "execution_count": null,
   "id": "177",
   "metadata": {},
   "outputs": [],
   "source": [
    "m = leafmap.Map(center=[-100, 40], zoom=3, style=\"positron\")\n",
    "m.add_basemap(\"Esri.WorldImagery\")\n",
    "url = \"https://fwspublicservices.wim.usgs.gov/wetlandsmapservice/services/Wetlands/MapServer/WMSServer\"\n",
    "m.add_wms_layer(url, layers=\"1\", name=\"NWI\", opacity=0.6)\n",
    "m.add_layer_control()\n",
    "m.add_legend(builtin_legend=\"NWI\", title=\"Wetland Type\")\n",
    "m"
   ]
  },
  {
   "cell_type": "code",
   "execution_count": null,
   "id": "178",
   "metadata": {},
   "outputs": [],
   "source": [
    "m = leafmap.Map(center=[-100, 40], zoom=3, style=\"positron\")\n",
    "m.add_basemap(\"Esri.WorldImagery\")\n",
    "url = \"https://www.mrlc.gov/geoserver/mrlc_display/NLCD_2021_Land_Cover_L48/wms\"\n",
    "layers = \"NLCD_2021_Land_Cover_L48\"\n",
    "m.add_wms_layer(url, layers=layers, name=\"NLCD 2021\")\n",
    "\n",
    "legend_dict = {\n",
    "    \"11 Open Water\": \"466b9f\",\n",
    "    \"12 Perennial Ice/Snow\": \"d1def8\",\n",
    "    \"21 Developed, Open Space\": \"dec5c5\",\n",
    "    \"22 Developed, Low Intensity\": \"d99282\",\n",
    "    \"23 Developed, Medium Intensity\": \"eb0000\",\n",
    "    \"24 Developed High Intensity\": \"ab0000\",\n",
    "    \"31 Barren Land (Rock/Sand/Clay)\": \"b3ac9f\",\n",
    "    \"41 Deciduous Forest\": \"68ab5f\",\n",
    "    \"42 Evergreen Forest\": \"1c5f2c\",\n",
    "    \"43 Mixed Forest\": \"b5c58f\",\n",
    "    \"51 Dwarf Scrub\": \"af963c\",\n",
    "    \"52 Shrub/Scrub\": \"ccb879\",\n",
    "    \"71 Grassland/Herbaceous\": \"dfdfc2\",\n",
    "    \"72 Sedge/Herbaceous\": \"d1d182\",\n",
    "    \"73 Lichens\": \"a3cc51\",\n",
    "    \"74 Moss\": \"82ba9e\",\n",
    "    \"81 Pasture/Hay\": \"dcd939\",\n",
    "    \"82 Cultivated Crops\": \"ab6c28\",\n",
    "    \"90 Woody Wetlands\": \"b8d9eb\",\n",
    "    \"95 Emergent Herbaceous Wetlands\": \"6c9fb8\",\n",
    "}\n",
    "m.add_legend(\n",
    "    title=\"NLCD Land Cover Type\",\n",
    "    legend_dict=legend_dict,\n",
    "    bg_color=\"rgba(255, 255, 255, 0.5)\",\n",
    "    position=\"bottom-left\",\n",
    ")\n",
    "m"
   ]
  },
  {
   "cell_type": "markdown",
   "id": "179",
   "metadata": {},
   "source": [
    "### Add video\n",
    "\n",
    "The `urls` value is an array. For each URL in the array, a video element source will be created. To support the video across browsers, supply URLs in multiple formats.\n",
    "The `coordinates` array contains [longitude, latitude] pairs for the video corners listed in clockwise order: top left, top right, bottom right, bottom left."
   ]
  },
  {
   "cell_type": "code",
   "execution_count": null,
   "id": "180",
   "metadata": {},
   "outputs": [],
   "source": [
    "m = leafmap.Map(\n",
    "    center=[-122.514426, 37.562984], zoom=17, bearing=-96, style=\"satellite\"\n",
    ")\n",
    "urls = [\n",
    "    \"https://static-assets.mapbox.com/mapbox-gl-js/drone.mp4\",\n",
    "    \"https://static-assets.mapbox.com/mapbox-gl-js/drone.webm\",\n",
    "]\n",
    "coordinates = [\n",
    "    [-122.51596391201019, 37.56238816766053],\n",
    "    [-122.51467645168304, 37.56410183312965],\n",
    "    [-122.51309394836426, 37.563391708549425],\n",
    "    [-122.51423120498657, 37.56161849366671],\n",
    "]\n",
    "m.add_video(urls, coordinates)\n",
    "m.add_layer_control()\n",
    "m"
   ]
  },
  {
   "cell_type": "code",
   "execution_count": null,
   "id": "181",
   "metadata": {},
   "outputs": [],
   "source": [
    "m = leafmap.Map(center=[-115, 25], zoom=4, style=\"satellite\")\n",
    "urls = [\n",
    "    \"https://data.opengeos.org/patricia_nasa.mp4\",\n",
    "    \"https://data.opengeos.org/patricia_nasa.webm\",\n",
    "]\n",
    "coordinates = [\n",
    "    [-130, 32],\n",
    "    [-100, 32],\n",
    "    [-100, 13],\n",
    "    [-130, 13],\n",
    "]\n",
    "m.add_video(urls, coordinates)\n",
    "m.add_layer_control()\n",
    "m"
   ]
  },
  {
   "cell_type": "markdown",
   "id": "182",
   "metadata": {},
   "source": [
    "## PMTiles\n",
    "\n",
    "Leafmap supports the [PMTiles](https://protomaps.com/docs/pmtiles/) format for fast and efficient rendering of vector tiles.\n",
    "\n",
    "### Protomaps sample data"
   ]
  },
  {
   "cell_type": "code",
   "execution_count": null,
   "id": "183",
   "metadata": {},
   "outputs": [],
   "source": [
    "url = \"https://open.gishub.org/data/pmtiles/protomaps_firenze.pmtiles\"\n",
    "metadata = leafmap.pmtiles_metadata(url)\n",
    "print(f\"layer names: {metadata['layer_names']}\")\n",
    "print(f\"bounds: {metadata['bounds']}\")"
   ]
  },
  {
   "cell_type": "code",
   "execution_count": null,
   "id": "184",
   "metadata": {},
   "outputs": [],
   "source": [
    "m = leafmap.Map()\n",
    "\n",
    "style = {\n",
    "    \"version\": 8,\n",
    "    \"sources\": {\n",
    "        \"example_source\": {\n",
    "            \"type\": \"vector\",\n",
    "            \"url\": \"pmtiles://\" + url,\n",
    "            \"attribution\": \"PMTiles\",\n",
    "        }\n",
    "    },\n",
    "    \"layers\": [\n",
    "        {\n",
    "            \"id\": \"buildings\",\n",
    "            \"source\": \"example_source\",\n",
    "            \"source-layer\": \"landuse\",\n",
    "            \"type\": \"fill\",\n",
    "            \"paint\": {\"fill-color\": \"steelblue\"},\n",
    "        },\n",
    "        {\n",
    "            \"id\": \"roads\",\n",
    "            \"source\": \"example_source\",\n",
    "            \"source-layer\": \"roads\",\n",
    "            \"type\": \"line\",\n",
    "            \"paint\": {\"line-color\": \"black\"},\n",
    "        },\n",
    "    ],\n",
    "}\n",
    "\n",
    "# style = leafmap.pmtiles_style(url)  # Use default style\n",
    "\n",
    "m.add_pmtiles(\n",
    "    url,\n",
    "    style=style,\n",
    "    visible=True,\n",
    "    opacity=1.0,\n",
    "    tooltip=True,\n",
    ")\n",
    "m"
   ]
  },
  {
   "cell_type": "code",
   "execution_count": null,
   "id": "185",
   "metadata": {},
   "outputs": [],
   "source": [
    "m.layer_interact()"
   ]
  },
  {
   "cell_type": "markdown",
   "id": "186",
   "metadata": {},
   "source": [
    "### Overture data\n",
    "\n",
    "You can also visualize Overture data. Inspired by [overture-maps](https://github.com/tebben/overture-maps)."
   ]
  },
  {
   "cell_type": "markdown",
   "id": "187",
   "metadata": {},
   "source": [
    "### Source Cooperative\n",
    "\n",
    "Let's visualize the [Google-Microsoft Open Buildings - combined by VIDA](https://beta.source.coop/repositories/vida/google-microsoft-open-buildings/description)."
   ]
  },
  {
   "cell_type": "code",
   "execution_count": null,
   "id": "188",
   "metadata": {},
   "outputs": [],
   "source": [
    "url = \"https://data.source.coop/vida/google-microsoft-open-buildings/pmtiles/go_ms_building_footprints.pmtiles\"\n",
    "metadata = leafmap.pmtiles_metadata(url)\n",
    "print(f\"layer names: {metadata['layer_names']}\")\n",
    "print(f\"bounds: {metadata['bounds']}\")"
   ]
  },
  {
   "cell_type": "code",
   "execution_count": null,
   "id": "189",
   "metadata": {},
   "outputs": [],
   "source": [
    "m = leafmap.Map(center=[0, 20], zoom=2)\n",
    "m.add_basemap(\"Google Hybrid\", visible=False)\n",
    "\n",
    "style = {\n",
    "    \"version\": 8,\n",
    "    \"sources\": {\n",
    "        \"example_source\": {\n",
    "            \"type\": \"vector\",\n",
    "            \"url\": \"pmtiles://\" + url,\n",
    "            \"attribution\": \"PMTiles\",\n",
    "        }\n",
    "    },\n",
    "    \"layers\": [\n",
    "        {\n",
    "            \"id\": \"buildings\",\n",
    "            \"source\": \"example_source\",\n",
    "            \"source-layer\": \"building_footprints\",\n",
    "            \"type\": \"fill\",\n",
    "            \"paint\": {\"fill-color\": \"#3388ff\", \"fill-opacity\": 0.5},\n",
    "        },\n",
    "    ],\n",
    "}\n",
    "\n",
    "# style = leafmap.pmtiles_style(url)  # Use default style\n",
    "\n",
    "m.add_pmtiles(\n",
    "    url,\n",
    "    style=style,\n",
    "    visible=True,\n",
    "    opacity=1.0,\n",
    "    tooltip=True,\n",
    ")\n",
    "m"
   ]
  },
  {
   "cell_type": "code",
   "execution_count": null,
   "id": "190",
   "metadata": {},
   "outputs": [],
   "source": [
    "m.layer_interact()"
   ]
  },
  {
   "cell_type": "markdown",
   "id": "191",
   "metadata": {},
   "source": [
    "### 3D PMTiles\n",
    "\n",
    "Visualize the global building data in 3D."
   ]
  },
  {
   "cell_type": "code",
   "execution_count": null,
   "id": "192",
   "metadata": {},
   "outputs": [],
   "source": [
    "url = \"https://data.source.coop/cholmes/overture/overture-buildings.pmtiles\"\n",
    "metadata = leafmap.pmtiles_metadata(url)\n",
    "print(f\"layer names: {metadata['layer_names']}\")\n",
    "print(f\"bounds: {metadata['bounds']}\")"
   ]
  },
  {
   "cell_type": "code",
   "execution_count": null,
   "id": "193",
   "metadata": {},
   "outputs": [],
   "source": [
    "m = leafmap.Map(\n",
    "    center=[-74.0095, 40.7046], zoom=16, pitch=60, bearing=-17, style=\"positron\"\n",
    ")\n",
    "m.add_basemap(\"OpenStreetMap.Mapnik\")\n",
    "m.add_basemap(\"Esri.WorldImagery\", visible=False)\n",
    "\n",
    "style = {\n",
    "    \"layers\": [\n",
    "        {\n",
    "            \"id\": \"buildings\",\n",
    "            \"source\": \"example_source\",\n",
    "            \"source-layer\": \"buildings\",\n",
    "            \"type\": \"fill-extrusion\",\n",
    "            \"filter\": [\n",
    "                \">\",\n",
    "                [\"get\", \"height\"],\n",
    "                0,\n",
    "            ],  # only show buildings with height info\n",
    "            \"paint\": {\n",
    "                \"fill-extrusion-color\": [\n",
    "                    \"interpolate\",\n",
    "                    [\"linear\"],\n",
    "                    [\"get\", \"height\"],\n",
    "                    0,\n",
    "                    \"lightgray\",\n",
    "                    200,\n",
    "                    \"royalblue\",\n",
    "                    400,\n",
    "                    \"lightblue\",\n",
    "                ],\n",
    "                \"fill-extrusion-height\": [\"*\", [\"get\", \"height\"], 1],\n",
    "            },\n",
    "        },\n",
    "    ],\n",
    "}\n",
    "\n",
    "m.add_pmtiles(\n",
    "    url,\n",
    "    style=style,\n",
    "    visible=True,\n",
    "    opacity=1.0,\n",
    "    tooltip=True,\n",
    "    template=\"Height: {{height}}<br>Country: {{country_iso}}\",\n",
    "    fit_bounds=False,\n",
    ")\n",
    "m.add_layer_control()\n",
    "m"
   ]
  },
  {
   "cell_type": "markdown",
   "id": "194",
   "metadata": {},
   "source": [
    "### 3D buildings"
   ]
  },
  {
   "cell_type": "code",
   "execution_count": null,
   "id": "195",
   "metadata": {},
   "outputs": [],
   "source": [
    "m = leafmap.Map(\n",
    "    center=[-74.0095, 40.7046], zoom=16, pitch=60, bearing=-17, style=\"positron\"\n",
    ")\n",
    "m.add_basemap(\"Esri.WorldImagery\", visible=False)\n",
    "m.add_overture_3d_buildings(release=\"2024-09-18\", template=\"simple\")\n",
    "m.add_layer_control()\n",
    "m"
   ]
  },
  {
   "cell_type": "markdown",
   "id": "196",
   "metadata": {},
   "source": [
    "### 2D buildings"
   ]
  },
  {
   "cell_type": "code",
   "execution_count": null,
   "id": "197",
   "metadata": {},
   "outputs": [],
   "source": [
    "m = leafmap.Map(center=[-74.0095, 40.7046], zoom=16)\n",
    "m.add_basemap(\"Esri.WorldImagery\", visible=False)\n",
    "m.add_overture_data(theme=\"buildings\", opacity=0.8)\n",
    "m.add_layer_control()\n",
    "m"
   ]
  },
  {
   "cell_type": "markdown",
   "id": "198",
   "metadata": {},
   "source": [
    "### Transportation"
   ]
  },
  {
   "cell_type": "code",
   "execution_count": null,
   "id": "199",
   "metadata": {},
   "outputs": [],
   "source": [
    "m = leafmap.Map(center=[-74.0095, 40.7046], zoom=16)\n",
    "m.add_basemap(\"Esri.WorldImagery\", visible=False)\n",
    "m.add_overture_data(theme=\"transportation\", opacity=0.8)\n",
    "m.add_layer_control()\n",
    "m"
   ]
  },
  {
   "cell_type": "markdown",
   "id": "200",
   "metadata": {},
   "source": [
    "### Places"
   ]
  },
  {
   "cell_type": "code",
   "execution_count": null,
   "id": "201",
   "metadata": {},
   "outputs": [],
   "source": [
    "m = leafmap.Map(center=[-74.0095, 40.7046], zoom=16)\n",
    "m.add_basemap(\"Esri.WorldImagery\", visible=False)\n",
    "m.add_overture_data(theme=\"places\", opacity=0.8)\n",
    "m.add_layer_control()\n",
    "m"
   ]
  },
  {
   "cell_type": "markdown",
   "id": "202",
   "metadata": {},
   "source": [
    "### Addresses"
   ]
  },
  {
   "cell_type": "code",
   "execution_count": null,
   "id": "203",
   "metadata": {},
   "outputs": [],
   "source": [
    "m = leafmap.Map(center=[-74.0095, 40.7046], zoom=16)\n",
    "m.add_basemap(\"Esri.WorldImagery\", visible=False)\n",
    "m.add_overture_data(theme=\"addresses\", opacity=0.8)\n",
    "m.add_layer_control()\n",
    "m"
   ]
  },
  {
   "cell_type": "markdown",
   "id": "204",
   "metadata": {},
   "source": [
    "### Base"
   ]
  },
  {
   "cell_type": "code",
   "execution_count": null,
   "id": "205",
   "metadata": {},
   "outputs": [],
   "source": [
    "m = leafmap.Map(center=[-74.0095, 40.7046], zoom=16)\n",
    "m.add_basemap(\"Esri.WorldImagery\", visible=False)\n",
    "m.add_overture_data(theme=\"base\", opacity=0.8)\n",
    "m.add_layer_control()\n",
    "m"
   ]
  },
  {
   "cell_type": "markdown",
   "id": "206",
   "metadata": {},
   "source": [
    "### Divisions"
   ]
  },
  {
   "cell_type": "code",
   "execution_count": null,
   "id": "207",
   "metadata": {},
   "outputs": [],
   "source": [
    "m = leafmap.Map()\n",
    "m.add_basemap(\"Esri.WorldImagery\", visible=False)\n",
    "m.add_overture_data(theme=\"divisions\", opacity=0.8)\n",
    "m.add_layer_control()\n",
    "m"
   ]
  },
  {
   "cell_type": "markdown",
   "id": "208",
   "metadata": {},
   "source": [
    "## Deck.GL layers\n",
    "\n",
    "Deck.GL layers can be added to the map using the `add_deck_layer` method.\n",
    "\n",
    "### Single Deck.GL layer"
   ]
  },
  {
   "cell_type": "code",
   "execution_count": null,
   "id": "209",
   "metadata": {},
   "outputs": [],
   "source": [
    "m = leafmap.Map(\n",
    "    style=\"positron\",\n",
    "    center=(-122.4, 37.74),\n",
    "    zoom=12,\n",
    "    pitch=40,\n",
    ")\n",
    "deck_grid_layer = {\n",
    "    \"@@type\": \"GridLayer\",\n",
    "    \"id\": \"GridLayer\",\n",
    "    \"data\": \"https://raw.githubusercontent.com/visgl/deck.gl-data/master/website/sf-bike-parking.json\",\n",
    "    \"extruded\": True,\n",
    "    \"getPosition\": \"@@=COORDINATES\",\n",
    "    \"getColorWeight\": \"@@=SPACES\",\n",
    "    \"getElevationWeight\": \"@@=SPACES\",\n",
    "    \"elevationScale\": 4,\n",
    "    \"cellSize\": 200,\n",
    "    \"pickable\": True,\n",
    "}\n",
    "\n",
    "m.add_deck_layers([deck_grid_layer], tooltip=\"Number of points: {{ count }}\")\n",
    "m"
   ]
  },
  {
   "cell_type": "markdown",
   "id": "210",
   "metadata": {},
   "source": [
    "### Multiple Deck.GL layers"
   ]
  },
  {
   "cell_type": "code",
   "execution_count": null,
   "id": "211",
   "metadata": {},
   "outputs": [],
   "source": [
    "url = \"https://d2ad6b4ur7yvpq.cloudfront.net/naturalearth-3.3.0/ne_10m_airports.geojson\"\n",
    "data = leafmap.read_geojson(url)"
   ]
  },
  {
   "cell_type": "code",
   "execution_count": null,
   "id": "212",
   "metadata": {},
   "outputs": [],
   "source": [
    "m = leafmap.Map(\n",
    "    style=\"positron\",\n",
    "    center=(0.45, 51.47),\n",
    "    zoom=4,\n",
    "    pitch=30,\n",
    ")\n",
    "deck_geojson_layer = {\n",
    "    \"@@type\": \"GeoJsonLayer\",\n",
    "    \"id\": \"airports\",\n",
    "    \"data\": data,\n",
    "    \"filled\": True,\n",
    "    \"pointRadiusMinPixels\": 2,\n",
    "    \"pointRadiusScale\": 2000,\n",
    "    \"getPointRadius\": \"@@=11 - properties.scalerank\",\n",
    "    \"getFillColor\": [200, 0, 80, 180],\n",
    "    \"autoHighlight\": True,\n",
    "    \"pickable\": True,\n",
    "}\n",
    "\n",
    "deck_arc_layer = {\n",
    "    \"@@type\": \"ArcLayer\",\n",
    "    \"id\": \"arcs\",\n",
    "    \"data\": [\n",
    "        feature\n",
    "        for feature in data[\"features\"]\n",
    "        if feature[\"properties\"][\"scalerank\"] < 4\n",
    "    ],\n",
    "    \"getSourcePosition\": [-0.4531566, 51.4709959],  # London\n",
    "    \"getTargetPosition\": \"@@=geometry.coordinates\",\n",
    "    \"getSourceColor\": [0, 128, 200],\n",
    "    \"getTargetColor\": [200, 0, 80],\n",
    "    \"getWidth\": 2,\n",
    "    \"pickable\": True,\n",
    "}\n",
    "\n",
    "m.add_deck_layers(\n",
    "    [deck_geojson_layer, deck_arc_layer],\n",
    "    tooltip={\n",
    "        \"airports\": \"{{ &properties.name }}\",\n",
    "        \"arcs\": \"gps_code: {{ properties.gps_code }}\",\n",
    "    },\n",
    ")\n",
    "m"
   ]
  },
  {
   "cell_type": "markdown",
   "id": "213",
   "metadata": {},
   "source": [
    "## Google Earth Engine\n",
    "\n",
    "You can use the Earth Engine Python API to load and visualize Earth Engine data."
   ]
  },
  {
   "cell_type": "code",
   "execution_count": null,
   "id": "214",
   "metadata": {},
   "outputs": [],
   "source": [
    "m = leafmap.Map(\n",
    "    center=[-120.4482, 38.0399], zoom=13, pitch=60, bearing=30, style=\"3d-terrain\"\n",
    ")\n",
    "m.add_ee_layer(asset_id=\"ESA/WorldCover/v200\", opacity=0.5)\n",
    "m.add_legend(builtin_legend=\"ESA_WorldCover\", title=\"ESA Landcover\")\n",
    "m.add_layer_control()\n",
    "m"
   ]
  },
  {
   "cell_type": "code",
   "execution_count": null,
   "id": "215",
   "metadata": {},
   "outputs": [],
   "source": [
    "m.layer_interact()"
   ]
  },
  {
   "cell_type": "markdown",
   "id": "216",
   "metadata": {},
   "source": [
    "We can also overlay other data layers on top of Earth Engine data layers."
   ]
  },
  {
   "cell_type": "code",
   "execution_count": null,
   "id": "217",
   "metadata": {},
   "outputs": [],
   "source": [
    "m = leafmap.Map(\n",
    "    center=[-74.012998, 40.70414], zoom=15.6, pitch=60, bearing=30, style=\"3d-terrain\"\n",
    ")\n",
    "m.add_ee_layer(asset_id=\"ESA/WorldCover/v200\", opacity=0.5)\n",
    "m.add_3d_buildings()\n",
    "m.add_legend(builtin_legend=\"ESA_WorldCover\", title=\"ESA Landcover\")\n",
    "m"
   ]
  },
  {
   "cell_type": "markdown",
   "id": "218",
   "metadata": {},
   "source": [
    "If you have an Earth Engine, you can uncomment the first two code blocks to add any Earth Engine datasets."
   ]
  },
  {
   "cell_type": "code",
   "execution_count": null,
   "id": "219",
   "metadata": {},
   "outputs": [],
   "source": [
    "# import ee\n",
    "\n",
    "# ee.Authenticate()\n",
    "# ee.Initialize(project=\"YOUR-PROJECT-ID\")"
   ]
  },
  {
   "cell_type": "code",
   "execution_count": null,
   "id": "220",
   "metadata": {},
   "outputs": [],
   "source": [
    "# m = leafmap.Map(center=[-120.4482, 38.03994], zoom=13, pitch=60, bearing=30, style=\"3d-terrain\")\n",
    "# dataset = ee.ImageCollection(\"ESA/WorldCover/v200\").first()\n",
    "# vis_params = {\"bands\": [\"Map\"]}\n",
    "# m.add_ee_layer(dataset, vis_params, name=\"ESA Worldcover\", opacity=0.5)\n",
    "# m.add_legend(builtin_legend=\"ESA_WorldCover\", title=\"ESA Landcover\")\n",
    "# m.add_layer_control()\n",
    "# m"
   ]
  },
  {
   "cell_type": "markdown",
   "id": "221",
   "metadata": {},
   "source": [
    "## Animations\n",
    "\n",
    "### Animate a line"
   ]
  },
  {
   "cell_type": "code",
   "execution_count": null,
   "id": "222",
   "metadata": {},
   "outputs": [],
   "source": [
    "import time\n",
    "import pandas as pd"
   ]
  },
  {
   "cell_type": "code",
   "execution_count": null,
   "id": "223",
   "metadata": {},
   "outputs": [],
   "source": [
    "url = \"https://github.com/opengeos/datasets/releases/download/world/animated_line_data.csv\"\n",
    "df = pd.read_csv(url)\n",
    "df_sample = df.sample(n=1000, random_state=1).sort_index()\n",
    "df_sample.loc[len(df_sample)] = df.iloc[-1]\n",
    "df_sample.head()"
   ]
  },
  {
   "cell_type": "code",
   "execution_count": null,
   "id": "224",
   "metadata": {},
   "outputs": [],
   "source": [
    "m = leafmap.Map(center=[0, 0], zoom=0.5, style=\"liberty\")\n",
    "geojson = {\n",
    "    \"type\": \"FeatureCollection\",\n",
    "    \"features\": [\n",
    "        {\"type\": \"Feature\", \"geometry\": {\"type\": \"LineString\", \"coordinates\": [[0, 0]]}}\n",
    "    ],\n",
    "}\n",
    "source = {\"type\": \"geojson\", \"data\": geojson}\n",
    "m.add_source(\"line\", source)\n",
    "layer = {\n",
    "    \"id\": \"line-animation\",\n",
    "    \"type\": \"line\",\n",
    "    \"source\": \"line\",\n",
    "    \"layout\": {\"line-cap\": \"round\", \"line-join\": \"round\"},\n",
    "    \"paint\": {\"line-color\": \"#ed6498\", \"line-width\": 5, \"line-opacity\": 0.8},\n",
    "}\n",
    "m.add_layer(layer)\n",
    "m"
   ]
  },
  {
   "cell_type": "code",
   "execution_count": null,
   "id": "225",
   "metadata": {},
   "outputs": [],
   "source": [
    "run_times = 2\n",
    "for i in range(run_times):\n",
    "    geojson[\"features\"][0][\"geometry\"][\"coordinates\"] = [[0, 0]]\n",
    "    for row in df_sample.itertuples():\n",
    "        time.sleep(0.005)\n",
    "        geojson[\"features\"][0][\"geometry\"][\"coordinates\"].append([row.x, row.y])\n",
    "        m.set_data(\"line\", geojson)"
   ]
  },
  {
   "cell_type": "markdown",
   "id": "226",
   "metadata": {},
   "source": [
    "### Animate map camera around a point"
   ]
  },
  {
   "cell_type": "code",
   "execution_count": null,
   "id": "227",
   "metadata": {},
   "outputs": [],
   "source": [
    "m = leafmap.Map(center=[-87.62712, 41.89033], zoom=15, pitch=45, style=\"streets\")\n",
    "layers = m.get_style_layers()\n",
    "for layer in layers:\n",
    "    if layer[\"type\"] == \"symbol\" and (\"text-field\" in layer[\"layout\"]):\n",
    "        m.remove_layer(layer[\"id\"])\n",
    "layer = {\n",
    "    \"id\": \"3d-buildings\",\n",
    "    \"source\": \"composite\",\n",
    "    \"source-layer\": \"building\",\n",
    "    \"filter\": [\"==\", \"extrude\", \"true\"],\n",
    "    \"type\": \"fill-extrusion\",\n",
    "    \"min_zoom\": 15,\n",
    "    \"paint\": {\n",
    "        \"fill-extrusion-color\": \"#aaa\",\n",
    "        \"fill-extrusion-height\": [\n",
    "            \"interpolate\",\n",
    "            [\"linear\"],\n",
    "            [\"zoom\"],\n",
    "            15,\n",
    "            0,\n",
    "            15.05,\n",
    "            [\"get\", \"height\"],\n",
    "        ],\n",
    "        \"fill-extrusion-base\": [\n",
    "            \"interpolate\",\n",
    "            [\"linear\"],\n",
    "            [\"zoom\"],\n",
    "            15,\n",
    "            0,\n",
    "            15.05,\n",
    "            [\"get\", \"min_height\"],\n",
    "        ],\n",
    "        \"fill-extrusion-opacity\": 0.6,\n",
    "    },\n",
    "}\n",
    "m.add_layer(layer)\n",
    "m"
   ]
  },
  {
   "cell_type": "markdown",
   "id": "228",
   "metadata": {},
   "source": [
    "### Animate a point"
   ]
  },
  {
   "cell_type": "code",
   "execution_count": null,
   "id": "229",
   "metadata": {},
   "outputs": [],
   "source": [
    "for degree in range(0, 180, 1):\n",
    "    m.rotate_to(degree, {\"duration\": 0})\n",
    "    time.sleep(0.1)"
   ]
  },
  {
   "cell_type": "code",
   "execution_count": null,
   "id": "230",
   "metadata": {},
   "outputs": [],
   "source": [
    "import math"
   ]
  },
  {
   "cell_type": "code",
   "execution_count": null,
   "id": "231",
   "metadata": {},
   "outputs": [],
   "source": [
    "def point_on_circle(angle, radius):\n",
    "    return {\n",
    "        \"type\": \"Point\",\n",
    "        \"coordinates\": [math.cos(angle) * radius, math.sin(angle) * radius],\n",
    "    }"
   ]
  },
  {
   "cell_type": "code",
   "execution_count": null,
   "id": "232",
   "metadata": {},
   "outputs": [],
   "source": [
    "m = leafmap.Map(center=[0, 0], zoom=2, style=\"liberty\")\n",
    "radius = 20\n",
    "source = {\"type\": \"geojson\", \"data\": point_on_circle(0, radius)}\n",
    "m.add_source(\"point\", source)\n",
    "layer = {\n",
    "    \"id\": \"point\",\n",
    "    \"source\": \"point\",\n",
    "    \"type\": \"circle\",\n",
    "    \"paint\": {\"circle-radius\": 10, \"circle-color\": \"#007cbf\"},\n",
    "}\n",
    "m.add_layer(layer)\n",
    "m"
   ]
  },
  {
   "cell_type": "code",
   "execution_count": null,
   "id": "233",
   "metadata": {},
   "outputs": [],
   "source": [
    "def animate_marker(duration, frame_rate, radius):\n",
    "    start_time = time.time()\n",
    "    while (time.time() - start_time) < duration:\n",
    "        timestamp = (time.time() - start_time) * 1000  # Convert to milliseconds\n",
    "        angle = timestamp / 1000  # Divisor controls the animation speed\n",
    "        point = point_on_circle(angle, radius)\n",
    "        m.set_data(\"point\", point)\n",
    "        # Wait for the next frame\n",
    "        time.sleep(1 / frame_rate)"
   ]
  },
  {
   "cell_type": "code",
   "execution_count": null,
   "id": "234",
   "metadata": {},
   "outputs": [],
   "source": [
    "duration = 10  # Duration of the animation in seconds\n",
    "frame_rate = 30  # Frames per second"
   ]
  },
  {
   "cell_type": "code",
   "execution_count": null,
   "id": "235",
   "metadata": {},
   "outputs": [],
   "source": [
    "animate_marker(duration, frame_rate, radius)"
   ]
  },
  {
   "cell_type": "markdown",
   "id": "236",
   "metadata": {},
   "source": [
    "### Animate a point along a route"
   ]
  },
  {
   "cell_type": "code",
   "execution_count": null,
   "id": "237",
   "metadata": {},
   "outputs": [],
   "source": [
    "m = leafmap.Map(center=[-100, 40], zoom=3, style=\"streets\")\n",
    "url = \"https://github.com/opengeos/datasets/releases/download/us/arc_with_bearings.geojson\"\n",
    "geojson = leafmap.read_geojson(url)\n",
    "bearings = geojson[\"features\"][0][\"properties\"][\"bearings\"]\n",
    "coordinates = geojson[\"features\"][0][\"geometry\"][\"coordinates\"][:-1]\n",
    "m.add_geojson(geojson, name=\"route\")\n",
    "\n",
    "origin = [-122.414, 37.776]\n",
    "destination = [-77.032, 38.913]\n",
    "\n",
    "point = {\n",
    "    \"type\": \"FeatureCollection\",\n",
    "    \"features\": [\n",
    "        {\n",
    "            \"type\": \"Feature\",\n",
    "            \"properties\": {},\n",
    "            \"geometry\": {\"type\": \"Point\", \"coordinates\": origin},\n",
    "        }\n",
    "    ],\n",
    "}\n",
    "source = {\"type\": \"geojson\", \"data\": point}\n",
    "m.add_source(\"point\", source)\n",
    "layer = {\n",
    "    \"id\": \"point\",\n",
    "    \"source\": \"point\",\n",
    "    \"type\": \"symbol\",\n",
    "    \"layout\": {\n",
    "        \"icon-image\": \"airport_15\",\n",
    "        \"icon-rotate\": [\"get\", \"bearing\"],\n",
    "        \"icon-rotation-alignment\": \"map\",\n",
    "        \"icon-overlap\": \"always\",\n",
    "        \"icon-ignore-placement\": True,\n",
    "    },\n",
    "}\n",
    "m.add_layer(layer)\n",
    "m"
   ]
  },
  {
   "cell_type": "code",
   "execution_count": null,
   "id": "238",
   "metadata": {},
   "outputs": [],
   "source": [
    "for index, coordinate in enumerate(coordinates):\n",
    "    point[\"features\"][0][\"geometry\"][\"coordinates\"] = coordinate\n",
    "    point[\"features\"][0][\"properties\"][\"bearing\"] = bearings[index]\n",
    "    m.set_data(\"point\", point)\n",
    "    time.sleep(0.05)"
   ]
  },
  {
   "cell_type": "markdown",
   "id": "239",
   "metadata": {},
   "source": [
    "### Update a feature in realtime"
   ]
  },
  {
   "cell_type": "code",
   "execution_count": null,
   "id": "240",
   "metadata": {},
   "outputs": [],
   "source": [
    "import geopandas as gpd"
   ]
  },
  {
   "cell_type": "code",
   "execution_count": null,
   "id": "241",
   "metadata": {},
   "outputs": [],
   "source": [
    "m = leafmap.Map(center=[-122.019807, 45.632433], zoom=14, pitch=60, style=\"3d-terrain\")\n",
    "m"
   ]
  },
  {
   "cell_type": "code",
   "execution_count": null,
   "id": "242",
   "metadata": {},
   "outputs": [],
   "source": [
    "url = \"https://maplibre.org/maplibre-gl-js/docs/assets/hike.geojson\"\n",
    "gdf = gpd.read_file(url)\n",
    "coordinates = list(gdf.geometry[0].coords)\n",
    "print(coordinates[:5])"
   ]
  },
  {
   "cell_type": "code",
   "execution_count": null,
   "id": "243",
   "metadata": {},
   "outputs": [],
   "source": [
    "source = {\n",
    "    \"type\": \"geojson\",\n",
    "    \"data\": {\n",
    "        \"type\": \"Feature\",\n",
    "        \"geometry\": {\"type\": \"LineString\", \"coordinates\": [coordinates[0]]},\n",
    "    },\n",
    "}\n",
    "m.add_source(\"trace\", source)\n",
    "layer = {\n",
    "    \"id\": \"trace\",\n",
    "    \"type\": \"line\",\n",
    "    \"source\": \"trace\",\n",
    "    \"paint\": {\"line-color\": \"yellow\", \"line-opacity\": 0.75, \"line-width\": 5},\n",
    "}\n",
    "m.add_layer(layer)\n",
    "m.jump_to({\"center\": coordinates[0], \"zoom\": 14})\n",
    "m.set_pitch(30)"
   ]
  },
  {
   "cell_type": "code",
   "execution_count": null,
   "id": "244",
   "metadata": {},
   "outputs": [],
   "source": [
    "for coord in coordinates:\n",
    "    time.sleep(0.005)\n",
    "    source[\"data\"][\"geometry\"][\"coordinates\"].append(coord)\n",
    "    m.set_data(\"trace\", source[\"data\"])\n",
    "    m.pan_to(coord)"
   ]
  },
  {
   "cell_type": "markdown",
   "id": "245",
   "metadata": {},
   "source": [
    "## To HTML\n",
    "\n",
    "To export the map as an HTML file, use the `to_html` method. To avoid exposing your private API key, you should create a public API key and restrict it to your website domain."
   ]
  },
  {
   "cell_type": "code",
   "execution_count": null,
   "id": "246",
   "metadata": {},
   "outputs": [],
   "source": [
    "# import os\n",
    "# os.environ[\"MAPTILER_KEY\"] = \"YOUR_PRIVATE_API_KEY\"\n",
    "# os.environ[\"MAPTILER_KEY_PUBLIC\"] = \"YOUR_PUBLIC_API_KEY\""
   ]
  },
  {
   "cell_type": "code",
   "execution_count": null,
   "id": "247",
   "metadata": {},
   "outputs": [],
   "source": [
    "m = leafmap.Map(\n",
    "    center=[-122.19861, 46.21168], zoom=13, pitch=60, bearing=150, style=\"3d-terrain\"\n",
    ")\n",
    "m.add_layer_control(bg_layers=True)\n",
    "m.to_html(\n",
    "    \"terrain.html\",\n",
    "    title=\"Awesome 3D Map\",\n",
    "    width=\"100%\",\n",
    "    height=\"100%\",\n",
    "    replace_key=True,\n",
    ")\n",
    "m"
   ]
  },
  {
   "cell_type": "code",
   "execution_count": null,
   "id": "248",
   "metadata": {},
   "outputs": [],
   "source": [
    "m = leafmap.Map(\n",
    "    center=[-74.0066, 40.7135], zoom=16, pitch=45, bearing=-17, style=\"basic-v2\"\n",
    ")\n",
    "m.add_basemap(\"Esri.WorldImagery\", visible=False)\n",
    "m.add_3d_buildings(min_zoom=15)\n",
    "m.add_layer_control()\n",
    "m.to_html(\n",
    "    \"buildings.html\",\n",
    "    title=\"Awesome 3D Map\",\n",
    "    width=\"100%\",\n",
    "    height=\"100%\",\n",
    "    replace_key=True,\n",
    ")\n",
    "m"
   ]
  },
  {
   "cell_type": "markdown",
   "id": "249",
   "metadata": {},
   "source": [
    "## Summary\n",
    "\n",
    "In this lecture, we explored the functionality of the MapLibre library for creating and customizing interactive maps in Python. We covered how to build a map from scratch, add controls, and manage different basemaps. Additionally, we explored more complex visualizations, including 3D building and terrain views, layer customization, and data integration with GeoJSON and raster formats. By understanding and applying these techniques, students are now equipped to develop dynamic geospatial visualizations using MapLibre, enhancing both analytical and presentation capabilities in their GIS projects."
   ]
  }
 ],
 "metadata": {
  "kernelspec": {
   "display_name": "Python 3 (ipykernel)",
   "language": "python",
   "name": "python3"
  },
  "language_info": {
   "codemirror_mode": {
    "name": "ipython",
    "version": 3
   },
   "file_extension": ".py",
   "mimetype": "text/x-python",
   "name": "python",
   "nbconvert_exporter": "python",
   "pygments_lexer": "ipython3",
   "version": "3.11.9"
  }
 },
 "nbformat": 4,
 "nbformat_minor": 5
}
