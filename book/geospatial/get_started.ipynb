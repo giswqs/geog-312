{
 "cells": [
  {
   "cell_type": "markdown",
   "id": "0",
   "metadata": {},
   "source": [
    "# Get Started\n",
    "\n",
    "[![Open In Colab](https://colab.research.google.com/assets/colab-badge.svg)](https://colab.research.google.com/github/giswqs/geog-312/blob/main/book/geospatial/get_started.ipynb)\n",
    "\n",
    "## Introduction\n",
    "\n",
    "Now that we've covered the basics of Python programming, we will begin exploring geospatial data analysis and visualization using Python. This chapter introduces you to key geospatial libraries that form the foundation for working with spatial data in Python.\n",
    "\n",
    "Geospatial data analysis is essential for various applications, including environmental monitoring, urban planning, and mapping. Python's ecosystem offers a robust set of libraries for handling both vector and raster data, performing spatial analysis, and creating interactive maps. Some of the core libraries we will work with include:\n",
    "\n",
    "- **[GeoPandas](https://geopandas.org):** For handling vector data such as shapefiles, GeoJSON, and performing spatial operations.\n",
    "- **[Rasterio](https://rasterio.readthedocs.io):** To read, analyze, and write raster data (e.g., satellite imagery).\n",
    "- **[Xarray](https://xarray.pydata.org):** For multidimensional array-based data, often used with climate and meteorological datasets.\n",
    "- **[Leafmap](https://leafmap.org):** Simplifies creating interactive maps with minimal code.\n",
    "- **[MapLibre](https://eodagmbh.github.io/py-maplibregl/):** A tool for building interactive, customizable map visualizations using vector tiles.\n",
    "- **[WhiteboxTools](https://github.com/jblindsay/whitebox-tools):** A suite of GIS tools for spatial analysis.\n",
    "- **[Geemap](https://geemap.org):** Combines the power of Google Earth Engine with Python for large-scale geospatial analysis.\n",
    "- **[Segment-geospatial](https://samgeo.gishub.org):** An advanced tool for image segmentation in geospatial analysis.\n",
    "- **[HyperCoast](https://hypercoast.org):** Used for coastal data modeling and analysis.\n",
    "- **[DuckDB](https://duckdb.org):** A fast, embeddable analytical database with powerful spatial query capabilities.\n",
    "- **[GDAL](https://gdal.org):** One of the most widely used libraries for raster and vector data processing.\n",
    "\n",
    "These libraries will be introduced progressively, and we'll explore their capabilities through hands-on exercises."
   ]
  },
  {
   "cell_type": "markdown",
   "id": "1",
   "metadata": {},
   "source": [
    "## Setting Up Your Python Environment\n",
    "\n",
    "To follow along with the examples and exercises in this book, you need to set up a Python environment with the required geospatial libraries. One of the easiest ways to manage packages and environments in Python is by using **conda**—a powerful package manager.\n",
    "\n",
    "If you haven't already installed **conda**, follow these steps:\n",
    "\n",
    "### 1. Install Miniconda\n",
    "\n",
    "Miniconda is a lightweight version of Anaconda and provides all the core functionality needed to manage environments. You can download and install it from the official Miniconda page: [Miniconda Installation Guide](https://docs.anaconda.com/miniconda).\n",
    "\n",
    "### 2. Create a New Conda Environment\n",
    "\n",
    "Once Miniconda is installed, you can create a new environment specifically for geospatial programming. This isolates your geospatial tools from other Python projects, helping avoid version conflicts.\n",
    "\n",
    "Run the following commands in your terminal or command prompt:\n",
    "\n",
    "```bash\n",
    "conda create -n geo python=3.11\n",
    "conda activate geo\n",
    "```\n",
    "\n",
    "### 3. Install Geospatial Libraries\n",
    "\n",
    "To manage the installation of multiple geospatial libraries more efficiently, we'll use mamba, a faster alternative to conda. Install it first, then proceed with the geospatial libraries:\n",
    "\n",
    "```bash\n",
    "conda install -c conda-forge mamba\n",
    "mamba install -c conda-forge geospatail\n",
    "```"
   ]
  },
  {
   "cell_type": "markdown",
   "id": "2",
   "metadata": {},
   "source": [
    "## Verifying Your Installation\n",
    "\n",
    "Once you've set up your environment, it's important to verify that everything is working correctly. Let's run a simple test using leafmap to ensure the installation is successful.\n",
    "\n",
    "1. Import the `leafmap` library:"
   ]
  },
  {
   "cell_type": "code",
   "execution_count": null,
   "id": "3",
   "metadata": {},
   "outputs": [],
   "source": [
    "import leafmap"
   ]
  },
  {
   "cell_type": "markdown",
   "id": "4",
   "metadata": {},
   "source": [
    "2. Create an interactive map using leafmap.Map() and display it:"
   ]
  },
  {
   "cell_type": "code",
   "execution_count": null,
   "id": "5",
   "metadata": {},
   "outputs": [],
   "source": [
    "m = leafmap.Map()\n",
    "m"
   ]
  },
  {
   "cell_type": "markdown",
   "id": "6",
   "metadata": {},
   "source": [
    "If everything is set up correctly, you should see an interactive map displayed in your notebook or Jupyter Lab environment. This confirms that your Python environment is ready for geospatial data analysis and visualization.\n",
    "\n",
    "## Summary\n",
    "\n",
    "By setting up the Python environment and testing it with a simple map, you have laid the groundwork for more advanced geospatial analysis. In the upcoming chapters, we will dive into specific libraries, their functions, and how they can be applied to real-world geospatial data projects. From basic vector and raster manipulations to creating dynamic visualizations, you'll progressively gain skills to tackle complex geospatial tasks.\n",
    "\n",
    "Make sure to revisit this setup guide if you encounter any issues with your environment, and don't hesitate to reach out for troubleshooting help!"
   ]
  }
 ],
 "metadata": {
  "kernelspec": {
   "display_name": "Python 3",
   "language": "python",
   "name": "python3"
  },
  "language_info": {
   "codemirror_mode": {
    "name": "ipython",
    "version": 3
   },
   "file_extension": ".py",
   "mimetype": "text/x-python",
   "name": "python",
   "nbconvert_exporter": "python",
   "pygments_lexer": "ipython3",
   "version": "3.11.8"
  }
 },
 "nbformat": 4,
 "nbformat_minor": 5
}
