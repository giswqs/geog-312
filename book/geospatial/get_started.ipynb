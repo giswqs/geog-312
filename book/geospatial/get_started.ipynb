{
 "cells": [
  {
   "cell_type": "markdown",
   "id": "0",
   "metadata": {},
   "source": [
    "# Get Started\n",
    "\n",
    "[![Open In Colab](https://colab.research.google.com/assets/colab-badge.svg)](https://colab.research.google.com/github/giswqs/geog-312/blob/main/book/geospatial/get_started.ipynb)\n",
    "\n",
    "\n",
    "## Environment Setup\n",
    "\n",
    "To run the code examples in this book, you need to set up a Python environment with the necessary libraries installed. The easiest way to set up the environment is to use the conda package manager. If you don't have conda installed, you can download and install Miniconda from [here](https://docs.conda.io/en/latest/miniconda.html). After installing Miniconda, you can create a new conda environment and install the necessary libraries using the following commands:\n",
    "\n",
    "```bash\n",
    "conda create -n geo python=3.11\n",
    "conda activate geo\n",
    "conda install -n base mamba -c conda-forge\n",
    "mamba install -c conda-forge geemap leafmap\n",
    "```\n",
    "\n",
    "## Test the Installation\n",
    "\n",
    "You can test the installation by running the following code:"
   ]
  },
  {
   "cell_type": "code",
   "execution_count": null,
   "id": "1",
   "metadata": {},
   "outputs": [],
   "source": [
    "import leafmap"
   ]
  },
  {
   "cell_type": "code",
   "execution_count": null,
   "id": "2",
   "metadata": {},
   "outputs": [],
   "source": [
    "m = leafmap.Map()\n",
    "m"
   ]
  }
 ],
 "metadata": {
  "kernelspec": {
   "display_name": "Python 3",
   "language": "python",
   "name": "python3"
  },
  "language_info": {
   "codemirror_mode": {
    "name": "ipython",
    "version": 3
   },
   "file_extension": ".py",
   "mimetype": "text/x-python",
   "name": "python",
   "nbconvert_exporter": "python",
   "pygments_lexer": "ipython3",
   "version": "3.11.8"
  }
 },
 "nbformat": 4,
 "nbformat_minor": 5
}
