{
 "cells": [
  {
   "cell_type": "markdown",
   "id": "0",
   "metadata": {},
   "source": [
    "# Xarray\n",
    "\n",
    "[![Open In Colab](https://colab.research.google.com/assets/colab-badge.svg)](https://colab.research.google.com/github/giswqs/geog-312/blob/main/book/geospatial/xarray.ipynb)\n",
    "\n",
    "## Overview\n",
    "\n",
    "[Xarray](https://docs.xarray.dev) is a powerful Python library designed for working with multi-dimensional labeled datasets, often used in fields such as climate science, oceanography, and remote sensing. It provides a high-level interface for manipulating and analyzing datasets that can be thought of as extensions of NumPy arrays. Xarray is particularly useful for geospatial data because it supports labeled axes (dimensions), coordinates, and metadata, making it easier to work with datasets that vary across time, space, and other dimensions.\n",
    "\n",
    "## Learning Objectives\n",
    "\n",
    "By the end of this lecture, you should be able to:\n",
    "\n",
    "- Understand the basic concepts and data structures in Xarray, including `DataArray` and `Dataset`.\n",
    "- Load and inspect multi-dimensional geospatial datasets using Xarray.\n",
    "- Perform basic operations on Xarray objects, such as selection, indexing, and arithmetic operations.\n",
    "- Use Xarray to efficiently work with large geospatial datasets, including time series and raster data.\n",
    "- Apply Xarray to common geospatial analysis tasks, such as calculating statistics, regridding, and visualization."
   ]
  },
  {
   "cell_type": "markdown",
   "id": "1",
   "metadata": {},
   "source": [
    "## What is Xarray?\n",
    "\n",
    "Xarray extends the capabilities of NumPy by providing a data structure for labeled, multi-dimensional arrays. The two main data structures in Xarray are:\n",
    "\n",
    "- **DataArray**: A labeled, multi-dimensional array, which includes dimensions, coordinates, and attributes.\n",
    "- **Dataset**: A collection of `DataArray` objects that share the same dimensions.\n",
    "\n",
    "![](https://docs.xarray.dev/en/stable/_images/dataset-diagram.png)\n",
    "\n",
    "Xarray is particularly useful for working with datasets where dimensions have meaningful labels (e.g., time, latitude, longitude) and where metadata is important."
   ]
  },
  {
   "cell_type": "markdown",
   "id": "2",
   "metadata": {},
   "source": [
    "## Installing Xarray\n",
    "\n",
    "Before we start, ensure that Xarray is installed. You can install it via pip:"
   ]
  },
  {
   "cell_type": "code",
   "execution_count": null,
   "id": "3",
   "metadata": {},
   "outputs": [],
   "source": [
    "# %pip install xarray pooch"
   ]
  },
  {
   "cell_type": "markdown",
   "id": "4",
   "metadata": {},
   "source": [
    "## Importing Libraries"
   ]
  },
  {
   "cell_type": "code",
   "execution_count": null,
   "id": "5",
   "metadata": {},
   "outputs": [],
   "source": [
    "import matplotlib.pyplot as plt\n",
    "import numpy as np\n",
    "import xarray as xr\n",
    "\n",
    "xr.set_options(keep_attrs=True, display_expand_data=False)\n",
    "np.set_printoptions(threshold=10, edgeitems=2)"
   ]
  },
  {
   "cell_type": "markdown",
   "id": "6",
   "metadata": {},
   "source": [
    "## Xarray Data Structures\n",
    "\n",
    "Xarray provides two core data structures:\n",
    "\n",
    "1. **DataArray**: A single multi-dimensional array with labeled dimensions, coordinates, and metadata.\n",
    "2. **Dataset**: A collection of `DataArray` objects, each corresponding to a variable, sharing the same dimensions and coordinates.\n",
    "\n",
    "### Loading a Dataset\n",
    "\n",
    "Xarray offers built-in access to several tutorial datasets, which we can load with `xr.tutorial.load_dataset`. Here, we load an air temperature dataset:"
   ]
  },
  {
   "cell_type": "code",
   "execution_count": null,
   "id": "7",
   "metadata": {},
   "outputs": [],
   "source": [
    "ds = xr.tutorial.load_dataset(\"air_temperature\")\n",
    "ds"
   ]
  },
  {
   "cell_type": "markdown",
   "id": "8",
   "metadata": {},
   "source": [
    "This dataset is stored in the [netCDF](https://www.unidata.ucar.edu/software/netcdf) format, a common format for scientific data. Xarray automatically parses metadata like dimensions and coordinates.\n",
    "\n",
    "\n",
    "## Working with DataArrays\n",
    "\n",
    "The `DataArray` is the core data structure in Xarray. It includes data values, dimensions (e.g., time, latitude, longitude), and the coordinates for each dimension."
   ]
  },
  {
   "cell_type": "code",
   "execution_count": null,
   "id": "9",
   "metadata": {},
   "outputs": [],
   "source": [
    "# Access a specific DataArray\n",
    "temperature = ds[\"air\"]\n",
    "temperature"
   ]
  },
  {
   "cell_type": "markdown",
   "id": "10",
   "metadata": {},
   "source": [
    "You can also access DataArray using dot notation:"
   ]
  },
  {
   "cell_type": "code",
   "execution_count": null,
   "id": "11",
   "metadata": {},
   "outputs": [],
   "source": [
    "ds.air"
   ]
  },
  {
   "cell_type": "markdown",
   "id": "12",
   "metadata": {},
   "source": [
    "### DataArray Components\n",
    "\n",
    "- **Values**: The actual data stored in a NumPy array or similar structure.\n",
    "- **Dimensions**: Named axes of the data (e.g., time, latitude, longitude).\n",
    "- **Coordinates**: Labels for the values in each dimension (e.g., specific times or geographic locations).\n",
    "- **Attributes**: Metadata associated with the data (e.g., units, descriptions).\n",
    "\n",
    "You can extract and print the values, dimensions, and coordinates of a `DataArray`:"
   ]
  },
  {
   "cell_type": "code",
   "execution_count": null,
   "id": "13",
   "metadata": {},
   "outputs": [],
   "source": [
    "temperature.values"
   ]
  },
  {
   "cell_type": "code",
   "execution_count": null,
   "id": "14",
   "metadata": {},
   "outputs": [],
   "source": [
    "temperature.dims"
   ]
  },
  {
   "cell_type": "code",
   "execution_count": null,
   "id": "15",
   "metadata": {},
   "outputs": [],
   "source": [
    "temperature.coords"
   ]
  },
  {
   "cell_type": "code",
   "execution_count": null,
   "id": "16",
   "metadata": {},
   "outputs": [],
   "source": [
    "temperature.attrs"
   ]
  },
  {
   "cell_type": "markdown",
   "id": "17",
   "metadata": {},
   "source": [
    "## Indexing and Selecting Data\n",
    "\n",
    "Xarray allows you to easily select data based on dimension labels, which is very intuitive when working with geospatial data."
   ]
  },
  {
   "cell_type": "code",
   "execution_count": null,
   "id": "18",
   "metadata": {},
   "outputs": [],
   "source": [
    "# Select data for a specific time and location\n",
    "selected_data = temperature.sel(time=\"2013-01-01\", lat=40.0, lon=260.0)\n",
    "selected_data"
   ]
  },
  {
   "cell_type": "code",
   "execution_count": null,
   "id": "19",
   "metadata": {},
   "outputs": [],
   "source": [
    "# Slice data across a range of times\n",
    "time_slice = temperature.sel(time=slice(\"2013-01-01\", \"2013-01-31\"))\n",
    "time_slice"
   ]
  },
  {
   "cell_type": "markdown",
   "id": "20",
   "metadata": {},
   "source": [
    "## Performing Operations on DataArrays\n",
    "\n",
    "You can perform arithmetic operations directly on `DataArray` objects, similar to how you would with NumPy arrays. Xarray also handles broadcasting automatically."
   ]
  },
  {
   "cell_type": "code",
   "execution_count": null,
   "id": "21",
   "metadata": {},
   "outputs": [],
   "source": [
    "# Calculate the mean temperature over time\n",
    "mean_temperature = temperature.mean(dim=\"time\")\n",
    "mean_temperature"
   ]
  },
  {
   "cell_type": "code",
   "execution_count": null,
   "id": "22",
   "metadata": {},
   "outputs": [],
   "source": [
    "# Subtract the mean temperature from the original data\n",
    "anomalies = temperature - mean_temperature\n",
    "anomalies"
   ]
  },
  {
   "cell_type": "markdown",
   "id": "23",
   "metadata": {},
   "source": [
    "## Visualization with Xarray\n",
    "\n",
    "Xarray integrates well with Matplotlib and other visualization libraries, making it easy to create plots directly from `DataArray` and `Dataset` objects."
   ]
  },
  {
   "cell_type": "code",
   "execution_count": null,
   "id": "24",
   "metadata": {},
   "outputs": [],
   "source": [
    "# Plot the mean temperature\n",
    "mean_temperature.plot()\n",
    "plt.show()"
   ]
  },
  {
   "cell_type": "code",
   "execution_count": null,
   "id": "25",
   "metadata": {},
   "outputs": [],
   "source": [
    "# Plot a time series for a specific location\n",
    "temperature.sel(lat=40.0, lon=260.0).plot()\n",
    "plt.show()"
   ]
  },
  {
   "cell_type": "markdown",
   "id": "26",
   "metadata": {},
   "source": [
    "## Working with Datasets\n",
    "\n",
    "A `Dataset` is a collection of `DataArray` objects. It is useful when you need to work with multiple related variables."
   ]
  },
  {
   "cell_type": "code",
   "execution_count": null,
   "id": "27",
   "metadata": {},
   "outputs": [],
   "source": [
    "# List all variables in the dataset\n",
    "print(ds.data_vars)"
   ]
  },
  {
   "cell_type": "code",
   "execution_count": null,
   "id": "28",
   "metadata": {},
   "outputs": [],
   "source": [
    "# Access a DataArray from the Dataset\n",
    "temperature = ds[\"air\"]"
   ]
  },
  {
   "cell_type": "code",
   "execution_count": null,
   "id": "29",
   "metadata": {},
   "outputs": [],
   "source": [
    "# Perform operations on the Dataset\n",
    "mean_temp_ds = ds.mean(dim=\"time\")\n",
    "mean_temp_ds"
   ]
  },
  {
   "cell_type": "markdown",
   "id": "30",
   "metadata": {},
   "source": [
    "## Why Use Xarray?\n",
    "\n",
    "Xarray is valuable for handling multi-dimensional data, especially in scientific applications. It provides metadata, dimension names, and coordinate labels, making it much easier to understand and manipulate data compared to raw NumPy arrays.\n",
    "\n",
    "### Without Xarray (Using NumPy)\n",
    "\n",
    "Here's how a task might look without Xarray, using NumPy arrays:"
   ]
  },
  {
   "cell_type": "code",
   "execution_count": null,
   "id": "31",
   "metadata": {},
   "outputs": [],
   "source": [
    "lat = ds.air.lat.data\n",
    "lon = ds.air.lon.data\n",
    "temp = ds.air.data"
   ]
  },
  {
   "cell_type": "code",
   "execution_count": null,
   "id": "32",
   "metadata": {},
   "outputs": [],
   "source": [
    "plt.figure()\n",
    "plt.pcolormesh(lon, lat, temp[0, :, :])"
   ]
  },
  {
   "cell_type": "markdown",
   "id": "33",
   "metadata": {},
   "source": [
    "While this approach works, it's not clear what `0` refers to (in this case, it's the first time step).\n",
    "\n",
    "### With Xarray\n",
    "\n",
    "With Xarray, you can use more intuitive and readable indexing:"
   ]
  },
  {
   "cell_type": "code",
   "execution_count": null,
   "id": "34",
   "metadata": {},
   "outputs": [],
   "source": [
    "ds.air.isel(time=0).plot(x=\"lon\")"
   ]
  },
  {
   "cell_type": "markdown",
   "id": "35",
   "metadata": {},
   "source": [
    "This example selects the first time step and plots it using labeled axes (`lat` and `lon`), which is much clearer.\n",
    "\n",
    "\n",
    "\n",
    "## Advanced Indexing: Label vs. Position-Based Indexing\n",
    "\n",
    "Xarray supports both label-based and position-based indexing, making it flexible for data selection.\n",
    "\n",
    "### Label-based Indexing\n",
    "\n",
    "You can use `.sel()` to select data based on the labels of coordinates, such as specific times or locations:"
   ]
  },
  {
   "cell_type": "code",
   "execution_count": null,
   "id": "36",
   "metadata": {},
   "outputs": [],
   "source": [
    "# Select all data from May 2013\n",
    "ds.sel(time=\"2013-05\")"
   ]
  },
  {
   "cell_type": "code",
   "execution_count": null,
   "id": "37",
   "metadata": {},
   "outputs": [],
   "source": [
    "# Slice over time, selecting data between May and July 2013\n",
    "ds.sel(time=slice(\"2013-05\", \"2013-07\"))"
   ]
  },
  {
   "cell_type": "markdown",
   "id": "38",
   "metadata": {},
   "source": [
    "### Position-based Indexing\n",
    "\n",
    "Alternatively, you can use `.isel()` to select data based on the positions of coordinates:"
   ]
  },
  {
   "cell_type": "code",
   "execution_count": null,
   "id": "39",
   "metadata": {},
   "outputs": [],
   "source": [
    "# Select the first time step, second latitude, and third longitude\n",
    "ds.air.isel(time=0, lat=2, lon=3)"
   ]
  },
  {
   "cell_type": "markdown",
   "id": "40",
   "metadata": {},
   "source": [
    "## High-Level Computations with Xarray\n",
    "\n",
    "Xarray offers several high-level operations that make common computations straightforward, such as `groupby`, `resample`, `rolling`, and `weighted`.\n",
    "\n",
    "### Example: GroupBy Operation\n",
    "\n",
    "You can calculate statistics such as the seasonal mean of the dataset:"
   ]
  },
  {
   "cell_type": "code",
   "execution_count": null,
   "id": "41",
   "metadata": {},
   "outputs": [],
   "source": [
    "seasonal_mean = ds.groupby(\"time.season\").mean()\n",
    "seasonal_mean.air.plot(col=\"season\")"
   ]
  },
  {
   "cell_type": "markdown",
   "id": "42",
   "metadata": {},
   "source": [
    "## Computation with Weights\n",
    "\n",
    "Xarray allows for weighted computations, useful in geospatial contexts where grid cells vary in size. For example, you can weight the mean of the dataset by cell area.\n",
    "\n",
    "Example: Weighting by cell area"
   ]
  },
  {
   "cell_type": "code",
   "execution_count": null,
   "id": "43",
   "metadata": {},
   "outputs": [],
   "source": [
    "cell_area = xr.ones_like(ds.air.lon)  # Placeholder for actual area calculation\n",
    "weighted_mean = ds.weighted(cell_area).mean(dim=[\"lon\", \"lat\"])\n",
    "weighted_mean.air.plot()"
   ]
  },
  {
   "cell_type": "markdown",
   "id": "44",
   "metadata": {},
   "source": [
    "## Reading and Writing Files\n",
    "\n",
    "Xarray supports many common scientific data formats, including netCDF and Zarr. You can read and write datasets to disk with a few simple commands.\n",
    "\n",
    "### Writing to netCDF\n",
    "\n",
    "To save a dataset as a netCDF file:"
   ]
  },
  {
   "cell_type": "code",
   "execution_count": null,
   "id": "45",
   "metadata": {},
   "outputs": [],
   "source": [
    "ds.to_netcdf(\"air_temperature.nc\")"
   ]
  },
  {
   "cell_type": "markdown",
   "id": "46",
   "metadata": {},
   "source": [
    "### Reading from netCDF\n",
    "\n",
    "To load a dataset from a netCDF file:"
   ]
  },
  {
   "cell_type": "code",
   "execution_count": null,
   "id": "47",
   "metadata": {},
   "outputs": [],
   "source": [
    "loaded_data = xr.open_dataset(\"air_temperature.nc\")\n",
    "loaded_data"
   ]
  },
  {
   "cell_type": "markdown",
   "id": "48",
   "metadata": {},
   "source": [
    "## Summary\n",
    "\n",
    "Xarray is a powerful library for working with multi-dimensional geospatial data. It simplifies data handling by offering labeled dimensions and coordinates, enabling intuitive operations and making analysis more transparent. Xarray's ability to work seamlessly with NumPy, Dask, and Pandas makes it an essential tool for geospatial and scientific analysis. With Xarray, you can efficiently manage and analyze large, complex datasets, making it a valuable asset for researchers and developers alike."
   ]
  }
 ],
 "metadata": {
  "kernelspec": {
   "display_name": "Python 3 (ipykernel)",
   "language": "python",
   "name": "python3"
  },
  "language_info": {
   "codemirror_mode": {
    "name": "ipython",
    "version": 3
   },
   "file_extension": ".py",
   "mimetype": "text/x-python",
   "name": "python",
   "nbconvert_exporter": "python",
   "pygments_lexer": "ipython3",
   "version": "3.12.2"
  }
 },
 "nbformat": 4,
 "nbformat_minor": 5
}
