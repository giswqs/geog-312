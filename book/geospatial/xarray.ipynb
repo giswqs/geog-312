{
 "cells": [
  {
   "cell_type": "markdown",
   "id": "0",
   "metadata": {},
   "source": [
    "# Xarray\n",
    "\n",
    "[![Open In Colab](https://colab.research.google.com/assets/colab-badge.svg)](https://colab.research.google.com/github/giswqs/geog-312/blob/main/book/geospatial/xarray.ipynb)\n",
    "\n",
    "## Overview\n",
    "\n",
    "[Xarray](https://docs.xarray.dev) is a powerful Python library designed for working with multi-dimensional labeled datasets, often used in fields such as climate science, oceanography, and remote sensing. It provides a high-level interface for manipulating and analyzing datasets that can be thought of as extensions of NumPy arrays. Xarray is particularly useful for geospatial data because it supports labeled axes (dimensions), coordinates, and metadata, making it easier to work with datasets that vary across time, space, and other dimensions.\n",
    "\n",
    "## Learning Objectives\n",
    "\n",
    "By the end of this lecture, you should be able to:\n",
    "\n",
    "- Understand the basic concepts and data structures in Xarray, including `DataArray` and `Dataset`.\n",
    "- Load and inspect multi-dimensional geospatial datasets using Xarray.\n",
    "- Perform basic operations on Xarray objects, such as selection, indexing, and arithmetic operations.\n",
    "- Use Xarray to efficiently work with large geospatial datasets, including time series and raster data.\n",
    "- Apply Xarray to common geospatial analysis tasks, such as calculating statistics, regridding, and visualization."
   ]
  },
  {
   "cell_type": "markdown",
   "id": "1",
   "metadata": {},
   "source": [
    "## What is Xarray?\n",
    "\n",
    "Xarray extends the capabilities of NumPy by providing a data structure for labeled, multi-dimensional arrays. The two main data structures in Xarray are:\n",
    "\n",
    "- **DataArray**: A labeled, multi-dimensional array, which includes dimensions, coordinates, and attributes.\n",
    "- **Dataset**: A collection of `DataArray` objects that share the same dimensions.\n",
    "\n",
    "Xarray is particularly useful for working with datasets where dimensions have meaningful labels (e.g., time, latitude, longitude) and where metadata is important."
   ]
  },
  {
   "cell_type": "markdown",
   "id": "2",
   "metadata": {},
   "source": [
    "## Installing Xarray\n",
    "\n",
    "Before we start, ensure that Xarray is installed. You can install it via pip:\n",
    "\n",
    "```bash\n",
    "pip install xarray\n",
    "```\n",
    "\n",
    "Or with conda:\n",
    "\n",
    "```bash\n",
    "conda install -c conda-forge xarray\n",
    "```"
   ]
  },
  {
   "cell_type": "markdown",
   "id": "3",
   "metadata": {},
   "source": [
    "## Loading Data with Xarray\n",
    "\n",
    "Xarray provides built-in sample datasets that are great for getting started. In this example, we'll load and explore the air temperature dataset provided by Xarray."
   ]
  },
  {
   "cell_type": "code",
   "execution_count": null,
   "id": "4",
   "metadata": {},
   "outputs": [],
   "source": [
    "import xarray as xr\n",
    "\n",
    "# Load a sample dataset\n",
    "data = xr.tutorial.load_dataset(\"air_temperature\")\n",
    "\n",
    "# Inspect the dataset\n",
    "data"
   ]
  },
  {
   "cell_type": "markdown",
   "id": "5",
   "metadata": {},
   "source": [
    "## Working with DataArrays\n",
    "\n",
    "The `DataArray` is the core data structure in Xarray. It includes the data values, the dimensions (e.g., time, latitude, longitude), and the coordinates for each dimension."
   ]
  },
  {
   "cell_type": "code",
   "execution_count": null,
   "id": "6",
   "metadata": {},
   "outputs": [],
   "source": [
    "# Access a specific DataArray\n",
    "temperature = data[\"air\"]"
   ]
  },
  {
   "cell_type": "code",
   "execution_count": null,
   "id": "7",
   "metadata": {},
   "outputs": [],
   "source": [
    "# Print the DataArray\n",
    "temperature"
   ]
  },
  {
   "cell_type": "code",
   "execution_count": null,
   "id": "8",
   "metadata": {},
   "outputs": [],
   "source": [
    "temperature.values"
   ]
  },
  {
   "cell_type": "code",
   "execution_count": null,
   "id": "9",
   "metadata": {},
   "outputs": [],
   "source": [
    "temperature.dims"
   ]
  },
  {
   "cell_type": "code",
   "execution_count": null,
   "id": "10",
   "metadata": {},
   "outputs": [],
   "source": [
    "temperature.coords"
   ]
  },
  {
   "cell_type": "markdown",
   "id": "11",
   "metadata": {},
   "source": [
    "## Indexing and Selecting Data\n",
    "\n",
    "Xarray allows you to easily select data based on dimension labels, which is very intuitive when working with geospatial data."
   ]
  },
  {
   "cell_type": "code",
   "execution_count": null,
   "id": "12",
   "metadata": {},
   "outputs": [],
   "source": [
    "# Select data for a specific time and location\n",
    "selected_data = temperature.sel(time=\"2013-01-01\", lat=40.0, lon=260.0)\n",
    "selected_data"
   ]
  },
  {
   "cell_type": "code",
   "execution_count": null,
   "id": "13",
   "metadata": {},
   "outputs": [],
   "source": [
    "# Slice data across a range of times\n",
    "time_slice = temperature.sel(time=slice(\"2013-01-01\", \"2013-01-31\"))\n",
    "time_slice"
   ]
  },
  {
   "cell_type": "markdown",
   "id": "14",
   "metadata": {},
   "source": [
    "## Performing Operations on DataArrays\n",
    "\n",
    "You can perform arithmetic operations directly on `DataArray` objects, similar to how you would with NumPy arrays. Xarray also handles broadcasting automatically."
   ]
  },
  {
   "cell_type": "code",
   "execution_count": null,
   "id": "15",
   "metadata": {},
   "outputs": [],
   "source": [
    "# Calculate the mean temperature over time\n",
    "mean_temperature = temperature.mean(dim=\"time\")\n",
    "mean_temperature"
   ]
  },
  {
   "cell_type": "code",
   "execution_count": null,
   "id": "16",
   "metadata": {},
   "outputs": [],
   "source": [
    "# Subtract the mean temperature from the original data\n",
    "anomalies = temperature - mean_temperature\n",
    "anomalies"
   ]
  },
  {
   "cell_type": "markdown",
   "id": "17",
   "metadata": {},
   "source": [
    "## Visualization with Xarray\n",
    "\n",
    "Xarray integrates well with Matplotlib and other visualization libraries, making it easy to create plots directly from `DataArray` and `Dataset` objects."
   ]
  },
  {
   "cell_type": "code",
   "execution_count": null,
   "id": "18",
   "metadata": {},
   "outputs": [],
   "source": [
    "import matplotlib.pyplot as plt\n",
    "\n",
    "# Plot the mean temperature\n",
    "mean_temperature.plot()\n",
    "plt.show()\n",
    "\n",
    "# Plot a time series for a specific location\n",
    "temperature.sel(lat=40.0, lon=260.0).plot()\n",
    "plt.show()"
   ]
  },
  {
   "cell_type": "markdown",
   "id": "19",
   "metadata": {},
   "source": [
    "## Working with Datasets\n",
    "\n",
    "A `Dataset` is a collection of `DataArray` objects. It is useful when you need to work with multiple related variables."
   ]
  },
  {
   "cell_type": "code",
   "execution_count": null,
   "id": "20",
   "metadata": {},
   "outputs": [],
   "source": [
    "# List all variables in the dataset\n",
    "print(data.data_vars)\n",
    "\n",
    "# Access a DataArray from the Dataset\n",
    "temperature = data[\"air\"]\n",
    "\n",
    "# Perform operations on the Dataset\n",
    "mean_temp_ds = data.mean(dim=\"time\")\n",
    "print(mean_temp_ds)"
   ]
  },
  {
   "cell_type": "markdown",
   "id": "21",
   "metadata": {},
   "source": [
    "## Conclusion\n",
    "\n",
    "Xarray is an essential tool for working with multi-dimensional geospatial data. Its ability to handle labeled dimensions and coordinates, combined with its powerful data manipulation and visualization capabilities, makes it invaluable for geospatial analysis. By using Xarray, you can efficiently manage and analyze complex datasets, such as time series and raster data, enabling more insightful geospatial analyses."
   ]
  }
 ],
 "metadata": {
  "kernelspec": {
   "display_name": "Python 3",
   "language": "python",
   "name": "python3"
  },
  "language_info": {
   "codemirror_mode": {
    "name": "ipython",
    "version": 3
   },
   "file_extension": ".py",
   "mimetype": "text/x-python",
   "name": "python",
   "nbconvert_exporter": "python",
   "pygments_lexer": "ipython3",
   "version": "3.11.8"
  }
 },
 "nbformat": 4,
 "nbformat_minor": 5
}
