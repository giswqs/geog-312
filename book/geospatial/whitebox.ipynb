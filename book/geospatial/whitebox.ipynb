{
 "cells": [
  {
   "cell_type": "markdown",
   "id": "0",
   "metadata": {},
   "source": [
    "# Whitebox\n",
    "\n",
    "[![Open In Colab](https://colab.research.google.com/assets/colab-badge.svg)](https://colab.research.google.com/github/giswqs/geog-312/blob/main/book/geospatial/whitebox.ipynb)"
   ]
  },
  {
   "cell_type": "markdown",
   "id": "1",
   "metadata": {},
   "source": [
    "## Overview\n",
    "\n",
    "In this lecture, we will explore the use of [**WhiteboxTools**](https://github.com/jblindsay/whitebox-tools), a powerful open-source library for performing geospatial analysis. Specifically, we will focus on two key applications: **watershed analysis** and **LiDAR data analysis**. You will learn how to manipulate geospatial data using Python, conduct hydrological analysis, and derive digital elevation models (DEMs) and canopy height models (CHMs) from LiDAR data.\n",
    "\n",
    "This lecture is structured into two main sections:\n",
    "1. **Watershed Analysis**: Using DEMs and hydrological tools to delineate watersheds, calculate flow accumulation, and extract stream networks.\n",
    "2. **LiDAR Data Analysis**: Processing LiDAR point cloud data to derive DEMs, DSMs, and CHMs while removing outliers and improving data quality.\n",
    "\n",
    "By the end of this session, you will have gained hands-on experience with **WhiteboxTools** and **leafmap**, allowing you to perform a wide range of geospatial and hydrological analyses.\n",
    "\n",
    "## Learning Objectives\n",
    "\n",
    "By the end of this lecture, you will be able to:\n",
    "- Install and configure **WhiteboxTools** and **leafmap** for geospatial analysis.\n",
    "- Create interactive maps to visualize basemaps and geospatial datasets.\n",
    "- Perform watershed analysis by delineating watersheds, flow directions, and stream networks.\n",
    "- Manipulate and analyze Digital Elevation Models (DEMs) to conduct hydrological modeling.\n",
    "- Process and analyze LiDAR data to generate **Digital Surface Models (DSMs)**, **Digital Elevation Models (DEMs)**, and **Canopy Height Models (CHMs)**.\n",
    "- Integrate **WhiteboxTools** with Python workflows to automate geospatial analysis.\n",
    "\n",
    "\n",
    "## Introduction\n",
    "\n",
    "Below is a brief introduction to Whitebox, a powerful open-source library for geospatial analysis. For more information, please refer to the whiteboxgeo website: https://www.whiteboxgeo.com.\n",
    "\n",
    "### What is Whitebox?\n",
    "\n",
    "Whitebox is geospatial data analysis software originally developed at the University of Guelph‘s Geomorphometry and Hydrogeomatics Research Group ([GHRG](https://jblindsay.github.io/ghrg/index.html)) directed by Dr. John Lindsay. Whitebox contains over 550 tools for processing many types of geospatial data. It has many great features such as its extensive use of parallel computing, it doesn’t need other libraries to be installed (e.g., GDAL), it can be used from scripting environments, and it easily plugs into other geographical information system (GIS) software. The Whitebox Toolset Extension provides even more power.\n",
    "\n",
    "### What can Whitebox do?\n",
    "\n",
    "Whitebox can be used to perform common GIS and remote sensing analysis tasks. Whitebox also contains advanced tooling for spatial hydrological analysis and LiDAR data processing. Whitebox is not a cartographic or spatial data visualization package; instead it’s meant to serve as an analytical back-end for other data visualization software, like QGIS and ArcGIS. \n",
    "\n",
    "### How is Whitebox different?\n",
    "\n",
    "Whitebox doesn’t compete with QGIS, ArcGIS/Pro, and ArcPy but rather it extends them. You can plug WhiteboxTools into QGIS and ArcGIS and it’ll provide hundreds of additional tools for analyzing all kinds of geospatial data. You can also call Whitebox functions from Python scripts using [Whitebox Workflows](https://www.whiteboxgeo.com/whitebox-workflows-for-python) (WbW). Combine WbW with ArcPy to more effectively automate your data analysis workflows and streamline your geoprocessing solutions.\n",
    "\n",
    "There are many tools in Whitebox that you won’t find elsewhere. You can think of Whitebox as a portable, cross-platform GIS analysis powerhouse, allowing you to extend your preferred GIS or to embed Whitebox capabilities into your automated scripted workflows. Oh, and it’s fast, really fast!\n",
    "\n",
    "\n",
    "## Useful Resources for Whitebox\n",
    "\n",
    "- GitHub Repository: https://github.com/jblindsay/whitebox-tools\n",
    "- WhiteboxGeo: https://www.whiteboxgeo.com\n",
    "- User Manual: https://whiteboxgeo.com/manual/wbt_book/preface.html\n",
    "- Whitebox Workflows for Python: https://www.whiteboxgeo.com/whitebox-workflows-for-python\n",
    "- Whitebox Workflows for Python Pro: https://www.whiteboxgeo.com/whitebox-workflows-professional\n",
    "- Python Frontend: https://github.com/opengeos/whitebox-python\n",
    "- Jupyter Frontend: https://github.com/opengeos/whiteboxgui\n",
    "- R Frontend: https://github.com/opengeos/whiteboxR\n",
    "- ArcGIS Toolbox: https://github.com/opengeos/WhiteboxTools-ArcGIS\n",
    "- QGIS Plugin: https://plugins.qgis.org/plugins/whitebox_workflows_for_qgis\n",
    "\n",
    "## Installation\n",
    "\n",
    "To get started, we need to install the required packages, such as `leafmap`, and `whitebox`. Uncomment the following lines to install the packages."
   ]
  },
  {
   "cell_type": "code",
   "execution_count": null,
   "id": "2",
   "metadata": {},
   "outputs": [],
   "source": [
    "# %pip install \"leafmap[raster]\" \"leafmap[lidar]\" mapclassify"
   ]
  },
  {
   "cell_type": "code",
   "execution_count": null,
   "id": "3",
   "metadata": {},
   "outputs": [],
   "source": [
    "# %pip install numpy==1.26.4"
   ]
  },
  {
   "cell_type": "markdown",
   "id": "4",
   "metadata": {},
   "source": [
    "## Import libraries"
   ]
  },
  {
   "cell_type": "code",
   "execution_count": null,
   "id": "5",
   "metadata": {},
   "outputs": [],
   "source": [
    "import os\n",
    "import leafmap\n",
    "import numpy as np"
   ]
  },
  {
   "cell_type": "markdown",
   "id": "6",
   "metadata": {},
   "source": [
    "Some of the raster datasets generated by whitebox will be int32 type with a nodata value of -32768. To make it easier to visualize these datasets, we set the nodata value as an environment variable, which will be used by leafmap to set the nodata value when visualizing the raster datasets."
   ]
  },
  {
   "cell_type": "code",
   "execution_count": null,
   "id": "7",
   "metadata": {},
   "outputs": [],
   "source": [
    "os.environ[\"NODATA\"] = \"-32768\""
   ]
  },
  {
   "cell_type": "markdown",
   "id": "8",
   "metadata": {},
   "source": [
    "## Part 1: Watershed Analysis\n",
    "\n",
    "### Create Interactive Maps\n",
    "\n",
    "To perform watershed analysis, we first create an interactive map using **leafmap**. This step allows us to visualize different basemaps."
   ]
  },
  {
   "cell_type": "code",
   "execution_count": null,
   "id": "9",
   "metadata": {},
   "outputs": [],
   "source": [
    "m = leafmap.Map()\n",
    "m.add_basemap(\"OpenTopoMap\")\n",
    "m.add_basemap(\"USGS 3DEP Elevation\")\n",
    "m.add_basemap(\"USGS Hydrography\")\n",
    "m"
   ]
  },
  {
   "cell_type": "markdown",
   "id": "10",
   "metadata": {},
   "source": [
    "### Download Watershed Data\n",
    "\n",
    "Next, we download watershed data for the **Calapooia River basin** in Oregon. We'll use the latitude and longitude of a point in the basin to extract watershed boundary data."
   ]
  },
  {
   "cell_type": "code",
   "execution_count": null,
   "id": "11",
   "metadata": {},
   "outputs": [],
   "source": [
    "lat = 44.361169\n",
    "lon = -122.821802\n",
    "\n",
    "m = leafmap.Map(center=[lat, lon], zoom=10)\n",
    "m.add_marker([lat, lon])\n",
    "m"
   ]
  },
  {
   "cell_type": "markdown",
   "id": "12",
   "metadata": {},
   "source": [
    "Download the watershed data and visualize it:"
   ]
  },
  {
   "cell_type": "code",
   "execution_count": null,
   "id": "13",
   "metadata": {},
   "outputs": [],
   "source": [
    "geometry = {\"x\": lon, \"y\": lat}"
   ]
  },
  {
   "cell_type": "code",
   "execution_count": null,
   "id": "14",
   "metadata": {},
   "outputs": [],
   "source": [
    "gdf = leafmap.get_wbd(geometry, digit=10, return_geometry=True)\n",
    "gdf.explore()"
   ]
  },
  {
   "cell_type": "markdown",
   "id": "15",
   "metadata": {},
   "source": [
    "Save the watershed boundary to a **GeoJSON** file:"
   ]
  },
  {
   "cell_type": "code",
   "execution_count": null,
   "id": "16",
   "metadata": {},
   "outputs": [],
   "source": [
    "gdf.to_file(\"basin.geojson\")"
   ]
  },
  {
   "cell_type": "markdown",
   "id": "17",
   "metadata": {},
   "source": [
    "### Download and Display DEM\n",
    "\n",
    "We download a **Digital Elevation Model (DEM)** from the USGS 3DEP Elevation service to analyze the terrain of the watershed. The DEM will be used to delineate watersheds, calculate flow accumulation, and extract stream networks. The `leafmap.get_3dep_dem()` function returns the DEM as an `xarray.DataArray` object. Optionally, you can save the DEM to a GeoTIFF file by setting the `output` parameter."
   ]
  },
  {
   "cell_type": "code",
   "execution_count": null,
   "id": "18",
   "metadata": {},
   "outputs": [],
   "source": [
    "array = leafmap.get_3dep_dem(\n",
    "    gdf,\n",
    "    resolution=30,\n",
    "    output=\"dem.tif\",\n",
    "    dst_crs=\"EPSG:3857\",\n",
    "    to_cog=True,\n",
    "    overwrite=True,\n",
    ")\n",
    "array"
   ]
  },
  {
   "cell_type": "markdown",
   "id": "19",
   "metadata": {},
   "source": [
    "Visualize the DEM on the map:"
   ]
  },
  {
   "cell_type": "code",
   "execution_count": null,
   "id": "20",
   "metadata": {},
   "outputs": [],
   "source": [
    "m.add_raster(\"dem.tif\", palette=\"terrain\", nodata=np.nan, layer_name=\"DEM\")\n",
    "m"
   ]
  },
  {
   "cell_type": "markdown",
   "id": "21",
   "metadata": {},
   "source": [
    "### Get DEM metadata\n",
    "\n",
    "We can get the metadata of the DEM, such as the spatial resolution, bounding box, and coordinate reference system (CRS)."
   ]
  },
  {
   "cell_type": "code",
   "execution_count": null,
   "id": "22",
   "metadata": {},
   "outputs": [],
   "source": [
    "metadata = leafmap.image_metadata(\"dem.tif\")\n",
    "metadata"
   ]
  },
  {
   "cell_type": "markdown",
   "id": "23",
   "metadata": {},
   "source": [
    "Get a summary statistics of the DEM."
   ]
  },
  {
   "cell_type": "markdown",
   "id": "24",
   "metadata": {},
   "source": [
    "### Add colorbar\n",
    "\n",
    "Add a colorbar to the map to show the elevation values. Use the `image_min_max()` function to get the minimum and maximum values of the DEM."
   ]
  },
  {
   "cell_type": "code",
   "execution_count": null,
   "id": "25",
   "metadata": {},
   "outputs": [],
   "source": [
    "leafmap.image_min_max(\"dem.tif\")"
   ]
  },
  {
   "cell_type": "code",
   "execution_count": null,
   "id": "26",
   "metadata": {},
   "outputs": [],
   "source": [
    "m.add_colormap(cmap=\"terrain\", vmin=\"60\", vmax=1500, label=\"Elevation (m)\")"
   ]
  },
  {
   "cell_type": "markdown",
   "id": "27",
   "metadata": {},
   "source": [
    "### Initialize WhiteboxTools\n",
    "\n",
    "Initialize the WhiteboxTools class."
   ]
  },
  {
   "cell_type": "code",
   "execution_count": null,
   "id": "28",
   "metadata": {},
   "outputs": [],
   "source": [
    "wbt = leafmap.WhiteboxTools()"
   ]
  },
  {
   "cell_type": "markdown",
   "id": "29",
   "metadata": {},
   "source": [
    "Check the WhiteboxTools version."
   ]
  },
  {
   "cell_type": "code",
   "execution_count": null,
   "id": "30",
   "metadata": {},
   "outputs": [],
   "source": [
    "wbt.version()"
   ]
  },
  {
   "cell_type": "markdown",
   "id": "31",
   "metadata": {},
   "source": [
    "Display the WhiteboxTools interface, which lists all available tools. You can use this interface to search for specific tools. You can also run any tool using the interface. However, we will use the Python API to run the tools."
   ]
  },
  {
   "cell_type": "code",
   "execution_count": null,
   "id": "32",
   "metadata": {},
   "outputs": [],
   "source": [
    "leafmap.whiteboxgui()"
   ]
  },
  {
   "cell_type": "markdown",
   "id": "33",
   "metadata": {},
   "source": [
    "### Set working directory\n",
    "\n",
    "Set the working directory to save the intermediate and output files. Set `wbt.version=False` to suppress the Whitebox processing log."
   ]
  },
  {
   "cell_type": "code",
   "execution_count": null,
   "id": "34",
   "metadata": {},
   "outputs": [],
   "source": [
    "wbt.set_working_dir(os.getcwd())\n",
    "wbt.verbose = False"
   ]
  },
  {
   "cell_type": "markdown",
   "id": "35",
   "metadata": {},
   "source": [
    "### Smooth DEM\n",
    "\n",
    "All WhiteboxTools functions will return 0 if they are successful, and 1 if they are not.\n",
    "\n",
    "Smoothing the DEM enhances the quality of subsequent hydrological analysis."
   ]
  },
  {
   "cell_type": "code",
   "execution_count": null,
   "id": "36",
   "metadata": {},
   "outputs": [],
   "source": [
    "wbt.feature_preserving_smoothing(\"dem.tif\", \"smoothed.tif\", filter=9)"
   ]
  },
  {
   "cell_type": "markdown",
   "id": "37",
   "metadata": {},
   "source": [
    "Visualize the smoothed DEM and watershed boundary on the map."
   ]
  },
  {
   "cell_type": "markdown",
   "id": "38",
   "metadata": {},
   "source": [
    "Visualize the smoothed DEM:"
   ]
  },
  {
   "cell_type": "code",
   "execution_count": null,
   "id": "39",
   "metadata": {},
   "outputs": [],
   "source": [
    "m = leafmap.Map()\n",
    "m.add_basemap(\"Satellite\")\n",
    "m.add_raster(\"smoothed.tif\", colormap=\"terrain\", layer_name=\"Smoothed DEM\")\n",
    "m.add_geojson(\"basin.geojson\", layer_name=\"Watershed\", info_mode=None)\n",
    "m.add_basemap(\"USGS Hydrography\", show=False)\n",
    "m"
   ]
  },
  {
   "cell_type": "markdown",
   "id": "40",
   "metadata": {},
   "source": [
    "### Create hillshade\n",
    "\n",
    "Create a hillshade from the smoothed DEM."
   ]
  },
  {
   "cell_type": "code",
   "execution_count": null,
   "id": "41",
   "metadata": {},
   "outputs": [],
   "source": [
    "wbt.hillshade(\"smoothed.tif\", \"hillshade.tif\", azimuth=315, altitude=35)"
   ]
  },
  {
   "cell_type": "markdown",
   "id": "42",
   "metadata": {},
   "source": [
    "Overlay the hillshade on the smoothed DEM with transparency."
   ]
  },
  {
   "cell_type": "code",
   "execution_count": null,
   "id": "43",
   "metadata": {},
   "outputs": [],
   "source": [
    "m.add_raster(\"hillshade.tif\", layer_name=\"Hillshade\")\n",
    "m.layers[-1].opacity = 0.6"
   ]
  },
  {
   "cell_type": "markdown",
   "id": "44",
   "metadata": {},
   "source": [
    "### Find no-flow cells\n",
    "\n",
    "Find cells with undefined flow, i.e. no valid flow direction, based on the D8 flow direction algorithm."
   ]
  },
  {
   "cell_type": "code",
   "execution_count": null,
   "id": "45",
   "metadata": {},
   "outputs": [],
   "source": [
    "wbt.find_no_flow_cells(\"smoothed.tif\", \"noflow.tif\")"
   ]
  },
  {
   "cell_type": "markdown",
   "id": "46",
   "metadata": {},
   "source": [
    "Visualize the no-flow cells on the map."
   ]
  },
  {
   "cell_type": "code",
   "execution_count": null,
   "id": "47",
   "metadata": {},
   "outputs": [],
   "source": [
    "m.add_raster(\"noflow.tif\", layer_name=\"No Flow Cells\")"
   ]
  },
  {
   "cell_type": "markdown",
   "id": "48",
   "metadata": {},
   "source": [
    "### Fill depressions\n",
    "\n",
    "First, we fill any depressions in the DEM to ensure proper flow simulation."
   ]
  },
  {
   "cell_type": "code",
   "execution_count": null,
   "id": "49",
   "metadata": {},
   "outputs": [],
   "source": [
    "wbt.fill_depressions(\"smoothed.tif\", \"filled.tif\")"
   ]
  },
  {
   "cell_type": "markdown",
   "id": "50",
   "metadata": {},
   "source": [
    "Alternatively, you can use depression breaching to fill the depressions."
   ]
  },
  {
   "cell_type": "code",
   "execution_count": null,
   "id": "51",
   "metadata": {},
   "outputs": [],
   "source": [
    "wbt.breach_depressions(\"smoothed.tif\", \"breached.tif\")"
   ]
  },
  {
   "cell_type": "code",
   "execution_count": null,
   "id": "52",
   "metadata": {},
   "outputs": [],
   "source": [
    "wbt.find_no_flow_cells(\"breached.tif\", \"noflow2.tif\")"
   ]
  },
  {
   "cell_type": "code",
   "execution_count": null,
   "id": "53",
   "metadata": {},
   "outputs": [],
   "source": [
    "m.layers[-1].visible = False\n",
    "m.add_raster(\"noflow2.tif\", layer_name=\"No Flow Cells after Breaching\")\n",
    "m"
   ]
  },
  {
   "cell_type": "markdown",
   "id": "54",
   "metadata": {},
   "source": [
    "### Delineate flow direction\n",
    "\n",
    "Next, we delineate the flow direction based on the D8 algorithm."
   ]
  },
  {
   "cell_type": "code",
   "execution_count": null,
   "id": "55",
   "metadata": {},
   "outputs": [],
   "source": [
    "wbt.d8_pointer(\"breached.tif\", \"flow_direction.tif\")"
   ]
  },
  {
   "cell_type": "markdown",
   "id": "56",
   "metadata": {},
   "source": [
    "### Calculate flow accumulation\n",
    "\n",
    "Now, calculate **flow accumulation** to understand how water collects across the landscape."
   ]
  },
  {
   "cell_type": "code",
   "execution_count": null,
   "id": "57",
   "metadata": {},
   "outputs": [],
   "source": [
    "wbt.d8_flow_accumulation(\"breached.tif\", \"flow_accum.tif\")"
   ]
  },
  {
   "cell_type": "code",
   "execution_count": null,
   "id": "58",
   "metadata": {},
   "outputs": [],
   "source": [
    "m.add_raster(\"flow_accum.tif\", layer_name=\"Flow Accumulation\")"
   ]
  },
  {
   "cell_type": "markdown",
   "id": "59",
   "metadata": {},
   "source": [
    "### Extract streams\n",
    "\n",
    "Extract the stream network using the flow accumulation data."
   ]
  },
  {
   "cell_type": "code",
   "execution_count": null,
   "id": "60",
   "metadata": {},
   "outputs": [],
   "source": [
    "wbt.extract_streams(\"flow_accum.tif\", \"streams.tif\", threshold=5000)"
   ]
  },
  {
   "cell_type": "code",
   "execution_count": null,
   "id": "61",
   "metadata": {},
   "outputs": [],
   "source": [
    "m.layers[-1].visible = False\n",
    "m.add_raster(\"streams.tif\", layer_name=\"Streams\")"
   ]
  },
  {
   "cell_type": "markdown",
   "id": "62",
   "metadata": {},
   "source": [
    "### Calculate distance to outlet"
   ]
  },
  {
   "cell_type": "code",
   "execution_count": null,
   "id": "63",
   "metadata": {},
   "outputs": [],
   "source": [
    "wbt.distance_to_outlet(\n",
    "    \"flow_direction.tif\", streams=\"streams.tif\", output=\"distance_to_outlet.tif\"\n",
    ")"
   ]
  },
  {
   "cell_type": "code",
   "execution_count": null,
   "id": "64",
   "metadata": {},
   "outputs": [],
   "source": [
    "m.add_raster(\"distance_to_outlet.tif\", layer_name=\"Distance to Outlet\")"
   ]
  },
  {
   "cell_type": "markdown",
   "id": "65",
   "metadata": {},
   "source": [
    "### Vectorize streams"
   ]
  },
  {
   "cell_type": "code",
   "execution_count": null,
   "id": "66",
   "metadata": {},
   "outputs": [],
   "source": [
    "wbt.raster_streams_to_vector(\n",
    "    \"streams.tif\", d8_pntr=\"flow_direction.tif\", output=\"streams.shp\"\n",
    ")"
   ]
  },
  {
   "cell_type": "markdown",
   "id": "67",
   "metadata": {},
   "source": [
    "The raster_streams_to_vector tool has a bug. The output vector file is missing the coordinate system. Use `leafmap.vector_set_crs()` to set the coordinate system."
   ]
  },
  {
   "cell_type": "code",
   "execution_count": null,
   "id": "68",
   "metadata": {},
   "outputs": [],
   "source": [
    "leafmap.vector_set_crs(source=\"streams.shp\", output=\"streams.shp\", crs=\"EPSG:3857\")"
   ]
  },
  {
   "cell_type": "code",
   "execution_count": null,
   "id": "69",
   "metadata": {},
   "outputs": [],
   "source": [
    "m.add_shp(\n",
    "    \"streams.shp\",\n",
    "    layer_name=\"Streams Vector\",\n",
    "    style={\"color\": \"#ff0000\", \"weight\": 3},\n",
    "    info_mode=None,\n",
    ")\n",
    "m"
   ]
  },
  {
   "cell_type": "markdown",
   "id": "70",
   "metadata": {},
   "source": [
    "You can turn on the USGS Hydrography basemap to visualize the stream network and compare it with the extracted stream network."
   ]
  },
  {
   "cell_type": "markdown",
   "id": "71",
   "metadata": {},
   "source": [
    "### Delineate the longest flow path\n",
    "\n",
    "You can delineate the longest flow path in the watershed."
   ]
  },
  {
   "cell_type": "code",
   "execution_count": null,
   "id": "72",
   "metadata": {},
   "outputs": [],
   "source": [
    "wbt.basins(\"flow_direction.tif\", \"basins.tif\")"
   ]
  },
  {
   "cell_type": "code",
   "execution_count": null,
   "id": "73",
   "metadata": {},
   "outputs": [],
   "source": [
    "wbt.longest_flowpath(\n",
    "    dem=\"breached.tif\", basins=\"basins.tif\", output=\"longest_flowpath.shp\"\n",
    ")"
   ]
  },
  {
   "cell_type": "markdown",
   "id": "74",
   "metadata": {},
   "source": [
    "Select only the longest flow path."
   ]
  },
  {
   "cell_type": "code",
   "execution_count": null,
   "id": "75",
   "metadata": {},
   "outputs": [],
   "source": [
    "leafmap.select_largest(\n",
    "    \"longest_flowpath.shp\", column=\"LENGTH\", output=\"longest_flowpath.shp\"\n",
    ")"
   ]
  },
  {
   "cell_type": "code",
   "execution_count": null,
   "id": "76",
   "metadata": {},
   "outputs": [],
   "source": [
    "m.add_shp(\n",
    "    \"longest_flowpath.shp\",\n",
    "    layer_name=\"Longest Flowpath\",\n",
    "    style={\"color\": \"#ff0000\", \"weight\": 3},\n",
    ")\n",
    "m"
   ]
  },
  {
   "cell_type": "markdown",
   "id": "77",
   "metadata": {},
   "source": [
    "### Generate a pour point\n",
    "\n",
    "To delineate a watershed, you need to specify a pour point. You can use the outlet of the longest flow path as the pour point or specify a different point. Use the drawing tool to place a marker on the map to specify the pour point. If no marker is placed, the default pour point below will be used."
   ]
  },
  {
   "cell_type": "code",
   "execution_count": null,
   "id": "78",
   "metadata": {},
   "outputs": [],
   "source": [
    "if m.user_roi is not None:\n",
    "    m.save_draw_features(\"pour_point.shp\", crs=\"EPSG:3857\")\n",
    "else:\n",
    "    lat = 44.284642\n",
    "    lon = -122.611217\n",
    "    leafmap.coords_to_vector([lon, lat], output=\"pour_point.shp\", crs=\"EPSG:3857\")\n",
    "    m.add_marker([lat, lon])"
   ]
  },
  {
   "cell_type": "markdown",
   "id": "79",
   "metadata": {},
   "source": [
    "### Snap pour point to stream\n",
    "\n",
    "Snap the pour point to the nearest stream."
   ]
  },
  {
   "cell_type": "code",
   "execution_count": null,
   "id": "80",
   "metadata": {},
   "outputs": [],
   "source": [
    "wbt.snap_pour_points(\n",
    "    \"pour_point.shp\", \"flow_accum.tif\", \"pour_point_snapped.shp\", snap_dist=300\n",
    ")"
   ]
  },
  {
   "cell_type": "markdown",
   "id": "81",
   "metadata": {},
   "source": [
    "Visualize the snapped pour point on the map."
   ]
  },
  {
   "cell_type": "code",
   "execution_count": null,
   "id": "82",
   "metadata": {},
   "outputs": [],
   "source": [
    "m.add_shp(\"pour_point_snapped.shp\", layer_name=\"Pour Point\", info_mode=False)"
   ]
  },
  {
   "cell_type": "markdown",
   "id": "83",
   "metadata": {},
   "source": [
    "### Delineate watershed\n",
    "\n",
    "Delineate the watershed using a **pour point** and the flow direction data."
   ]
  },
  {
   "cell_type": "code",
   "execution_count": null,
   "id": "84",
   "metadata": {},
   "outputs": [],
   "source": [
    "wbt.watershed(\"flow_direction.tif\", \"pour_point_snapped.shp\", \"watershed.tif\")"
   ]
  },
  {
   "cell_type": "markdown",
   "id": "85",
   "metadata": {},
   "source": [
    "Visualize the watershed boundary on the map."
   ]
  },
  {
   "cell_type": "code",
   "execution_count": null,
   "id": "86",
   "metadata": {},
   "outputs": [],
   "source": [
    "m.add_raster(\"watershed.tif\", layer_name=\"Watershed\")\n",
    "m"
   ]
  },
  {
   "cell_type": "markdown",
   "id": "87",
   "metadata": {},
   "source": [
    "### Convert watershed raster to vector\n",
    "\n",
    "You can convert the watershed raster to a vector file."
   ]
  },
  {
   "cell_type": "code",
   "execution_count": null,
   "id": "88",
   "metadata": {},
   "outputs": [],
   "source": [
    "wbt.raster_to_vector_polygons(\"watershed.tif\", \"watershed.shp\")"
   ]
  },
  {
   "cell_type": "markdown",
   "id": "89",
   "metadata": {},
   "source": [
    "Visualize the watershed boundary on the map."
   ]
  },
  {
   "cell_type": "code",
   "execution_count": null,
   "id": "90",
   "metadata": {},
   "outputs": [],
   "source": [
    "m.layers[-1].visible = False\n",
    "m.add_shp(\n",
    "    \"watershed.shp\",\n",
    "    layer_name=\"Watershed Vector\",\n",
    "    style={\"color\": \"#ffff00\", \"weight\": 3},\n",
    "    info_mode=False,\n",
    ")"
   ]
  },
  {
   "cell_type": "markdown",
   "id": "91",
   "metadata": {},
   "source": [
    "## Part 2: LiDAR Data Analysis\n",
    "\n",
    "In this section, we will process LiDAR data to derive **Digital Surface Models (DSMs)**, **Digital Elevation Models (DEMs)**, and **Canopy Height Models (CHMs)**. We will also remove outliers and improve the quality of the LiDAR data.\n",
    "\n",
    "### Set up whitebox\n",
    "\n",
    "First, we set up the WhiteboxTools and leafmap libraries."
   ]
  },
  {
   "cell_type": "code",
   "execution_count": null,
   "id": "92",
   "metadata": {},
   "outputs": [],
   "source": [
    "import leafmap"
   ]
  },
  {
   "cell_type": "code",
   "execution_count": null,
   "id": "93",
   "metadata": {},
   "outputs": [],
   "source": [
    "wbt = leafmap.WhiteboxTools()\n",
    "wbt.set_working_dir(os.getcwd())\n",
    "wbt.verbose = False"
   ]
  },
  {
   "cell_type": "markdown",
   "id": "94",
   "metadata": {},
   "source": [
    "### Download a sample dataset\n",
    "\n",
    "We download a sample LiDAR dataset for **Madison**."
   ]
  },
  {
   "cell_type": "code",
   "execution_count": null,
   "id": "95",
   "metadata": {},
   "outputs": [],
   "source": [
    "url = \"https://github.com/opengeos/datasets/releases/download/lidar/madison.zip\"\n",
    "filename = \"madison.las\""
   ]
  },
  {
   "cell_type": "code",
   "execution_count": null,
   "id": "96",
   "metadata": {},
   "outputs": [],
   "source": [
    "leafmap.download_file(url, \"madison.zip\", quiet=True)"
   ]
  },
  {
   "cell_type": "markdown",
   "id": "97",
   "metadata": {},
   "source": [
    "### Read LAS/LAZ data\n",
    "\n",
    "Load and inspect the LiDAR data:"
   ]
  },
  {
   "cell_type": "code",
   "execution_count": null,
   "id": "98",
   "metadata": {},
   "outputs": [],
   "source": [
    "laz = leafmap.read_lidar(filename)"
   ]
  },
  {
   "cell_type": "code",
   "execution_count": null,
   "id": "99",
   "metadata": {},
   "outputs": [],
   "source": [
    "laz"
   ]
  },
  {
   "cell_type": "code",
   "execution_count": null,
   "id": "100",
   "metadata": {},
   "outputs": [],
   "source": [
    "str(laz.header.version)"
   ]
  },
  {
   "cell_type": "markdown",
   "id": "101",
   "metadata": {},
   "source": [
    "### Upgrade file version\n",
    "\n",
    "Upgrade the LAS file version to 1.4."
   ]
  },
  {
   "cell_type": "code",
   "execution_count": null,
   "id": "102",
   "metadata": {},
   "outputs": [],
   "source": [
    "las = leafmap.convert_lidar(laz, file_version=\"1.4\")"
   ]
  },
  {
   "cell_type": "code",
   "execution_count": null,
   "id": "103",
   "metadata": {},
   "outputs": [],
   "source": [
    "str(las.header.version)"
   ]
  },
  {
   "cell_type": "markdown",
   "id": "104",
   "metadata": {},
   "source": [
    "### Write LAS data\n",
    "\n",
    "Save the LAS data to a new file."
   ]
  },
  {
   "cell_type": "code",
   "execution_count": null,
   "id": "105",
   "metadata": {},
   "outputs": [],
   "source": [
    "leafmap.write_lidar(las, \"madison.las\")"
   ]
  },
  {
   "cell_type": "markdown",
   "id": "106",
   "metadata": {},
   "source": [
    "### Histogram analysis\n",
    "\n",
    "Plot the histogram of the LiDAR data. The histogram shows the distribution of the LiDAR points based on their elevation values. The tool generates a histogram of the LiDAR data and saves it to an HTM file. You can open the HTM file in a web browser to view the histogram."
   ]
  },
  {
   "cell_type": "code",
   "execution_count": null,
   "id": "107",
   "metadata": {},
   "outputs": [],
   "source": [
    "wbt.lidar_histogram(\"madison.las\", \"histogram.html\")"
   ]
  },
  {
   "cell_type": "markdown",
   "id": "108",
   "metadata": {},
   "source": [
    "### Visualize LiDAR data\n",
    "\n",
    "Run the `view_lidar()` function to visualize the LiDAR data in 3D. Note that the `view_lidar()` function may not work in some environments, such as Google Colab."
   ]
  },
  {
   "cell_type": "code",
   "execution_count": null,
   "id": "109",
   "metadata": {},
   "outputs": [],
   "source": [
    "leafmap.view_lidar(\"madison.las\")"
   ]
  },
  {
   "cell_type": "markdown",
   "id": "110",
   "metadata": {},
   "source": [
    "### Remove outliers\n",
    "\n",
    "Remove outliers from the LiDAR dataset:"
   ]
  },
  {
   "cell_type": "code",
   "execution_count": null,
   "id": "111",
   "metadata": {},
   "outputs": [],
   "source": [
    "wbt.lidar_elevation_slice(\"madison.las\", \"madison_rm.las\", minz=0, maxz=450)"
   ]
  },
  {
   "cell_type": "markdown",
   "id": "112",
   "metadata": {},
   "source": [
    "### Visualize LiDAR data after removing outliers\n",
    "\n",
    "We can visualize the LiDAR data after removing the outliers."
   ]
  },
  {
   "cell_type": "code",
   "execution_count": null,
   "id": "113",
   "metadata": {},
   "outputs": [],
   "source": [
    "leafmap.view_lidar(\"madison_rm.las\", cmap=\"terrain\")"
   ]
  },
  {
   "cell_type": "markdown",
   "id": "114",
   "metadata": {},
   "source": [
    "### Create DSM\n",
    "\n",
    "Using the LiDAR data to create a **Digital Surface Model (DSM)**."
   ]
  },
  {
   "cell_type": "code",
   "execution_count": null,
   "id": "115",
   "metadata": {},
   "outputs": [],
   "source": [
    "wbt.lidar_digital_surface_model(\n",
    "    \"madison_rm.las\", \"dsm.tif\", resolution=1.0, minz=0, maxz=450\n",
    ")"
   ]
  },
  {
   "cell_type": "markdown",
   "id": "116",
   "metadata": {},
   "source": [
    "The DSM generated by whitebox is missing the coordinate system. Use `leafmap.raster_set_crs()` to set the coordinate system."
   ]
  },
  {
   "cell_type": "code",
   "execution_count": null,
   "id": "117",
   "metadata": {
    "jp-MarkdownHeadingCollapsed": true
   },
   "outputs": [],
   "source": [
    "leafmap.add_crs(\"dsm.tif\", epsg=2255)"
   ]
  },
  {
   "cell_type": "markdown",
   "id": "118",
   "metadata": {},
   "source": [
    "### Visualize DSM\n",
    "\n",
    "Visualize the DSM on the map."
   ]
  },
  {
   "cell_type": "code",
   "execution_count": null,
   "id": "119",
   "metadata": {},
   "outputs": [],
   "source": [
    "m = leafmap.Map()\n",
    "m.add_basemap(\"Satellite\")\n",
    "m.add_raster(\"dsm.tif\", colormap=\"terrain\", layer_name=\"DSM\")\n",
    "m"
   ]
  },
  {
   "cell_type": "markdown",
   "id": "120",
   "metadata": {},
   "source": [
    "### Create DEM\n",
    "\n",
    "We can create a bare-earth DEM from the DSM. The tool is typically applied to LiDAR DEMs which frequently contain numerous off-terrain objects (OTOs) such as buildings, trees and other vegetation, cars, fences and other anthropogenic objects. "
   ]
  },
  {
   "cell_type": "code",
   "execution_count": null,
   "id": "121",
   "metadata": {},
   "outputs": [],
   "source": [
    "wbt.remove_off_terrain_objects(\"dsm.tif\", \"dem.tif\", filter=25, slope=15.0)"
   ]
  },
  {
   "cell_type": "markdown",
   "id": "122",
   "metadata": {},
   "source": [
    "### Visualize DEM\n",
    "\n",
    "Visualize the bear-earth DEM on the map."
   ]
  },
  {
   "cell_type": "code",
   "execution_count": null,
   "id": "123",
   "metadata": {},
   "outputs": [],
   "source": [
    "m.add_raster(\"dem.tif\", palette=\"terrain\", layer_name=\"DEM\")\n",
    "m"
   ]
  },
  {
   "cell_type": "markdown",
   "id": "124",
   "metadata": {},
   "source": [
    "### Create CHM\n",
    "\n",
    "\n",
    "We can a **Canopy Height Model (CHM)** by subtracting the DEM from the DSM."
   ]
  },
  {
   "cell_type": "code",
   "execution_count": null,
   "id": "125",
   "metadata": {},
   "outputs": [],
   "source": [
    "chm = wbt.subtract(\"dsm.tif\", \"dem.tif\", \"chm.tif\")"
   ]
  },
  {
   "cell_type": "markdown",
   "id": "126",
   "metadata": {},
   "source": [
    "Visualize the CHM on the map."
   ]
  },
  {
   "cell_type": "code",
   "execution_count": null,
   "id": "127",
   "metadata": {},
   "outputs": [],
   "source": [
    "m.add_raster(\"chm.tif\", palette=\"gist_earth\", layer_name=\"CHM\")\n",
    "m.add_layer_manager()\n",
    "m"
   ]
  },
  {
   "cell_type": "markdown",
   "id": "128",
   "metadata": {},
   "source": [
    "## Summary\n",
    "\n",
    "This lecture provided a comprehensive introduction to **WhiteboxTools**, an open-source geospatial analysis library with a focus on hydrological and LiDAR data analysis. Through this session, students learned to install and configure WhiteboxTools in Python, integrate it with **leafmap** for interactive mapping, and apply it to specific geospatial tasks.\n",
    "\n",
    "Key takeaways from this lecture include:\n",
    "\n",
    "- **Watershed Analysis**: The lecture covered watershed delineation using Digital Elevation Models (DEMs), including techniques like flow direction, flow accumulation, stream extraction, and watershed boundary delineation.\n",
    "- **LiDAR Data Processing**: Students were introduced to LiDAR data manipulation, including the derivation of Digital Surface Models (DSMs), Digital Elevation Models (DEMs), and Canopy Height Models (CHMs), along with methods for outlier removal and terrain quality improvement.\n",
    "\n",
    "By completing the hands-on exercises, students gained practical experience with WhiteboxTools for geospatial processing, preparing them to apply these techniques in varied real-world GIS workflows.\n"
   ]
  }
 ],
 "metadata": {
  "kernelspec": {
   "display_name": "Python 3 (ipykernel)",
   "language": "python",
   "name": "python3"
  },
  "language_info": {
   "codemirror_mode": {
    "name": "ipython",
    "version": 3
   },
   "file_extension": ".py",
   "mimetype": "text/x-python",
   "name": "python",
   "nbconvert_exporter": "python",
   "pygments_lexer": "ipython3",
   "version": "3.11.9"
  }
 },
 "nbformat": 4,
 "nbformat_minor": 5
}
