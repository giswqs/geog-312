{
 "cells": [
  {
   "cell_type": "markdown",
   "id": "a402b2d6",
   "metadata": {},
   "source": [
    "# GeoPandas\n",
    "\n",
    "## Introduction\n",
    "\n",
    "[GeoPandas](https://geopandas.org) is an open-source project that makes working with geospatial data in Python easier. It extends the datatypes used by pandas to allow spatial operations on geometric types. GeoPandas combines the capabilities of pandas and Shapely, providing geospatial operations in a pandas-like interface."
   ]
  },
  {
   "cell_type": "markdown",
   "id": "ef5c20a3",
   "metadata": {},
   "source": [
    "## Installing and Importing GeoPandas"
   ]
  },
  {
   "cell_type": "code",
   "execution_count": null,
   "id": "64a38d8c",
   "metadata": {},
   "outputs": [],
   "source": [
    "# %pip install geopandas"
   ]
  },
  {
   "cell_type": "markdown",
   "id": "e241de15",
   "metadata": {},
   "source": [
    "Once installed, you can import it like this:"
   ]
  },
  {
   "cell_type": "code",
   "execution_count": 1,
   "id": "080626da",
   "metadata": {},
   "outputs": [],
   "source": [
    "import geopandas as gpd\n",
    "from shapely.geometry import Point, Polygon"
   ]
  },
  {
   "cell_type": "markdown",
   "id": "5dc7d32f",
   "metadata": {},
   "source": [
    "## Creating GeoDataFrames\n",
    "\n",
    "A GeoDataFrame is a tabular data structure that contains a 'geometry' column, which holds the geometric shapes. You can create a GeoDataFrame from a list of geometries or from a pandas DataFrame."
   ]
  },
  {
   "cell_type": "code",
   "execution_count": 2,
   "id": "aaeb14dd",
   "metadata": {},
   "outputs": [
    {
     "name": "stdout",
     "output_type": "stream",
     "text": [
      "       City  Latitude  Longitude                    geometry\n",
      "0     Tokyo   35.6895   139.6917  POINT (139.69170 35.68950)\n",
      "1  New York   40.7128   -74.0060  POINT (-74.00600 40.71280)\n",
      "2    London   51.5074    -0.1278   POINT (-0.12780 51.50740)\n",
      "3     Paris   48.8566     2.3522    POINT (2.35220 48.85660)\n"
     ]
    }
   ],
   "source": [
    "# Creating a GeoDataFrame from scratch\n",
    "import pandas as pd\n",
    "\n",
    "data = {\n",
    "    'City': ['Tokyo', 'New York', 'London', 'Paris'],\n",
    "    'Latitude': [35.6895, 40.7128, 51.5074, 48.8566],\n",
    "    'Longitude': [139.6917, -74.0060, -0.1278, 2.3522],\n",
    "}\n",
    "\n",
    "df = pd.DataFrame(data)\n",
    "gdf = gpd.GeoDataFrame(df, geometry=gpd.points_from_xy(df.Longitude, df.Latitude))\n",
    "print(gdf)"
   ]
  },
  {
   "cell_type": "markdown",
   "id": "e1835342",
   "metadata": {},
   "source": [
    "## Reading and Writing Geospatial Data\n",
    "\n",
    "GeoPandas makes it easy to read and write geospatial data formats like Shapefiles, GeoJSON, and others. Let's read a shapefile and write the GeoDataFrame to a GeoJSON file."
   ]
  },
  {
   "cell_type": "code",
   "execution_count": 3,
   "id": "f693840e",
   "metadata": {},
   "outputs": [
    {
     "name": "stderr",
     "output_type": "stream",
     "text": [
      "/tmp/ipykernel_46099/3603450562.py:3: FutureWarning: The geopandas.dataset module is deprecated and will be removed in GeoPandas 1.0. You can get the original 'naturalearth_lowres' data from https://www.naturalearthdata.com/downloads/110m-cultural-vectors/.\n",
      "  world = gpd.read_file(gpd.datasets.get_path('naturalearth_lowres'))\n",
      "/home/qiusheng/miniconda3/envs/geo/lib/gdalplugins/ogr_Arrow.so: undefined symbol: _ZNK5arrow16KeyValueMetadata3GetERKNSt7__cxx1112basic_stringIcSt11char_traitsIcESaIcEEE\n",
      "/home/qiusheng/miniconda3/envs/geo/lib/gdalplugins/ogr_Arrow.so: undefined symbol: _ZNK5arrow16KeyValueMetadata3GetERKNSt7__cxx1112basic_stringIcSt11char_traitsIcESaIcEEE\n",
      "/home/qiusheng/miniconda3/envs/geo/lib/gdalplugins/ogr_Parquet.so: undefined symbol: _ZNK5arrow16KeyValueMetadata8ContainsERKNSt7__cxx1112basic_stringIcSt11char_traitsIcESaIcEEE\n",
      "/home/qiusheng/miniconda3/envs/geo/lib/gdalplugins/ogr_Parquet.so: undefined symbol: _ZNK5arrow16KeyValueMetadata8ContainsERKNSt7__cxx1112basic_stringIcSt11char_traitsIcESaIcEEE\n",
      "/home/qiusheng/miniconda3/envs/geo/lib/gdalplugins/ogr_Arrow.so: undefined symbol: _ZNK5arrow16KeyValueMetadata3GetERKNSt7__cxx1112basic_stringIcSt11char_traitsIcESaIcEEE\n",
      "/home/qiusheng/miniconda3/envs/geo/lib/gdalplugins/ogr_Arrow.so: undefined symbol: _ZNK5arrow16KeyValueMetadata3GetERKNSt7__cxx1112basic_stringIcSt11char_traitsIcESaIcEEE\n",
      "/home/qiusheng/miniconda3/envs/geo/lib/gdalplugins/ogr_Parquet.so: undefined symbol: _ZNK5arrow16KeyValueMetadata8ContainsERKNSt7__cxx1112basic_stringIcSt11char_traitsIcESaIcEEE\n",
      "/home/qiusheng/miniconda3/envs/geo/lib/gdalplugins/ogr_Parquet.so: undefined symbol: _ZNK5arrow16KeyValueMetadata8ContainsERKNSt7__cxx1112basic_stringIcSt11char_traitsIcESaIcEEE\n"
     ]
    },
    {
     "name": "stdout",
     "output_type": "stream",
     "text": [
      "       pop_est      continent                      name iso_a3  gdp_md_est  \\\n",
      "0     889953.0        Oceania                      Fiji    FJI        5496   \n",
      "1   58005463.0         Africa                  Tanzania    TZA       63177   \n",
      "2     603253.0         Africa                 W. Sahara    ESH         907   \n",
      "3   37589262.0  North America                    Canada    CAN     1736425   \n",
      "4  328239523.0  North America  United States of America    USA    21433226   \n",
      "\n",
      "                                            geometry  \n",
      "0  MULTIPOLYGON (((180.00000 -16.06713, 180.00000...  \n",
      "1  POLYGON ((33.90371 -0.95000, 34.07262 -1.05982...  \n",
      "2  POLYGON ((-8.66559 27.65643, -8.66512 27.58948...  \n",
      "3  MULTIPOLYGON (((-122.84000 49.00000, -122.9742...  \n",
      "4  MULTIPOLYGON (((-122.84000 49.00000, -120.0000...  \n",
      "GeoDataFrame has been written to world.geojson\n"
     ]
    }
   ],
   "source": [
    "# Reading a shapefile\n",
    "try:\n",
    "    world = gpd.read_file(gpd.datasets.get_path('naturalearth_lowres'))\n",
    "    print(world.head())\n",
    "except Exception as e:\n",
    "    print(f\"An error occurred: {e}\")\n",
    "\n",
    "# Writing the GeoDataFrame to a GeoJSON file\n",
    "output_file = 'world.geojson'\n",
    "try:\n",
    "    world.to_file(output_file, driver='GeoJSON')\n",
    "    print(f\"GeoDataFrame has been written to {output_file}\")\n",
    "except Exception as e:\n",
    "    print(f\"An error occurred while writing to {output_file}: {e}\")"
   ]
  },
  {
   "cell_type": "markdown",
   "id": "e0063b33",
   "metadata": {},
   "source": [
    "## Spatial Operations\n",
    "\n",
    "GeoPandas provides a range of spatial operations, such as buffering, intersections, and spatial joins. Let's explore some of these operations."
   ]
  },
  {
   "cell_type": "code",
   "execution_count": 4,
   "id": "15babe09",
   "metadata": {},
   "outputs": [
    {
     "name": "stdout",
     "output_type": "stream",
     "text": [
      "       City                                             buffer\n",
      "0     Tokyo  POLYGON ((140.69170 35.68950, 140.68688 35.591...\n",
      "1  New York  POLYGON ((-73.00600 40.71280, -73.01082 40.614...\n",
      "2    London  POLYGON ((0.87220 51.50740, 0.86738 51.40938, ...\n",
      "3     Paris  POLYGON ((3.35220 48.85660, 3.34738 48.75858, ...\n"
     ]
    }
   ],
   "source": [
    "# Example of buffering (creating a buffer zone around points)\n",
    "gdf['buffer'] = gdf.buffer(1)  # Buffer of 1 degree\n",
    "print(gdf[['City', 'buffer']])"
   ]
  },
  {
   "cell_type": "code",
   "execution_count": 6,
   "id": "6fad1e9c",
   "metadata": {},
   "outputs": [
    {
     "name": "stdout",
     "output_type": "stream",
     "text": [
      "    City  Latitude  Longitude                  geometry  \\\n",
      "3  Paris   48.8566     2.3522  POINT (2.35220 48.85660)   \n",
      "\n",
      "                                              buffer  index_right  0  \n",
      "3  POLYGON ((3.35220 48.85660, 3.34738 48.75858, ...            0  1  \n"
     ]
    }
   ],
   "source": [
    "# Example of spatial join (finding points within a polygon)\n",
    "paris = gdf[gdf['City'] == 'Paris']\n",
    "polygon = Polygon([(2, 48), (2.5, 48), (2.5, 49), (2, 49)])\n",
    "polygon_gdf = gpd.GeoDataFrame([1], geometry=[polygon], crs=gdf.crs)\n",
    "joined = gpd.sjoin(gdf, polygon_gdf, predicate='within')\n",
    "print(joined)"
   ]
  },
  {
   "cell_type": "markdown",
   "id": "8915edc3",
   "metadata": {},
   "source": [
    "## Plotting Geospatial Data\n",
    "\n",
    "GeoPandas integrates well with Matplotlib, allowing you to easily plot geospatial data. Let's plot the world map with the locations of the cities from our GeoDataFrame."
   ]
  },
  {
   "cell_type": "code",
   "execution_count": 7,
   "id": "90ed7b06",
   "metadata": {},
   "outputs": [
    {
     "data": {
      "image/png": "[encoded data removed]",
      "text/plain": [
       "<Figure size 640x480 with 1 Axes>"
      ]
     },
     "metadata": {},
     "output_type": "display_data"
    }
   ],
   "source": [
    "import matplotlib.pyplot as plt\n",
    "\n",
    "# Plotting the world map and the cities\n",
    "world.plot()\n",
    "gdf.plot(ax=plt.gca(), color='red')\n",
    "plt.show()"
   ]
  },
  {
   "cell_type": "code",
   "execution_count": 9,
   "id": "08489ad2",
   "metadata": {},
   "outputs": [
    {
     "data": {
      "text/html": [
       "<div style=\"width:100%;\"><div style=\"position:relative;width:100%;height:0;padding-bottom:60%;\"><span style=\"color:#565656\">Make this Notebook Trusted to load map: File -> Trust Notebook</span><iframe srcdoc=\"&lt;!DOCTYPE html&gt;\n",
       "&lt;html&gt;\n",
       "&lt;head&gt;\n",
       "    \n",
       "    &lt;meta http-equiv=&quot;content-type&quot; content=&quot;text/html; charset=UTF-8&quot; /&gt;\n",
       "    \n",
       "        &lt;script&gt;\n",
       "            L_NO_TOUCH = false;\n",
       "            L_DISABLE_3D = false;\n",
       "        &lt;/script&gt;\n",
       "    \n",
       "    &lt;style&gt;html, body {width: 100%;height: 100%;margin: 0;padding: 0;}&lt;/style&gt;\n",
       "    &lt;style&gt;#map {position:absolute;top:0;bottom:0;right:0;left:0;}&lt;/style&gt;\n",
       "    &lt;script src=&quot;https://cdn.jsdelivr.net/npm/leaflet@1.9.3/dist/leaflet.js&quot;&gt;&lt;/script&gt;\n",
       "    &lt;script src=&quot;https://code.jquery.com/jquery-3.7.1.min.js&quot;&gt;&lt;/script&gt;\n",
       "    &lt;script src=&quot;https://cdn.jsdelivr.net/npm/bootstrap@5.2.2/dist/js/bootstrap.bundle.min.js&quot;&gt;&lt;/script&gt;\n",
       "    &lt;script src=&quot;https://cdnjs.cloudflare.com/ajax/libs/Leaflet.awesome-markers/2.0.2/leaflet.awesome-markers.js&quot;&gt;&lt;/script&gt;\n",
       "    &lt;link rel=&quot;stylesheet&quot; href=&quot;https://cdn.jsdelivr.net/npm/leaflet@1.9.3/dist/leaflet.css&quot;/&gt;\n",
       "    &lt;link rel=&quot;stylesheet&quot; href=&quot;https://cdn.jsdelivr.net/npm/bootstrap@5.2.2/dist/css/bootstrap.min.css&quot;/&gt;\n",
       "    &lt;link rel=&quot;stylesheet&quot; href=&quot;https://netdna.bootstrapcdn.com/bootstrap/3.0.0/css/bootstrap-glyphicons.css&quot;/&gt;\n",
       "    &lt;link rel=&quot;stylesheet&quot; href=&quot;https://cdn.jsdelivr.net/npm/@fortawesome/fontawesome-free@6.2.0/css/all.min.css&quot;/&gt;\n",
       "    &lt;link rel=&quot;stylesheet&quot; href=&quot;https://cdnjs.cloudflare.com/ajax/libs/Leaflet.awesome-markers/2.0.2/leaflet.awesome-markers.css&quot;/&gt;\n",
       "    &lt;link rel=&quot;stylesheet&quot; href=&quot;https://cdn.jsdelivr.net/gh/python-visualization/folium/folium/templates/leaflet.awesome.rotate.min.css&quot;/&gt;\n",
       "    \n",
       "            &lt;meta name=&quot;viewport&quot; content=&quot;width=device-width,\n",
       "                initial-scale=1.0, maximum-scale=1.0, user-scalable=no&quot; /&gt;\n",
       "            &lt;style&gt;\n",
       "                #map_11687f37bebaa077513db2e52a84e9cc {\n",
       "                    position: relative;\n",
       "                    width: 100.0%;\n",
       "                    height: 100.0%;\n",
       "                    left: 0.0%;\n",
       "                    top: 0.0%;\n",
       "                }\n",
       "                .leaflet-container { font-size: 1rem; }\n",
       "            &lt;/style&gt;\n",
       "        \n",
       "    \n",
       "                    &lt;style&gt;\n",
       "                        .foliumtooltip {\n",
       "                            \n",
       "                        }\n",
       "                       .foliumtooltip table{\n",
       "                            margin: auto;\n",
       "                        }\n",
       "                        .foliumtooltip tr{\n",
       "                            text-align: left;\n",
       "                        }\n",
       "                        .foliumtooltip th{\n",
       "                            padding: 2px; padding-right: 8px;\n",
       "                        }\n",
       "                    &lt;/style&gt;\n",
       "            \n",
       "&lt;/head&gt;\n",
       "&lt;body&gt;\n",
       "    \n",
       "    \n",
       "            &lt;div class=&quot;folium-map&quot; id=&quot;map_11687f37bebaa077513db2e52a84e9cc&quot; &gt;&lt;/div&gt;\n",
       "        \n",
       "&lt;/body&gt;\n",
       "&lt;script&gt;\n",
       "    \n",
       "    \n",
       "            var map_11687f37bebaa077513db2e52a84e9cc = L.map(\n",
       "                &quot;map_11687f37bebaa077513db2e52a84e9cc&quot;,\n",
       "                {\n",
       "                    center: [43.59845, 32.84285],\n",
       "                    crs: L.CRS.EPSG3857,\n",
       "                    zoom: 10,\n",
       "                    zoomControl: true,\n",
       "                    preferCanvas: false,\n",
       "                }\n",
       "            );\n",
       "            L.control.scale().addTo(map_11687f37bebaa077513db2e52a84e9cc);\n",
       "\n",
       "            \n",
       "\n",
       "        \n",
       "    \n",
       "            var tile_layer_2a09b146d60b481d491df9bce82b869c = L.tileLayer(\n",
       "                &quot;https://tile.openstreetmap.org/{z}/{x}/{y}.png&quot;,\n",
       "                {&quot;attribution&quot;: &quot;\\u0026copy; \\u003ca href=\\&quot;https://www.openstreetmap.org/copyright\\&quot;\\u003eOpenStreetMap\\u003c/a\\u003e contributors&quot;, &quot;detectRetina&quot;: false, &quot;maxNativeZoom&quot;: 19, &quot;maxZoom&quot;: 19, &quot;minZoom&quot;: 0, &quot;noWrap&quot;: false, &quot;opacity&quot;: 1, &quot;subdomains&quot;: &quot;abc&quot;, &quot;tms&quot;: false}\n",
       "            );\n",
       "        \n",
       "    \n",
       "            tile_layer_2a09b146d60b481d491df9bce82b869c.addTo(map_11687f37bebaa077513db2e52a84e9cc);\n",
       "        \n",
       "    \n",
       "            map_11687f37bebaa077513db2e52a84e9cc.fitBounds(\n",
       "                [[35.6895, -74.006], [51.5074, 139.6917]],\n",
       "                {}\n",
       "            );\n",
       "        \n",
       "    \n",
       "        function geo_json_11b1b97ddbc42f5a4d3ca997042b2b30_styler(feature) {\n",
       "            switch(feature.id) {\n",
       "                default:\n",
       "                    return {&quot;fillOpacity&quot;: 0.5, &quot;weight&quot;: 2};\n",
       "            }\n",
       "        }\n",
       "        function geo_json_11b1b97ddbc42f5a4d3ca997042b2b30_highlighter(feature) {\n",
       "            switch(feature.id) {\n",
       "                default:\n",
       "                    return {&quot;fillOpacity&quot;: 0.75};\n",
       "            }\n",
       "        }\n",
       "        function geo_json_11b1b97ddbc42f5a4d3ca997042b2b30_pointToLayer(feature, latlng) {\n",
       "            var opts = {&quot;bubblingMouseEvents&quot;: true, &quot;color&quot;: &quot;#3388ff&quot;, &quot;dashArray&quot;: null, &quot;dashOffset&quot;: null, &quot;fill&quot;: true, &quot;fillColor&quot;: &quot;#3388ff&quot;, &quot;fillOpacity&quot;: 0.2, &quot;fillRule&quot;: &quot;evenodd&quot;, &quot;lineCap&quot;: &quot;round&quot;, &quot;lineJoin&quot;: &quot;round&quot;, &quot;opacity&quot;: 1.0, &quot;radius&quot;: 2, &quot;stroke&quot;: true, &quot;weight&quot;: 3};\n",
       "            \n",
       "            let style = geo_json_11b1b97ddbc42f5a4d3ca997042b2b30_styler(feature)\n",
       "            Object.assign(opts, style)\n",
       "            \n",
       "            return new L.CircleMarker(latlng, opts)\n",
       "        }\n",
       "\n",
       "        function geo_json_11b1b97ddbc42f5a4d3ca997042b2b30_onEachFeature(feature, layer) {\n",
       "            layer.on({\n",
       "                mouseout: function(e) {\n",
       "                    if(typeof e.target.setStyle === &quot;function&quot;){\n",
       "                            geo_json_11b1b97ddbc42f5a4d3ca997042b2b30.resetStyle(e.target);\n",
       "                    }\n",
       "                },\n",
       "                mouseover: function(e) {\n",
       "                    if(typeof e.target.setStyle === &quot;function&quot;){\n",
       "                        const highlightStyle = geo_json_11b1b97ddbc42f5a4d3ca997042b2b30_highlighter(e.target.feature)\n",
       "                        e.target.setStyle(highlightStyle);\n",
       "                    }\n",
       "                },\n",
       "            });\n",
       "        };\n",
       "        var geo_json_11b1b97ddbc42f5a4d3ca997042b2b30 = L.geoJson(null, {\n",
       "                onEachFeature: geo_json_11b1b97ddbc42f5a4d3ca997042b2b30_onEachFeature,\n",
       "            \n",
       "                style: geo_json_11b1b97ddbc42f5a4d3ca997042b2b30_styler,\n",
       "                pointToLayer: geo_json_11b1b97ddbc42f5a4d3ca997042b2b30_pointToLayer,\n",
       "        });\n",
       "\n",
       "        function geo_json_11b1b97ddbc42f5a4d3ca997042b2b30_add (data) {\n",
       "            geo_json_11b1b97ddbc42f5a4d3ca997042b2b30\n",
       "                .addData(data);\n",
       "        }\n",
       "            geo_json_11b1b97ddbc42f5a4d3ca997042b2b30_add({&quot;bbox&quot;: [-74.006, 35.6895, 139.6917, 51.5074], &quot;features&quot;: [{&quot;bbox&quot;: [139.6917, 35.6895, 139.6917, 35.6895], &quot;geometry&quot;: {&quot;coordinates&quot;: [139.6917, 35.6895], &quot;type&quot;: &quot;Point&quot;}, &quot;id&quot;: &quot;0&quot;, &quot;properties&quot;: {&quot;City&quot;: &quot;Tokyo&quot;, &quot;Latitude&quot;: 35.6895, &quot;Longitude&quot;: 139.6917}, &quot;type&quot;: &quot;Feature&quot;}, {&quot;bbox&quot;: [-74.006, 40.7128, -74.006, 40.7128], &quot;geometry&quot;: {&quot;coordinates&quot;: [-74.006, 40.7128], &quot;type&quot;: &quot;Point&quot;}, &quot;id&quot;: &quot;1&quot;, &quot;properties&quot;: {&quot;City&quot;: &quot;New York&quot;, &quot;Latitude&quot;: 40.7128, &quot;Longitude&quot;: -74.006}, &quot;type&quot;: &quot;Feature&quot;}, {&quot;bbox&quot;: [-0.1278, 51.5074, -0.1278, 51.5074], &quot;geometry&quot;: {&quot;coordinates&quot;: [-0.1278, 51.5074], &quot;type&quot;: &quot;Point&quot;}, &quot;id&quot;: &quot;2&quot;, &quot;properties&quot;: {&quot;City&quot;: &quot;London&quot;, &quot;Latitude&quot;: 51.5074, &quot;Longitude&quot;: -0.1278}, &quot;type&quot;: &quot;Feature&quot;}, {&quot;bbox&quot;: [2.3522, 48.8566, 2.3522, 48.8566], &quot;geometry&quot;: {&quot;coordinates&quot;: [2.3522, 48.8566], &quot;type&quot;: &quot;Point&quot;}, &quot;id&quot;: &quot;3&quot;, &quot;properties&quot;: {&quot;City&quot;: &quot;Paris&quot;, &quot;Latitude&quot;: 48.8566, &quot;Longitude&quot;: 2.3522}, &quot;type&quot;: &quot;Feature&quot;}], &quot;type&quot;: &quot;FeatureCollection&quot;});\n",
       "\n",
       "        \n",
       "    \n",
       "    geo_json_11b1b97ddbc42f5a4d3ca997042b2b30.bindTooltip(\n",
       "    function(layer){\n",
       "    let div = L.DomUtil.create(&#x27;div&#x27;);\n",
       "    \n",
       "    let handleObject = feature=&gt;typeof(feature)==&#x27;object&#x27; ? JSON.stringify(feature) : feature;\n",
       "    let fields = [&quot;City&quot;, &quot;Latitude&quot;, &quot;Longitude&quot;];\n",
       "    let aliases = [&quot;City&quot;, &quot;Latitude&quot;, &quot;Longitude&quot;];\n",
       "    let table = &#x27;&lt;table&gt;&#x27; +\n",
       "        String(\n",
       "        fields.map(\n",
       "        (v,i)=&gt;\n",
       "        `&lt;tr&gt;\n",
       "            &lt;th&gt;${aliases[i]}&lt;/th&gt;\n",
       "            \n",
       "            &lt;td&gt;${handleObject(layer.feature.properties[v])}&lt;/td&gt;\n",
       "        &lt;/tr&gt;`).join(&#x27;&#x27;))\n",
       "    +&#x27;&lt;/table&gt;&#x27;;\n",
       "    div.innerHTML=table;\n",
       "    \n",
       "    return div\n",
       "    }\n",
       "    ,{&quot;className&quot;: &quot;foliumtooltip&quot;, &quot;sticky&quot;: true});\n",
       "                     \n",
       "    \n",
       "            geo_json_11b1b97ddbc42f5a4d3ca997042b2b30.addTo(map_11687f37bebaa077513db2e52a84e9cc);\n",
       "        \n",
       "&lt;/script&gt;\n",
       "&lt;/html&gt;\" style=\"position:absolute;width:100%;height:100%;left:0;top:0;border:none !important;\" allowfullscreen webkitallowfullscreen mozallowfullscreen></iframe></div></div>"
      ],
      "text/plain": [
       "<folium.folium.Map at 0x71d3fd398490>"
      ]
     },
     "execution_count": 9,
     "metadata": {},
     "output_type": "execute_result"
    }
   ],
   "source": [
    "gdf.crs = 'EPSG:4326'\n",
    "gdf.explore()"
   ]
  },
  {
   "cell_type": "markdown",
   "id": "0c066aad",
   "metadata": {},
   "source": [
    "## Exercises\n",
    "\n",
    "1. Create a GeoDataFrame containing a list of countries and their capital cities. Add a geometry column with the locations of the capitals.\n",
    "2. Load a shapefile of your choice, filter the data to only include a specific region or country, and save the filtered GeoDataFrame to a new file.\n",
    "3. Perform a spatial join between two GeoDataFrames: one containing polygons (e.g., country borders) and one containing points (e.g., cities). Find out which points fall within which polygons.\n",
    "4. Plot a map showing the distribution of a particular attribute (e.g., population) across different regions."
   ]
  },
  {
   "cell_type": "code",
   "execution_count": null,
   "id": "fa54496f",
   "metadata": {},
   "outputs": [],
   "source": [
    "# Type your code here"
   ]
  },
  {
   "cell_type": "markdown",
   "id": "10c52d12",
   "metadata": {},
   "source": [
    "## Conclusion\n",
    "\n",
    "GeoPandas is a powerful tool for geospatial data analysis in Python. It combines the capabilities of pandas with the geometric operations of Shapely, allowing for efficient and intuitive geospatial data manipulation. By practicing with these exercises, you can gain a solid understanding of how to work with geospatial data using GeoPandas."
   ]
  }
 ],
 "metadata": {
  "kernelspec": {
   "display_name": "geo",
   "language": "python",
   "name": "python3"
  },
  "language_info": {
   "codemirror_mode": {
    "name": "ipython",
    "version": 3
   },
   "file_extension": ".py",
   "mimetype": "text/x-python",
   "name": "python",
   "nbconvert_exporter": "python",
   "pygments_lexer": "ipython3",
   "version": "3.11.8"
  }
 },
 "nbformat": 4,
 "nbformat_minor": 5
}
